{
 "cells": [
  {
   "cell_type": "code",
   "execution_count": 1,
   "metadata": {},
   "outputs": [],
   "source": [
    "from sklearn.metrics import mean_squared_error as MSE\n",
    "import warnings\n",
    "from pandas.core.common import SettingWithCopyWarning\n",
    "warnings.simplefilter(action=\"ignore\", category=SettingWithCopyWarning)\n",
    "import os\n",
    "from os import walk\n",
    "import tensorflow as tf\n",
    "tf.compat.v1.logging.set_verbosity(tf.compat.v1.logging.FATAL)\n",
    "import numpy as np\n",
    "import matplotlib.pyplot as plt\n",
    "import pandas as pd\n",
    "import yfinance as yf\n",
    "from datetime import datetime,timedelta\n",
    "import talib as ta\n",
    "from sklearn.preprocessing import MinMaxScaler\n",
    "from math import floor\n",
    "import sys\n",
    "import pandas as pd\n",
    "from tqdm import tqdm\n",
    "import shutil\n",
    "import random\n"
   ]
  },
  {
   "cell_type": "code",
   "execution_count": 2,
   "metadata": {},
   "outputs": [],
   "source": [
    "def meanSE(yhat,ypred):\n",
    "    return np.mean((ypred-yhat) ** 2)"
   ]
  },
  {
   "cell_type": "code",
   "execution_count": 3,
   "metadata": {},
   "outputs": [],
   "source": [
    "class HiddenPrints:\n",
    "    def __enter__(self):\n",
    "        self._original_stdout = sys.stdout\n",
    "        sys.stdout = open(os.devnull, 'w')\n",
    "\n",
    "    def __exit__(self, exc_type, exc_val, exc_tb):\n",
    "        sys.stdout.close()\n",
    "        sys.stdout = self._original_stdout"
   ]
  },
  {
   "cell_type": "code",
   "execution_count": 4,
   "metadata": {},
   "outputs": [
    {
     "name": "stdout",
     "output_type": "stream",
     "text": [
      "503\n"
     ]
    }
   ],
   "source": [
    "companies = []\n",
    "data_path = \"Best/Graphs\"\n",
    "for (dirpath, dirnames, filenames) in walk(data_path):\n",
    "    companies.extend(filenames)\n",
    "    break \n",
    "print(len(companies))"
   ]
  },
  {
   "cell_type": "code",
   "execution_count": 5,
   "metadata": {},
   "outputs": [],
   "source": [
    "def company(stock,startDate, endDate,startingCapital,plot = False, s = 1):\n",
    "    model = \"Best/Models/{}-model.json\".format(stock)\n",
    "    if not os.path.isfile(\"{}/saved_model.pb\".format(model)):\n",
    "        return 0,0,0,0,0\n",
    "    start = startDate\n",
    "    dataPath = \"/Users/ishan/Coding/Wpi/StockMarketSimulationIQP/Datasets/30y_stock_csvs\"\n",
    "    dataTrain = pd.read_csv(\"{}/{}.csv\".format(dataPath,stock)) #import csv\n",
    "    dataTrain['Datetime']= pd.to_datetime(dataTrain['Datetime'])\n",
    "    if startDate < dataTrain.iloc[0, :]['Datetime']:\n",
    "        startDate = dataTrain.iloc[0, :]['Datetime']\n",
    "    days = timedelta(93)\n",
    "    startDate = startDate - days\n",
    "    if startDate < dataTrain.iloc[0,:]['Datetime']:\n",
    "        startDate = dataTrain.iloc[0,:]['Datetime']\n",
    "    dataTrain = dataTrain[~(dataTrain['Datetime'] < startDate)]\n",
    "    dataTrain = dataTrain[~(dataTrain['Datetime'] > endDate)]\n",
    "    rsiPeriod = 14\n",
    "    adxPeriod = 14\n",
    "    shift = s\n",
    "    leftshift = 33\n",
    "    window = 60\n",
    "\n",
    "    # %%\n",
    "    variablesToInclude = ['Close','Volume',\"RSI\",\"ADX\",\"fastd\",\"fastk\",\"macd\"]\n",
    "    numberOfFeatures = len(variablesToInclude)\n",
    "    \n",
    "    trainingDataPoints = round(len(dataTrain) * .4)\n",
    "    \n",
    "    dataTrain.rename(columns = {'CLOSE':'Close'}, inplace = True)\n",
    "    dataTrain.rename(columns = {'HIGH':'High'}, inplace = True)\n",
    "    dataTrain.rename(columns = {'LOW':'Low'}, inplace = True)\n",
    "    dataTrain.rename(columns = {'VOLUME':'Volume'}, inplace = True)\n",
    "\n",
    "\n",
    "    # %%\n",
    "\n",
    "    dataTrain['Close'] = dataTrain['Close'].astype(float).fillna(0)\n",
    "    data = dataTrain['Close']\n",
    "    if len(dataTrain) == 0:\n",
    "        return 0,0,0,0,0\n",
    "    dataTrain[\"RSI\"] = ta.RSI(dataTrain['Close'],rsiPeriod).fillna(0)\n",
    "    dataTrain[\"ADX\"] = ta.ADX(dataTrain['High'],dataTrain['Low'],dataTrain['Close'],adxPeriod).fillna(0)\n",
    "    fastk, fastd = ta.STOCHF(dataTrain['High'],dataTrain['Low'],dataTrain['Close'])\n",
    "    dataTrain['fastd'] = fastd\n",
    "    dataTrain['fastk'] = fastk\n",
    "    macd, macdsignal, macdhist = ta.MACD(dataTrain['Close'])\n",
    "    dataTrain['macd'] = macd\n",
    "    dataTrain['macdsignal'] = macdsignal\n",
    "    dataTrain['macdhist'] = macdhist\n",
    "    upper,middle,lower = ta.BBANDS(dataTrain['Close'])\n",
    "    dataTrain['bb_lowerband'] = lower\n",
    "    dataTrain['bb_middleband'] = middle\n",
    "    dataTrain['bb_upperband'] = upper\n",
    "\n",
    "    # %%\n",
    "    newTrain = pd.DataFrame()\n",
    "    newTrain = dataTrain[variablesToInclude]\n",
    "    newTrain[\"Close\"] = newTrain['Close'].shift(1)\n",
    "\n",
    "    # %%\n",
    "\n",
    "    trainingSet = newTrain.iloc[:,0:numberOfFeatures].values #convert to numpy to train RNN\n",
    "    ySet = data.astype(float).values.reshape(-1, 1)\n",
    "\n",
    "    # %% [markdown]\n",
    "    # ## Feature Scaling\n",
    "\n",
    "    # %%\n",
    "    # Use normalization x - min(x) / max(min) - min(x)\n",
    "    sc = MinMaxScaler(feature_range=(0,1)) # all values between 0 and 1\n",
    "    ySC = MinMaxScaler(feature_range=(0,1))\n",
    "    ySCSet = ySC.fit_transform(ySet)\n",
    "    scaleTrainingSet = sc.fit_transform(trainingSet)\n",
    "\n",
    "\n",
    "    \n",
    "    regressor=tf.keras.models.load_model(model)\n",
    "    dataTest = pd.read_csv(\"{}/{}.csv\".format(dataPath,stock)) #import csv\n",
    "    dataTest.rename(columns = {'CLOSE':'Close'}, inplace = True)\n",
    "    dataTest.rename(columns = {'HIGH':'High'}, inplace = True)\n",
    "    dataTest.rename(columns = {'LOW':'Low'}, inplace = True)\n",
    "    dataTest.rename(columns = {'VOLUME':'Volume'}, inplace = True)\n",
    "\n",
    "    # %%\n",
    "    dataTest['Datetime']= pd.to_datetime(dataTest['Datetime'])\n",
    "    if startDate < dataTrain.iloc[0,:]['Datetime']:\n",
    "        startDate = dataTrain.iloc[0,:]['Datetime']\n",
    "    dataTest = dataTest[~(dataTest['Datetime'] < startDate)]\n",
    "    dataTest = dataTest[~(dataTest['Datetime'] > endDate)]\n",
    "    dataTest['Close'] = dataTest['Close'].astype(float)\n",
    "    dataTest[\"RSI\"] = ta.RSI(dataTest['Close'],rsiPeriod)\n",
    "    dataTest[\"ADX\"] = ta.ADX(dataTest['High'],dataTest['Low'],dataTest['Close'],adxPeriod)\n",
    "    fastk, fastd = ta.STOCHF(dataTest['High'],dataTest['Low'],dataTest['Close'])\n",
    "    dataTest['fastd'] = fastd\n",
    "    dataTest['fastk'] = fastk\n",
    "    macd, macdsignal, macdhist = ta.MACD(dataTest['Close'])\n",
    "    dataTest['macd'] = macd\n",
    "    dataTest['macdsignal'] = macdsignal\n",
    "    dataTest['macdhist'] = macdhist\n",
    "    upper,middle,lower = ta.BBANDS(dataTest['Close'])\n",
    "    dataTest['bb_lowerband'] = lower\n",
    "    dataTest['bb_middleband'] = middle\n",
    "    dataTest['bb_upperband'] = upper\n",
    "    dataTest['Daily Returns'] = dataTest['Close'].pct_change(1)\n",
    "    \n",
    "    Sharpe_Ratio = dataTest['Daily Returns'].mean() / dataTest['Daily Returns'].std()\n",
    "    tradingdays = (endDate-start).days\n",
    "    sharperatio = (tradingdays ** 0.5) * Sharpe_Ratio\n",
    "    negs = dataTest[dataTest['Daily Returns']<0]['Daily Returns']\n",
    "    sortinoRatio = (dataTest['Daily Returns'].mean() / negs.std()) * (tradingdays ** 0.5)\n",
    "\n",
    "    # Calculate the max drawdown in the past window days for each day in the series.\n",
    "    # Use min_periods=1 if you want to let the first 252 days data have an expanding window\n",
    "    Roll_Max = dataTest['Daily Returns'].cummax()\n",
    "    Daily_Drawdown = (dataTest['Daily Returns']/Roll_Max) - 1.0\n",
    "\n",
    "    # Next we calculate the minimum (negative) daily drawdown in that window.\n",
    "    # Again, use min_periods=1 if you want to allow the expanding window\n",
    "    Max_Daily_Drawdown = Daily_Drawdown.cummin()\n",
    "    calm = dataTest['Daily Returns'].mean()\n",
    "    calmerRatio = (calm/Max_Daily_Drawdown) * (tradingdays ** 0.5)\n",
    "    \n",
    "    # %%\n",
    "    newTest = pd.DataFrame()\n",
    "    newTest = dataTest[variablesToInclude]\n",
    "    \n",
    "    # %%\n",
    "    realStockPrice = dataTest['Close'].values #convert to numpy to train RNN\n",
    "    newTest[\"Close\"] = newTest['Close'].shift(1)\n",
    "    trainingSet = newTest.iloc[:,0:numberOfFeatures].values #convert to numpy to train RNN\n",
    "\n",
    "    inputs = trainingSet\n",
    "    inputs = sc.transform(inputs)\n",
    "\n",
    "    # %%\n",
    "    xTest = []\n",
    "    for i in range(window+leftshift, len(inputs)):\n",
    "        xTest.append(inputs[i-window:i])\n",
    "    xTest = np.array(xTest)\n",
    "    # batchsize, inputSize, numberOfFeatures\n",
    "    try:\n",
    "        xTest = np.reshape(xTest, (xTest.shape[0], xTest.shape[1], numberOfFeatures))\n",
    "    except:\n",
    "        return 0,0,0,0,0\n",
    "\n",
    "\n",
    "    # %%\n",
    "    predictedPrice = regressor.predict(xTest)\n",
    "    predictedPrice = ySC.inverse_transform(predictedPrice)\n",
    "    predictedPrice = predictedPrice\n",
    "    stocksOwned = {}\n",
    "    startingValue = startingCapital\n",
    "    liquidValue = startingValue\n",
    "    dailyReturns = []\n",
    "    sold = 0\n",
    "    diffrence = (len(realStockPrice)) - (len(predictedPrice))\n",
    "    realStockPrice = realStockPrice[diffrence-shift:]\n",
    "\n",
    "    # %% [markdown]\n",
    "    # ## Predict price\n",
    "\n",
    "    # %%\n",
    "\n",
    "\n",
    "\n",
    "    loss = pd.DataFrame(columns=['i', 'Price'])\n",
    "    profit = pd.DataFrame(columns=['i', 'Price'])\n",
    "    buy = pd.DataFrame(columns=['i', 'Price'])\n",
    "    returnDaily = 0\n",
    "\n",
    "    \n",
    "    for i in range(len(predictedPrice)):\n",
    "        if realStockPrice[i] < predictedPrice[i] and stock not in stocksOwned:\n",
    "            stocksOwned[stock] = (realStockPrice[i], liquidValue/realStockPrice[i])\n",
    "            liquidValue -= liquidValue/realStockPrice[i] * realStockPrice[i]\n",
    "            buy.loc[len(buy)] = [i, realStockPrice[i]]\n",
    "        elif stock in stocksOwned and stocksOwned[stock][0] < realStockPrice[i]:\n",
    "            if stocksOwned[stock][1] * realStockPrice[i] > stocksOwned[stock][1] * stocksOwned[stock][0]:\n",
    "                profit.loc[len(profit)] = [i, realStockPrice[i]]\n",
    "            else:\n",
    "                loss.loc[len(loss)] = [i, realStockPrice[i]]\n",
    "            liquidValue += stocksOwned[stock][1] * realStockPrice[i]\n",
    "            percentGain = (realStockPrice[i] - stocksOwned[stock][0]) / stocksOwned[stock][0]\n",
    "            sold += 1\n",
    "            returnDaily = percentGain\n",
    "            stocksOwned.pop(stock)\n",
    "        if stock in stocksOwned and i == len(predictedPrice) - 1:\n",
    "            if stocksOwned[stock][1] * realStockPrice[i] > stocksOwned[stock][1] * stocksOwned[stock][0]:\n",
    "                profit.loc[len(profit)] = [i, realStockPrice[i]]\n",
    "            else:\n",
    "                loss.loc[len(loss)] = [i, realStockPrice[i]]\n",
    "            liquidValue += stocksOwned[stock][1] * realStockPrice[i]\n",
    "            percentGain = (realStockPrice[i] - stocksOwned[stock][0]) / stocksOwned[stock][0]\n",
    "            returnDaily = percentGain\n",
    "            stocksOwned.pop(stock)\n",
    "            sold += 1\n",
    "        dailyReturns.append(returnDaily)\n",
    "        \n",
    "    if plot:\n",
    "        plt.plot(realStockPrice, color='red', label=\"Real Stock Price\")\n",
    "        plt.plot(predictedPrice, color='blue', label=\"Predicted Stock Price\")\n",
    "        plt.scatter(buy['i'], buy['Price'], marker=\"o\", label = 'Buy', s=50)\n",
    "        plt.scatter(profit['i'], profit['Price'], marker=\"^\",\n",
    "                    color='green', label=\"Sell - Profit\", s=50)\n",
    "        plt.scatter(loss['i'], loss['Price'], marker=\"v\",\n",
    "                    color='red', label='Sell - Loss ', s=50)\n",
    "        plt.title(\"{} Stock Price\".format(stock))\n",
    "        plt.xlabel('Time')\n",
    "        plt.ylabel(\"Price\")\n",
    "        plt.legend()\n",
    "        plt.savefig('graphs/{}.png'.format(stock))\n",
    "        plt.figure()\n",
    "\n",
    "    dailyReturns = pd.Series(dailyReturns,dtype='float')\n",
    "    if len(dailyReturns) and dailyReturns.std():\n",
    "        Sharpe_Ratio = dailyReturns.mean() / dailyReturns.std()\n",
    "        tradingdays = (endDate-start).days\n",
    "        sharperatio = (tradingdays ** 0.5) * Sharpe_Ratio\n",
    "    else:\n",
    "        sharperatio = 0\n",
    "    negs = dailyReturns[dailyReturns<0]\n",
    "    if len(negs) and negs.std():\n",
    "        sortinoRatio = (dailyReturns.mean() / negs.std()) * (tradingdays ** 0.5)\n",
    "\n",
    "    # Calculate the max drawdown in the past window days for each day in the series.\n",
    "    # Use min_periods=1 if you want to let the first 252 days data have an expanding window\n",
    "    Roll_Max = dailyReturns.cummax()\n",
    "    Daily_Drawdown = (dailyReturns/Roll_Max) - 1.0\n",
    "\n",
    "    # Next we calculate the minimum (negative) daily drawdown in that window.\n",
    "    # Again, use min_periods=1 if you want to allow the expanding window\n",
    "    Max_Daily_Drawdown = Daily_Drawdown.cummin()\n",
    "    calm = dailyReturns.mean()\n",
    "    calmerRatio = (calm/Max_Daily_Drawdown) * (tradingdays ** 0.5)\n",
    "    calmerRatio = 0\n",
    "    \n",
    "\n",
    "    profit = (liquidValue - startingValue)\n",
    "    return profit,sharperatio,sortinoRatio,calmerRatio,sold\n"
   ]
  },
  {
   "cell_type": "code",
   "execution_count": 6,
   "metadata": {},
   "outputs": [],
   "source": [
    "def eval(startDate=\"1982-3-12\", endDate=\"2022-02-1\",weighted = False, companies = companies, s = 1):\n",
    "    startDate = datetime.strptime(str(startDate), \"%Y-%m-%d\")\n",
    "    endDate = datetime.strptime(str(endDate), \"%Y-%m-%d\")\n",
    "    startDateThreshold = datetime.strptime(\"1982-3-12\", \"%Y-%m-%d\")\n",
    "    spstart = startDate\n",
    "\n",
    "    if startDateThreshold > startDate:\n",
    "        spstart = startDateThreshold\n",
    "    profit = 0\n",
    "\n",
    "    with HiddenPrints():\n",
    "        sp500 = yf.download('^GSPC',spstart,endDate)\n",
    "\n",
    "    profitsp500percentage = ((sp500['Close'][-1] - sp500['Close'][0])/sp500['Close'][0])*100\n",
    "    profitsp500 = (500_000) * (profitsp500percentage/100)\n",
    "\n",
    "    profit = 0\n",
    "    sharperatio = []\n",
    "    sortinoRatio = []\n",
    "    calmerRatio = []\n",
    "\n",
    "    topStock = \"\"\n",
    "    maxProfit = float('-inf')\n",
    "    lowestStock = \"\"\n",
    "    minProfit = float('inf')\n",
    "\n",
    "    index = 0\n",
    "    sold = 0\n",
    "    value = 500_000\n",
    "    check = 0\n",
    "    for i in tqdm(companies):\n",
    "        with HiddenPrints():\n",
    "            index += 1\n",
    "        \n",
    "\n",
    "            if weighted:    \n",
    "                weightC = weight[i]\n",
    "                print(\"{}, {}\".format(i,weightC))\n",
    "                startingCapital = 500_000 * weightC\n",
    "                check += startingCapital\n",
    "                profitC, sharperatioC, sortinoRatioC, calmerRatioC,soldC = company(i, startDate, endDate, startingCapital, s = s)\n",
    "                sharperatio *= weightC\n",
    "                sortinoRatio *= weightC\n",
    "                calmerRatio *= weightC\n",
    "\n",
    "            else:\n",
    "                i = i[:-4]\n",
    "                print(i)\n",
    "                profitC, sharperatioC, sortinoRatioC, calmerRatioC, soldC = company(\n",
    "                    i, startDate, endDate,s = s)\n",
    "\n",
    "            profit += profitC\n",
    "            sharperatio.append(sharperatioC)\n",
    "            sortinoRatio.append(sortinoRatioC)\n",
    "            calmerRatio.append(calmerRatioC)\n",
    "            sold += soldC\n",
    "            if profitC < minProfit:\n",
    "                minProfit = profitC\n",
    "                lowestStock = i\n",
    "\n",
    "            if profitC > maxProfit:\n",
    "                maxProfit = profitC\n",
    "                topStock = i\n",
    "        \n",
    "    sharperatio = pd.Series(sharperatio).dropna()\n",
    "    sortinoRatio = pd.Series(sortinoRatio).dropna()\n",
    "    \n",
    "    profitPercentage = (profit/(value))*100\n",
    "    profit = round(profit,2)\n",
    "    profitPercentage = round(profitPercentage,2)\n",
    "    profitsp500 = round(profitsp500,2)\n",
    "    profitsp500percentage = round(profitsp500percentage,2)\n",
    "    sharperatio = round((sharperatio.mean()),2)\n",
    "    sortinoRatio = round((sortinoRatio.mean()),2)\n",
    "    calmerRatio = 0\n",
    "    minProfit = round(minProfit,2)\n",
    "    maxProfit = round(maxProfit,2)\n",
    "\n",
    "    if profitsp500 < profit:\n",
    "        beat = True\n",
    "    else:\n",
    "        beat = False\n",
    "        \n",
    "    print(check)\n",
    "    print(\"Start Date: {}\".format(str(startDate.date)))\n",
    "    print(\"End Date: {}\".format(str(endDate.date)))\n",
    "    print(\"Profit: ${}\".format(profit))\n",
    "    print(\"ROI: {}%\".format(profitPercentage))\n",
    "    print(\"Most Profitable Stock: {}\".format(topStock))\n",
    "    print(\"Profit for {}: ${}\".format(topStock,maxProfit))\n",
    "    print(\"Least Profitable Stock: {}\".format(lowestStock))\n",
    "    print(\"Profit for {}: ${}\".format(lowestStock,minProfit))\n",
    "    print(\"Profit S&P500: ${}\".format(profitsp500))\n",
    "    print(\"S&P500 ROI: {}%\".format(profitsp500percentage))\n",
    "    print(\"Sharpe Ratio: {}\".format(sharperatio))\n",
    "    print(\"Sortino Ratio: {}\".format(sortinoRatio))\n",
    "    print(\"Calmer Ratio: {}\".format(calmerRatio))\n",
    "    print(\"Traded {} Times\".format(sold))\n",
    "    return profit, beat\n"
   ]
  },
  {
   "cell_type": "code",
   "execution_count": 7,
   "metadata": {},
   "outputs": [],
   "source": [
    "def normalize(value, sum, length):\n",
    "\n",
    "    return (value / sum)\n",
    "\n",
    "\n",
    "def negativeMSE(value, max):\n",
    "    return (-1 * value)\n"
   ]
  },
  {
   "cell_type": "code",
   "execution_count": 8,
   "metadata": {},
   "outputs": [
    {
     "data": {
      "text/html": [
       "<div>\n",
       "<style scoped>\n",
       "    .dataframe tbody tr th:only-of-type {\n",
       "        vertical-align: middle;\n",
       "    }\n",
       "\n",
       "    .dataframe tbody tr th {\n",
       "        vertical-align: top;\n",
       "    }\n",
       "\n",
       "    .dataframe thead th {\n",
       "        text-align: right;\n",
       "    }\n",
       "</style>\n",
       "<table border=\"1\" class=\"dataframe\">\n",
       "  <thead>\n",
       "    <tr style=\"text-align: right;\">\n",
       "      <th></th>\n",
       "      <th>Weight</th>\n",
       "    </tr>\n",
       "  </thead>\n",
       "  <tbody>\n",
       "    <tr>\n",
       "      <th>count</th>\n",
       "      <td>59.000000</td>\n",
       "    </tr>\n",
       "    <tr>\n",
       "      <th>mean</th>\n",
       "      <td>0.016949</td>\n",
       "    </tr>\n",
       "    <tr>\n",
       "      <th>std</th>\n",
       "      <td>0.016663</td>\n",
       "    </tr>\n",
       "    <tr>\n",
       "      <th>min</th>\n",
       "      <td>0.000000</td>\n",
       "    </tr>\n",
       "    <tr>\n",
       "      <th>25%</th>\n",
       "      <td>0.004253</td>\n",
       "    </tr>\n",
       "    <tr>\n",
       "      <th>50%</th>\n",
       "      <td>0.013444</td>\n",
       "    </tr>\n",
       "    <tr>\n",
       "      <th>75%</th>\n",
       "      <td>0.023959</td>\n",
       "    </tr>\n",
       "    <tr>\n",
       "      <th>max</th>\n",
       "      <td>0.084705</td>\n",
       "    </tr>\n",
       "  </tbody>\n",
       "</table>\n",
       "</div>"
      ],
      "text/plain": [
       "          Weight\n",
       "count  59.000000\n",
       "mean    0.016949\n",
       "std     0.016663\n",
       "min     0.000000\n",
       "25%     0.004253\n",
       "50%     0.013444\n",
       "75%     0.023959\n",
       "max     0.084705"
      ]
     },
     "execution_count": 8,
     "metadata": {},
     "output_type": "execute_result"
    }
   ],
   "source": [
    "weights = pd.read_csv(\"OutputWeights.csv\")\n",
    "df = weights[['Company','Weight']]\n",
    "companiesWeighted = list(df['Company'])\n",
    "weight = dict(df.values)\n",
    "df.describe()"
   ]
  },
  {
   "cell_type": "code",
   "execution_count": 12,
   "metadata": {},
   "outputs": [
    {
     "name": "stderr",
     "output_type": "stream",
     "text": [
      "100%|██████████| 59/59 [03:27<00:00,  3.52s/it]"
     ]
    },
    {
     "name": "stdout",
     "output_type": "stream",
     "text": [
      "Start Date: <built-in method date of datetime.datetime object at 0x7fe40336ce10>\n",
      "End Date: <built-in method date of datetime.datetime object at 0x7fe40336ca50>\n",
      "Profit: $13238.68\n",
      "ROI: 2.65%\n",
      "Most Profitable Stock: UAL\n",
      "Profit for UAL: $2073.5\n",
      "Least Profitable Stock: POOL\n",
      "Profit for POOL: $-169.14\n",
      "Profit S&P500: $14929.81\n",
      "S&P500 ROI: 2.99%\n",
      "Sharpe Ratio: 3.68\n",
      "Sortino Ratio: 1.85\n",
      "Calmer Ratio: 0\n",
      "Traded 57 Times\n"
     ]
    },
    {
     "name": "stderr",
     "output_type": "stream",
     "text": [
      "\n"
     ]
    },
    {
     "data": {
      "text/plain": [
       "(13238.68, False)"
      ]
     },
     "execution_count": 12,
     "metadata": {},
     "output_type": "execute_result"
    }
   ],
   "source": [
    "eval(startDate='2021-01-01', endDate='2021-03-1', s=3, weighted=True, companies=companiesWeighted)"
   ]
  },
  {
   "cell_type": "code",
   "execution_count": 19,
   "metadata": {},
   "outputs": [
    {
     "name": "stderr",
     "output_type": "stream",
     "text": [
      "100%|██████████| 83/83 [05:14<00:00,  3.79s/it]"
     ]
    },
    {
     "name": "stdout",
     "output_type": "stream",
     "text": [
      "Start Date: <built-in method date of datetime.datetime object at 0x7f79f7ba0f60>\n",
      "End Date: <built-in method date of datetime.datetime object at 0x7f79f7ba02d0>\n",
      "Profit: $-16828.22\n",
      "ROI: -3.37%\n",
      "Most Profitable Stock: WYNN\n",
      "Profit for WYNN: $2834.44\n",
      "Least Profitable Stock: MPC\n",
      "Profit for MPC: $-4368.97\n",
      "Profit S&P500: $-71418.55\n",
      "S&P500 ROI: -14.28%\n",
      "Sharpe Ratio: 4.31\n",
      "Sortino Ratio: 0.05\n",
      "Calmer Ratio: 0\n",
      "Traded 287 Times\n"
     ]
    },
    {
     "name": "stderr",
     "output_type": "stream",
     "text": [
      "\n"
     ]
    },
    {
     "data": {
      "text/plain": [
       "(-16828.22, True)"
      ]
     },
     "execution_count": 19,
     "metadata": {},
     "output_type": "execute_result"
    }
   ],
   "source": [
    "eval(startDate='2018-10-01', endDate='2019-01-1',s=3, weighted=True, companies=companiesWeighted)"
   ]
  },
  {
   "cell_type": "code",
   "execution_count": 118,
   "metadata": {},
   "outputs": [
    {
     "name": "stdout",
     "output_type": "stream",
     "text": [
      "Start Date: <built-in method date of datetime.datetime object at 0x7feee6d44720>\n",
      "End Date: <built-in method date of datetime.datetime object at 0x7feee6d447e0>\n",
      "Profit: $2388.95\n",
      "ROI: 0.48%\n",
      "Most Profitable Stock: RF\n",
      "Profit for RF: $1395.23\n",
      "Least Profitable Stock: IVZ\n",
      "Profit for IVZ: $0.0\n",
      "Profit S&P500: $35797.38\n",
      "S&P500 ROI: 7.16%\n",
      "Sharpe Ratio: 2.77\n",
      "Sortino Ratio: 1.91\n",
      "Calmer Ratio: 0\n",
      "Traded 17 Times\n"
     ]
    },
    {
     "data": {
      "text/plain": [
       "(2388.95, False)"
      ]
     },
     "execution_count": 118,
     "metadata": {},
     "output_type": "execute_result"
    }
   ],
   "source": [
    "eval(startDate='2021-03-01', endDate='2021-05-1',\n",
    "     s=3, weighted=True, companies=companiesWeighted)\n"
   ]
  },
  {
   "cell_type": "code",
   "execution_count": 119,
   "metadata": {},
   "outputs": [
    {
     "name": "stdout",
     "output_type": "stream",
     "text": [
      "Start Date: <built-in method date of datetime.datetime object at 0x7feee7cf00c0>\n",
      "End Date: <built-in method date of datetime.datetime object at 0x7feee7cf0ae0>\n",
      "Profit: $-25386.48\n",
      "ROI: -5.08%\n",
      "Most Profitable Stock: HPQ\n",
      "Profit for HPQ: $60.06\n",
      "Least Profitable Stock: HPE\n",
      "Profit for HPE: $-5304.0\n",
      "Profit S&P500: $12502.78\n",
      "S&P500 ROI: 2.5%\n",
      "Sharpe Ratio: -1.66\n",
      "Sortino Ratio: 0.9\n",
      "Calmer Ratio: 0\n",
      "Traded 12 Times\n"
     ]
    },
    {
     "data": {
      "text/plain": [
       "(-25386.48, False)"
      ]
     },
     "execution_count": 119,
     "metadata": {},
     "output_type": "execute_result"
    }
   ],
   "source": [
    "eval(startDate='2021-05-01', endDate='2021-07-1',\n",
    "     s=3, weighted=True, companies=companiesWeighted)\n"
   ]
  },
  {
   "cell_type": "code",
   "execution_count": 120,
   "metadata": {},
   "outputs": [
    {
     "name": "stdout",
     "output_type": "stream",
     "text": [
      "Start Date: <built-in method date of datetime.datetime object at 0x7feeea9c6720>\n",
      "End Date: <built-in method date of datetime.datetime object at 0x7feeea9c6b10>\n",
      "Profit: $2078.04\n",
      "ROI: 0.42%\n",
      "Most Profitable Stock: HPE\n",
      "Profit for HPE: $3177.04\n",
      "Least Profitable Stock: KMI\n",
      "Profit for KMI: $-2597.24\n",
      "Profit S&P500: $22991.18\n",
      "S&P500 ROI: 4.6%\n",
      "Sharpe Ratio: 4.36\n",
      "Sortino Ratio: 1.26\n",
      "Calmer Ratio: 0\n",
      "Traded 30 Times\n"
     ]
    },
    {
     "data": {
      "text/plain": [
       "(2078.04, False)"
      ]
     },
     "execution_count": 120,
     "metadata": {},
     "output_type": "execute_result"
    }
   ],
   "source": [
    "eval(startDate='2021-06-01', endDate='2021-08-1',\n",
    "     s=3, weighted=True, companies=companiesWeighted)\n"
   ]
  },
  {
   "cell_type": "code",
   "execution_count": 121,
   "metadata": {},
   "outputs": [
    {
     "name": "stdout",
     "output_type": "stream",
     "text": [
      "Start Date: <built-in method date of datetime.datetime object at 0x7feee604d510>\n",
      "End Date: <built-in method date of datetime.datetime object at 0x7feee604d900>\n",
      "Profit: $-1172.84\n",
      "ROI: -0.23%\n",
      "Most Profitable Stock: AMCR\n",
      "Profit for AMCR: $3422.06\n",
      "Least Profitable Stock: NWS\n",
      "Profit for NWS: $-3524.09\n",
      "Profit S&P500: $23465.63\n",
      "S&P500 ROI: 4.69%\n",
      "Sharpe Ratio: 4.79\n",
      "Sortino Ratio: 0.46\n",
      "Calmer Ratio: 0\n",
      "Traded 28 Times\n"
     ]
    },
    {
     "data": {
      "text/plain": [
       "(-1172.84, False)"
      ]
     },
     "execution_count": 121,
     "metadata": {},
     "output_type": "execute_result"
    }
   ],
   "source": [
    "\n",
    "eval(startDate='2021-07-01', endDate='2021-09-1',\n",
    "     s=3, weighted=True, companies=companiesWeighted)\n"
   ]
  },
  {
   "cell_type": "code",
   "execution_count": 12,
   "metadata": {},
   "outputs": [
    {
     "name": "stderr",
     "output_type": "stream",
     "text": [
      "100%|██████████| 59/59 [03:24<00:00,  3.47s/it]"
     ]
    },
    {
     "name": "stdout",
     "output_type": "stream",
     "text": [
      "499999.99999999854\n",
      "Start Date: <built-in method date of datetime.datetime object at 0x7f91c4922ba0>\n",
      "End Date: <built-in method date of datetime.datetime object at 0x7f91c49223f0>\n",
      "Profit: $13721.19\n",
      "ROI: 2.74%\n",
      "Most Profitable Stock: NXPI\n",
      "Profit for NXPI: $3220.83\n",
      "Least Profitable Stock: CRM\n",
      "Profit for CRM: $-535.66\n",
      "Profit S&P500: $16528.08\n",
      "S&P500 ROI: 3.31%\n",
      "Sharpe Ratio: 5.66\n",
      "Sortino Ratio: 0.49\n",
      "Calmer Ratio: 0\n",
      "Traded 109 Times\n"
     ]
    },
    {
     "name": "stderr",
     "output_type": "stream",
     "text": [
      "\n"
     ]
    },
    {
     "data": {
      "text/plain": [
       "(13721.19, False)"
      ]
     },
     "execution_count": 12,
     "metadata": {},
     "output_type": "execute_result"
    }
   ],
   "source": [
    "\n",
    "eval(startDate='2021-11-01', endDate='2022-01-1',\n",
    "     s=3, weighted=True, companies=companiesWeighted)\n"
   ]
  },
  {
   "cell_type": "code",
   "execution_count": 10,
   "metadata": {},
   "outputs": [
    {
     "data": {
      "text/plain": [
       "0"
      ]
     },
     "execution_count": 10,
     "metadata": {},
     "output_type": "execute_result"
    },
    {
     "data": {
      "image/png": "[encoded data removed]",
      "text/plain": [
       "<Figure size 432x288 with 1 Axes>"
      ]
     },
     "metadata": {
      "needs_background": "light"
     },
     "output_type": "display_data"
    },
    {
     "data": {
      "text/plain": [
       "<Figure size 432x288 with 0 Axes>"
      ]
     },
     "metadata": {},
     "output_type": "display_data"
    }
   ],
   "source": [
    "startDate = datetime.strptime('2019-08-31', \"%Y-%m-%d\")\n",
    "endDate = datetime.strptime('2019-11-15', \"%Y-%m-%d\")\n",
    "profitC, sharperatioC, sortinoRatioC, calmerRatioC, soldC = company(\n",
    "    'GOOG', startDate=startDate, endDate=endDate, plot=True, s=3,startingCapital=500)\n",
    "profitC"
   ]
  },
  {
   "cell_type": "code",
   "execution_count": 11,
   "metadata": {},
   "outputs": [
    {
     "name": "stderr",
     "output_type": "stream",
     "text": [
      "100%|██████████| 59/59 [05:18<00:00,  5.40s/it]"
     ]
    },
    {
     "name": "stdout",
     "output_type": "stream",
     "text": [
      "499999.99999999854\n",
      "Start Date: <built-in method date of datetime.datetime object at 0x7f91cb2d3c30>\n",
      "End Date: <built-in method date of datetime.datetime object at 0x7f91cb2d3720>\n",
      "Profit: $1603260993794906.5\n",
      "ROI: 320652198758.98%\n",
      "Most Profitable Stock: DISH\n",
      "Profit for DISH: $1594599928583054.8\n",
      "Least Profitable Stock: SNA\n",
      "Profit for SNA: $0.0\n",
      "Profit S&P500: $20287909.86\n",
      "S&P500 ROI: 4057.58%\n",
      "Sharpe Ratio: 134.83\n",
      "Sortino Ratio: 4.9\n",
      "Calmer Ratio: 0\n",
      "Traded 21883 Times\n"
     ]
    },
    {
     "name": "stderr",
     "output_type": "stream",
     "text": [
      "\n"
     ]
    },
    {
     "data": {
      "text/plain": [
       "(1603260993794906.5, True)"
      ]
     },
     "execution_count": 11,
     "metadata": {},
     "output_type": "execute_result"
    }
   ],
   "source": [
    "eval(startDate='1982-03-01', endDate='2022-02-01',\n",
    "     s=3, weighted=True, companies=companiesWeighted)"
   ]
  },
  {
   "cell_type": "code",
   "execution_count": 9,
   "metadata": {},
   "outputs": [
    {
     "name": "stderr",
     "output_type": "stream",
     "text": [
      "100%|██████████| 59/59 [04:03<00:00,  4.13s/it]\n",
      " 10%|█         | 1/10 [04:04<36:37, 244.12s/it]/Users/ishan/opt/anaconda3/lib/python3.7/site-packages/sklearn/preprocessing/_data.py:461: RuntimeWarning: All-NaN slice encountered\n",
      "  data_min = np.nanmin(X, axis=0)\n",
      "/Users/ishan/opt/anaconda3/lib/python3.7/site-packages/sklearn/preprocessing/_data.py:462: RuntimeWarning: All-NaN slice encountered\n",
      "  data_max = np.nanmax(X, axis=0)\n",
      "/Users/ishan/opt/anaconda3/lib/python3.7/site-packages/sklearn/preprocessing/_data.py:461: RuntimeWarning: All-NaN slice encountered\n",
      "  data_min = np.nanmin(X, axis=0)\n",
      "/Users/ishan/opt/anaconda3/lib/python3.7/site-packages/sklearn/preprocessing/_data.py:462: RuntimeWarning: All-NaN slice encountered\n",
      "  data_max = np.nanmax(X, axis=0)\n",
      "100%|██████████| 59/59 [03:46<00:00,  3.85s/it]\n",
      "100%|██████████| 59/59 [03:47<00:00,  3.85s/it]\n",
      "100%|██████████| 59/59 [03:49<00:00,  3.89s/it]\n",
      "100%|██████████| 59/59 [03:49<00:00,  3.90s/it]\n",
      "100%|██████████| 59/59 [03:49<00:00,  3.88s/it]\n",
      "100%|██████████| 59/59 [03:50<00:00,  3.91s/it]\n",
      "100%|██████████| 59/59 [03:48<00:00,  3.88s/it]\n",
      "100%|██████████| 59/59 [03:49<00:00,  3.89s/it]\n",
      "100%|██████████| 59/59 [03:46<00:00,  3.84s/it]\n",
      "100%|██████████| 10/10 [38:24<00:00, 230.49s/it]"
     ]
    },
    {
     "name": "stdout",
     "output_type": "stream",
     "text": [
      "4\n"
     ]
    },
    {
     "name": "stderr",
     "output_type": "stream",
     "text": [
      "\n"
     ]
    }
   ],
   "source": [
    "totalWins = 0\n",
    "with HiddenPrints():\n",
    "    for i in tqdm(range(10)):\n",
    "        start = datetime(2019,1,1)\n",
    "        startDate = datetime(1981,1,1)\n",
    "        while startDate < start:\n",
    "            year = random.randint(0, 82)\n",
    "            leapyear = False\n",
    "            if (year % 400 == 0) and (year % 100 == 0) or ((year % 4 == 0) and (year % 100 != 0)):\n",
    "                leapyear = True\n",
    "            if year > 21:\n",
    "                year = \"19{}\".format(year)\n",
    "            else:\n",
    "                if year < 10:\n",
    "                    year = year = \"200{}\".format(year)\n",
    "                else:\n",
    "                    year = \"20{}\".format(year)\n",
    "            month = str(random.randint(1,12))\n",
    "            possibleDays = {'1':31, '2':28, '3': 31, '4': 30, '5':31, '6':30, '7':31, '8': 31, '9': 30, '10': 31, '11': 30, '12': 31}\n",
    "            day = str(random.randint(1,possibleDays[month]))\n",
    "            if leapyear and month is '2':\n",
    "                day = str(random.randint(1, 29))\n",
    "            \n",
    "            startDate = '{}-{}-{}'.format(year, month, day)\n",
    "            \n",
    "            startDate = datetime.strptime(startDate, \"%Y-%m-%d\")\n",
    "        \n",
    "        days = timedelta(76)\n",
    "        endDate = startDate + days\n",
    "        startDate = str(startDate)[:10]\n",
    "        endDate = str(endDate)[:10]\n",
    "        _, win = eval(startDate = startDate, endDate = endDate, s = 3,weighted=True, companies=companiesWeighted)\n",
    "        if win:\n",
    "            totalWins += 1\n",
    "print(totalWins)\n"
   ]
  },
  {
   "cell_type": "code",
   "execution_count": null,
   "metadata": {},
   "outputs": [],
   "source": []
  }
 ],
 "metadata": {
  "interpreter": {
   "hash": "d7f05790cc1389e84f14fa70fc483a9756405497ad0fe26dbbfa2f1c9621afc3"
  },
  "kernelspec": {
   "display_name": "Python 3.7.6 ('base')",
   "language": "python",
   "name": "python3"
  },
  "language_info": {
   "codemirror_mode": {
    "name": "ipython",
    "version": 3
   },
   "file_extension": ".py",
   "mimetype": "text/x-python",
   "name": "python",
   "nbconvert_exporter": "python",
   "pygments_lexer": "ipython3",
   "version": "3.7.13"
  },
  "orig_nbformat": 4
 },
 "nbformat": 4,
 "nbformat_minor": 2
}
