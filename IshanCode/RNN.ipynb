{
 "cells": [
  {
   "cell_type": "markdown",
   "metadata": {},
   "source": [
    "# Part1 - Preprocessing"
   ]
  },
  {
   "cell_type": "markdown",
   "metadata": {},
   "source": [
    "## Import libaries"
   ]
  },
  {
   "cell_type": "code",
   "execution_count": 49,
   "metadata": {},
   "outputs": [],
   "source": [
    "import numpy as np\n",
    "import matplotlib.pyplot as plt\n",
    "import pandas as pd\n",
    "from sklearn.preprocessing import MinMaxScaler\n",
    "from tensorflow.keras.models import Sequential\n",
    "from tensorflow.keras.layers import Dense\n",
    "from tensorflow.keras.layers import LSTM\n",
    "from tensorflow.keras.layers import Dropout\n",
    "import talib as ta"
   ]
  },
  {
   "cell_type": "markdown",
   "metadata": {},
   "source": [
    "## Import training set"
   ]
  },
  {
   "cell_type": "code",
   "execution_count": 50,
   "metadata": {},
   "outputs": [],
   "source": [
    "rsiPeriod = 14\n",
    "numberOfFeatures = 2\n",
    "trainingDataPoints = 3500"
   ]
  },
  {
   "cell_type": "code",
   "execution_count": 51,
   "metadata": {},
   "outputs": [],
   "source": [
    "dataTrain = pd.read_csv(\"goog.csv\") #import csv\n",
    "dataTrain['CloseEdited'] = dataTrain['Close'].astype(float)\n",
    "dataTrain[\"RSI\"] = ta.RSI(dataTrain['CloseEdited'],rsiPeriod)\n",
    "newTrain = pd.DataFrame()\n",
    "newTrain[\"Open\"] = dataTrain['Open']\n",
    "newTrain['RSI'] = dataTrain['RSI'].fillna(0)\n",
    "trainingSet = newTrain.iloc[:,0:numberOfFeatures].values #convert to numpy to train RNN\n",
    "trainingSet\n",
    "ySet = newTrain.iloc[:,0:1].values"
   ]
  },
  {
   "cell_type": "markdown",
   "metadata": {},
   "source": [
    "## Feature Scaling"
   ]
  },
  {
   "cell_type": "code",
   "execution_count": 52,
   "metadata": {},
   "outputs": [
    {
     "data": {
      "text/plain": [
       "array([[1.35827890e-04, 0.00000000e+00],\n",
       "       [3.05192214e-04, 0.00000000e+00],\n",
       "       [1.93847539e-03, 0.00000000e+00],\n",
       "       ...,\n",
       "       [9.09108971e-01, 4.67463591e-01],\n",
       "       [9.03049569e-01, 3.96762627e-01],\n",
       "       [9.05328584e-01, 3.85300827e-01]])"
      ]
     },
     "execution_count": 52,
     "metadata": {},
     "output_type": "execute_result"
    }
   ],
   "source": [
    "# Use normalization x - min(x) / max(min) - min(x)\n",
    "sc = MinMaxScaler(feature_range=(0,1)) # all values between 0 and 1\n",
    "ySC = MinMaxScaler(feature_range=(0,1))\n",
    "ySCSet = ySC.fit_transform(ySet)\n",
    "scaleTrainingSet = sc.fit_transform(trainingSet)\n",
    "scaleTrainingSet"
   ]
  },
  {
   "cell_type": "markdown",
   "metadata": {},
   "source": [
    "## Create a data structure woth 60 timesteps and 1 output"
   ]
  },
  {
   "cell_type": "code",
   "execution_count": 53,
   "metadata": {},
   "outputs": [],
   "source": [
    "# Look at the 60 previous timesteps to predict this timestep\n",
    "xTrain = []\n",
    "yTrain = []\n",
    "for i in range(60,trainingDataPoints):\n",
    "    xTrain.append(scaleTrainingSet[i-60:i])\n",
    "    yTrain.append(scaleTrainingSet[i])"
   ]
  },
  {
   "cell_type": "code",
   "execution_count": 54,
   "metadata": {},
   "outputs": [],
   "source": [
    "# convert xtrain and yTrain to numpy for RNN\n",
    "xTrain, yTrain = np.array(xTrain), np.array(yTrain)"
   ]
  },
  {
   "cell_type": "markdown",
   "metadata": {},
   "source": [
    "## Reshaping the data"
   ]
  },
  {
   "cell_type": "code",
   "execution_count": 55,
   "metadata": {},
   "outputs": [],
   "source": [
    "xTrain = np.reshape(xTrain, (xTrain.shape[0],xTrain.shape[1],numberOfFeatures)) #batchsize, inputSize, numberOfFeatures"
   ]
  },
  {
   "cell_type": "markdown",
   "metadata": {},
   "source": [
    "# Part 2 - Build RNN"
   ]
  },
  {
   "cell_type": "markdown",
   "metadata": {},
   "source": [
    "## Initalizing the RNN"
   ]
  },
  {
   "cell_type": "code",
   "execution_count": 56,
   "metadata": {},
   "outputs": [],
   "source": [
    "regressor = Sequential()"
   ]
  },
  {
   "cell_type": "markdown",
   "metadata": {},
   "source": [
    "## Adding LSTM layers and some dropout regularization"
   ]
  },
  {
   "cell_type": "code",
   "execution_count": 57,
   "metadata": {},
   "outputs": [],
   "source": [
    "regressor.add(LSTM(units = 50, return_sequences = True, input_shape = (xTrain.shape[1],numberOfFeatures))) \n",
    "regressor.add(Dropout(rate = 0.2))"
   ]
  },
  {
   "cell_type": "code",
   "execution_count": 58,
   "metadata": {},
   "outputs": [],
   "source": [
    "regressor.add(LSTM(units = 50, return_sequences = True)) \n",
    "regressor.add(Dropout(rate = 0.2))"
   ]
  },
  {
   "cell_type": "code",
   "execution_count": 59,
   "metadata": {},
   "outputs": [],
   "source": [
    "regressor.add(LSTM(units = 50, return_sequences = True))\n",
    "regressor.add(Dropout(rate = 0.2))"
   ]
  },
  {
   "cell_type": "code",
   "execution_count": 60,
   "metadata": {},
   "outputs": [],
   "source": [
    "regressor.add(LSTM(units = 50))\n",
    "regressor.add(Dropout(rate = 0.2))\n",
    "# Last Layer"
   ]
  },
  {
   "cell_type": "markdown",
   "metadata": {},
   "source": [
    "## Adding output layer"
   ]
  },
  {
   "cell_type": "code",
   "execution_count": 61,
   "metadata": {},
   "outputs": [],
   "source": [
    "regressor.add(Dense(units=1))"
   ]
  },
  {
   "cell_type": "code",
   "execution_count": 62,
   "metadata": {},
   "outputs": [],
   "source": [
    "regressor.compile(optimizer='adam',loss='mean_squared_error',metrics='accuracy')"
   ]
  },
  {
   "cell_type": "code",
   "execution_count": 63,
   "metadata": {},
   "outputs": [
    {
     "name": "stdout",
     "output_type": "stream",
     "text": [
      "Epoch 1/100\n",
      "108/108 [==============================] - 12s 59ms/step - loss: 0.0710 - accuracy: 0.0000e+00\n",
      "Epoch 2/100\n",
      "108/108 [==============================] - 6s 60ms/step - loss: 0.0668 - accuracy: 0.0000e+00\n",
      "Epoch 3/100\n",
      "108/108 [==============================] - 6s 60ms/step - loss: 0.0660 - accuracy: 0.0000e+00\n",
      "Epoch 4/100\n",
      "108/108 [==============================] - 7s 62ms/step - loss: 0.0657 - accuracy: 0.0000e+00\n",
      "Epoch 5/100\n",
      "108/108 [==============================] - 7s 64ms/step - loss: 0.0655 - accuracy: 0.0000e+00\n",
      "Epoch 6/100\n",
      "108/108 [==============================] - 7s 66ms/step - loss: 0.0650 - accuracy: 0.0000e+00\n",
      "Epoch 7/100\n",
      "108/108 [==============================] - 8s 70ms/step - loss: 0.0647 - accuracy: 0.0000e+00\n",
      "Epoch 8/100\n",
      "108/108 [==============================] - 7s 61ms/step - loss: 0.0644 - accuracy: 0.0000e+00\n",
      "Epoch 9/100\n",
      "108/108 [==============================] - 7s 61ms/step - loss: 0.0641 - accuracy: 0.0000e+00\n",
      "Epoch 10/100\n",
      "108/108 [==============================] - 7s 63ms/step - loss: 0.0641 - accuracy: 0.0000e+00\n",
      "Epoch 11/100\n",
      "108/108 [==============================] - 7s 63ms/step - loss: 0.0638 - accuracy: 0.0000e+00\n",
      "Epoch 12/100\n",
      "108/108 [==============================] - 7s 63ms/step - loss: 0.0637 - accuracy: 0.0000e+00\n",
      "Epoch 13/100\n",
      "108/108 [==============================] - 7s 64ms/step - loss: 0.0635 - accuracy: 0.0000e+00\n",
      "Epoch 14/100\n",
      "108/108 [==============================] - 7s 64ms/step - loss: 0.0635 - accuracy: 0.0000e+00\n",
      "Epoch 15/100\n",
      "108/108 [==============================] - 7s 66ms/step - loss: 0.0633 - accuracy: 1.4535e-04\n",
      "Epoch 16/100\n",
      "108/108 [==============================] - 8s 78ms/step - loss: 0.0632 - accuracy: 0.0000e+00\n",
      "Epoch 17/100\n",
      "108/108 [==============================] - 7s 68ms/step - loss: 0.0632 - accuracy: 0.0000e+00\n",
      "Epoch 18/100\n",
      "108/108 [==============================] - 7s 69ms/step - loss: 0.0632 - accuracy: 0.0000e+00\n",
      "Epoch 19/100\n",
      "108/108 [==============================] - 7s 68ms/step - loss: 0.0631 - accuracy: 0.0000e+00\n",
      "Epoch 20/100\n",
      "108/108 [==============================] - 7s 68ms/step - loss: 0.0630 - accuracy: 0.0000e+00\n",
      "Epoch 21/100\n",
      "108/108 [==============================] - 7s 67ms/step - loss: 0.0630 - accuracy: 0.0000e+00\n",
      "Epoch 22/100\n",
      "108/108 [==============================] - 7s 67ms/step - loss: 0.0630 - accuracy: 0.0000e+00\n",
      "Epoch 23/100\n",
      "108/108 [==============================] - 7s 67ms/step - loss: 0.0629 - accuracy: 1.4535e-04\n",
      "Epoch 24/100\n",
      "108/108 [==============================] - 7s 67ms/step - loss: 0.0629 - accuracy: 0.0000e+00\n",
      "Epoch 25/100\n",
      "108/108 [==============================] - 7s 68ms/step - loss: 0.0629 - accuracy: 0.0000e+00\n",
      "Epoch 26/100\n",
      "108/108 [==============================] - 7s 67ms/step - loss: 0.0629 - accuracy: 1.4535e-04\n",
      "Epoch 27/100\n",
      "108/108 [==============================] - 7s 68ms/step - loss: 0.0628 - accuracy: 1.4535e-04\n",
      "Epoch 28/100\n",
      "108/108 [==============================] - 9s 86ms/step - loss: 0.0628 - accuracy: 0.0000e+00\n",
      "Epoch 29/100\n",
      "108/108 [==============================] - 7s 67ms/step - loss: 0.0628 - accuracy: 1.4535e-04\n",
      "Epoch 30/100\n",
      "108/108 [==============================] - 8s 71ms/step - loss: 0.0628 - accuracy: 1.4535e-04\n",
      "Epoch 31/100\n",
      "108/108 [==============================] - 10s 90ms/step - loss: 0.0628 - accuracy: 1.4535e-04\n",
      "Epoch 32/100\n",
      "108/108 [==============================] - 8s 72ms/step - loss: 0.0628 - accuracy: 0.0000e+00\n",
      "Epoch 33/100\n",
      "108/108 [==============================] - 8s 78ms/step - loss: 0.0628 - accuracy: 1.4535e-04\n",
      "Epoch 34/100\n",
      "108/108 [==============================] - 10s 89ms/step - loss: 0.0628 - accuracy: 1.4535e-04\n",
      "Epoch 35/100\n",
      "108/108 [==============================] - 8s 75ms/step - loss: 0.0627 - accuracy: 0.0000e+00\n",
      "Epoch 36/100\n",
      "108/108 [==============================] - 8s 70ms/step - loss: 0.0628 - accuracy: 0.0000e+00\n",
      "Epoch 37/100\n",
      "108/108 [==============================] - 8s 78ms/step - loss: 0.0628 - accuracy: 1.4535e-04\n",
      "Epoch 38/100\n",
      "108/108 [==============================] - 10s 90ms/step - loss: 0.0628 - accuracy: 0.0000e+00\n",
      "Epoch 39/100\n",
      "108/108 [==============================] - 9s 85ms/step - loss: 0.0627 - accuracy: 0.0000e+00\n",
      "Epoch 40/100\n",
      "108/108 [==============================] - 7s 64ms/step - loss: 0.0627 - accuracy: 0.0000e+00\n",
      "Epoch 41/100\n",
      "108/108 [==============================] - 6s 59ms/step - loss: 0.0627 - accuracy: 0.0000e+00\n",
      "Epoch 42/100\n",
      "108/108 [==============================] - 6s 57ms/step - loss: 0.0627 - accuracy: 0.0000e+00\n",
      "Epoch 43/100\n",
      "108/108 [==============================] - 6s 58ms/step - loss: 0.0627 - accuracy: 0.0000e+00\n",
      "Epoch 44/100\n",
      "108/108 [==============================] - 6s 58ms/step - loss: 0.0627 - accuracy: 0.0000e+00\n",
      "Epoch 45/100\n",
      "108/108 [==============================] - 7s 68ms/step - loss: 0.0627 - accuracy: 0.0000e+00\n",
      "Epoch 46/100\n",
      "108/108 [==============================] - 7s 61ms/step - loss: 0.0627 - accuracy: 0.0000e+00\n",
      "Epoch 47/100\n",
      "108/108 [==============================] - 7s 63ms/step - loss: 0.0627 - accuracy: 0.0000e+00\n",
      "Epoch 48/100\n",
      "108/108 [==============================] - 7s 68ms/step - loss: 0.0627 - accuracy: 1.4535e-04\n",
      "Epoch 49/100\n",
      "108/108 [==============================] - 7s 69ms/step - loss: 0.0627 - accuracy: 0.0000e+00\n",
      "Epoch 50/100\n",
      "108/108 [==============================] - 8s 74ms/step - loss: 0.0627 - accuracy: 0.0000e+00\n",
      "Epoch 51/100\n",
      "108/108 [==============================] - 7s 65ms/step - loss: 0.0627 - accuracy: 0.0000e+00\n",
      "Epoch 52/100\n",
      "108/108 [==============================] - 9s 82ms/step - loss: 0.0627 - accuracy: 0.0000e+00\n",
      "Epoch 53/100\n",
      "108/108 [==============================] - 6s 58ms/step - loss: 0.0627 - accuracy: 1.4535e-04\n",
      "Epoch 54/100\n",
      "108/108 [==============================] - 6s 59ms/step - loss: 0.0627 - accuracy: 1.4535e-04\n",
      "Epoch 55/100\n",
      "108/108 [==============================] - 6s 59ms/step - loss: 0.0627 - accuracy: 0.0000e+00\n",
      "Epoch 56/100\n",
      "108/108 [==============================] - 6s 58ms/step - loss: 0.0627 - accuracy: 0.0000e+00\n",
      "Epoch 57/100\n",
      "108/108 [==============================] - 6s 58ms/step - loss: 0.0627 - accuracy: 0.0000e+00\n",
      "Epoch 58/100\n",
      "108/108 [==============================] - 6s 58ms/step - loss: 0.0627 - accuracy: 0.0000e+00\n",
      "Epoch 59/100\n",
      "108/108 [==============================] - 7s 61ms/step - loss: 0.0627 - accuracy: 1.4535e-04\n",
      "Epoch 60/100\n",
      "108/108 [==============================] - 7s 64ms/step - loss: 0.0626 - accuracy: 0.0000e+00\n",
      "Epoch 61/100\n",
      "108/108 [==============================] - 7s 65ms/step - loss: 0.0627 - accuracy: 0.0000e+00\n",
      "Epoch 62/100\n",
      "108/108 [==============================] - 7s 63ms/step - loss: 0.0626 - accuracy: 0.0000e+00\n",
      "Epoch 63/100\n",
      "108/108 [==============================] - 7s 63ms/step - loss: 0.0627 - accuracy: 1.4535e-04\n",
      "Epoch 64/100\n",
      "108/108 [==============================] - 7s 61ms/step - loss: 0.0627 - accuracy: 0.0000e+00\n",
      "Epoch 65/100\n",
      "108/108 [==============================] - 7s 64ms/step - loss: 0.0627 - accuracy: 1.4535e-04\n",
      "Epoch 66/100\n",
      "108/108 [==============================] - 7s 64ms/step - loss: 0.0627 - accuracy: 0.0000e+00\n",
      "Epoch 67/100\n",
      "108/108 [==============================] - 7s 64ms/step - loss: 0.0627 - accuracy: 1.4535e-04\n",
      "Epoch 68/100\n",
      "108/108 [==============================] - 7s 64ms/step - loss: 0.0627 - accuracy: 0.0000e+00\n",
      "Epoch 69/100\n",
      "108/108 [==============================] - 7s 67ms/step - loss: 0.0626 - accuracy: 1.4535e-04\n",
      "Epoch 70/100\n",
      "108/108 [==============================] - 7s 64ms/step - loss: 0.0627 - accuracy: 0.0000e+00\n",
      "Epoch 71/100\n",
      "108/108 [==============================] - 7s 65ms/step - loss: 0.0626 - accuracy: 1.4535e-04\n",
      "Epoch 72/100\n",
      "108/108 [==============================] - 7s 62ms/step - loss: 0.0627 - accuracy: 1.4535e-04\n",
      "Epoch 73/100\n",
      "108/108 [==============================] - 7s 64ms/step - loss: 0.0627 - accuracy: 0.0000e+00\n",
      "Epoch 74/100\n",
      "108/108 [==============================] - 7s 66ms/step - loss: 0.0626 - accuracy: 0.0000e+00\n",
      "Epoch 75/100\n",
      "108/108 [==============================] - 8s 71ms/step - loss: 0.0627 - accuracy: 0.0000e+00\n",
      "Epoch 76/100\n",
      "108/108 [==============================] - 7s 68ms/step - loss: 0.0627 - accuracy: 0.0000e+00\n",
      "Epoch 77/100\n",
      "108/108 [==============================] - 7s 63ms/step - loss: 0.0627 - accuracy: 0.0000e+00\n",
      "Epoch 78/100\n",
      "108/108 [==============================] - 7s 66ms/step - loss: 0.0627 - accuracy: 0.0000e+00\n",
      "Epoch 79/100\n",
      "108/108 [==============================] - 9s 82ms/step - loss: 0.0626 - accuracy: 0.0000e+00\n",
      "Epoch 80/100\n",
      "108/108 [==============================] - 10s 95ms/step - loss: 0.0627 - accuracy: 1.4535e-04\n",
      "Epoch 81/100\n",
      "108/108 [==============================] - 8s 70ms/step - loss: 0.0626 - accuracy: 1.4535e-04\n",
      "Epoch 82/100\n",
      "108/108 [==============================] - 6s 58ms/step - loss: 0.0627 - accuracy: 0.0000e+00\n",
      "Epoch 83/100\n",
      "108/108 [==============================] - 6s 57ms/step - loss: 0.0627 - accuracy: 0.0000e+00\n",
      "Epoch 84/100\n",
      "108/108 [==============================] - 6s 58ms/step - loss: 0.0627 - accuracy: 0.0000e+00\n",
      "Epoch 85/100\n",
      "108/108 [==============================] - 6s 60ms/step - loss: 0.0627 - accuracy: 1.4535e-04\n",
      "Epoch 86/100\n",
      "108/108 [==============================] - 6s 56ms/step - loss: 0.0627 - accuracy: 0.0000e+00\n",
      "Epoch 87/100\n",
      "108/108 [==============================] - 6s 56ms/step - loss: 0.0626 - accuracy: 1.4535e-04\n",
      "Epoch 88/100\n",
      "108/108 [==============================] - 8s 76ms/step - loss: 0.0627 - accuracy: 0.0000e+00\n",
      "Epoch 89/100\n",
      "108/108 [==============================] - 9s 84ms/step - loss: 0.0626 - accuracy: 0.0000e+00\n",
      "Epoch 90/100\n",
      "108/108 [==============================] - 6s 60ms/step - loss: 0.0626 - accuracy: 0.0000e+00\n",
      "Epoch 91/100\n",
      "108/108 [==============================] - 6s 56ms/step - loss: 0.0627 - accuracy: 0.0000e+00\n",
      "Epoch 92/100\n",
      "108/108 [==============================] - 7s 62ms/step - loss: 0.0626 - accuracy: 1.4535e-04\n",
      "Epoch 93/100\n",
      "108/108 [==============================] - 7s 67ms/step - loss: 0.0626 - accuracy: 0.0000e+00\n",
      "Epoch 94/100\n",
      "108/108 [==============================] - 6s 57ms/step - loss: 0.0627 - accuracy: 0.0000e+00\n",
      "Epoch 95/100\n",
      "108/108 [==============================] - 7s 67ms/step - loss: 0.0627 - accuracy: 1.4535e-04\n",
      "Epoch 96/100\n",
      "108/108 [==============================] - 8s 78ms/step - loss: 0.0626 - accuracy: 1.4535e-04\n",
      "Epoch 97/100\n",
      "108/108 [==============================] - 6s 58ms/step - loss: 0.0626 - accuracy: 0.0000e+00\n",
      "Epoch 98/100\n",
      "108/108 [==============================] - 6s 58ms/step - loss: 0.0627 - accuracy: 0.0000e+00\n",
      "Epoch 99/100\n",
      "108/108 [==============================] - 7s 61ms/step - loss: 0.0626 - accuracy: 1.4535e-04\n",
      "Epoch 100/100\n",
      "108/108 [==============================] - 6s 59ms/step - loss: 0.0627 - accuracy: 0.0000e+00\n"
     ]
    },
    {
     "data": {
      "text/plain": [
       "<tensorflow.python.keras.callbacks.History at 0x7f9b9ed92ad0>"
      ]
     },
     "execution_count": 63,
     "metadata": {},
     "output_type": "execute_result"
    }
   ],
   "source": [
    "regressor.fit(xTrain,yTrain,epochs=100,batch_size=32)"
   ]
  },
  {
   "cell_type": "markdown",
   "metadata": {},
   "source": [
    "## Part 3 - Predictions and visualing the results"
   ]
  },
  {
   "cell_type": "code",
   "execution_count": 64,
   "metadata": {},
   "outputs": [
    {
     "data": {
      "text/html": [
       "<div>\n",
       "<style scoped>\n",
       "    .dataframe tbody tr th:only-of-type {\n",
       "        vertical-align: middle;\n",
       "    }\n",
       "\n",
       "    .dataframe tbody tr th {\n",
       "        vertical-align: top;\n",
       "    }\n",
       "\n",
       "    .dataframe thead th {\n",
       "        text-align: right;\n",
       "    }\n",
       "</style>\n",
       "<table border=\"1\" class=\"dataframe\">\n",
       "  <thead>\n",
       "    <tr style=\"text-align: right;\">\n",
       "      <th></th>\n",
       "      <th>Open</th>\n",
       "      <th>RSI</th>\n",
       "    </tr>\n",
       "  </thead>\n",
       "  <tbody>\n",
       "    <tr>\n",
       "      <th>3501</th>\n",
       "      <td>1172.219971</td>\n",
       "      <td>0.000000</td>\n",
       "    </tr>\n",
       "    <tr>\n",
       "      <th>3502</th>\n",
       "      <td>1196.560059</td>\n",
       "      <td>0.000000</td>\n",
       "    </tr>\n",
       "    <tr>\n",
       "      <th>3503</th>\n",
       "      <td>1191.000000</td>\n",
       "      <td>0.000000</td>\n",
       "    </tr>\n",
       "    <tr>\n",
       "      <th>3504</th>\n",
       "      <td>1186.959961</td>\n",
       "      <td>0.000000</td>\n",
       "    </tr>\n",
       "    <tr>\n",
       "      <th>3505</th>\n",
       "      <td>1181.010010</td>\n",
       "      <td>0.000000</td>\n",
       "    </tr>\n",
       "    <tr>\n",
       "      <th>...</th>\n",
       "      <td>...</td>\n",
       "      <td>...</td>\n",
       "    </tr>\n",
       "    <tr>\n",
       "      <th>4381</th>\n",
       "      <td>2831.090088</td>\n",
       "      <td>46.681265</td>\n",
       "    </tr>\n",
       "    <tr>\n",
       "      <th>4382</th>\n",
       "      <td>2836.810059</td>\n",
       "      <td>47.247461</td>\n",
       "    </tr>\n",
       "    <tr>\n",
       "      <th>4383</th>\n",
       "      <td>2750.000000</td>\n",
       "      <td>40.259966</td>\n",
       "    </tr>\n",
       "    <tr>\n",
       "      <th>4384</th>\n",
       "      <td>2732.000000</td>\n",
       "      <td>38.972923</td>\n",
       "    </tr>\n",
       "    <tr>\n",
       "      <th>4385</th>\n",
       "      <td>2738.770020</td>\n",
       "      <td>39.753035</td>\n",
       "    </tr>\n",
       "  </tbody>\n",
       "</table>\n",
       "<p>885 rows × 2 columns</p>\n",
       "</div>"
      ],
      "text/plain": [
       "             Open        RSI\n",
       "3501  1172.219971   0.000000\n",
       "3502  1196.560059   0.000000\n",
       "3503  1191.000000   0.000000\n",
       "3504  1186.959961   0.000000\n",
       "3505  1181.010010   0.000000\n",
       "...           ...        ...\n",
       "4381  2831.090088  46.681265\n",
       "4382  2836.810059  47.247461\n",
       "4383  2750.000000  40.259966\n",
       "4384  2732.000000  38.972923\n",
       "4385  2738.770020  39.753035\n",
       "\n",
       "[885 rows x 2 columns]"
      ]
     },
     "execution_count": 64,
     "metadata": {},
     "output_type": "execute_result"
    }
   ],
   "source": [
    "dataTest = pd.read_csv(\"goog.csv\") #import csv\n",
    "dataTest = dataTest[trainingDataPoints + 1:]\n",
    "dataTest[\"RSI\"] = ta.RSI(dataTest['Open'],rsiPeriod).fillna(0)\n",
    "newTest = pd.DataFrame()\n",
    "newTest[\"Open\"] = dataTest['Open']\n",
    "newTest['RSI'] = dataTest['RSI']\n",
    "realStockPrice = dataTest.iloc[:,1:2].values #convert to numpy to train RNN\n",
    "newTest"
   ]
  },
  {
   "cell_type": "markdown",
   "metadata": {},
   "source": [
    "## Predict price in 2017"
   ]
  },
  {
   "cell_type": "code",
   "execution_count": 65,
   "metadata": {},
   "outputs": [],
   "source": [
    "datasetTotal = pd.concat((newTrain,newTest),axis=0)\n",
    "inputs = datasetTotal[len(datasetTotal) - len(newTest) - 60:].values\n",
    "inputs = sc.transform(inputs)"
   ]
  },
  {
   "cell_type": "code",
   "execution_count": 66,
   "metadata": {},
   "outputs": [],
   "source": [
    "xTest = []\n",
    "for i in range(60,len(inputs)):\n",
    "    xTest.append(inputs[i-60:i])\n",
    "xTest = np.array(xTest)\n",
    "xTest = np.reshape(xTest, (xTest.shape[0],xTest.shape[1],numberOfFeatures)) #batchsize, inputSize, numberOfFeatures"
   ]
  },
  {
   "cell_type": "code",
   "execution_count": 67,
   "metadata": {},
   "outputs": [],
   "source": [
    "predictedPrice = regressor.predict(xTest)\n",
    "predictedPrice = ySC.inverse_transform(predictedPrice)\n"
   ]
  },
  {
   "cell_type": "markdown",
   "metadata": {},
   "source": [
    "# Visualsing the data"
   ]
  },
  {
   "cell_type": "code",
   "execution_count": 68,
   "metadata": {},
   "outputs": [
    {
     "data": {
      "image/png": "[encoded data removed]",
      "text/plain": [
       "<Figure size 432x288 with 1 Axes>"
      ]
     },
     "metadata": {
      "needs_background": "light"
     },
     "output_type": "display_data"
    }
   ],
   "source": [
    "plt.plot(realStockPrice, color = 'red', label = \"Read Stock Price\")\n",
    "plt.plot(predictedPrice, color = 'blue', label = \"Predicted Stock Price\")\n",
    "plt.title(\"Google Stock Price\")\n",
    "plt.xlabel('Time')\n",
    "plt.ylabel(\"Price\")\n",
    "plt.legend()\n",
    "plt.show()"
   ]
  },
  {
   "cell_type": "code",
   "execution_count": 90,
   "metadata": {},
   "outputs": [
    {
     "name": "stdout",
     "output_type": "stream",
     "text": [
      "Profit: $413189.97\n",
      "ROI: 82.64%\n",
      "133.64\n"
     ]
    }
   ],
   "source": [
    "stocksOwned = {}\n",
    "startingValue = 500_000\n",
    "liquidValue = startingValue\n",
    "\n",
    "for i in range(len(predictedPrice)):\n",
    "    if realStockPrice[i] < predictedPrice[i] and 'GOOGL' not in stocksOwned:\n",
    "        stocksOwned['GOOGL'] = (realStockPrice[i], liquidValue/realStockPrice[i])\n",
    "        liquidValue -= liquidValue/realStockPrice[i] * realStockPrice[i]\n",
    "    elif 'GOOGL' in stocksOwned and stocksOwned['GOOGL'][0] < realStockPrice[i]:\n",
    "        liquidValue += stocksOwned['GOOGL'][1] * realStockPrice[i]\n",
    "        stocksOwned.pop('GOOGL')\n",
    "\n",
    "profit = (liquidValue - startingValue)[0]\n",
    "profitPercentage = (profit/startingValue)*100\n",
    "print(\"Profit: ${}\".format(round(profit,2)))\n",
    "print(\"ROI: {}%\".format(round(profitPercentage,2)))\n",
    "held = (((realStockPrice[-1] - realStockPrice[0]) / realStockPrice[0]) * 100)[0]\n",
    "print(round(held,2))\n"
   ]
  },
  {
   "cell_type": "code",
   "execution_count": null,
   "metadata": {},
   "outputs": [],
   "source": []
  }
 ],
 "metadata": {
  "interpreter": {
   "hash": "d7f05790cc1389e84f14fa70fc483a9756405497ad0fe26dbbfa2f1c9621afc3"
  },
  "kernelspec": {
   "display_name": "Python 3.7.6 64-bit ('base': conda)",
   "name": "python3"
  },
  "language_info": {
   "codemirror_mode": {
    "name": "ipython",
    "version": 3
   },
   "file_extension": ".py",
   "mimetype": "text/x-python",
   "name": "python",
   "nbconvert_exporter": "python",
   "pygments_lexer": "ipython3",
   "version": "3.7.6"
  },
  "orig_nbformat": 4
 },
 "nbformat": 4,
 "nbformat_minor": 2
}
