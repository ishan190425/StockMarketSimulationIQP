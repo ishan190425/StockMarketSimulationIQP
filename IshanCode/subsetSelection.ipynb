{
 "cells": [
  {
   "cell_type": "code",
   "execution_count": 1,
   "metadata": {},
   "outputs": [],
   "source": [
    "class HiddenPrints:\n",
    "    def __enter__(self):\n",
    "        self._original_stdout = sys.stdout\n",
    "        sys.stdout = open(os.devnull, 'w')\n",
    "\n",
    "    def __exit__(self, exc_type, exc_val, exc_tb):\n",
    "        sys.stdout.close()\n",
    "        sys.stdout = self._original_stdout\n"
   ]
  },
  {
   "cell_type": "code",
   "execution_count": 164,
   "metadata": {},
   "outputs": [],
   "source": [
    "from mlxtend.feature_selection import SequentialFeatureSelector as SFS\n",
    "from sklearn.neighbors import KNeighborsClassifier as KNN\n",
    "import talib as ta\n",
    "import numpy as np\n",
    "import matplotlib.pyplot as plt\n",
    "import pandas as pd\n",
    "from sklearn.preprocessing import LabelEncoder\n",
    "import seaborn as sm\n",
    "from sklearn.linear_model import Lasso\n",
    "from sklearn.linear_model import LogisticRegression\n",
    "from sklearn.linear_model import LinearRegression\n",
    "import statsmodels.api as sm\n",
    "from sklearn.model_selection import train_test_split as split\n",
    "from sklearn.preprocessing import LabelEncoder\n",
    "from sklearn.metrics import mean_squared_error\n",
    "from sklearn.preprocessing import PolynomialFeatures\n",
    "import random\n",
    "from sklearn.model_selection import LeaveOneOut\n",
    "from sklearn.model_selection import KFold\n",
    "from sklearn.model_selection import cross_val_score\n",
    "from sklearn.utils import resample\n",
    "from itertools import combinations\n",
    "from sklearn.preprocessing import MinMaxScaler\n",
    "from tensorflow.keras.models import Sequential\n",
    "from tensorflow.keras.layers import Dense\n",
    "from tensorflow.keras.layers import LSTM\n",
    "from tensorflow.keras.layers import Dropout\n",
    "from tensorflow.keras.layers import Flatten\n",
    "from sklearn.linear_model import Ridge"
   ]
  },
  {
   "cell_type": "code",
   "execution_count": 165,
   "metadata": {},
   "outputs": [],
   "source": [
    "def rnn(shape,numberOfFeatures):\n",
    "    regressor = Sequential()\n",
    "\n",
    "    # %%\n",
    "    regressor.add(LSTM(units = 50, return_sequences = True,input_shape = (shape,numberOfFeatures))) \n",
    "    regressor.add(Dropout(rate = 0.2))\n",
    "    #regressor.add(Dense(units=16,activation = 'relu',input_shape = (xTrain.shape[1],numberOfFeatures)))\n",
    "\n",
    "    # %%\n",
    "    regressor.add(LSTM(units = 50, return_sequences = True)) \n",
    "    regressor.add(Dropout(rate = 0.2))\n",
    "    #regressor.add(Dense(units=32,activation = 'relu'))\n",
    "\n",
    "    # %%\n",
    "    regressor.add(LSTM(units = 50, return_sequences = True))\n",
    "    regressor.add(Dropout(rate = 0.2))\n",
    "    #regressor.add(Dense(units=16,activation = 'relu'))\n",
    "\n",
    "    # %%\n",
    "    regressor.add(LSTM(units = 50))\n",
    "    regressor.add(Dropout(rate = 0.2))\n",
    "    # Last Layer\n",
    "    regressor.add(Dense(units=1))#output layer, default since this is regression not classfition \n",
    "\n",
    "    # %% [markdown]\n",
    "    # ## Adding output layer\n",
    "\n",
    "    # %%\n",
    "    regressor.compile(optimizer='adam',loss='mean_squared_error',metrics='accuracy')\n",
    "    return regressor\n",
    "            \n"
   ]
  },
  {
   "cell_type": "code",
   "execution_count": 166,
   "metadata": {},
   "outputs": [],
   "source": [
    "def getVariables(variablesToInclude,dataTrain):\n",
    "    trainingDataPoints = round(len(dataTrain) * .4)\n",
    "    numberOfFeatures = len(variablesToInclude)\n",
    "    newTrain = dataTrain.iloc[:,variablesToInclude]\n",
    "    data = dataTrain[:trainingDataPoints]['Close']\n",
    "    if 'Close' in newTrain.columns:\n",
    "        newTrain[\"Close\"] = newTrain['Close'].shift(1)\n",
    "    trainingSet = newTrain.iloc[:,0:numberOfFeatures].values #convert to numpy to train RNN\n",
    "    ySet = data.astype(float).values.reshape(-1, 1)\n",
    "\n",
    "    # %% [markdown]\n",
    "    # ## Feature Scaling\n",
    "\n",
    "    # %%\n",
    "    # Use normalization x - min(x) / max(min) - min(x)\n",
    "    sc = MinMaxScaler(feature_range=(0,1)) # all values between 0 and 1\n",
    "    ySC = MinMaxScaler(feature_range=(0,1))\n",
    "    ySCSet = ySC.fit_transform(ySet)\n",
    "    scaleTrainingSet = sc.fit_transform(trainingSet)\n",
    "\n",
    "    # %% [markdown]\n",
    "    # ## Create a data structure woth 60 timesteps and 1 output\n",
    "\n",
    "    # %%\n",
    "    # Look at the 60 previous timesteps to predict this timestep\n",
    "    xTrain = []\n",
    "    yTrain = []\n",
    "    for i in range(window+33,trainingDataPoints):\n",
    "        xTrain.append(scaleTrainingSet[i-window:i])\n",
    "        yTrain.append(ySCSet[i])\n",
    "\n",
    "    # %%\n",
    "    # convert xtrain and yTrain to numpy for RNN\n",
    "    xTrain, yTrain = np.array(xTrain), np.array(yTrain)\n",
    "\n",
    "    # %% [markdown]\n",
    "    # ## Reshaping the data\n",
    "    inputs = newTrain.iloc[trainingDataPoints+1:,0:numberOfFeatures].values #convert to numpy to train RNN\n",
    "    # %%\n",
    "    xTest = []\n",
    "    for i in range(window+33,len(inputs)):\n",
    "        xTest.append(inputs[i-window:i])\n",
    "    xTest = np.array(xTest)\n",
    "    xTest = np.reshape(xTest, (xTest.shape[0],xTest.shape[1],numberOfFeatures)) #batchsize, inputSize, numberOfFeatures\n",
    "    real = dataTrain[trainingDataPoints+1:]['Close']\n",
    "\n",
    "    xTrain = np.reshape(xTrain, (xTrain.shape[0],xTrain.shape[1],numberOfFeatures)) #batchsize, inputSize, numberOfFeatures\n",
    "    return xTrain,yTrain,xTest,real,ySC\n",
    "\n"
   ]
  },
  {
   "cell_type": "code",
   "execution_count": 189,
   "metadata": {},
   "outputs": [],
   "source": [
    "def evalProfit(yTest,real,ySC):\n",
    "    stocksOwned = {}\n",
    "    predictedPrice = ySC.inverse_transform(yTest)\n",
    "    realStockPrice = real[window-1:].values\n",
    "    startingValue = 500_000/505\n",
    "    liquidValue = startingValue\n",
    "\n",
    "    for i in range(len(predictedPrice)):\n",
    "        if realStockPrice[i] < predictedPrice[i] and 'GOOGL' not in stocksOwned:\n",
    "            stocksOwned['GOOGL'] = (realStockPrice[i], liquidValue/realStockPrice[i])\n",
    "            liquidValue -= liquidValue/realStockPrice[i] * realStockPrice[i]\n",
    "        elif 'GOOGL' in stocksOwned and stocksOwned['GOOGL'][0] < realStockPrice[i]:\n",
    "            liquidValue += stocksOwned['GOOGL'][1] * realStockPrice[i]\n",
    "            stocksOwned.pop('GOOGL')\n",
    "\n",
    "    profit = (liquidValue - startingValue)\n",
    "    return profit\n"
   ]
  },
  {
   "cell_type": "code",
   "execution_count": 168,
   "metadata": {},
   "outputs": [],
   "source": [
    "rsiPeriod = 14\n",
    "adxPeriod = 14\n",
    "bollingerBandWindow = 20\n",
    "numberOfFeatures = 11\n",
    "trainingDataPoints = 3500\n",
    "window = 60\n",
    "LE = LabelEncoder()\n",
    "linReg = LinearRegression()"
   ]
  },
  {
   "cell_type": "code",
   "execution_count": 169,
   "metadata": {},
   "outputs": [
    {
     "data": {
      "text/html": [
       "<div>\n",
       "<style scoped>\n",
       "    .dataframe tbody tr th:only-of-type {\n",
       "        vertical-align: middle;\n",
       "    }\n",
       "\n",
       "    .dataframe tbody tr th {\n",
       "        vertical-align: top;\n",
       "    }\n",
       "\n",
       "    .dataframe thead th {\n",
       "        text-align: right;\n",
       "    }\n",
       "</style>\n",
       "<table border=\"1\" class=\"dataframe\">\n",
       "  <thead>\n",
       "    <tr style=\"text-align: right;\">\n",
       "      <th></th>\n",
       "      <th>OPEN</th>\n",
       "      <th>High</th>\n",
       "      <th>Low</th>\n",
       "      <th>Close</th>\n",
       "      <th>Volume</th>\n",
       "    </tr>\n",
       "  </thead>\n",
       "  <tbody>\n",
       "    <tr>\n",
       "      <th>count</th>\n",
       "      <td>2929.000000</td>\n",
       "      <td>2929.000000</td>\n",
       "      <td>2929.000000</td>\n",
       "      <td>2929.000000</td>\n",
       "      <td>2.929000e+03</td>\n",
       "    </tr>\n",
       "    <tr>\n",
       "      <th>mean</th>\n",
       "      <td>132.062589</td>\n",
       "      <td>134.926862</td>\n",
       "      <td>128.976899</td>\n",
       "      <td>132.081496</td>\n",
       "      <td>3.136157e+07</td>\n",
       "    </tr>\n",
       "    <tr>\n",
       "      <th>std</th>\n",
       "      <td>241.350639</td>\n",
       "      <td>246.788346</td>\n",
       "      <td>235.328789</td>\n",
       "      <td>241.270193</td>\n",
       "      <td>2.810150e+07</td>\n",
       "    </tr>\n",
       "    <tr>\n",
       "      <th>min</th>\n",
       "      <td>3.228000</td>\n",
       "      <td>3.326000</td>\n",
       "      <td>2.996000</td>\n",
       "      <td>3.160000</td>\n",
       "      <td>5.925000e+05</td>\n",
       "    </tr>\n",
       "    <tr>\n",
       "      <th>25%</th>\n",
       "      <td>18.844000</td>\n",
       "      <td>19.524000</td>\n",
       "      <td>17.822001</td>\n",
       "      <td>18.893999</td>\n",
       "      <td>1.304250e+07</td>\n",
       "    </tr>\n",
       "    <tr>\n",
       "      <th>50%</th>\n",
       "      <td>46.358002</td>\n",
       "      <td>47.146000</td>\n",
       "      <td>45.625999</td>\n",
       "      <td>46.334000</td>\n",
       "      <td>2.502050e+07</td>\n",
       "    </tr>\n",
       "    <tr>\n",
       "      <th>75%</th>\n",
       "      <td>67.519997</td>\n",
       "      <td>68.779999</td>\n",
       "      <td>66.358002</td>\n",
       "      <td>67.403999</td>\n",
       "      <td>3.993800e+07</td>\n",
       "    </tr>\n",
       "    <tr>\n",
       "      <th>max</th>\n",
       "      <td>1234.410034</td>\n",
       "      <td>1243.489990</td>\n",
       "      <td>1217.000000</td>\n",
       "      <td>1229.910034</td>\n",
       "      <td>3.046940e+08</td>\n",
       "    </tr>\n",
       "  </tbody>\n",
       "</table>\n",
       "</div>"
      ],
      "text/plain": [
       "              OPEN         High          Low        Close        Volume\n",
       "count  2929.000000  2929.000000  2929.000000  2929.000000  2.929000e+03\n",
       "mean    132.062589   134.926862   128.976899   132.081496  3.136157e+07\n",
       "std     241.350639   246.788346   235.328789   241.270193  2.810150e+07\n",
       "min       3.228000     3.326000     2.996000     3.160000  5.925000e+05\n",
       "25%      18.844000    19.524000    17.822001    18.893999  1.304250e+07\n",
       "50%      46.358002    47.146000    45.625999    46.334000  2.502050e+07\n",
       "75%      67.519997    68.779999    66.358002    67.403999  3.993800e+07\n",
       "max    1234.410034  1243.489990  1217.000000  1229.910034  3.046940e+08"
      ]
     },
     "execution_count": 169,
     "metadata": {},
     "output_type": "execute_result"
    }
   ],
   "source": [
    "dataTrain = pd.read_csv(\"/Users/ishan/Coding/Wpi/StockMarketSimulationIQP/Datasets/30y_stock_csvs/TSLA.csv\") \n",
    "dataTrain.rename(columns = {'CLOSE':'Close'}, inplace = True)\n",
    "dataTrain.rename(columns = {'HIGH':'High'}, inplace = True)\n",
    "dataTrain.rename(columns = {'LOW':'Low'}, inplace = True)\n",
    "dataTrain.rename(columns = {'VOLUME':'Volume'}, inplace = True)\n",
    "dataTrain = dataTrain.drop(columns='Datetime')\n",
    "dataTrain.describe()"
   ]
  },
  {
   "cell_type": "code",
   "execution_count": 170,
   "metadata": {},
   "outputs": [],
   "source": [
    "#import csv\n",
    "dataTrain['CloseEdited'] = dataTrain['Close'].astype(float)\n",
    "dataTrain[\"RSI\"] = ta.RSI(dataTrain['CloseEdited'],rsiPeriod)\n",
    "dataTrain[\"ADX\"] = ta.ADX(dataTrain['High'],dataTrain['Low'],dataTrain['CloseEdited'],adxPeriod)\n",
    "fastk, fastd = ta.STOCHF(dataTrain['High'],dataTrain['Low'],dataTrain['CloseEdited'])\n",
    "dataTrain['fastd'] = fastd\n",
    "dataTrain['fastk'] = fastk\n",
    "macd, macdsignal, macdhist = ta.MACD(dataTrain['CloseEdited'])\n",
    "dataTrain['macd'] = macd\n",
    "dataTrain['macdsignal'] = macdsignal\n",
    "dataTrain['macdhist'] = macdhist\n",
    "upper,middle,lower = ta.BBANDS(dataTrain['CloseEdited'])\n",
    "dataTrain['bb_lowerband'] = lower\n",
    "dataTrain['bb_middleband'] = middle\n",
    "dataTrain['bb_upperband'] = upper\n",
    "newTrain = pd.DataFrame()\n",
    "newTrain[\"Close\"] = dataTrain['Close'].astype(float)\n",
    "newTrain[\"Close\"][1:] = newTrain[\"Close\"][0:-1]\n",
    "newTrain['Volume'] = dataTrain['Volume'].astype(float)\n",
    "newTrain['RSI'] = dataTrain['RSI'].fillna(0)\n",
    "newTrain[\"ADX\"] = dataTrain[\"ADX\"].fillna(0)\n",
    "newTrain['fastd'] = dataTrain['fastd'].fillna(0)\n",
    "newTrain['fastk'] = dataTrain['fastk'].fillna(0)\n",
    "newTrain['macd'] = dataTrain['macd'].fillna(0)\n",
    "newTrain['macdsignal'] = dataTrain['macdsignal'].fillna(0)\n",
    "newTrain['macdhist'] = dataTrain['macdhist'].fillna(0)\n",
    "newTrain['bb_lowerband'] = dataTrain['bb_lowerband'].fillna(0)\n",
    "newTrain['bb_middleband'] = dataTrain['bb_middleband'].fillna(0)\n",
    "newTrain['bb_upperband'] = dataTrain['bb_upperband'].fillna(0)\n",
    "trainingSet = newTrain.iloc[:,0:numberOfFeatures].values #convert to numpy to train RNN\n",
    "trainingSet\n",
    "trainingDataPoints = round(len(newTrain) * .4)\n"
   ]
  },
  {
   "cell_type": "code",
   "execution_count": 171,
   "metadata": {},
   "outputs": [
    {
     "data": {
      "text/plain": [
       "array([  4.77799988,   4.76599979,   4.3920002 , ..., 904.54998779,\n",
       "       860.        , 864.32952881])"
      ]
     },
     "execution_count": 171,
     "metadata": {},
     "output_type": "execute_result"
    }
   ],
   "source": [
    "ySet = dataTrain['Close'].astype(float).values\n",
    "ySet"
   ]
  },
  {
   "cell_type": "code",
   "execution_count": 172,
   "metadata": {},
   "outputs": [],
   "source": [
    "x = newTrain\n",
    "y = ySet.ravel()\n",
    "y = LE.fit_transform(y).astype(int)\n"
   ]
  },
  {
   "cell_type": "code",
   "execution_count": 161,
   "metadata": {},
   "outputs": [
    {
     "name": "stdout",
     "output_type": "stream",
     "text": [
      "(2929, 12)\n",
      "(2929,)\n"
     ]
    },
    {
     "name": "stderr",
     "output_type": "stream",
     "text": [
      "[Parallel(n_jobs=1)]: Using backend SequentialBackend with 1 concurrent workers.\n",
      "[Parallel(n_jobs=1)]: Done   1 out of   1 | elapsed:    0.2s remaining:    0.0s\n",
      "[Parallel(n_jobs=1)]: Done  12 out of  12 | elapsed:    1.6s finished\n",
      "\n",
      "[2022-03-07 22:17:50] Features: 1/12 -- score: 0.2543530215090475[Parallel(n_jobs=1)]: Using backend SequentialBackend with 1 concurrent workers.\n",
      "[Parallel(n_jobs=1)]: Done   1 out of   1 | elapsed:    0.1s remaining:    0.0s\n",
      "[Parallel(n_jobs=1)]: Done  11 out of  11 | elapsed:    1.9s finished\n",
      "\n",
      "[2022-03-07 22:17:52] Features: 2/12 -- score: 0.25230454079890746[Parallel(n_jobs=1)]: Using backend SequentialBackend with 1 concurrent workers.\n",
      "[Parallel(n_jobs=1)]: Done   1 out of   1 | elapsed:    0.1s remaining:    0.0s\n",
      "\n",
      "STOPPING EARLY DUE TO KEYBOARD INTERRUPT..."
     ]
    }
   ],
   "source": [
    "\n",
    "\n",
    "print(x.shape)\n",
    "print(y.shape)\n",
    "\n",
    "\n",
    "\n",
    "knn = KNN(n_neighbors = 4)\n",
    "\n",
    "\n",
    "\n",
    "sfs1 = SFS(knn, \n",
    "           k_features=12, \n",
    "           forward=True, \n",
    "           floating=False, \n",
    "           verbose=2,\n",
    "           scoring='accuracy',\n",
    "           cv=0)\n",
    "\n",
    "sfs1 = sfs1.fit(x, y)"
   ]
  },
  {
   "cell_type": "code",
   "execution_count": 127,
   "metadata": {},
   "outputs": [
    {
     "data": {
      "text/plain": [
       "{1: {'feature_idx': (5,),\n",
       "  'cv_scores': array([0.25435302]),\n",
       "  'avg_score': 0.2543530215090475,\n",
       "  'feature_names': ('fastk',)},\n",
       " 2: {'feature_idx': (2, 5),\n",
       "  'cv_scores': array([0.25230454]),\n",
       "  'avg_score': 0.25230454079890746,\n",
       "  'feature_names': ('RSI', 'fastk')},\n",
       " 3: {'feature_idx': (2, 4, 5),\n",
       "  'cv_scores': array([0.25230454]),\n",
       "  'avg_score': 0.25230454079890746,\n",
       "  'feature_names': ('RSI', 'fastd', 'fastk')},\n",
       " 4: {'feature_idx': (2, 3, 4, 5),\n",
       "  'cv_scores': array([0.25503585]),\n",
       "  'avg_score': 0.25503584841242743,\n",
       "  'feature_names': ('RSI', 'ADX', 'fastd', 'fastk')},\n",
       " 5: {'feature_idx': (1, 2, 3, 4, 5),\n",
       "  'cv_scores': array([0.24820758]),\n",
       "  'avg_score': 0.24820757937862753,\n",
       "  'feature_names': ('Volume', 'RSI', 'ADX', 'fastd', 'fastk')},\n",
       " 6: {'feature_idx': (0, 1, 2, 3, 4, 5),\n",
       "  'cv_scores': array([0.24820758]),\n",
       "  'avg_score': 0.24820757937862753,\n",
       "  'feature_names': ('Close', 'Volume', 'RSI', 'ADX', 'fastd', 'fastk')},\n",
       " 7: {'feature_idx': (0, 1, 2, 3, 4, 5, 6),\n",
       "  'cv_scores': array([0.24820758]),\n",
       "  'avg_score': 0.24820757937862753,\n",
       "  'feature_names': ('Close',\n",
       "   'Volume',\n",
       "   'RSI',\n",
       "   'ADX',\n",
       "   'fastd',\n",
       "   'fastk',\n",
       "   'macd')},\n",
       " 8: {'feature_idx': (0, 1, 2, 3, 4, 5, 6, 7),\n",
       "  'cv_scores': array([0.24820758]),\n",
       "  'avg_score': 0.24820757937862753,\n",
       "  'feature_names': ('Close',\n",
       "   'Volume',\n",
       "   'RSI',\n",
       "   'ADX',\n",
       "   'fastd',\n",
       "   'fastk',\n",
       "   'macd',\n",
       "   'macdsignal')},\n",
       " 9: {'feature_idx': (0, 1, 2, 3, 4, 5, 6, 7, 8),\n",
       "  'cv_scores': array([0.24820758]),\n",
       "  'avg_score': 0.24820757937862753,\n",
       "  'feature_names': ('Close',\n",
       "   'Volume',\n",
       "   'RSI',\n",
       "   'ADX',\n",
       "   'fastd',\n",
       "   'fastk',\n",
       "   'macd',\n",
       "   'macdsignal',\n",
       "   'macdhist')},\n",
       " 10: {'feature_idx': (0, 1, 2, 3, 4, 5, 6, 7, 8, 9),\n",
       "  'cv_scores': array([0.24820758]),\n",
       "  'avg_score': 0.24820757937862753,\n",
       "  'feature_names': ('Close',\n",
       "   'Volume',\n",
       "   'RSI',\n",
       "   'ADX',\n",
       "   'fastd',\n",
       "   'fastk',\n",
       "   'macd',\n",
       "   'macdsignal',\n",
       "   'macdhist',\n",
       "   'bb_lowerband')},\n",
       " 11: {'feature_idx': (0, 1, 2, 3, 4, 5, 6, 7, 8, 9, 10),\n",
       "  'cv_scores': array([0.24820758]),\n",
       "  'avg_score': 0.24820757937862753,\n",
       "  'feature_names': ('Close',\n",
       "   'Volume',\n",
       "   'RSI',\n",
       "   'ADX',\n",
       "   'fastd',\n",
       "   'fastk',\n",
       "   'macd',\n",
       "   'macdsignal',\n",
       "   'macdhist',\n",
       "   'bb_lowerband',\n",
       "   'bb_middleband')},\n",
       " 12: {'feature_idx': (0, 1, 2, 3, 4, 5, 6, 7, 8, 9, 10, 11),\n",
       "  'cv_scores': array([0.24820758]),\n",
       "  'avg_score': 0.24820757937862753,\n",
       "  'feature_names': ('Close',\n",
       "   'Volume',\n",
       "   'RSI',\n",
       "   'ADX',\n",
       "   'fastd',\n",
       "   'fastk',\n",
       "   'macd',\n",
       "   'macdsignal',\n",
       "   'macdhist',\n",
       "   'bb_lowerband',\n",
       "   'bb_middleband',\n",
       "   'bb_upperband')}}"
      ]
     },
     "execution_count": 127,
     "metadata": {},
     "output_type": "execute_result"
    }
   ],
   "source": [
    "sfs1.subsets_"
   ]
  },
  {
   "cell_type": "code",
   "execution_count": 128,
   "metadata": {},
   "outputs": [
    {
     "data": {
      "text/plain": [
       "('Close',\n",
       " 'Volume',\n",
       " 'RSI',\n",
       " 'ADX',\n",
       " 'fastd',\n",
       " 'fastk',\n",
       " 'macd',\n",
       " 'macdsignal',\n",
       " 'macdhist',\n",
       " 'bb_lowerband',\n",
       " 'bb_middleband',\n",
       " 'bb_upperband')"
      ]
     },
     "execution_count": 128,
     "metadata": {},
     "output_type": "execute_result"
    }
   ],
   "source": [
    "sfs1.k_feature_names_"
   ]
  },
  {
   "cell_type": "code",
   "execution_count": 191,
   "metadata": {},
   "outputs": [],
   "source": [
    "def best_subset(X, y, max_size=8, cv=5):\n",
    "    n_features = X.shape[1]\n",
    "    subsets = (combinations(range(n_features), k + 1) for k in range(min(n_features, max_size)))\n",
    "    \n",
    "    best_size_subset = []\n",
    "    for subsets_k in subsets:  # for each list of subsets of the same size\n",
    "        best_score = -np.inf\n",
    "        best_subset = None\n",
    "        for subset in subsets_k: # for each subset\n",
    "            xTrain,yTrain,xTest,real,ySC = getVariables(list(subset),dataTrain)\n",
    "            with HiddenPrints():\n",
    "                estimator = rnn(xTrain.shape[1],len(list(subset)))\n",
    "                estimator.fit(xTrain,yTrain,epochs=1,batch_size=32)\n",
    "            # get the subset with the best score among subsets of the same size\n",
    "            yTest = estimator.predict(xTest)\n",
    "            score = evalProfit(yTest,real,ySC)\n",
    "            if score > best_score:\n",
    "                best_score, best_subset = score, subset\n",
    "        # to compare subsets of different sizes we must use CV\n",
    "        # first store the best subset of each size\n",
    "        best_size_subset.append(best_subset)\n",
    "        \n",
    "    # compare best subsets of each size\n",
    "    best_score = -np.inf\n",
    "    best_subset = None\n",
    "    list_scores = []\n",
    "    for subset in best_size_subset:\n",
    "        score = cross_val_score(estimator, X.iloc[:, list(subset)], y, cv=cv).mean()\n",
    "        list_scores.append(score)\n",
    "        if score > best_score:\n",
    "            best_score, best_subset = score, subset\n",
    "\n",
    "    return best_subset, best_score, best_size_subset, list_scores\n"
   ]
  },
  {
   "cell_type": "code",
   "execution_count": 192,
   "metadata": {},
   "outputs": [
    {
     "name": "stdout",
     "output_type": "stream",
     "text": [
      "[0]\n",
      "34/34 [==============================] - 14s 123ms/step - loss: 0.0947 - accuracy: 0.0000e+00\n",
      "[1]\n",
      "34/34 [==============================] - 11s 123ms/step - loss: 0.0974 - accuracy: 0.0000e+00\n",
      "[2]\n",
      "34/34 [==============================] - 11s 122ms/step - loss: 0.0688 - accuracy: 0.0000e+00\n",
      "[3]\n"
     ]
    },
    {
     "name": "stderr",
     "output_type": "stream",
     "text": [
      "/Users/ishan/opt/anaconda3/lib/python3.7/site-packages/ipykernel_launcher.py:7: SettingWithCopyWarning: \n",
      "A value is trying to be set on a copy of a slice from a DataFrame.\n",
      "Try using .loc[row_indexer,col_indexer] = value instead\n",
      "\n",
      "See the caveats in the documentation: https://pandas.pydata.org/pandas-docs/stable/user_guide/indexing.html#returning-a-view-versus-a-copy\n",
      "  import sys\n"
     ]
    },
    {
     "name": "stdout",
     "output_type": "stream",
     "text": [
      "34/34 [==============================] - 11s 121ms/step - loss: 0.1121 - accuracy: 0.0000e+00\n",
      "[4]\n",
      "34/34 [==============================] - 11s 123ms/step - loss: 0.0813 - accuracy: 0.0000e+00\n",
      "[5]\n",
      "34/34 [==============================] - 11s 129ms/step - loss: 0.0805 - accuracy: 9.2678e-04\n",
      "[6]\n",
      "34/34 [==============================] - 11s 128ms/step - loss: 0.1047 - accuracy: 0.0000e+00\n",
      "[7]\n",
      "34/34 [==============================] - 12s 133ms/step - loss: 0.1015 - accuracy: 0.0000e+00\n",
      "[8]\n",
      "34/34 [==============================] - 12s 129ms/step - loss: 0.1043 - accuracy: 0.0000e+00\n",
      "[9]\n",
      "34/34 [==============================] - 13s 151ms/step - loss: 0.1078 - accuracy: 0.0000e+00\n",
      "[10]\n",
      "34/34 [==============================] - 12s 117ms/step - loss: 0.1107 - accuracy: 0.0000e+00\n",
      "[11]\n",
      "34/34 [==============================] - 10s 92ms/step - loss: 0.1118 - accuracy: 0.0000e+00\n",
      "[0, 1]\n",
      "34/34 [==============================] - 12s 134ms/step - loss: 0.0853 - accuracy: 0.0000e+00\n",
      "[0, 2]\n",
      "34/34 [==============================] - 13s 147ms/step - loss: 0.1061 - accuracy: 0.0000e+00\n",
      "[0, 3]\n"
     ]
    },
    {
     "name": "stderr",
     "output_type": "stream",
     "text": [
      "/Users/ishan/opt/anaconda3/lib/python3.7/site-packages/ipykernel_launcher.py:7: SettingWithCopyWarning: \n",
      "A value is trying to be set on a copy of a slice from a DataFrame.\n",
      "Try using .loc[row_indexer,col_indexer] = value instead\n",
      "\n",
      "See the caveats in the documentation: https://pandas.pydata.org/pandas-docs/stable/user_guide/indexing.html#returning-a-view-versus-a-copy\n",
      "  import sys\n"
     ]
    },
    {
     "name": "stdout",
     "output_type": "stream",
     "text": [
      "34/34 [==============================] - 13s 142ms/step - loss: 0.0796 - accuracy: 0.0000e+00\n",
      "[0, 4]\n",
      "34/34 [==============================] - 15s 139ms/step - loss: 0.0729 - accuracy: 0.0000e+00\n",
      "[0, 5]\n",
      "34/34 [==============================] - 13s 142ms/step - loss: 0.0930 - accuracy: 0.0000e+00\n",
      "[0, 6]\n",
      "34/34 [==============================] - 12s 130ms/step - loss: 0.1065 - accuracy: 0.0000e+00\n",
      "[0, 7]\n",
      "34/34 [==============================] - 12s 121ms/step - loss: 0.1052 - accuracy: 0.0000e+00\n",
      "[0, 8]\n",
      "34/34 [==============================] - 13s 129ms/step - loss: 0.1068 - accuracy: 0.0000e+00\n",
      "[0, 9]\n",
      "34/34 [==============================] - 11s 115ms/step - loss: 0.1041 - accuracy: 0.0000e+00\n",
      "[0, 10]\n",
      "34/34 [==============================] - 9s 79ms/step - loss: 0.1143 - accuracy: 0.0000e+00\n",
      "[0, 11]\n",
      "34/34 [==============================] - 7s 61ms/step - loss: 0.1103 - accuracy: 0.0000e+00\n",
      "[1, 2]\n",
      "34/34 [==============================] - 11s 74ms/step - loss: 0.0701 - accuracy: 0.0000e+00\n",
      "[1, 3]\n"
     ]
    },
    {
     "name": "stderr",
     "output_type": "stream",
     "text": [
      "/Users/ishan/opt/anaconda3/lib/python3.7/site-packages/ipykernel_launcher.py:7: SettingWithCopyWarning: \n",
      "A value is trying to be set on a copy of a slice from a DataFrame.\n",
      "Try using .loc[row_indexer,col_indexer] = value instead\n",
      "\n",
      "See the caveats in the documentation: https://pandas.pydata.org/pandas-docs/stable/user_guide/indexing.html#returning-a-view-versus-a-copy\n",
      "  import sys\n"
     ]
    },
    {
     "name": "stdout",
     "output_type": "stream",
     "text": [
      "34/34 [==============================] - 9s 84ms/step - loss: 0.0926 - accuracy: 0.0000e+00\n",
      "[1, 4]\n",
      "34/34 [==============================] - 8s 82ms/step - loss: 0.0785 - accuracy: 9.2678e-04\n",
      "[1, 5]\n",
      "34/34 [==============================] - 8s 80ms/step - loss: 0.0810 - accuracy: 9.2678e-04\n",
      "[1, 6]\n",
      "34/34 [==============================] - 9s 99ms/step - loss: 0.1148 - accuracy: 0.0000e+00\n",
      "[1, 7]\n",
      "34/34 [==============================] - 8s 82ms/step - loss: 0.1028 - accuracy: 0.0000e+00\n",
      "[1, 8]\n",
      "34/34 [==============================] - 9s 86ms/step - loss: 0.1103 - accuracy: 0.0000e+00\n",
      "[1, 9]\n",
      "34/34 [==============================] - 12s 132ms/step - loss: 0.1131 - accuracy: 0.0000e+00\n",
      "[1, 10]\n",
      "34/34 [==============================] - 11s 116ms/step - loss: 0.1049 - accuracy: 0.0000e+00\n",
      "[1, 11]\n",
      "34/34 [==============================] - 10s 108ms/step - loss: 0.1080 - accuracy: 0.0000e+00\n",
      "[2, 3]\n"
     ]
    },
    {
     "name": "stderr",
     "output_type": "stream",
     "text": [
      "/Users/ishan/opt/anaconda3/lib/python3.7/site-packages/ipykernel_launcher.py:7: SettingWithCopyWarning: \n",
      "A value is trying to be set on a copy of a slice from a DataFrame.\n",
      "Try using .loc[row_indexer,col_indexer] = value instead\n",
      "\n",
      "See the caveats in the documentation: https://pandas.pydata.org/pandas-docs/stable/user_guide/indexing.html#returning-a-view-versus-a-copy\n",
      "  import sys\n"
     ]
    },
    {
     "name": "stdout",
     "output_type": "stream",
     "text": [
      "34/34 [==============================] - 12s 139ms/step - loss: 0.0850 - accuracy: 0.0000e+00\n",
      "[2, 4]\n",
      "34/34 [==============================] - 9s 85ms/step - loss: 0.0699 - accuracy: 0.0000e+00\n",
      "[2, 5]\n",
      "34/34 [==============================] - 11s 115ms/step - loss: 0.0631 - accuracy: 0.0000e+00\n",
      "[2, 6]\n",
      "34/34 [==============================] - 10s 77ms/step - loss: 0.1115 - accuracy: 0.0000e+00\n",
      "[2, 7]\n",
      "34/34 [==============================] - 10s 94ms/step - loss: 0.1045 - accuracy: 0.0000e+00\n",
      "[2, 8]\n",
      "34/34 [==============================] - 12s 120ms/step - loss: 0.1038 - accuracy: 0.0000e+00\n",
      "[2, 9]\n",
      "34/34 [==============================] - 10s 115ms/step - loss: 0.1024 - accuracy: 0.0000e+00\n",
      "[2, 10]\n",
      "34/34 [==============================] - 10s 128ms/step - loss: 0.1012 - accuracy: 0.0000e+00\n",
      "[2, 11]\n",
      "34/34 [==============================] - 10s 102ms/step - loss: 0.1040 - accuracy: 0.0000e+00\n",
      "[3, 4]\n"
     ]
    },
    {
     "name": "stderr",
     "output_type": "stream",
     "text": [
      "/Users/ishan/opt/anaconda3/lib/python3.7/site-packages/ipykernel_launcher.py:7: SettingWithCopyWarning: \n",
      "A value is trying to be set on a copy of a slice from a DataFrame.\n",
      "Try using .loc[row_indexer,col_indexer] = value instead\n",
      "\n",
      "See the caveats in the documentation: https://pandas.pydata.org/pandas-docs/stable/user_guide/indexing.html#returning-a-view-versus-a-copy\n",
      "  import sys\n"
     ]
    },
    {
     "name": "stdout",
     "output_type": "stream",
     "text": [
      "34/34 [==============================] - 10s 112ms/step - loss: 0.0681 - accuracy: 0.0000e+00\n",
      "[3, 5]\n"
     ]
    },
    {
     "name": "stderr",
     "output_type": "stream",
     "text": [
      "/Users/ishan/opt/anaconda3/lib/python3.7/site-packages/ipykernel_launcher.py:7: SettingWithCopyWarning: \n",
      "A value is trying to be set on a copy of a slice from a DataFrame.\n",
      "Try using .loc[row_indexer,col_indexer] = value instead\n",
      "\n",
      "See the caveats in the documentation: https://pandas.pydata.org/pandas-docs/stable/user_guide/indexing.html#returning-a-view-versus-a-copy\n",
      "  import sys\n"
     ]
    },
    {
     "name": "stdout",
     "output_type": "stream",
     "text": [
      "34/34 [==============================] - 10s 95ms/step - loss: 0.0859 - accuracy: 9.2678e-04\n",
      "[3, 6]\n"
     ]
    },
    {
     "name": "stderr",
     "output_type": "stream",
     "text": [
      "/Users/ishan/opt/anaconda3/lib/python3.7/site-packages/ipykernel_launcher.py:7: SettingWithCopyWarning: \n",
      "A value is trying to be set on a copy of a slice from a DataFrame.\n",
      "Try using .loc[row_indexer,col_indexer] = value instead\n",
      "\n",
      "See the caveats in the documentation: https://pandas.pydata.org/pandas-docs/stable/user_guide/indexing.html#returning-a-view-versus-a-copy\n",
      "  import sys\n"
     ]
    },
    {
     "name": "stdout",
     "output_type": "stream",
     "text": [
      "34/34 [==============================] - 9s 93ms/step - loss: 0.1113 - accuracy: 0.0000e+00\n",
      "[3, 7]\n"
     ]
    },
    {
     "name": "stderr",
     "output_type": "stream",
     "text": [
      "/Users/ishan/opt/anaconda3/lib/python3.7/site-packages/ipykernel_launcher.py:7: SettingWithCopyWarning: \n",
      "A value is trying to be set on a copy of a slice from a DataFrame.\n",
      "Try using .loc[row_indexer,col_indexer] = value instead\n",
      "\n",
      "See the caveats in the documentation: https://pandas.pydata.org/pandas-docs/stable/user_guide/indexing.html#returning-a-view-versus-a-copy\n",
      "  import sys\n"
     ]
    },
    {
     "name": "stdout",
     "output_type": "stream",
     "text": [
      "34/34 [==============================] - 8s 84ms/step - loss: 0.1025 - accuracy: 0.0000e+00\n",
      "[3, 8]\n"
     ]
    },
    {
     "name": "stderr",
     "output_type": "stream",
     "text": [
      "/Users/ishan/opt/anaconda3/lib/python3.7/site-packages/ipykernel_launcher.py:7: SettingWithCopyWarning: \n",
      "A value is trying to be set on a copy of a slice from a DataFrame.\n",
      "Try using .loc[row_indexer,col_indexer] = value instead\n",
      "\n",
      "See the caveats in the documentation: https://pandas.pydata.org/pandas-docs/stable/user_guide/indexing.html#returning-a-view-versus-a-copy\n",
      "  import sys\n"
     ]
    },
    {
     "name": "stdout",
     "output_type": "stream",
     "text": [
      "34/34 [==============================] - 7s 73ms/step - loss: 0.1023 - accuracy: 0.0000e+00\n",
      "[3, 9]\n"
     ]
    },
    {
     "name": "stderr",
     "output_type": "stream",
     "text": [
      "/Users/ishan/opt/anaconda3/lib/python3.7/site-packages/ipykernel_launcher.py:7: SettingWithCopyWarning: \n",
      "A value is trying to be set on a copy of a slice from a DataFrame.\n",
      "Try using .loc[row_indexer,col_indexer] = value instead\n",
      "\n",
      "See the caveats in the documentation: https://pandas.pydata.org/pandas-docs/stable/user_guide/indexing.html#returning-a-view-versus-a-copy\n",
      "  import sys\n"
     ]
    },
    {
     "name": "stdout",
     "output_type": "stream",
     "text": [
      "34/34 [==============================] - 8s 76ms/step - loss: 0.1043 - accuracy: 0.0000e+00\n",
      "[3, 10]\n"
     ]
    },
    {
     "name": "stderr",
     "output_type": "stream",
     "text": [
      "/Users/ishan/opt/anaconda3/lib/python3.7/site-packages/ipykernel_launcher.py:7: SettingWithCopyWarning: \n",
      "A value is trying to be set on a copy of a slice from a DataFrame.\n",
      "Try using .loc[row_indexer,col_indexer] = value instead\n",
      "\n",
      "See the caveats in the documentation: https://pandas.pydata.org/pandas-docs/stable/user_guide/indexing.html#returning-a-view-versus-a-copy\n",
      "  import sys\n"
     ]
    },
    {
     "name": "stdout",
     "output_type": "stream",
     "text": [
      "34/34 [==============================] - 7s 71ms/step - loss: 0.1173 - accuracy: 0.0000e+00\n",
      "[3, 11]\n"
     ]
    },
    {
     "name": "stderr",
     "output_type": "stream",
     "text": [
      "/Users/ishan/opt/anaconda3/lib/python3.7/site-packages/ipykernel_launcher.py:7: SettingWithCopyWarning: \n",
      "A value is trying to be set on a copy of a slice from a DataFrame.\n",
      "Try using .loc[row_indexer,col_indexer] = value instead\n",
      "\n",
      "See the caveats in the documentation: https://pandas.pydata.org/pandas-docs/stable/user_guide/indexing.html#returning-a-view-versus-a-copy\n",
      "  import sys\n"
     ]
    },
    {
     "name": "stdout",
     "output_type": "stream",
     "text": [
      "34/34 [==============================] - 7s 73ms/step - loss: 0.1088 - accuracy: 0.0000e+00\n",
      "[4, 5]\n",
      "34/34 [==============================] - 8s 79ms/step - loss: 0.0636 - accuracy: 0.0000e+00\n",
      "[4, 6]\n",
      "34/34 [==============================] - 7s 71ms/step - loss: 0.0829 - accuracy: 9.2678e-04\n",
      "[4, 7]\n",
      "34/34 [==============================] - 7s 72ms/step - loss: 0.0866 - accuracy: 0.0000e+00\n",
      "[4, 8]\n",
      "34/34 [==============================] - 8s 72ms/step - loss: 0.0934 - accuracy: 0.0000e+00\n",
      "[4, 9]\n",
      "34/34 [==============================] - 7s 75ms/step - loss: 0.0947 - accuracy: 0.0000e+00\n",
      "[4, 10]\n",
      "34/34 [==============================] - 7s 71ms/step - loss: 0.0889 - accuracy: 0.0000e+00\n",
      "[4, 11]\n",
      "34/34 [==============================] - 7s 72ms/step - loss: 0.0826 - accuracy: 0.0000e+00\n",
      "[5, 6]\n",
      "34/34 [==============================] - 7s 77ms/step - loss: 0.1033 - accuracy: 0.0000e+00\n",
      "[5, 7]\n",
      "34/34 [==============================] - 7s 72ms/step - loss: 0.1021 - accuracy: 0.0000e+00\n",
      "[5, 8]\n",
      "34/34 [==============================] - 8s 75ms/step - loss: 0.1014 - accuracy: 0.0000e+00\n",
      "[5, 9]\n",
      "34/34 [==============================] - 7s 71ms/step - loss: 0.1122 - accuracy: 0.0000e+00\n",
      "[5, 10]\n",
      "34/34 [==============================] - 7s 70ms/step - loss: 0.1054 - accuracy: 0.0000e+00\n",
      "[5, 11]\n",
      "34/34 [==============================] - 7s 71ms/step - loss: 0.1114 - accuracy: 0.0000e+00\n",
      "[6, 7]\n",
      "34/34 [==============================] - 7s 71ms/step - loss: 0.1033 - accuracy: 0.0000e+00\n",
      "[6, 8]\n",
      "34/34 [==============================] - 8s 77ms/step - loss: 0.1050 - accuracy: 0.0000e+00\n",
      "[6, 9]\n",
      "34/34 [==============================] - 7s 71ms/step - loss: 0.1051 - accuracy: 0.0000e+00\n",
      "[6, 10]\n",
      "34/34 [==============================] - 7s 72ms/step - loss: 0.1062 - accuracy: 0.0000e+00\n",
      "[6, 11]\n",
      "34/34 [==============================] - 7s 72ms/step - loss: 0.1094 - accuracy: 0.0000e+00\n",
      "[7, 8]\n",
      "34/34 [==============================] - 7s 71ms/step - loss: 0.1080 - accuracy: 0.0000e+00\n",
      "[7, 9]\n",
      "34/34 [==============================] - 7s 71ms/step - loss: 0.1036 - accuracy: 0.0000e+00\n",
      "[7, 10]\n",
      "34/34 [==============================] - 7s 77ms/step - loss: 0.1031 - accuracy: 0.0000e+00\n",
      "[7, 11]\n",
      "34/34 [==============================] - 8s 74ms/step - loss: 0.1037 - accuracy: 0.0000e+00\n",
      "[8, 9]\n",
      "34/34 [==============================] - 7s 71ms/step - loss: 0.1083 - accuracy: 0.0000e+00\n",
      "[8, 10]\n",
      "34/34 [==============================] - 7s 71ms/step - loss: 0.1037 - accuracy: 0.0000e+00\n",
      "[8, 11]\n",
      "34/34 [==============================] - 7s 72ms/step - loss: 0.1095 - accuracy: 0.0000e+00\n",
      "[9, 10]\n",
      "34/34 [==============================] - 7s 75ms/step - loss: 0.1103 - accuracy: 9.2678e-04\n",
      "[9, 11]\n",
      "34/34 [==============================] - 7s 73ms/step - loss: 0.1065 - accuracy: 0.0000e+00\n",
      "[10, 11]\n",
      "34/34 [==============================] - 8s 80ms/step - loss: 0.1131 - accuracy: 0.0000e+00\n",
      "[0, 1, 2]\n",
      "34/34 [==============================] - 8s 78ms/step - loss: 0.0693 - accuracy: 9.2678e-04\n",
      "[0, 1, 3]\n"
     ]
    },
    {
     "name": "stderr",
     "output_type": "stream",
     "text": [
      "/Users/ishan/opt/anaconda3/lib/python3.7/site-packages/ipykernel_launcher.py:7: SettingWithCopyWarning: \n",
      "A value is trying to be set on a copy of a slice from a DataFrame.\n",
      "Try using .loc[row_indexer,col_indexer] = value instead\n",
      "\n",
      "See the caveats in the documentation: https://pandas.pydata.org/pandas-docs/stable/user_guide/indexing.html#returning-a-view-versus-a-copy\n",
      "  import sys\n"
     ]
    },
    {
     "name": "stdout",
     "output_type": "stream",
     "text": [
      "34/34 [==============================] - 8s 76ms/step - loss: 0.0796 - accuracy: 9.2678e-04\n",
      "[0, 1, 4]\n",
      "34/34 [==============================] - 7s 71ms/step - loss: 0.0740 - accuracy: 0.0000e+00\n",
      "[0, 1, 5]\n",
      "34/34 [==============================] - 7s 75ms/step - loss: 0.0728 - accuracy: 0.0000e+00\n",
      "[0, 1, 6]\n",
      "34/34 [==============================] - 7s 71ms/step - loss: 0.1024 - accuracy: 0.0000e+00\n",
      "[0, 1, 7]\n",
      "34/34 [==============================] - 8s 77ms/step - loss: 0.1057 - accuracy: 0.0000e+00\n",
      "[0, 1, 8]\n",
      "34/34 [==============================] - 7s 71ms/step - loss: 0.0990 - accuracy: 0.0000e+00\n",
      "[0, 1, 9]\n",
      "34/34 [==============================] - 7s 68ms/step - loss: 0.1047 - accuracy: 0.0000e+00\n",
      "[0, 1, 10]\n",
      "34/34 [==============================] - 7s 79ms/step - loss: 0.1087 - accuracy: 0.0000e+00\n",
      "[0, 1, 11]\n",
      "34/34 [==============================] - 9s 92ms/step - loss: 0.1003 - accuracy: 0.0000e+00\n",
      "[0, 2, 3]\n"
     ]
    },
    {
     "name": "stderr",
     "output_type": "stream",
     "text": [
      "/Users/ishan/opt/anaconda3/lib/python3.7/site-packages/ipykernel_launcher.py:7: SettingWithCopyWarning: \n",
      "A value is trying to be set on a copy of a slice from a DataFrame.\n",
      "Try using .loc[row_indexer,col_indexer] = value instead\n",
      "\n",
      "See the caveats in the documentation: https://pandas.pydata.org/pandas-docs/stable/user_guide/indexing.html#returning-a-view-versus-a-copy\n",
      "  import sys\n"
     ]
    },
    {
     "name": "stdout",
     "output_type": "stream",
     "text": [
      "34/34 [==============================] - 8s 90ms/step - loss: 0.0585 - accuracy: 0.0000e+00\n",
      "[0, 2, 4]\n",
      "34/34 [==============================] - 10s 102ms/step - loss: 0.0701 - accuracy: 0.0000e+00\n",
      "[0, 2, 5]\n",
      "34/34 [==============================] - 9s 83ms/step - loss: 0.0666 - accuracy: 9.2678e-04\n",
      "[0, 2, 6]\n",
      "34/34 [==============================] - 9s 85ms/step - loss: 0.1047 - accuracy: 0.0000e+00\n",
      "[0, 2, 7]\n",
      "34/34 [==============================] - 8s 82ms/step - loss: 0.1020 - accuracy: 0.0000e+00\n",
      "[0, 2, 8]\n",
      "34/34 [==============================] - 7s 68ms/step - loss: 0.1004 - accuracy: 0.0000e+00\n",
      "[0, 2, 9]\n",
      "34/34 [==============================] - 8s 71ms/step - loss: 0.1001 - accuracy: 0.0000e+00\n",
      "[0, 2, 10]\n",
      "34/34 [==============================] - 10s 82ms/step - loss: 0.1045 - accuracy: 0.0000e+00\n",
      "[0, 2, 11]\n",
      "34/34 [==============================] - 9s 84ms/step - loss: 0.1076 - accuracy: 0.0000e+00\n",
      "[0, 3, 4]\n"
     ]
    },
    {
     "name": "stderr",
     "output_type": "stream",
     "text": [
      "/Users/ishan/opt/anaconda3/lib/python3.7/site-packages/ipykernel_launcher.py:7: SettingWithCopyWarning: \n",
      "A value is trying to be set on a copy of a slice from a DataFrame.\n",
      "Try using .loc[row_indexer,col_indexer] = value instead\n",
      "\n",
      "See the caveats in the documentation: https://pandas.pydata.org/pandas-docs/stable/user_guide/indexing.html#returning-a-view-versus-a-copy\n",
      "  import sys\n"
     ]
    },
    {
     "name": "stdout",
     "output_type": "stream",
     "text": [
      "34/34 [==============================] - 8s 79ms/step - loss: 0.0680 - accuracy: 0.0000e+00\n",
      "[0, 3, 5]\n"
     ]
    },
    {
     "name": "stderr",
     "output_type": "stream",
     "text": [
      "/Users/ishan/opt/anaconda3/lib/python3.7/site-packages/ipykernel_launcher.py:7: SettingWithCopyWarning: \n",
      "A value is trying to be set on a copy of a slice from a DataFrame.\n",
      "Try using .loc[row_indexer,col_indexer] = value instead\n",
      "\n",
      "See the caveats in the documentation: https://pandas.pydata.org/pandas-docs/stable/user_guide/indexing.html#returning-a-view-versus-a-copy\n",
      "  import sys\n"
     ]
    },
    {
     "name": "stdout",
     "output_type": "stream",
     "text": [
      "34/34 [==============================] - 8s 77ms/step - loss: 0.0924 - accuracy: 9.2678e-04\n",
      "[0, 3, 6]\n"
     ]
    },
    {
     "name": "stderr",
     "output_type": "stream",
     "text": [
      "/Users/ishan/opt/anaconda3/lib/python3.7/site-packages/ipykernel_launcher.py:7: SettingWithCopyWarning: \n",
      "A value is trying to be set on a copy of a slice from a DataFrame.\n",
      "Try using .loc[row_indexer,col_indexer] = value instead\n",
      "\n",
      "See the caveats in the documentation: https://pandas.pydata.org/pandas-docs/stable/user_guide/indexing.html#returning-a-view-versus-a-copy\n",
      "  import sys\n"
     ]
    },
    {
     "name": "stdout",
     "output_type": "stream",
     "text": [
      "34/34 [==============================] - 7s 76ms/step - loss: 0.1042 - accuracy: 0.0000e+00\n",
      "[0, 3, 7]\n"
     ]
    },
    {
     "name": "stderr",
     "output_type": "stream",
     "text": [
      "/Users/ishan/opt/anaconda3/lib/python3.7/site-packages/ipykernel_launcher.py:7: SettingWithCopyWarning: \n",
      "A value is trying to be set on a copy of a slice from a DataFrame.\n",
      "Try using .loc[row_indexer,col_indexer] = value instead\n",
      "\n",
      "See the caveats in the documentation: https://pandas.pydata.org/pandas-docs/stable/user_guide/indexing.html#returning-a-view-versus-a-copy\n",
      "  import sys\n"
     ]
    },
    {
     "name": "stdout",
     "output_type": "stream",
     "text": [
      "34/34 [==============================] - 8s 84ms/step - loss: 0.1008 - accuracy: 0.0000e+00\n",
      "[0, 3, 8]\n"
     ]
    },
    {
     "name": "stderr",
     "output_type": "stream",
     "text": [
      "/Users/ishan/opt/anaconda3/lib/python3.7/site-packages/ipykernel_launcher.py:7: SettingWithCopyWarning: \n",
      "A value is trying to be set on a copy of a slice from a DataFrame.\n",
      "Try using .loc[row_indexer,col_indexer] = value instead\n",
      "\n",
      "See the caveats in the documentation: https://pandas.pydata.org/pandas-docs/stable/user_guide/indexing.html#returning-a-view-versus-a-copy\n",
      "  import sys\n"
     ]
    },
    {
     "name": "stdout",
     "output_type": "stream",
     "text": [
      "34/34 [==============================] - 10s 105ms/step - loss: 0.0990 - accuracy: 0.0000e+00\n",
      "[0, 3, 9]\n"
     ]
    },
    {
     "name": "stderr",
     "output_type": "stream",
     "text": [
      "/Users/ishan/opt/anaconda3/lib/python3.7/site-packages/ipykernel_launcher.py:7: SettingWithCopyWarning: \n",
      "A value is trying to be set on a copy of a slice from a DataFrame.\n",
      "Try using .loc[row_indexer,col_indexer] = value instead\n",
      "\n",
      "See the caveats in the documentation: https://pandas.pydata.org/pandas-docs/stable/user_guide/indexing.html#returning-a-view-versus-a-copy\n",
      "  import sys\n"
     ]
    },
    {
     "name": "stdout",
     "output_type": "stream",
     "text": [
      "34/34 [==============================] - 9s 80ms/step - loss: 0.1064 - accuracy: 0.0000e+00\n",
      "[0, 3, 10]\n"
     ]
    },
    {
     "name": "stderr",
     "output_type": "stream",
     "text": [
      "/Users/ishan/opt/anaconda3/lib/python3.7/site-packages/ipykernel_launcher.py:7: SettingWithCopyWarning: \n",
      "A value is trying to be set on a copy of a slice from a DataFrame.\n",
      "Try using .loc[row_indexer,col_indexer] = value instead\n",
      "\n",
      "See the caveats in the documentation: https://pandas.pydata.org/pandas-docs/stable/user_guide/indexing.html#returning-a-view-versus-a-copy\n",
      "  import sys\n"
     ]
    },
    {
     "name": "stdout",
     "output_type": "stream",
     "text": [
      "34/34 [==============================] - 8s 73ms/step - loss: 0.1068 - accuracy: 0.0000e+00\n",
      "[0, 3, 11]\n"
     ]
    },
    {
     "name": "stderr",
     "output_type": "stream",
     "text": [
      "/Users/ishan/opt/anaconda3/lib/python3.7/site-packages/ipykernel_launcher.py:7: SettingWithCopyWarning: \n",
      "A value is trying to be set on a copy of a slice from a DataFrame.\n",
      "Try using .loc[row_indexer,col_indexer] = value instead\n",
      "\n",
      "See the caveats in the documentation: https://pandas.pydata.org/pandas-docs/stable/user_guide/indexing.html#returning-a-view-versus-a-copy\n",
      "  import sys\n"
     ]
    },
    {
     "name": "stdout",
     "output_type": "stream",
     "text": [
      "34/34 [==============================] - 9s 83ms/step - loss: 0.1064 - accuracy: 0.0000e+00\n",
      "[0, 4, 5]\n",
      "34/34 [==============================] - 7s 77ms/step - loss: 0.0679 - accuracy: 0.0000e+00\n",
      "[0, 4, 6]\n",
      "34/34 [==============================] - 8s 80ms/step - loss: 0.0736 - accuracy: 0.0000e+00\n",
      "[0, 4, 7]\n",
      "34/34 [==============================] - 9s 83ms/step - loss: 0.0852 - accuracy: 0.0000e+00\n",
      "[0, 4, 8]\n",
      "34/34 [==============================] - 8s 83ms/step - loss: 0.0929 - accuracy: 0.0000e+00\n",
      "[0, 4, 9]\n",
      "34/34 [==============================] - 8s 77ms/step - loss: 0.0986 - accuracy: 0.0000e+00\n",
      "[0, 4, 10]\n",
      "34/34 [==============================] - 8s 75ms/step - loss: 0.0807 - accuracy: 0.0000e+00\n",
      "[0, 4, 11]\n",
      "34/34 [==============================] - 7s 76ms/step - loss: 0.0786 - accuracy: 0.0000e+00\n",
      "[0, 5, 6]\n",
      "34/34 [==============================] - 8s 80ms/step - loss: 0.1071 - accuracy: 0.0000e+00\n",
      "[0, 5, 7]\n",
      "34/34 [==============================] - 8s 77ms/step - loss: 0.0990 - accuracy: 0.0000e+00\n",
      "[0, 5, 8]\n",
      "34/34 [==============================] - 8s 73ms/step - loss: 0.1071 - accuracy: 0.0000e+00\n",
      "[0, 5, 9]\n",
      "34/34 [==============================] - 8s 75ms/step - loss: 0.0992 - accuracy: 0.0000e+00\n",
      "[0, 5, 10]\n",
      "34/34 [==============================] - 7s 74ms/step - loss: 0.1053 - accuracy: 0.0000e+00\n",
      "[0, 5, 11]\n",
      "34/34 [==============================] - 7s 85ms/step - loss: 0.1052 - accuracy: 0.0000e+00\n",
      "[0, 6, 7]\n",
      "34/34 [==============================] - 8s 80ms/step - loss: 0.1042 - accuracy: 0.0000e+00\n",
      "[0, 6, 8]\n",
      "34/34 [==============================] - 8s 87ms/step - loss: 0.1034 - accuracy: 0.0000e+00\n",
      "[0, 6, 9]\n",
      "34/34 [==============================] - 8s 81ms/step - loss: 0.1092 - accuracy: 0.0000e+00\n",
      "[0, 6, 10]\n",
      "34/34 [==============================] - 9s 103ms/step - loss: 0.1059 - accuracy: 0.0000e+00\n",
      "[0, 6, 11]\n",
      "34/34 [==============================] - 9s 87ms/step - loss: 0.1034 - accuracy: 0.0000e+00\n",
      "[0, 7, 8]\n",
      "34/34 [==============================] - 9s 104ms/step - loss: 0.1028 - accuracy: 0.0000e+00\n",
      "[0, 7, 9]\n",
      "34/34 [==============================] - 10s 108ms/step - loss: 0.1042 - accuracy: 0.0000e+00\n",
      "[0, 7, 10]\n",
      "34/34 [==============================] - 9s 93ms/step - loss: 0.1097 - accuracy: 0.0000e+00\n",
      "[0, 7, 11]\n",
      "34/34 [==============================] - 9s 95ms/step - loss: 0.1037 - accuracy: 0.0000e+00\n",
      "[0, 8, 9]\n",
      "34/34 [==============================] - 9s 92ms/step - loss: 0.1066 - accuracy: 0.0000e+00\n",
      "[0, 8, 10]\n",
      "34/34 [==============================] - 8s 88ms/step - loss: 0.1113 - accuracy: 0.0000e+00\n",
      "[0, 8, 11]\n",
      "34/34 [==============================] - 8s 90ms/step - loss: 0.1044 - accuracy: 0.0000e+00\n",
      "[0, 9, 10]\n",
      "34/34 [==============================] - 8s 95ms/step - loss: 0.1018 - accuracy: 0.0000e+00\n",
      "[0, 9, 11]\n",
      "34/34 [==============================] - 9s 93ms/step - loss: 0.1086 - accuracy: 0.0000e+00\n",
      "[0, 10, 11]\n",
      "34/34 [==============================] - 9s 92ms/step - loss: 0.1017 - accuracy: 0.0000e+00\n",
      "[1, 2, 3]\n"
     ]
    },
    {
     "name": "stderr",
     "output_type": "stream",
     "text": [
      "/Users/ishan/opt/anaconda3/lib/python3.7/site-packages/ipykernel_launcher.py:7: SettingWithCopyWarning: \n",
      "A value is trying to be set on a copy of a slice from a DataFrame.\n",
      "Try using .loc[row_indexer,col_indexer] = value instead\n",
      "\n",
      "See the caveats in the documentation: https://pandas.pydata.org/pandas-docs/stable/user_guide/indexing.html#returning-a-view-versus-a-copy\n",
      "  import sys\n"
     ]
    },
    {
     "name": "stdout",
     "output_type": "stream",
     "text": [
      "34/34 [==============================] - 9s 87ms/step - loss: 0.0648 - accuracy: 9.2678e-04\n",
      "[1, 2, 4]\n",
      "34/34 [==============================] - 9s 91ms/step - loss: 0.0626 - accuracy: 9.2678e-04\n",
      "[1, 2, 5]\n",
      "34/34 [==============================] - 8s 91ms/step - loss: 0.0839 - accuracy: 0.0000e+00\n",
      "[1, 2, 6]\n",
      "34/34 [==============================] - 8s 87ms/step - loss: 0.1004 - accuracy: 0.0000e+00\n",
      "[1, 2, 7]\n",
      "34/34 [==============================] - 11s 104ms/step - loss: 0.1068 - accuracy: 9.2678e-04\n",
      "[1, 2, 8]\n",
      "34/34 [==============================] - 9s 99ms/step - loss: 0.1107 - accuracy: 0.0000e+00\n",
      "[1, 2, 9]\n",
      "34/34 [==============================] - 10s 115ms/step - loss: 0.1053 - accuracy: 0.0000e+00\n",
      "[1, 2, 10]\n",
      "34/34 [==============================] - 9s 95ms/step - loss: 0.1106 - accuracy: 0.0000e+00\n",
      "[1, 2, 11]\n",
      "34/34 [==============================] - 9s 94ms/step - loss: 0.1129 - accuracy: 0.0000e+00\n",
      "[1, 3, 4]\n"
     ]
    },
    {
     "name": "stderr",
     "output_type": "stream",
     "text": [
      "/Users/ishan/opt/anaconda3/lib/python3.7/site-packages/ipykernel_launcher.py:7: SettingWithCopyWarning: \n",
      "A value is trying to be set on a copy of a slice from a DataFrame.\n",
      "Try using .loc[row_indexer,col_indexer] = value instead\n",
      "\n",
      "See the caveats in the documentation: https://pandas.pydata.org/pandas-docs/stable/user_guide/indexing.html#returning-a-view-versus-a-copy\n",
      "  import sys\n"
     ]
    },
    {
     "name": "stdout",
     "output_type": "stream",
     "text": [
      "34/34 [==============================] - 9s 90ms/step - loss: 0.0807 - accuracy: 0.0000e+00\n",
      "[1, 3, 5]\n"
     ]
    },
    {
     "name": "stderr",
     "output_type": "stream",
     "text": [
      "/Users/ishan/opt/anaconda3/lib/python3.7/site-packages/ipykernel_launcher.py:7: SettingWithCopyWarning: \n",
      "A value is trying to be set on a copy of a slice from a DataFrame.\n",
      "Try using .loc[row_indexer,col_indexer] = value instead\n",
      "\n",
      "See the caveats in the documentation: https://pandas.pydata.org/pandas-docs/stable/user_guide/indexing.html#returning-a-view-versus-a-copy\n",
      "  import sys\n"
     ]
    },
    {
     "name": "stdout",
     "output_type": "stream",
     "text": [
      "34/34 [==============================] - 9s 88ms/step - loss: 0.0644 - accuracy: 9.2678e-04\n",
      "[1, 3, 6]\n"
     ]
    },
    {
     "name": "stderr",
     "output_type": "stream",
     "text": [
      "/Users/ishan/opt/anaconda3/lib/python3.7/site-packages/ipykernel_launcher.py:7: SettingWithCopyWarning: \n",
      "A value is trying to be set on a copy of a slice from a DataFrame.\n",
      "Try using .loc[row_indexer,col_indexer] = value instead\n",
      "\n",
      "See the caveats in the documentation: https://pandas.pydata.org/pandas-docs/stable/user_guide/indexing.html#returning-a-view-versus-a-copy\n",
      "  import sys\n"
     ]
    },
    {
     "name": "stdout",
     "output_type": "stream",
     "text": [
      "34/34 [==============================] - 9s 88ms/step - loss: 0.1062 - accuracy: 0.0000e+00\n",
      "[1, 3, 7]\n"
     ]
    },
    {
     "name": "stderr",
     "output_type": "stream",
     "text": [
      "/Users/ishan/opt/anaconda3/lib/python3.7/site-packages/ipykernel_launcher.py:7: SettingWithCopyWarning: \n",
      "A value is trying to be set on a copy of a slice from a DataFrame.\n",
      "Try using .loc[row_indexer,col_indexer] = value instead\n",
      "\n",
      "See the caveats in the documentation: https://pandas.pydata.org/pandas-docs/stable/user_guide/indexing.html#returning-a-view-versus-a-copy\n",
      "  import sys\n"
     ]
    },
    {
     "name": "stdout",
     "output_type": "stream",
     "text": [
      "34/34 [==============================] - 9s 91ms/step - loss: 0.0970 - accuracy: 0.0000e+00\n",
      "[1, 3, 8]\n"
     ]
    },
    {
     "name": "stderr",
     "output_type": "stream",
     "text": [
      "/Users/ishan/opt/anaconda3/lib/python3.7/site-packages/ipykernel_launcher.py:7: SettingWithCopyWarning: \n",
      "A value is trying to be set on a copy of a slice from a DataFrame.\n",
      "Try using .loc[row_indexer,col_indexer] = value instead\n",
      "\n",
      "See the caveats in the documentation: https://pandas.pydata.org/pandas-docs/stable/user_guide/indexing.html#returning-a-view-versus-a-copy\n",
      "  import sys\n"
     ]
    },
    {
     "name": "stdout",
     "output_type": "stream",
     "text": [
      "34/34 [==============================] - 8s 84ms/step - loss: 0.1085 - accuracy: 0.0000e+00\n",
      "[1, 3, 9]\n"
     ]
    },
    {
     "name": "stderr",
     "output_type": "stream",
     "text": [
      "/Users/ishan/opt/anaconda3/lib/python3.7/site-packages/ipykernel_launcher.py:7: SettingWithCopyWarning: \n",
      "A value is trying to be set on a copy of a slice from a DataFrame.\n",
      "Try using .loc[row_indexer,col_indexer] = value instead\n",
      "\n",
      "See the caveats in the documentation: https://pandas.pydata.org/pandas-docs/stable/user_guide/indexing.html#returning-a-view-versus-a-copy\n",
      "  import sys\n"
     ]
    },
    {
     "name": "stdout",
     "output_type": "stream",
     "text": [
      "34/34 [==============================] - 8s 88ms/step - loss: 0.1135 - accuracy: 0.0000e+00\n",
      "[1, 3, 10]\n"
     ]
    },
    {
     "name": "stderr",
     "output_type": "stream",
     "text": [
      "/Users/ishan/opt/anaconda3/lib/python3.7/site-packages/ipykernel_launcher.py:7: SettingWithCopyWarning: \n",
      "A value is trying to be set on a copy of a slice from a DataFrame.\n",
      "Try using .loc[row_indexer,col_indexer] = value instead\n",
      "\n",
      "See the caveats in the documentation: https://pandas.pydata.org/pandas-docs/stable/user_guide/indexing.html#returning-a-view-versus-a-copy\n",
      "  import sys\n"
     ]
    },
    {
     "name": "stdout",
     "output_type": "stream",
     "text": [
      "34/34 [==============================] - 8s 91ms/step - loss: 0.1037 - accuracy: 0.0000e+00\n",
      "[1, 3, 11]\n"
     ]
    },
    {
     "name": "stderr",
     "output_type": "stream",
     "text": [
      "/Users/ishan/opt/anaconda3/lib/python3.7/site-packages/ipykernel_launcher.py:7: SettingWithCopyWarning: \n",
      "A value is trying to be set on a copy of a slice from a DataFrame.\n",
      "Try using .loc[row_indexer,col_indexer] = value instead\n",
      "\n",
      "See the caveats in the documentation: https://pandas.pydata.org/pandas-docs/stable/user_guide/indexing.html#returning-a-view-versus-a-copy\n",
      "  import sys\n"
     ]
    },
    {
     "name": "stdout",
     "output_type": "stream",
     "text": [
      "34/34 [==============================] - 10s 102ms/step - loss: 0.1014 - accuracy: 0.0000e+00\n",
      "[1, 4, 5]\n",
      "34/34 [==============================] - 9s 103ms/step - loss: 0.0564 - accuracy: 0.0000e+00\n",
      "[1, 4, 6]\n",
      "34/34 [==============================] - 8s 65ms/step - loss: 0.1013 - accuracy: 0.0000e+00\n",
      "[1, 4, 7]\n",
      "34/34 [==============================] - 9s 112ms/step - loss: 0.0851 - accuracy: 0.0000e+00\n",
      "[1, 4, 8]\n",
      "34/34 [==============================] - 9s 96ms/step - loss: 0.1043 - accuracy: 0.0000e+00\n",
      "[1, 4, 9]\n",
      "34/34 [==============================] - 11s 110ms/step - loss: 0.0865 - accuracy: 0.0000e+00\n",
      "[1, 4, 10]\n",
      "34/34 [==============================] - 9s 91ms/step - loss: 0.0768 - accuracy: 0.0000e+00\n",
      "[1, 4, 11]\n",
      "34/34 [==============================] - 9s 91ms/step - loss: 0.0754 - accuracy: 0.0000e+00\n",
      "[1, 5, 6]\n",
      "34/34 [==============================] - 8s 84ms/step - loss: 0.1050 - accuracy: 0.0000e+00\n",
      "[1, 5, 7]\n",
      "34/34 [==============================] - 8s 88ms/step - loss: 0.0984 - accuracy: 0.0000e+00\n",
      "[1, 5, 8]\n",
      "34/34 [==============================] - 9s 100ms/step - loss: 0.1073 - accuracy: 0.0000e+00\n",
      "[1, 5, 9]\n",
      "34/34 [==============================] - 9s 106ms/step - loss: 0.1065 - accuracy: 0.0000e+00\n",
      "[1, 5, 10]\n",
      "34/34 [==============================] - 10s 110ms/step - loss: 0.1023 - accuracy: 0.0000e+00\n",
      "[1, 5, 11]\n",
      "34/34 [==============================] - 10s 112ms/step - loss: 0.0794 - accuracy: 0.0000e+00\n",
      "[1, 6, 7]\n",
      "34/34 [==============================] - 10s 105ms/step - loss: 0.0999 - accuracy: 0.0000e+00\n",
      "[1, 6, 8]\n",
      "34/34 [==============================] - 9s 102ms/step - loss: 0.1106 - accuracy: 0.0000e+00\n",
      "[1, 6, 9]\n",
      "34/34 [==============================] - 9s 106ms/step - loss: 0.1040 - accuracy: 0.0000e+00\n",
      "[1, 6, 10]\n",
      "34/34 [==============================] - 12s 118ms/step - loss: 0.1089 - accuracy: 0.0000e+00\n",
      "[1, 6, 11]\n",
      "34/34 [==============================] - 11s 123ms/step - loss: 0.1074 - accuracy: 0.0000e+00\n",
      "[1, 7, 8]\n",
      "34/34 [==============================] - 10s 113ms/step - loss: 0.1085 - accuracy: 0.0000e+00\n",
      "[1, 7, 9]\n",
      "34/34 [==============================] - 9s 94ms/step - loss: 0.1075 - accuracy: 0.0000e+00\n",
      "[1, 7, 10]\n",
      "34/34 [==============================] - 9s 90ms/step - loss: 0.1041 - accuracy: 0.0000e+00\n",
      "[1, 7, 11]\n",
      "34/34 [==============================] - 9s 94ms/step - loss: 0.1005 - accuracy: 0.0000e+00\n",
      "[1, 8, 9]\n",
      "34/34 [==============================] - 9s 107ms/step - loss: 0.1032 - accuracy: 0.0000e+00\n",
      "[1, 8, 10]\n",
      "34/34 [==============================] - 10s 108ms/step - loss: 0.1133 - accuracy: 0.0000e+00\n",
      "[1, 8, 11]\n",
      "34/34 [==============================] - 10s 108ms/step - loss: 0.1062 - accuracy: 0.0000e+00\n",
      "[1, 9, 10]\n",
      "34/34 [==============================] - 10s 111ms/step - loss: 0.1069 - accuracy: 0.0000e+00\n",
      "[1, 9, 11]\n",
      "34/34 [==============================] - 10s 112ms/step - loss: 0.1086 - accuracy: 0.0000e+00\n",
      "[1, 10, 11]\n",
      "34/34 [==============================] - 9s 97ms/step - loss: 0.1070 - accuracy: 0.0000e+00\n",
      "[2, 3, 4]\n"
     ]
    },
    {
     "name": "stderr",
     "output_type": "stream",
     "text": [
      "/Users/ishan/opt/anaconda3/lib/python3.7/site-packages/ipykernel_launcher.py:7: SettingWithCopyWarning: \n",
      "A value is trying to be set on a copy of a slice from a DataFrame.\n",
      "Try using .loc[row_indexer,col_indexer] = value instead\n",
      "\n",
      "See the caveats in the documentation: https://pandas.pydata.org/pandas-docs/stable/user_guide/indexing.html#returning-a-view-versus-a-copy\n",
      "  import sys\n"
     ]
    },
    {
     "name": "stdout",
     "output_type": "stream",
     "text": [
      "34/34 [==============================] - 8s 83ms/step - loss: 0.0654 - accuracy: 0.0000e+00\n",
      "[2, 3, 5]\n"
     ]
    },
    {
     "name": "stderr",
     "output_type": "stream",
     "text": [
      "/Users/ishan/opt/anaconda3/lib/python3.7/site-packages/ipykernel_launcher.py:7: SettingWithCopyWarning: \n",
      "A value is trying to be set on a copy of a slice from a DataFrame.\n",
      "Try using .loc[row_indexer,col_indexer] = value instead\n",
      "\n",
      "See the caveats in the documentation: https://pandas.pydata.org/pandas-docs/stable/user_guide/indexing.html#returning-a-view-versus-a-copy\n",
      "  import sys\n"
     ]
    },
    {
     "name": "stdout",
     "output_type": "stream",
     "text": [
      "34/34 [==============================] - 9s 85ms/step - loss: 0.0547 - accuracy: 0.0000e+00\n",
      "[2, 3, 6]\n"
     ]
    },
    {
     "name": "stderr",
     "output_type": "stream",
     "text": [
      "/Users/ishan/opt/anaconda3/lib/python3.7/site-packages/ipykernel_launcher.py:7: SettingWithCopyWarning: \n",
      "A value is trying to be set on a copy of a slice from a DataFrame.\n",
      "Try using .loc[row_indexer,col_indexer] = value instead\n",
      "\n",
      "See the caveats in the documentation: https://pandas.pydata.org/pandas-docs/stable/user_guide/indexing.html#returning-a-view-versus-a-copy\n",
      "  import sys\n"
     ]
    },
    {
     "name": "stdout",
     "output_type": "stream",
     "text": [
      "34/34 [==============================] - 9s 88ms/step - loss: 0.1067 - accuracy: 0.0000e+00\n",
      "[2, 3, 7]\n"
     ]
    },
    {
     "name": "stderr",
     "output_type": "stream",
     "text": [
      "/Users/ishan/opt/anaconda3/lib/python3.7/site-packages/ipykernel_launcher.py:7: SettingWithCopyWarning: \n",
      "A value is trying to be set on a copy of a slice from a DataFrame.\n",
      "Try using .loc[row_indexer,col_indexer] = value instead\n",
      "\n",
      "See the caveats in the documentation: https://pandas.pydata.org/pandas-docs/stable/user_guide/indexing.html#returning-a-view-versus-a-copy\n",
      "  import sys\n"
     ]
    },
    {
     "name": "stdout",
     "output_type": "stream",
     "text": [
      "34/34 [==============================] - 8s 86ms/step - loss: 0.0972 - accuracy: 0.0000e+00\n",
      "[2, 3, 8]\n"
     ]
    },
    {
     "name": "stderr",
     "output_type": "stream",
     "text": [
      "/Users/ishan/opt/anaconda3/lib/python3.7/site-packages/ipykernel_launcher.py:7: SettingWithCopyWarning: \n",
      "A value is trying to be set on a copy of a slice from a DataFrame.\n",
      "Try using .loc[row_indexer,col_indexer] = value instead\n",
      "\n",
      "See the caveats in the documentation: https://pandas.pydata.org/pandas-docs/stable/user_guide/indexing.html#returning-a-view-versus-a-copy\n",
      "  import sys\n"
     ]
    },
    {
     "name": "stdout",
     "output_type": "stream",
     "text": [
      "34/34 [==============================] - 8s 85ms/step - loss: 0.1060 - accuracy: 0.0000e+00\n",
      "[2, 3, 9]\n"
     ]
    },
    {
     "name": "stderr",
     "output_type": "stream",
     "text": [
      "/Users/ishan/opt/anaconda3/lib/python3.7/site-packages/ipykernel_launcher.py:7: SettingWithCopyWarning: \n",
      "A value is trying to be set on a copy of a slice from a DataFrame.\n",
      "Try using .loc[row_indexer,col_indexer] = value instead\n",
      "\n",
      "See the caveats in the documentation: https://pandas.pydata.org/pandas-docs/stable/user_guide/indexing.html#returning-a-view-versus-a-copy\n",
      "  import sys\n"
     ]
    },
    {
     "name": "stdout",
     "output_type": "stream",
     "text": [
      "34/34 [==============================] - 8s 83ms/step - loss: 0.0968 - accuracy: 0.0000e+00\n",
      "[2, 3, 10]\n"
     ]
    },
    {
     "name": "stderr",
     "output_type": "stream",
     "text": [
      "/Users/ishan/opt/anaconda3/lib/python3.7/site-packages/ipykernel_launcher.py:7: SettingWithCopyWarning: \n",
      "A value is trying to be set on a copy of a slice from a DataFrame.\n",
      "Try using .loc[row_indexer,col_indexer] = value instead\n",
      "\n",
      "See the caveats in the documentation: https://pandas.pydata.org/pandas-docs/stable/user_guide/indexing.html#returning-a-view-versus-a-copy\n",
      "  import sys\n"
     ]
    },
    {
     "name": "stdout",
     "output_type": "stream",
     "text": [
      "34/34 [==============================] - 8s 87ms/step - loss: 0.1014 - accuracy: 9.2678e-04\n",
      "[2, 3, 11]\n"
     ]
    },
    {
     "name": "stderr",
     "output_type": "stream",
     "text": [
      "/Users/ishan/opt/anaconda3/lib/python3.7/site-packages/ipykernel_launcher.py:7: SettingWithCopyWarning: \n",
      "A value is trying to be set on a copy of a slice from a DataFrame.\n",
      "Try using .loc[row_indexer,col_indexer] = value instead\n",
      "\n",
      "See the caveats in the documentation: https://pandas.pydata.org/pandas-docs/stable/user_guide/indexing.html#returning-a-view-versus-a-copy\n",
      "  import sys\n"
     ]
    },
    {
     "name": "stdout",
     "output_type": "stream",
     "text": [
      "34/34 [==============================] - 10s 104ms/step - loss: 0.0980 - accuracy: 0.0000e+00\n",
      "[2, 4, 5]\n",
      "34/34 [==============================] - 10s 104ms/step - loss: 0.0672 - accuracy: 0.0000e+00\n",
      "[2, 4, 6]\n",
      "34/34 [==============================] - 10s 111ms/step - loss: 0.1068 - accuracy: 0.0000e+00\n",
      "[2, 4, 7]\n",
      "34/34 [==============================] - 9s 112ms/step - loss: 0.0818 - accuracy: 0.0000e+00\n",
      "[2, 4, 8]\n",
      "34/34 [==============================] - 7s 67ms/step - loss: 0.0902 - accuracy: 0.0000e+00\n",
      "[2, 4, 9]\n",
      "34/34 [==============================] - 10s 93ms/step - loss: 0.0919 - accuracy: 0.0000e+00\n",
      "[2, 4, 10]\n",
      "34/34 [==============================] - 11s 110ms/step - loss: 0.0835 - accuracy: 0.0000e+00\n",
      "[2, 4, 11]\n",
      "34/34 [==============================] - 10s 109ms/step - loss: 0.0796 - accuracy: 0.0000e+00\n",
      "[2, 5, 6]\n",
      "34/34 [==============================] - 10s 109ms/step - loss: 0.1051 - accuracy: 0.0000e+00\n",
      "[2, 5, 7]\n",
      "34/34 [==============================] - 9s 105ms/step - loss: 0.0964 - accuracy: 0.0000e+00\n",
      "[2, 5, 8]\n",
      "34/34 [==============================] - 9s 100ms/step - loss: 0.1003 - accuracy: 0.0000e+00\n",
      "[2, 5, 9]\n",
      "34/34 [==============================] - 9s 106ms/step - loss: 0.1036 - accuracy: 0.0000e+00\n",
      "[2, 5, 10]\n",
      "34/34 [==============================] - 10s 109ms/step - loss: 0.1036 - accuracy: 0.0000e+00\n",
      "[2, 5, 11]\n",
      "34/34 [==============================] - 10s 115ms/step - loss: 0.1047 - accuracy: 0.0000e+00\n",
      "[2, 6, 7]\n",
      "34/34 [==============================] - 11s 124ms/step - loss: 0.1068 - accuracy: 0.0000e+00\n",
      "[2, 6, 8]\n",
      "34/34 [==============================] - 12s 117ms/step - loss: 0.1078 - accuracy: 0.0000e+00\n",
      "[2, 6, 9]\n",
      "34/34 [==============================] - 9s 85ms/step - loss: 0.1019 - accuracy: 0.0000e+00\n",
      "[2, 6, 10]\n",
      "34/34 [==============================] - 9s 102ms/step - loss: 0.1098 - accuracy: 9.2678e-04\n",
      "[2, 6, 11]\n",
      "34/34 [==============================] - 9s 96ms/step - loss: 0.1080 - accuracy: 0.0000e+00\n",
      "[2, 7, 8]\n",
      "34/34 [==============================] - 11s 126ms/step - loss: 0.1019 - accuracy: 0.0000e+00\n",
      "[2, 7, 9]\n",
      "34/34 [==============================] - 10s 112ms/step - loss: 0.1080 - accuracy: 0.0000e+00\n",
      "[2, 7, 10]\n",
      "34/34 [==============================] - 10s 112ms/step - loss: 0.1037 - accuracy: 0.0000e+00\n",
      "[2, 7, 11]\n",
      "34/34 [==============================] - 10s 119ms/step - loss: 0.1028 - accuracy: 0.0000e+00\n",
      "[2, 8, 9]\n",
      "34/34 [==============================] - 10s 117ms/step - loss: 0.1059 - accuracy: 0.0000e+00\n",
      "[2, 8, 10]\n",
      "34/34 [==============================] - 10s 114ms/step - loss: 0.1030 - accuracy: 0.0000e+00\n",
      "[2, 8, 11]\n",
      "34/34 [==============================] - 12s 120ms/step - loss: 0.1044 - accuracy: 0.0000e+00\n",
      "[2, 9, 10]\n",
      "34/34 [==============================] - 10s 113ms/step - loss: 0.1087 - accuracy: 0.0000e+00\n",
      "[2, 9, 11]\n",
      "34/34 [==============================] - 9s 97ms/step - loss: 0.1109 - accuracy: 0.0000e+00\n",
      "[2, 10, 11]\n",
      "34/34 [==============================] - 9s 112ms/step - loss: 0.1074 - accuracy: 0.0000e+00\n",
      "[3, 4, 5]\n"
     ]
    },
    {
     "name": "stderr",
     "output_type": "stream",
     "text": [
      "/Users/ishan/opt/anaconda3/lib/python3.7/site-packages/ipykernel_launcher.py:7: SettingWithCopyWarning: \n",
      "A value is trying to be set on a copy of a slice from a DataFrame.\n",
      "Try using .loc[row_indexer,col_indexer] = value instead\n",
      "\n",
      "See the caveats in the documentation: https://pandas.pydata.org/pandas-docs/stable/user_guide/indexing.html#returning-a-view-versus-a-copy\n",
      "  import sys\n"
     ]
    },
    {
     "name": "stdout",
     "output_type": "stream",
     "text": [
      "34/34 [==============================] - 10s 104ms/step - loss: 0.0809 - accuracy: 0.0000e+00\n",
      "[3, 4, 6]\n"
     ]
    },
    {
     "name": "stderr",
     "output_type": "stream",
     "text": [
      "/Users/ishan/opt/anaconda3/lib/python3.7/site-packages/ipykernel_launcher.py:7: SettingWithCopyWarning: \n",
      "A value is trying to be set on a copy of a slice from a DataFrame.\n",
      "Try using .loc[row_indexer,col_indexer] = value instead\n",
      "\n",
      "See the caveats in the documentation: https://pandas.pydata.org/pandas-docs/stable/user_guide/indexing.html#returning-a-view-versus-a-copy\n",
      "  import sys\n"
     ]
    },
    {
     "name": "stdout",
     "output_type": "stream",
     "text": [
      "34/34 [==============================] - 12s 116ms/step - loss: 0.0915 - accuracy: 9.2678e-04\n",
      "[3, 4, 7]\n"
     ]
    },
    {
     "name": "stderr",
     "output_type": "stream",
     "text": [
      "/Users/ishan/opt/anaconda3/lib/python3.7/site-packages/ipykernel_launcher.py:7: SettingWithCopyWarning: \n",
      "A value is trying to be set on a copy of a slice from a DataFrame.\n",
      "Try using .loc[row_indexer,col_indexer] = value instead\n",
      "\n",
      "See the caveats in the documentation: https://pandas.pydata.org/pandas-docs/stable/user_guide/indexing.html#returning-a-view-versus-a-copy\n",
      "  import sys\n"
     ]
    },
    {
     "name": "stdout",
     "output_type": "stream",
     "text": [
      "34/34 [==============================] - 11s 126ms/step - loss: 0.0757 - accuracy: 0.0000e+00\n",
      "[3, 4, 8]\n"
     ]
    },
    {
     "name": "stderr",
     "output_type": "stream",
     "text": [
      "/Users/ishan/opt/anaconda3/lib/python3.7/site-packages/ipykernel_launcher.py:7: SettingWithCopyWarning: \n",
      "A value is trying to be set on a copy of a slice from a DataFrame.\n",
      "Try using .loc[row_indexer,col_indexer] = value instead\n",
      "\n",
      "See the caveats in the documentation: https://pandas.pydata.org/pandas-docs/stable/user_guide/indexing.html#returning-a-view-versus-a-copy\n",
      "  import sys\n"
     ]
    },
    {
     "name": "stdout",
     "output_type": "stream",
     "text": [
      "34/34 [==============================] - 11s 120ms/step - loss: 0.1026 - accuracy: 0.0000e+00\n",
      "[3, 4, 9]\n"
     ]
    },
    {
     "name": "stderr",
     "output_type": "stream",
     "text": [
      "/Users/ishan/opt/anaconda3/lib/python3.7/site-packages/ipykernel_launcher.py:7: SettingWithCopyWarning: \n",
      "A value is trying to be set on a copy of a slice from a DataFrame.\n",
      "Try using .loc[row_indexer,col_indexer] = value instead\n",
      "\n",
      "See the caveats in the documentation: https://pandas.pydata.org/pandas-docs/stable/user_guide/indexing.html#returning-a-view-versus-a-copy\n",
      "  import sys\n"
     ]
    },
    {
     "name": "stdout",
     "output_type": "stream",
     "text": [
      "34/34 [==============================] - 10s 117ms/step - loss: 0.0746 - accuracy: 0.0000e+00\n",
      "[3, 4, 10]\n"
     ]
    },
    {
     "name": "stderr",
     "output_type": "stream",
     "text": [
      "/Users/ishan/opt/anaconda3/lib/python3.7/site-packages/ipykernel_launcher.py:7: SettingWithCopyWarning: \n",
      "A value is trying to be set on a copy of a slice from a DataFrame.\n",
      "Try using .loc[row_indexer,col_indexer] = value instead\n",
      "\n",
      "See the caveats in the documentation: https://pandas.pydata.org/pandas-docs/stable/user_guide/indexing.html#returning-a-view-versus-a-copy\n",
      "  import sys\n"
     ]
    },
    {
     "name": "stdout",
     "output_type": "stream",
     "text": [
      "34/34 [==============================] - 9s 102ms/step - loss: 0.0904 - accuracy: 0.0000e+00\n",
      "[3, 4, 11]\n"
     ]
    },
    {
     "name": "stderr",
     "output_type": "stream",
     "text": [
      "/Users/ishan/opt/anaconda3/lib/python3.7/site-packages/ipykernel_launcher.py:7: SettingWithCopyWarning: \n",
      "A value is trying to be set on a copy of a slice from a DataFrame.\n",
      "Try using .loc[row_indexer,col_indexer] = value instead\n",
      "\n",
      "See the caveats in the documentation: https://pandas.pydata.org/pandas-docs/stable/user_guide/indexing.html#returning-a-view-versus-a-copy\n",
      "  import sys\n"
     ]
    },
    {
     "name": "stdout",
     "output_type": "stream",
     "text": [
      "34/34 [==============================] - 9s 108ms/step - loss: 0.0755 - accuracy: 0.0000e+00\n",
      "[3, 5, 6]\n"
     ]
    },
    {
     "name": "stderr",
     "output_type": "stream",
     "text": [
      "/Users/ishan/opt/anaconda3/lib/python3.7/site-packages/ipykernel_launcher.py:7: SettingWithCopyWarning: \n",
      "A value is trying to be set on a copy of a slice from a DataFrame.\n",
      "Try using .loc[row_indexer,col_indexer] = value instead\n",
      "\n",
      "See the caveats in the documentation: https://pandas.pydata.org/pandas-docs/stable/user_guide/indexing.html#returning-a-view-versus-a-copy\n",
      "  import sys\n"
     ]
    },
    {
     "name": "stdout",
     "output_type": "stream",
     "text": [
      "34/34 [==============================] - 10s 104ms/step - loss: 0.1140 - accuracy: 9.2678e-04\n",
      "[3, 5, 7]\n"
     ]
    },
    {
     "name": "stderr",
     "output_type": "stream",
     "text": [
      "/Users/ishan/opt/anaconda3/lib/python3.7/site-packages/ipykernel_launcher.py:7: SettingWithCopyWarning: \n",
      "A value is trying to be set on a copy of a slice from a DataFrame.\n",
      "Try using .loc[row_indexer,col_indexer] = value instead\n",
      "\n",
      "See the caveats in the documentation: https://pandas.pydata.org/pandas-docs/stable/user_guide/indexing.html#returning-a-view-versus-a-copy\n",
      "  import sys\n"
     ]
    },
    {
     "name": "stdout",
     "output_type": "stream",
     "text": [
      "34/34 [==============================] - 9s 91ms/step - loss: 0.1051 - accuracy: 0.0000e+00\n",
      "[3, 5, 8]\n"
     ]
    },
    {
     "name": "stderr",
     "output_type": "stream",
     "text": [
      "/Users/ishan/opt/anaconda3/lib/python3.7/site-packages/ipykernel_launcher.py:7: SettingWithCopyWarning: \n",
      "A value is trying to be set on a copy of a slice from a DataFrame.\n",
      "Try using .loc[row_indexer,col_indexer] = value instead\n",
      "\n",
      "See the caveats in the documentation: https://pandas.pydata.org/pandas-docs/stable/user_guide/indexing.html#returning-a-view-versus-a-copy\n",
      "  import sys\n"
     ]
    },
    {
     "name": "stdout",
     "output_type": "stream",
     "text": [
      "34/34 [==============================] - 9s 91ms/step - loss: 0.1038 - accuracy: 0.0000e+00\n",
      "[3, 5, 9]\n"
     ]
    },
    {
     "name": "stderr",
     "output_type": "stream",
     "text": [
      "/Users/ishan/opt/anaconda3/lib/python3.7/site-packages/ipykernel_launcher.py:7: SettingWithCopyWarning: \n",
      "A value is trying to be set on a copy of a slice from a DataFrame.\n",
      "Try using .loc[row_indexer,col_indexer] = value instead\n",
      "\n",
      "See the caveats in the documentation: https://pandas.pydata.org/pandas-docs/stable/user_guide/indexing.html#returning-a-view-versus-a-copy\n",
      "  import sys\n"
     ]
    },
    {
     "name": "stdout",
     "output_type": "stream",
     "text": [
      "34/34 [==============================] - 10s 106ms/step - loss: 0.1040 - accuracy: 0.0000e+00\n",
      "[3, 5, 10]\n"
     ]
    },
    {
     "name": "stderr",
     "output_type": "stream",
     "text": [
      "/Users/ishan/opt/anaconda3/lib/python3.7/site-packages/ipykernel_launcher.py:7: SettingWithCopyWarning: \n",
      "A value is trying to be set on a copy of a slice from a DataFrame.\n",
      "Try using .loc[row_indexer,col_indexer] = value instead\n",
      "\n",
      "See the caveats in the documentation: https://pandas.pydata.org/pandas-docs/stable/user_guide/indexing.html#returning-a-view-versus-a-copy\n",
      "  import sys\n"
     ]
    },
    {
     "name": "stdout",
     "output_type": "stream",
     "text": [
      "34/34 [==============================] - 10s 123ms/step - loss: 0.0998 - accuracy: 0.0000e+00\n",
      "[3, 5, 11]\n"
     ]
    },
    {
     "name": "stderr",
     "output_type": "stream",
     "text": [
      "/Users/ishan/opt/anaconda3/lib/python3.7/site-packages/ipykernel_launcher.py:7: SettingWithCopyWarning: \n",
      "A value is trying to be set on a copy of a slice from a DataFrame.\n",
      "Try using .loc[row_indexer,col_indexer] = value instead\n",
      "\n",
      "See the caveats in the documentation: https://pandas.pydata.org/pandas-docs/stable/user_guide/indexing.html#returning-a-view-versus-a-copy\n",
      "  import sys\n"
     ]
    },
    {
     "name": "stdout",
     "output_type": "stream",
     "text": [
      "34/34 [==============================] - 11s 121ms/step - loss: 0.1100 - accuracy: 9.2678e-04\n",
      "[3, 6, 7]\n"
     ]
    },
    {
     "name": "stderr",
     "output_type": "stream",
     "text": [
      "/Users/ishan/opt/anaconda3/lib/python3.7/site-packages/ipykernel_launcher.py:7: SettingWithCopyWarning: \n",
      "A value is trying to be set on a copy of a slice from a DataFrame.\n",
      "Try using .loc[row_indexer,col_indexer] = value instead\n",
      "\n",
      "See the caveats in the documentation: https://pandas.pydata.org/pandas-docs/stable/user_guide/indexing.html#returning-a-view-versus-a-copy\n",
      "  import sys\n"
     ]
    },
    {
     "name": "stdout",
     "output_type": "stream",
     "text": [
      "34/34 [==============================] - 12s 122ms/step - loss: 0.1075 - accuracy: 0.0000e+00\n",
      "[3, 6, 8]\n"
     ]
    },
    {
     "name": "stderr",
     "output_type": "stream",
     "text": [
      "/Users/ishan/opt/anaconda3/lib/python3.7/site-packages/ipykernel_launcher.py:7: SettingWithCopyWarning: \n",
      "A value is trying to be set on a copy of a slice from a DataFrame.\n",
      "Try using .loc[row_indexer,col_indexer] = value instead\n",
      "\n",
      "See the caveats in the documentation: https://pandas.pydata.org/pandas-docs/stable/user_guide/indexing.html#returning-a-view-versus-a-copy\n",
      "  import sys\n"
     ]
    },
    {
     "name": "stdout",
     "output_type": "stream",
     "text": [
      "34/34 [==============================] - 10s 118ms/step - loss: 0.1089 - accuracy: 0.0000e+00\n",
      "[3, 6, 9]\n"
     ]
    },
    {
     "name": "stderr",
     "output_type": "stream",
     "text": [
      "/Users/ishan/opt/anaconda3/lib/python3.7/site-packages/ipykernel_launcher.py:7: SettingWithCopyWarning: \n",
      "A value is trying to be set on a copy of a slice from a DataFrame.\n",
      "Try using .loc[row_indexer,col_indexer] = value instead\n",
      "\n",
      "See the caveats in the documentation: https://pandas.pydata.org/pandas-docs/stable/user_guide/indexing.html#returning-a-view-versus-a-copy\n",
      "  import sys\n"
     ]
    },
    {
     "name": "stdout",
     "output_type": "stream",
     "text": [
      "34/34 [==============================] - 9s 91ms/step - loss: 0.1047 - accuracy: 0.0000e+00\n",
      "[3, 6, 10]\n"
     ]
    },
    {
     "name": "stderr",
     "output_type": "stream",
     "text": [
      "/Users/ishan/opt/anaconda3/lib/python3.7/site-packages/ipykernel_launcher.py:7: SettingWithCopyWarning: \n",
      "A value is trying to be set on a copy of a slice from a DataFrame.\n",
      "Try using .loc[row_indexer,col_indexer] = value instead\n",
      "\n",
      "See the caveats in the documentation: https://pandas.pydata.org/pandas-docs/stable/user_guide/indexing.html#returning-a-view-versus-a-copy\n",
      "  import sys\n"
     ]
    },
    {
     "name": "stdout",
     "output_type": "stream",
     "text": [
      "34/34 [==============================] - 8s 86ms/step - loss: 0.1102 - accuracy: 0.0000e+00\n",
      "[3, 6, 11]\n"
     ]
    },
    {
     "name": "stderr",
     "output_type": "stream",
     "text": [
      "/Users/ishan/opt/anaconda3/lib/python3.7/site-packages/ipykernel_launcher.py:7: SettingWithCopyWarning: \n",
      "A value is trying to be set on a copy of a slice from a DataFrame.\n",
      "Try using .loc[row_indexer,col_indexer] = value instead\n",
      "\n",
      "See the caveats in the documentation: https://pandas.pydata.org/pandas-docs/stable/user_guide/indexing.html#returning-a-view-versus-a-copy\n",
      "  import sys\n"
     ]
    },
    {
     "name": "stdout",
     "output_type": "stream",
     "text": [
      "34/34 [==============================] - 8s 82ms/step - loss: 0.1088 - accuracy: 0.0000e+00\n",
      "[3, 7, 8]\n"
     ]
    },
    {
     "name": "stderr",
     "output_type": "stream",
     "text": [
      "/Users/ishan/opt/anaconda3/lib/python3.7/site-packages/ipykernel_launcher.py:7: SettingWithCopyWarning: \n",
      "A value is trying to be set on a copy of a slice from a DataFrame.\n",
      "Try using .loc[row_indexer,col_indexer] = value instead\n",
      "\n",
      "See the caveats in the documentation: https://pandas.pydata.org/pandas-docs/stable/user_guide/indexing.html#returning-a-view-versus-a-copy\n",
      "  import sys\n"
     ]
    },
    {
     "name": "stdout",
     "output_type": "stream",
     "text": [
      "34/34 [==============================] - 8s 85ms/step - loss: 0.1068 - accuracy: 0.0000e+00\n",
      "[3, 7, 9]\n"
     ]
    },
    {
     "name": "stderr",
     "output_type": "stream",
     "text": [
      "/Users/ishan/opt/anaconda3/lib/python3.7/site-packages/ipykernel_launcher.py:7: SettingWithCopyWarning: \n",
      "A value is trying to be set on a copy of a slice from a DataFrame.\n",
      "Try using .loc[row_indexer,col_indexer] = value instead\n",
      "\n",
      "See the caveats in the documentation: https://pandas.pydata.org/pandas-docs/stable/user_guide/indexing.html#returning-a-view-versus-a-copy\n",
      "  import sys\n"
     ]
    },
    {
     "name": "stdout",
     "output_type": "stream",
     "text": [
      "34/34 [==============================] - 10s 98ms/step - loss: 0.1091 - accuracy: 0.0000e+00\n",
      "[3, 7, 10]\n"
     ]
    },
    {
     "name": "stderr",
     "output_type": "stream",
     "text": [
      "/Users/ishan/opt/anaconda3/lib/python3.7/site-packages/ipykernel_launcher.py:7: SettingWithCopyWarning: \n",
      "A value is trying to be set on a copy of a slice from a DataFrame.\n",
      "Try using .loc[row_indexer,col_indexer] = value instead\n",
      "\n",
      "See the caveats in the documentation: https://pandas.pydata.org/pandas-docs/stable/user_guide/indexing.html#returning-a-view-versus-a-copy\n",
      "  import sys\n"
     ]
    },
    {
     "name": "stdout",
     "output_type": "stream",
     "text": [
      "34/34 [==============================] - 10s 106ms/step - loss: 0.0974 - accuracy: 0.0000e+00\n",
      "[3, 7, 11]\n"
     ]
    },
    {
     "name": "stderr",
     "output_type": "stream",
     "text": [
      "/Users/ishan/opt/anaconda3/lib/python3.7/site-packages/ipykernel_launcher.py:7: SettingWithCopyWarning: \n",
      "A value is trying to be set on a copy of a slice from a DataFrame.\n",
      "Try using .loc[row_indexer,col_indexer] = value instead\n",
      "\n",
      "See the caveats in the documentation: https://pandas.pydata.org/pandas-docs/stable/user_guide/indexing.html#returning-a-view-versus-a-copy\n",
      "  import sys\n"
     ]
    },
    {
     "name": "stdout",
     "output_type": "stream",
     "text": [
      "34/34 [==============================] - 10s 107ms/step - loss: 0.1025 - accuracy: 0.0000e+00\n",
      "[3, 8, 9]\n"
     ]
    },
    {
     "name": "stderr",
     "output_type": "stream",
     "text": [
      "/Users/ishan/opt/anaconda3/lib/python3.7/site-packages/ipykernel_launcher.py:7: SettingWithCopyWarning: \n",
      "A value is trying to be set on a copy of a slice from a DataFrame.\n",
      "Try using .loc[row_indexer,col_indexer] = value instead\n",
      "\n",
      "See the caveats in the documentation: https://pandas.pydata.org/pandas-docs/stable/user_guide/indexing.html#returning-a-view-versus-a-copy\n",
      "  import sys\n"
     ]
    },
    {
     "name": "stdout",
     "output_type": "stream",
     "text": [
      "34/34 [==============================] - 10s 117ms/step - loss: 0.1056 - accuracy: 0.0000e+00\n",
      "[3, 8, 10]\n"
     ]
    },
    {
     "name": "stderr",
     "output_type": "stream",
     "text": [
      "/Users/ishan/opt/anaconda3/lib/python3.7/site-packages/ipykernel_launcher.py:7: SettingWithCopyWarning: \n",
      "A value is trying to be set on a copy of a slice from a DataFrame.\n",
      "Try using .loc[row_indexer,col_indexer] = value instead\n",
      "\n",
      "See the caveats in the documentation: https://pandas.pydata.org/pandas-docs/stable/user_guide/indexing.html#returning-a-view-versus-a-copy\n",
      "  import sys\n"
     ]
    },
    {
     "name": "stdout",
     "output_type": "stream",
     "text": [
      "34/34 [==============================] - 9s 99ms/step - loss: 0.1046 - accuracy: 0.0000e+00\n",
      "[3, 8, 11]\n"
     ]
    },
    {
     "name": "stderr",
     "output_type": "stream",
     "text": [
      "/Users/ishan/opt/anaconda3/lib/python3.7/site-packages/ipykernel_launcher.py:7: SettingWithCopyWarning: \n",
      "A value is trying to be set on a copy of a slice from a DataFrame.\n",
      "Try using .loc[row_indexer,col_indexer] = value instead\n",
      "\n",
      "See the caveats in the documentation: https://pandas.pydata.org/pandas-docs/stable/user_guide/indexing.html#returning-a-view-versus-a-copy\n",
      "  import sys\n"
     ]
    },
    {
     "name": "stdout",
     "output_type": "stream",
     "text": [
      "34/34 [==============================] - 9s 94ms/step - loss: 0.1068 - accuracy: 0.0000e+00\n",
      "[3, 9, 10]\n"
     ]
    },
    {
     "name": "stderr",
     "output_type": "stream",
     "text": [
      "/Users/ishan/opt/anaconda3/lib/python3.7/site-packages/ipykernel_launcher.py:7: SettingWithCopyWarning: \n",
      "A value is trying to be set on a copy of a slice from a DataFrame.\n",
      "Try using .loc[row_indexer,col_indexer] = value instead\n",
      "\n",
      "See the caveats in the documentation: https://pandas.pydata.org/pandas-docs/stable/user_guide/indexing.html#returning-a-view-versus-a-copy\n",
      "  import sys\n"
     ]
    },
    {
     "name": "stdout",
     "output_type": "stream",
     "text": [
      "34/34 [==============================] - 9s 86ms/step - loss: 0.1106 - accuracy: 0.0000e+00\n",
      "[3, 9, 11]\n"
     ]
    },
    {
     "name": "stderr",
     "output_type": "stream",
     "text": [
      "/Users/ishan/opt/anaconda3/lib/python3.7/site-packages/ipykernel_launcher.py:7: SettingWithCopyWarning: \n",
      "A value is trying to be set on a copy of a slice from a DataFrame.\n",
      "Try using .loc[row_indexer,col_indexer] = value instead\n",
      "\n",
      "See the caveats in the documentation: https://pandas.pydata.org/pandas-docs/stable/user_guide/indexing.html#returning-a-view-versus-a-copy\n",
      "  import sys\n"
     ]
    },
    {
     "name": "stdout",
     "output_type": "stream",
     "text": [
      "34/34 [==============================] - 10s 105ms/step - loss: 0.1082 - accuracy: 0.0000e+00\n",
      "[3, 10, 11]\n"
     ]
    },
    {
     "name": "stderr",
     "output_type": "stream",
     "text": [
      "/Users/ishan/opt/anaconda3/lib/python3.7/site-packages/ipykernel_launcher.py:7: SettingWithCopyWarning: \n",
      "A value is trying to be set on a copy of a slice from a DataFrame.\n",
      "Try using .loc[row_indexer,col_indexer] = value instead\n",
      "\n",
      "See the caveats in the documentation: https://pandas.pydata.org/pandas-docs/stable/user_guide/indexing.html#returning-a-view-versus-a-copy\n",
      "  import sys\n"
     ]
    },
    {
     "name": "stdout",
     "output_type": "stream",
     "text": [
      "34/34 [==============================] - 10s 106ms/step - loss: 0.1108 - accuracy: 0.0000e+00\n",
      "[4, 5, 6]\n",
      "34/34 [==============================] - 10s 112ms/step - loss: 0.0880 - accuracy: 0.0000e+00\n",
      "[4, 5, 7]\n",
      "34/34 [==============================] - 9s 101ms/step - loss: 0.0760 - accuracy: 0.0000e+00\n",
      "[4, 5, 8]\n",
      "34/34 [==============================] - 9s 105ms/step - loss: 0.0897 - accuracy: 0.0000e+00\n",
      "[4, 5, 9]\n",
      "34/34 [==============================] - 9s 94ms/step - loss: 0.0829 - accuracy: 0.0000e+00\n",
      "[4, 5, 10]\n",
      "34/34 [==============================] - 8s 69ms/step - loss: 0.0816 - accuracy: 0.0000e+00\n",
      "[4, 5, 11]\n",
      "34/34 [==============================] - 7s 59ms/step - loss: 0.1074 - accuracy: 0.0000e+00\n",
      "[4, 6, 7]\n",
      "34/34 [==============================] - 10s 94ms/step - loss: 0.1062 - accuracy: 0.0000e+00\n",
      "[4, 6, 8]\n",
      "34/34 [==============================] - 9s 99ms/step - loss: 0.0941 - accuracy: 0.0000e+00\n",
      "[4, 6, 9]\n",
      "34/34 [==============================] - 9s 89ms/step - loss: 0.0989 - accuracy: 0.0000e+00\n",
      "[4, 6, 10]\n",
      "34/34 [==============================] - 9s 90ms/step - loss: 0.1017 - accuracy: 0.0000e+00\n",
      "[4, 6, 11]\n",
      "34/34 [==============================] - 9s 92ms/step - loss: 0.0777 - accuracy: 0.0000e+00\n",
      "[4, 7, 8]\n",
      "34/34 [==============================] - 9s 103ms/step - loss: 0.0779 - accuracy: 0.0000e+00\n",
      "[4, 7, 9]\n",
      "34/34 [==============================] - 9s 102ms/step - loss: 0.0907 - accuracy: 0.0000e+00\n",
      "[4, 7, 10]\n",
      "34/34 [==============================] - 9s 91ms/step - loss: 0.1017 - accuracy: 0.0000e+00\n",
      "[4, 7, 11]\n",
      "34/34 [==============================] - 8s 94ms/step - loss: 0.0790 - accuracy: 0.0000e+00\n",
      "[4, 8, 9]\n",
      "34/34 [==============================] - 9s 89ms/step - loss: 0.0795 - accuracy: 0.0000e+00\n",
      "[4, 8, 10]\n",
      "34/34 [==============================] - 9s 86ms/step - loss: 0.0924 - accuracy: 0.0000e+00\n",
      "[4, 8, 11]\n",
      "34/34 [==============================] - 9s 93ms/step - loss: 0.0870 - accuracy: 0.0000e+00\n",
      "[4, 9, 10]\n",
      "34/34 [==============================] - 8s 93ms/step - loss: 0.0932 - accuracy: 0.0000e+00\n",
      "[4, 9, 11]\n",
      "34/34 [==============================] - 9s 108ms/step - loss: 0.0888 - accuracy: 0.0000e+00\n",
      "[4, 10, 11]\n",
      "34/34 [==============================] - 10s 103ms/step - loss: 0.0753 - accuracy: 0.0000e+00\n",
      "[5, 6, 7]\n",
      "34/34 [==============================] - 11s 122ms/step - loss: 0.1074 - accuracy: 0.0000e+00\n",
      "[5, 6, 8]\n",
      "34/34 [==============================] - 12s 125ms/step - loss: 0.1084 - accuracy: 0.0000e+00\n",
      "[5, 6, 9]\n",
      "34/34 [==============================] - 12s 127ms/step - loss: 0.1128 - accuracy: 0.0000e+00\n",
      "[5, 6, 10]\n",
      "34/34 [==============================] - 10s 105ms/step - loss: 0.1044 - accuracy: 0.0000e+00\n",
      "[5, 6, 11]\n",
      "34/34 [==============================] - 9s 106ms/step - loss: 0.1065 - accuracy: 0.0000e+00\n",
      "[5, 7, 8]\n",
      "34/34 [==============================] - 8s 92ms/step - loss: 0.1055 - accuracy: 0.0000e+00\n",
      "[5, 7, 9]\n",
      "34/34 [==============================] - 11s 112ms/step - loss: 0.1039 - accuracy: 0.0000e+00\n",
      "[5, 7, 10]\n",
      "34/34 [==============================] - 10s 111ms/step - loss: 0.1031 - accuracy: 0.0000e+00\n",
      "[5, 7, 11]\n",
      "34/34 [==============================] - 12s 128ms/step - loss: 0.1054 - accuracy: 0.0000e+00\n",
      "[5, 8, 9]\n",
      "34/34 [==============================] - 12s 123ms/step - loss: 0.1056 - accuracy: 0.0000e+00\n",
      "[5, 8, 10]\n",
      "34/34 [==============================] - 12s 136ms/step - loss: 0.1059 - accuracy: 0.0000e+00\n",
      "[5, 8, 11]\n",
      "34/34 [==============================] - 12s 129ms/step - loss: 0.1116 - accuracy: 0.0000e+00\n",
      "[5, 9, 10]\n",
      "34/34 [==============================] - 12s 133ms/step - loss: 0.1022 - accuracy: 0.0000e+00\n",
      "[5, 9, 11]\n",
      "34/34 [==============================] - 12s 124ms/step - loss: 0.1122 - accuracy: 0.0000e+00\n",
      "[5, 10, 11]\n",
      "34/34 [==============================] - 12s 128ms/step - loss: 0.1088 - accuracy: 0.0000e+00\n",
      "[6, 7, 8]\n",
      "34/34 [==============================] - 13s 127ms/step - loss: 0.1039 - accuracy: 0.0000e+00\n",
      "[6, 7, 9]\n",
      "34/34 [==============================] - 11s 122ms/step - loss: 0.1062 - accuracy: 0.0000e+00\n",
      "[6, 7, 10]\n",
      "34/34 [==============================] - 10s 115ms/step - loss: 0.1037 - accuracy: 0.0000e+00\n",
      "[6, 7, 11]\n",
      "34/34 [==============================] - 11s 116ms/step - loss: 0.1013 - accuracy: 0.0000e+00\n",
      "[6, 8, 9]\n",
      "34/34 [==============================] - 11s 117ms/step - loss: 0.1074 - accuracy: 0.0000e+00\n",
      "[6, 8, 10]\n",
      "34/34 [==============================] - 12s 124ms/step - loss: 0.1090 - accuracy: 0.0000e+00\n",
      "[6, 8, 11]\n",
      "34/34 [==============================] - 11s 127ms/step - loss: 0.1075 - accuracy: 0.0000e+00\n",
      "[6, 9, 10]\n",
      "34/34 [==============================] - 12s 137ms/step - loss: 0.1060 - accuracy: 0.0000e+00\n",
      "[6, 9, 11]\n",
      "34/34 [==============================] - 13s 132ms/step - loss: 0.1100 - accuracy: 0.0000e+00\n",
      "[6, 10, 11]\n",
      "34/34 [==============================] - 12s 133ms/step - loss: 0.1099 - accuracy: 0.0000e+00\n",
      "[7, 8, 9]\n",
      "34/34 [==============================] - 13s 136ms/step - loss: 0.1020 - accuracy: 0.0000e+00\n",
      "[7, 8, 10]\n",
      "34/34 [==============================] - 12s 138ms/step - loss: 0.1035 - accuracy: 0.0000e+00\n",
      "[7, 8, 11]\n",
      "34/34 [==============================] - 12s 144ms/step - loss: 0.1096 - accuracy: 0.0000e+00\n",
      "[7, 9, 10]\n",
      "34/34 [==============================] - 12s 129ms/step - loss: 0.1024 - accuracy: 0.0000e+00\n",
      "[7, 9, 11]\n",
      "34/34 [==============================] - 13s 133ms/step - loss: 0.1025 - accuracy: 0.0000e+00\n",
      "[7, 10, 11]\n",
      "34/34 [==============================] - 12s 122ms/step - loss: 0.1037 - accuracy: 0.0000e+00\n",
      "[8, 9, 10]\n",
      "34/34 [==============================] - 14s 139ms/step - loss: 0.1087 - accuracy: 0.0000e+00\n",
      "[8, 9, 11]\n",
      "34/34 [==============================] - 13s 134ms/step - loss: 0.1109 - accuracy: 0.0000e+00\n",
      "[8, 10, 11]\n",
      "34/34 [==============================] - 13s 142ms/step - loss: 0.1049 - accuracy: 0.0000e+00\n",
      "[9, 10, 11]\n",
      "34/34 [==============================] - 14s 166ms/step - loss: 0.1063 - accuracy: 0.0000e+00\n",
      "[0, 1, 2, 3]\n"
     ]
    },
    {
     "name": "stderr",
     "output_type": "stream",
     "text": [
      "/Users/ishan/opt/anaconda3/lib/python3.7/site-packages/ipykernel_launcher.py:7: SettingWithCopyWarning: \n",
      "A value is trying to be set on a copy of a slice from a DataFrame.\n",
      "Try using .loc[row_indexer,col_indexer] = value instead\n",
      "\n",
      "See the caveats in the documentation: https://pandas.pydata.org/pandas-docs/stable/user_guide/indexing.html#returning-a-view-versus-a-copy\n",
      "  import sys\n"
     ]
    },
    {
     "name": "stdout",
     "output_type": "stream",
     "text": [
      "34/34 [==============================] - 11s 132ms/step - loss: 0.0666 - accuracy: 0.0000e+00\n",
      "[0, 1, 2, 4]\n",
      "34/34 [==============================] - 13s 138ms/step - loss: 0.0710 - accuracy: 0.0000e+00\n",
      "[0, 1, 2, 5]\n",
      "34/34 [==============================] - 13s 137ms/step - loss: 0.0735 - accuracy: 0.0000e+00\n",
      "[0, 1, 2, 6]\n",
      "34/34 [==============================] - 14s 138ms/step - loss: 0.0992 - accuracy: 0.0000e+00\n",
      "[0, 1, 2, 7]\n",
      "34/34 [==============================] - 12s 136ms/step - loss: 0.0911 - accuracy: 0.0000e+00\n",
      "[0, 1, 2, 8]\n",
      "34/34 [==============================] - 11s 132ms/step - loss: 0.1046 - accuracy: 0.0000e+00\n",
      "[0, 1, 2, 9]\n",
      "34/34 [==============================] - 14s 143ms/step - loss: 0.1075 - accuracy: 0.0000e+00\n",
      "[0, 1, 2, 10]\n",
      "34/34 [==============================] - 13s 117ms/step - loss: 0.1031 - accuracy: 0.0000e+00\n",
      "[0, 1, 2, 11]\n",
      "34/34 [==============================] - 11s 97ms/step - loss: 0.0978 - accuracy: 0.0000e+00\n",
      "[0, 1, 3, 4]\n"
     ]
    },
    {
     "name": "stderr",
     "output_type": "stream",
     "text": [
      "/Users/ishan/opt/anaconda3/lib/python3.7/site-packages/ipykernel_launcher.py:7: SettingWithCopyWarning: \n",
      "A value is trying to be set on a copy of a slice from a DataFrame.\n",
      "Try using .loc[row_indexer,col_indexer] = value instead\n",
      "\n",
      "See the caveats in the documentation: https://pandas.pydata.org/pandas-docs/stable/user_guide/indexing.html#returning-a-view-versus-a-copy\n",
      "  import sys\n"
     ]
    },
    {
     "name": "stdout",
     "output_type": "stream",
     "text": [
      "34/34 [==============================] - 14s 100ms/step - loss: 0.0737 - accuracy: 0.0000e+00\n",
      "[0, 1, 3, 5]\n"
     ]
    },
    {
     "name": "stderr",
     "output_type": "stream",
     "text": [
      "/Users/ishan/opt/anaconda3/lib/python3.7/site-packages/ipykernel_launcher.py:7: SettingWithCopyWarning: \n",
      "A value is trying to be set on a copy of a slice from a DataFrame.\n",
      "Try using .loc[row_indexer,col_indexer] = value instead\n",
      "\n",
      "See the caveats in the documentation: https://pandas.pydata.org/pandas-docs/stable/user_guide/indexing.html#returning-a-view-versus-a-copy\n",
      "  import sys\n"
     ]
    },
    {
     "name": "stdout",
     "output_type": "stream",
     "text": [
      "34/34 [==============================] - 14s 129ms/step - loss: 0.0630 - accuracy: 9.2678e-04\n",
      "[0, 1, 3, 6]\n"
     ]
    },
    {
     "name": "stderr",
     "output_type": "stream",
     "text": [
      "/Users/ishan/opt/anaconda3/lib/python3.7/site-packages/ipykernel_launcher.py:7: SettingWithCopyWarning: \n",
      "A value is trying to be set on a copy of a slice from a DataFrame.\n",
      "Try using .loc[row_indexer,col_indexer] = value instead\n",
      "\n",
      "See the caveats in the documentation: https://pandas.pydata.org/pandas-docs/stable/user_guide/indexing.html#returning-a-view-versus-a-copy\n",
      "  import sys\n"
     ]
    },
    {
     "name": "stdout",
     "output_type": "stream",
     "text": [
      "34/34 [==============================] - 11s 126ms/step - loss: 0.1036 - accuracy: 0.0000e+00\n",
      "[0, 1, 3, 7]\n"
     ]
    },
    {
     "name": "stderr",
     "output_type": "stream",
     "text": [
      "/Users/ishan/opt/anaconda3/lib/python3.7/site-packages/ipykernel_launcher.py:7: SettingWithCopyWarning: \n",
      "A value is trying to be set on a copy of a slice from a DataFrame.\n",
      "Try using .loc[row_indexer,col_indexer] = value instead\n",
      "\n",
      "See the caveats in the documentation: https://pandas.pydata.org/pandas-docs/stable/user_guide/indexing.html#returning-a-view-versus-a-copy\n",
      "  import sys\n"
     ]
    },
    {
     "name": "stdout",
     "output_type": "stream",
     "text": [
      "34/34 [==============================] - 14s 148ms/step - loss: 0.0915 - accuracy: 0.0000e+00\n",
      "[0, 1, 3, 8]\n"
     ]
    },
    {
     "name": "stderr",
     "output_type": "stream",
     "text": [
      "/Users/ishan/opt/anaconda3/lib/python3.7/site-packages/ipykernel_launcher.py:7: SettingWithCopyWarning: \n",
      "A value is trying to be set on a copy of a slice from a DataFrame.\n",
      "Try using .loc[row_indexer,col_indexer] = value instead\n",
      "\n",
      "See the caveats in the documentation: https://pandas.pydata.org/pandas-docs/stable/user_guide/indexing.html#returning-a-view-versus-a-copy\n",
      "  import sys\n"
     ]
    },
    {
     "name": "stdout",
     "output_type": "stream",
     "text": [
      "34/34 [==============================] - 12s 138ms/step - loss: 0.1031 - accuracy: 0.0000e+00\n",
      "[0, 1, 3, 9]\n"
     ]
    },
    {
     "name": "stderr",
     "output_type": "stream",
     "text": [
      "/Users/ishan/opt/anaconda3/lib/python3.7/site-packages/ipykernel_launcher.py:7: SettingWithCopyWarning: \n",
      "A value is trying to be set on a copy of a slice from a DataFrame.\n",
      "Try using .loc[row_indexer,col_indexer] = value instead\n",
      "\n",
      "See the caveats in the documentation: https://pandas.pydata.org/pandas-docs/stable/user_guide/indexing.html#returning-a-view-versus-a-copy\n",
      "  import sys\n"
     ]
    },
    {
     "name": "stdout",
     "output_type": "stream",
     "text": [
      "34/34 [==============================] - 14s 138ms/step - loss: 0.1096 - accuracy: 0.0000e+00\n",
      "[0, 1, 3, 10]\n"
     ]
    },
    {
     "name": "stderr",
     "output_type": "stream",
     "text": [
      "/Users/ishan/opt/anaconda3/lib/python3.7/site-packages/ipykernel_launcher.py:7: SettingWithCopyWarning: \n",
      "A value is trying to be set on a copy of a slice from a DataFrame.\n",
      "Try using .loc[row_indexer,col_indexer] = value instead\n",
      "\n",
      "See the caveats in the documentation: https://pandas.pydata.org/pandas-docs/stable/user_guide/indexing.html#returning-a-view-versus-a-copy\n",
      "  import sys\n"
     ]
    },
    {
     "name": "stdout",
     "output_type": "stream",
     "text": [
      "34/34 [==============================] - 13s 133ms/step - loss: 0.1022 - accuracy: 9.2678e-04\n",
      "[0, 1, 3, 11]\n"
     ]
    },
    {
     "name": "stderr",
     "output_type": "stream",
     "text": [
      "/Users/ishan/opt/anaconda3/lib/python3.7/site-packages/ipykernel_launcher.py:7: SettingWithCopyWarning: \n",
      "A value is trying to be set on a copy of a slice from a DataFrame.\n",
      "Try using .loc[row_indexer,col_indexer] = value instead\n",
      "\n",
      "See the caveats in the documentation: https://pandas.pydata.org/pandas-docs/stable/user_guide/indexing.html#returning-a-view-versus-a-copy\n",
      "  import sys\n"
     ]
    },
    {
     "name": "stdout",
     "output_type": "stream",
     "text": [
      "34/34 [==============================] - 14s 146ms/step - loss: 0.0827 - accuracy: 0.0000e+00\n",
      "[0, 1, 4, 5]\n",
      "34/34 [==============================] - 14s 150ms/step - loss: 0.0762 - accuracy: 9.2678e-04\n",
      "[0, 1, 4, 6]\n",
      "34/34 [==============================] - 17s 162ms/step - loss: 0.0795 - accuracy: 0.0000e+00\n",
      "[0, 1, 4, 7]\n",
      "34/34 [==============================] - 13s 133ms/step - loss: 0.0730 - accuracy: 0.0000e+00\n",
      "[0, 1, 4, 8]\n",
      "34/34 [==============================] - 12s 126ms/step - loss: 0.0851 - accuracy: 0.0000e+00\n",
      "[0, 1, 4, 9]\n",
      "34/34 [==============================] - 13s 126ms/step - loss: 0.0801 - accuracy: 0.0000e+00\n",
      "[0, 1, 4, 10]\n",
      "34/34 [==============================] - 12s 128ms/step - loss: 0.0770 - accuracy: 0.0000e+00\n",
      "[0, 1, 4, 11]\n",
      "34/34 [==============================] - 11s 126ms/step - loss: 0.0692 - accuracy: 0.0000e+00\n",
      "[0, 1, 5, 6]\n",
      "34/34 [==============================] - 10s 108ms/step - loss: 0.0913 - accuracy: 0.0000e+00\n",
      "[0, 1, 5, 7]\n",
      "34/34 [==============================] - 9s 95ms/step - loss: 0.0965 - accuracy: 9.2678e-04\n",
      "[0, 1, 5, 8]\n",
      "34/34 [==============================] - 9s 92ms/step - loss: 0.1011 - accuracy: 0.0000e+00\n",
      "[0, 1, 5, 9]\n",
      "34/34 [==============================] - 8s 88ms/step - loss: 0.0919 - accuracy: 0.0000e+00\n",
      "[0, 1, 5, 10]\n",
      "34/34 [==============================] - 9s 102ms/step - loss: 0.0802 - accuracy: 0.0000e+00\n",
      "[0, 1, 5, 11]\n",
      "34/34 [==============================] - 11s 123ms/step - loss: 0.1084 - accuracy: 0.0000e+00\n",
      "[0, 1, 6, 7]\n",
      "34/34 [==============================] - 11s 129ms/step - loss: 0.1090 - accuracy: 9.2678e-04\n",
      "[0, 1, 6, 8]\n",
      "34/34 [==============================] - 11s 126ms/step - loss: 0.1052 - accuracy: 0.0000e+00\n",
      "[0, 1, 6, 9]\n",
      "34/34 [==============================] - 12s 136ms/step - loss: 0.0963 - accuracy: 0.0000e+00\n",
      "[0, 1, 6, 10]\n",
      "34/34 [==============================] - 13s 142ms/step - loss: 0.0937 - accuracy: 0.0000e+00\n",
      "[0, 1, 6, 11]\n",
      "34/34 [==============================] - 13s 134ms/step - loss: 0.1043 - accuracy: 0.0000e+00\n",
      "[0, 1, 7, 8]\n",
      "34/34 [==============================] - 13s 140ms/step - loss: 0.0976 - accuracy: 0.0000e+00\n",
      "[0, 1, 7, 9]\n",
      "34/34 [==============================] - 13s 143ms/step - loss: 0.1049 - accuracy: 0.0000e+00\n",
      "[0, 1, 7, 10]\n",
      "34/34 [==============================] - 12s 124ms/step - loss: 0.0934 - accuracy: 0.0000e+00\n",
      "[0, 1, 7, 11]\n",
      "34/34 [==============================] - 10s 120ms/step - loss: 0.0968 - accuracy: 0.0000e+00\n",
      "[0, 1, 8, 9]\n",
      "34/34 [==============================] - 12s 118ms/step - loss: 0.1104 - accuracy: 0.0000e+00\n",
      "[0, 1, 8, 10]\n",
      "34/34 [==============================] - 12s 126ms/step - loss: 0.1078 - accuracy: 0.0000e+00\n",
      "[0, 1, 8, 11]\n",
      "34/34 [==============================] - 10s 121ms/step - loss: 0.1067 - accuracy: 0.0000e+00\n",
      "[0, 1, 9, 10]\n",
      "34/34 [==============================] - 11s 124ms/step - loss: 0.1064 - accuracy: 0.0000e+00\n",
      "[0, 1, 9, 11]\n",
      "34/34 [==============================] - 12s 125ms/step - loss: 0.0987 - accuracy: 0.0000e+00\n",
      "[0, 1, 10, 11]\n",
      "34/34 [==============================] - 11s 126ms/step - loss: 0.0985 - accuracy: 0.0000e+00\n",
      "[0, 2, 3, 4]\n"
     ]
    },
    {
     "name": "stderr",
     "output_type": "stream",
     "text": [
      "/Users/ishan/opt/anaconda3/lib/python3.7/site-packages/ipykernel_launcher.py:7: SettingWithCopyWarning: \n",
      "A value is trying to be set on a copy of a slice from a DataFrame.\n",
      "Try using .loc[row_indexer,col_indexer] = value instead\n",
      "\n",
      "See the caveats in the documentation: https://pandas.pydata.org/pandas-docs/stable/user_guide/indexing.html#returning-a-view-versus-a-copy\n",
      "  import sys\n"
     ]
    },
    {
     "name": "stdout",
     "output_type": "stream",
     "text": [
      "34/34 [==============================] - 13s 125ms/step - loss: 0.0681 - accuracy: 0.0000e+00\n",
      "[0, 2, 3, 5]\n"
     ]
    },
    {
     "name": "stderr",
     "output_type": "stream",
     "text": [
      "/Users/ishan/opt/anaconda3/lib/python3.7/site-packages/ipykernel_launcher.py:7: SettingWithCopyWarning: \n",
      "A value is trying to be set on a copy of a slice from a DataFrame.\n",
      "Try using .loc[row_indexer,col_indexer] = value instead\n",
      "\n",
      "See the caveats in the documentation: https://pandas.pydata.org/pandas-docs/stable/user_guide/indexing.html#returning-a-view-versus-a-copy\n",
      "  import sys\n"
     ]
    },
    {
     "name": "stdout",
     "output_type": "stream",
     "text": [
      "34/34 [==============================] - 13s 131ms/step - loss: 0.0694 - accuracy: 9.2678e-04\n",
      "[0, 2, 3, 6]\n"
     ]
    },
    {
     "name": "stderr",
     "output_type": "stream",
     "text": [
      "/Users/ishan/opt/anaconda3/lib/python3.7/site-packages/ipykernel_launcher.py:7: SettingWithCopyWarning: \n",
      "A value is trying to be set on a copy of a slice from a DataFrame.\n",
      "Try using .loc[row_indexer,col_indexer] = value instead\n",
      "\n",
      "See the caveats in the documentation: https://pandas.pydata.org/pandas-docs/stable/user_guide/indexing.html#returning-a-view-versus-a-copy\n",
      "  import sys\n"
     ]
    },
    {
     "name": "stdout",
     "output_type": "stream",
     "text": [
      "34/34 [==============================] - 12s 130ms/step - loss: 0.1027 - accuracy: 9.2678e-04\n",
      "[0, 2, 3, 7]\n"
     ]
    },
    {
     "name": "stderr",
     "output_type": "stream",
     "text": [
      "/Users/ishan/opt/anaconda3/lib/python3.7/site-packages/ipykernel_launcher.py:7: SettingWithCopyWarning: \n",
      "A value is trying to be set on a copy of a slice from a DataFrame.\n",
      "Try using .loc[row_indexer,col_indexer] = value instead\n",
      "\n",
      "See the caveats in the documentation: https://pandas.pydata.org/pandas-docs/stable/user_guide/indexing.html#returning-a-view-versus-a-copy\n",
      "  import sys\n"
     ]
    },
    {
     "name": "stdout",
     "output_type": "stream",
     "text": [
      "34/34 [==============================] - 11s 118ms/step - loss: 0.0996 - accuracy: 0.0000e+00\n",
      "[0, 2, 3, 8]\n"
     ]
    },
    {
     "name": "stderr",
     "output_type": "stream",
     "text": [
      "/Users/ishan/opt/anaconda3/lib/python3.7/site-packages/ipykernel_launcher.py:7: SettingWithCopyWarning: \n",
      "A value is trying to be set on a copy of a slice from a DataFrame.\n",
      "Try using .loc[row_indexer,col_indexer] = value instead\n",
      "\n",
      "See the caveats in the documentation: https://pandas.pydata.org/pandas-docs/stable/user_guide/indexing.html#returning-a-view-versus-a-copy\n",
      "  import sys\n"
     ]
    },
    {
     "name": "stdout",
     "output_type": "stream",
     "text": [
      "34/34 [==============================] - 11s 117ms/step - loss: 0.1044 - accuracy: 0.0000e+00\n",
      "[0, 2, 3, 9]\n"
     ]
    },
    {
     "name": "stderr",
     "output_type": "stream",
     "text": [
      "/Users/ishan/opt/anaconda3/lib/python3.7/site-packages/ipykernel_launcher.py:7: SettingWithCopyWarning: \n",
      "A value is trying to be set on a copy of a slice from a DataFrame.\n",
      "Try using .loc[row_indexer,col_indexer] = value instead\n",
      "\n",
      "See the caveats in the documentation: https://pandas.pydata.org/pandas-docs/stable/user_guide/indexing.html#returning-a-view-versus-a-copy\n",
      "  import sys\n"
     ]
    },
    {
     "name": "stdout",
     "output_type": "stream",
     "text": [
      "34/34 [==============================] - 11s 127ms/step - loss: 0.1131 - accuracy: 0.0000e+00\n",
      "[0, 2, 3, 10]\n"
     ]
    },
    {
     "name": "stderr",
     "output_type": "stream",
     "text": [
      "/Users/ishan/opt/anaconda3/lib/python3.7/site-packages/ipykernel_launcher.py:7: SettingWithCopyWarning: \n",
      "A value is trying to be set on a copy of a slice from a DataFrame.\n",
      "Try using .loc[row_indexer,col_indexer] = value instead\n",
      "\n",
      "See the caveats in the documentation: https://pandas.pydata.org/pandas-docs/stable/user_guide/indexing.html#returning-a-view-versus-a-copy\n",
      "  import sys\n"
     ]
    },
    {
     "name": "stdout",
     "output_type": "stream",
     "text": [
      "34/34 [==============================] - 10s 117ms/step - loss: 0.1043 - accuracy: 9.2678e-04\n",
      "[0, 2, 3, 11]\n"
     ]
    },
    {
     "name": "stderr",
     "output_type": "stream",
     "text": [
      "/Users/ishan/opt/anaconda3/lib/python3.7/site-packages/ipykernel_launcher.py:7: SettingWithCopyWarning: \n",
      "A value is trying to be set on a copy of a slice from a DataFrame.\n",
      "Try using .loc[row_indexer,col_indexer] = value instead\n",
      "\n",
      "See the caveats in the documentation: https://pandas.pydata.org/pandas-docs/stable/user_guide/indexing.html#returning-a-view-versus-a-copy\n",
      "  import sys\n"
     ]
    },
    {
     "name": "stdout",
     "output_type": "stream",
     "text": [
      "34/34 [==============================] - 11s 124ms/step - loss: 0.0900 - accuracy: 0.0000e+00\n",
      "[0, 2, 4, 5]\n",
      "34/34 [==============================] - 9s 108ms/step - loss: 0.0731 - accuracy: 0.0000e+00\n",
      "[0, 2, 4, 6]\n",
      "34/34 [==============================] - 11s 124ms/step - loss: 0.0885 - accuracy: 0.0000e+00\n",
      "[0, 2, 4, 7]\n",
      "34/34 [==============================] - 11s 112ms/step - loss: 0.0767 - accuracy: 0.0000e+00\n",
      "[0, 2, 4, 8]\n",
      "34/34 [==============================] - 10s 112ms/step - loss: 0.0951 - accuracy: 0.0000e+00\n",
      "[0, 2, 4, 9]\n",
      "34/34 [==============================] - 10s 112ms/step - loss: 0.0877 - accuracy: 0.0000e+00\n",
      "[0, 2, 4, 10]\n",
      "34/34 [==============================] - 11s 112ms/step - loss: 0.0806 - accuracy: 0.0000e+00\n",
      "[0, 2, 4, 11]\n",
      "34/34 [==============================] - 10s 117ms/step - loss: 0.0677 - accuracy: 0.0000e+00\n",
      "[0, 2, 5, 6]\n",
      "34/34 [==============================] - 10s 116ms/step - loss: 0.0982 - accuracy: 0.0000e+00\n",
      "[0, 2, 5, 7]\n",
      "34/34 [==============================] - 10s 111ms/step - loss: 0.0928 - accuracy: 0.0000e+00\n",
      "[0, 2, 5, 8]\n",
      "34/34 [==============================] - 10s 112ms/step - loss: 0.0894 - accuracy: 0.0000e+00\n",
      "[0, 2, 5, 9]\n",
      "34/34 [==============================] - 10s 107ms/step - loss: 0.0980 - accuracy: 0.0000e+00\n",
      "[0, 2, 5, 10]\n",
      "34/34 [==============================] - 10s 110ms/step - loss: 0.1096 - accuracy: 0.0000e+00\n",
      "[0, 2, 5, 11]\n",
      "34/34 [==============================] - 8s 88ms/step - loss: 0.0947 - accuracy: 0.0000e+00\n",
      "[0, 2, 6, 7]\n",
      "34/34 [==============================] - 8s 78ms/step - loss: 0.0993 - accuracy: 0.0000e+00\n",
      "[0, 2, 6, 8]\n",
      "34/34 [==============================] - 8s 90ms/step - loss: 0.1060 - accuracy: 0.0000e+00\n",
      "[0, 2, 6, 9]\n",
      "34/34 [==============================] - 10s 113ms/step - loss: 0.1027 - accuracy: 0.0000e+00\n",
      "[0, 2, 6, 10]\n",
      "34/34 [==============================] - 10s 99ms/step - loss: 0.1073 - accuracy: 0.0000e+00\n",
      "[0, 2, 6, 11]\n",
      "34/34 [==============================] - 11s 112ms/step - loss: 0.1124 - accuracy: 0.0000e+00\n",
      "[0, 2, 7, 8]\n",
      "34/34 [==============================] - 10s 120ms/step - loss: 0.1006 - accuracy: 0.0000e+00\n",
      "[0, 2, 7, 9]\n",
      "34/34 [==============================] - 12s 125ms/step - loss: 0.1071 - accuracy: 0.0000e+00\n",
      "[0, 2, 7, 10]\n",
      "34/34 [==============================] - 10s 95ms/step - loss: 0.1031 - accuracy: 0.0000e+00\n",
      "[0, 2, 7, 11]\n",
      "34/34 [==============================] - 10s 98ms/step - loss: 0.1054 - accuracy: 0.0000e+00\n",
      "[0, 2, 8, 9]\n",
      "34/34 [==============================] - 9s 95ms/step - loss: 0.1065 - accuracy: 0.0000e+00\n",
      "[0, 2, 8, 10]\n",
      "34/34 [==============================] - 10s 130ms/step - loss: 0.1119 - accuracy: 0.0000e+00\n",
      "[0, 2, 8, 11]\n",
      "34/34 [==============================] - 12s 120ms/step - loss: 0.1001 - accuracy: 0.0000e+00\n",
      "[0, 2, 9, 10]\n",
      "34/34 [==============================] - 10s 123ms/step - loss: 0.1058 - accuracy: 0.0000e+00\n",
      "[0, 2, 9, 11]\n",
      "34/34 [==============================] - 12s 120ms/step - loss: 0.1063 - accuracy: 0.0000e+00\n",
      "[0, 2, 10, 11]\n",
      "34/34 [==============================] - 12s 128ms/step - loss: 0.0985 - accuracy: 9.2678e-04\n",
      "[0, 3, 4, 5]\n"
     ]
    },
    {
     "name": "stderr",
     "output_type": "stream",
     "text": [
      "/Users/ishan/opt/anaconda3/lib/python3.7/site-packages/ipykernel_launcher.py:7: SettingWithCopyWarning: \n",
      "A value is trying to be set on a copy of a slice from a DataFrame.\n",
      "Try using .loc[row_indexer,col_indexer] = value instead\n",
      "\n",
      "See the caveats in the documentation: https://pandas.pydata.org/pandas-docs/stable/user_guide/indexing.html#returning-a-view-versus-a-copy\n",
      "  import sys\n"
     ]
    },
    {
     "name": "stdout",
     "output_type": "stream",
     "text": [
      "34/34 [==============================] - 11s 115ms/step - loss: 0.0711 - accuracy: 0.0000e+00\n",
      "[0, 3, 4, 6]\n"
     ]
    },
    {
     "name": "stderr",
     "output_type": "stream",
     "text": [
      "/Users/ishan/opt/anaconda3/lib/python3.7/site-packages/ipykernel_launcher.py:7: SettingWithCopyWarning: \n",
      "A value is trying to be set on a copy of a slice from a DataFrame.\n",
      "Try using .loc[row_indexer,col_indexer] = value instead\n",
      "\n",
      "See the caveats in the documentation: https://pandas.pydata.org/pandas-docs/stable/user_guide/indexing.html#returning-a-view-versus-a-copy\n",
      "  import sys\n"
     ]
    },
    {
     "name": "stdout",
     "output_type": "stream",
     "text": [
      "34/34 [==============================] - 11s 114ms/step - loss: 0.0879 - accuracy: 0.0000e+00\n",
      "[0, 3, 4, 7]\n"
     ]
    },
    {
     "name": "stderr",
     "output_type": "stream",
     "text": [
      "/Users/ishan/opt/anaconda3/lib/python3.7/site-packages/ipykernel_launcher.py:7: SettingWithCopyWarning: \n",
      "A value is trying to be set on a copy of a slice from a DataFrame.\n",
      "Try using .loc[row_indexer,col_indexer] = value instead\n",
      "\n",
      "See the caveats in the documentation: https://pandas.pydata.org/pandas-docs/stable/user_guide/indexing.html#returning-a-view-versus-a-copy\n",
      "  import sys\n"
     ]
    },
    {
     "name": "stdout",
     "output_type": "stream",
     "text": [
      "34/34 [==============================] - 11s 119ms/step - loss: 0.0811 - accuracy: 9.2678e-04\n",
      "[0, 3, 4, 8]\n"
     ]
    },
    {
     "name": "stderr",
     "output_type": "stream",
     "text": [
      "/Users/ishan/opt/anaconda3/lib/python3.7/site-packages/ipykernel_launcher.py:7: SettingWithCopyWarning: \n",
      "A value is trying to be set on a copy of a slice from a DataFrame.\n",
      "Try using .loc[row_indexer,col_indexer] = value instead\n",
      "\n",
      "See the caveats in the documentation: https://pandas.pydata.org/pandas-docs/stable/user_guide/indexing.html#returning-a-view-versus-a-copy\n",
      "  import sys\n"
     ]
    },
    {
     "name": "stdout",
     "output_type": "stream",
     "text": [
      "34/34 [==============================] - 12s 135ms/step - loss: 0.0899 - accuracy: 0.0000e+00\n",
      "[0, 3, 4, 9]\n"
     ]
    },
    {
     "name": "stderr",
     "output_type": "stream",
     "text": [
      "/Users/ishan/opt/anaconda3/lib/python3.7/site-packages/ipykernel_launcher.py:7: SettingWithCopyWarning: \n",
      "A value is trying to be set on a copy of a slice from a DataFrame.\n",
      "Try using .loc[row_indexer,col_indexer] = value instead\n",
      "\n",
      "See the caveats in the documentation: https://pandas.pydata.org/pandas-docs/stable/user_guide/indexing.html#returning-a-view-versus-a-copy\n",
      "  import sys\n"
     ]
    },
    {
     "name": "stdout",
     "output_type": "stream",
     "text": [
      "34/34 [==============================] - 13s 119ms/step - loss: 0.0812 - accuracy: 0.0000e+00\n",
      "[0, 3, 4, 10]\n"
     ]
    },
    {
     "name": "stderr",
     "output_type": "stream",
     "text": [
      "/Users/ishan/opt/anaconda3/lib/python3.7/site-packages/ipykernel_launcher.py:7: SettingWithCopyWarning: \n",
      "A value is trying to be set on a copy of a slice from a DataFrame.\n",
      "Try using .loc[row_indexer,col_indexer] = value instead\n",
      "\n",
      "See the caveats in the documentation: https://pandas.pydata.org/pandas-docs/stable/user_guide/indexing.html#returning-a-view-versus-a-copy\n",
      "  import sys\n"
     ]
    },
    {
     "name": "stdout",
     "output_type": "stream",
     "text": [
      "34/34 [==============================] - 10s 93ms/step - loss: 0.0766 - accuracy: 0.0000e+00\n",
      "[0, 3, 4, 11]\n"
     ]
    },
    {
     "name": "stderr",
     "output_type": "stream",
     "text": [
      "/Users/ishan/opt/anaconda3/lib/python3.7/site-packages/ipykernel_launcher.py:7: SettingWithCopyWarning: \n",
      "A value is trying to be set on a copy of a slice from a DataFrame.\n",
      "Try using .loc[row_indexer,col_indexer] = value instead\n",
      "\n",
      "See the caveats in the documentation: https://pandas.pydata.org/pandas-docs/stable/user_guide/indexing.html#returning-a-view-versus-a-copy\n",
      "  import sys\n"
     ]
    },
    {
     "name": "stdout",
     "output_type": "stream",
     "text": [
      "34/34 [==============================] - 11s 110ms/step - loss: 0.0846 - accuracy: 0.0000e+00\n",
      "[0, 3, 5, 6]\n"
     ]
    },
    {
     "name": "stderr",
     "output_type": "stream",
     "text": [
      "/Users/ishan/opt/anaconda3/lib/python3.7/site-packages/ipykernel_launcher.py:7: SettingWithCopyWarning: \n",
      "A value is trying to be set on a copy of a slice from a DataFrame.\n",
      "Try using .loc[row_indexer,col_indexer] = value instead\n",
      "\n",
      "See the caveats in the documentation: https://pandas.pydata.org/pandas-docs/stable/user_guide/indexing.html#returning-a-view-versus-a-copy\n",
      "  import sys\n"
     ]
    },
    {
     "name": "stdout",
     "output_type": "stream",
     "text": [
      "34/34 [==============================] - 11s 111ms/step - loss: 0.1009 - accuracy: 0.0000e+00\n",
      "[0, 3, 5, 7]\n"
     ]
    },
    {
     "name": "stderr",
     "output_type": "stream",
     "text": [
      "/Users/ishan/opt/anaconda3/lib/python3.7/site-packages/ipykernel_launcher.py:7: SettingWithCopyWarning: \n",
      "A value is trying to be set on a copy of a slice from a DataFrame.\n",
      "Try using .loc[row_indexer,col_indexer] = value instead\n",
      "\n",
      "See the caveats in the documentation: https://pandas.pydata.org/pandas-docs/stable/user_guide/indexing.html#returning-a-view-versus-a-copy\n",
      "  import sys\n"
     ]
    },
    {
     "name": "stdout",
     "output_type": "stream",
     "text": [
      "34/34 [==============================] - 11s 132ms/step - loss: 0.1010 - accuracy: 0.0000e+00\n",
      "[0, 3, 5, 8]\n"
     ]
    },
    {
     "name": "stderr",
     "output_type": "stream",
     "text": [
      "/Users/ishan/opt/anaconda3/lib/python3.7/site-packages/ipykernel_launcher.py:7: SettingWithCopyWarning: \n",
      "A value is trying to be set on a copy of a slice from a DataFrame.\n",
      "Try using .loc[row_indexer,col_indexer] = value instead\n",
      "\n",
      "See the caveats in the documentation: https://pandas.pydata.org/pandas-docs/stable/user_guide/indexing.html#returning-a-view-versus-a-copy\n",
      "  import sys\n"
     ]
    },
    {
     "name": "stdout",
     "output_type": "stream",
     "text": [
      "34/34 [==============================] - 10s 91ms/step - loss: 0.0910 - accuracy: 0.0000e+00\n",
      "[0, 3, 5, 9]\n"
     ]
    },
    {
     "name": "stderr",
     "output_type": "stream",
     "text": [
      "/Users/ishan/opt/anaconda3/lib/python3.7/site-packages/ipykernel_launcher.py:7: SettingWithCopyWarning: \n",
      "A value is trying to be set on a copy of a slice from a DataFrame.\n",
      "Try using .loc[row_indexer,col_indexer] = value instead\n",
      "\n",
      "See the caveats in the documentation: https://pandas.pydata.org/pandas-docs/stable/user_guide/indexing.html#returning-a-view-versus-a-copy\n",
      "  import sys\n"
     ]
    },
    {
     "name": "stdout",
     "output_type": "stream",
     "text": [
      "34/34 [==============================] - 9s 92ms/step - loss: 0.0881 - accuracy: 9.2678e-04\n",
      "[0, 3, 5, 10]\n"
     ]
    },
    {
     "name": "stderr",
     "output_type": "stream",
     "text": [
      "/Users/ishan/opt/anaconda3/lib/python3.7/site-packages/ipykernel_launcher.py:7: SettingWithCopyWarning: \n",
      "A value is trying to be set on a copy of a slice from a DataFrame.\n",
      "Try using .loc[row_indexer,col_indexer] = value instead\n",
      "\n",
      "See the caveats in the documentation: https://pandas.pydata.org/pandas-docs/stable/user_guide/indexing.html#returning-a-view-versus-a-copy\n",
      "  import sys\n"
     ]
    },
    {
     "name": "stdout",
     "output_type": "stream",
     "text": [
      "34/34 [==============================] - 9s 96ms/step - loss: 0.1036 - accuracy: 0.0000e+00\n",
      "[0, 3, 5, 11]\n"
     ]
    },
    {
     "name": "stderr",
     "output_type": "stream",
     "text": [
      "/Users/ishan/opt/anaconda3/lib/python3.7/site-packages/ipykernel_launcher.py:7: SettingWithCopyWarning: \n",
      "A value is trying to be set on a copy of a slice from a DataFrame.\n",
      "Try using .loc[row_indexer,col_indexer] = value instead\n",
      "\n",
      "See the caveats in the documentation: https://pandas.pydata.org/pandas-docs/stable/user_guide/indexing.html#returning-a-view-versus-a-copy\n",
      "  import sys\n"
     ]
    },
    {
     "name": "stdout",
     "output_type": "stream",
     "text": [
      "34/34 [==============================] - 9s 87ms/step - loss: 0.0937 - accuracy: 0.0000e+00\n",
      "[0, 3, 6, 7]\n"
     ]
    },
    {
     "name": "stderr",
     "output_type": "stream",
     "text": [
      "/Users/ishan/opt/anaconda3/lib/python3.7/site-packages/ipykernel_launcher.py:7: SettingWithCopyWarning: \n",
      "A value is trying to be set on a copy of a slice from a DataFrame.\n",
      "Try using .loc[row_indexer,col_indexer] = value instead\n",
      "\n",
      "See the caveats in the documentation: https://pandas.pydata.org/pandas-docs/stable/user_guide/indexing.html#returning-a-view-versus-a-copy\n",
      "  import sys\n"
     ]
    },
    {
     "name": "stdout",
     "output_type": "stream",
     "text": [
      "34/34 [==============================] - 8s 82ms/step - loss: 0.1013 - accuracy: 9.2678e-04\n",
      "[0, 3, 6, 8]\n"
     ]
    },
    {
     "name": "stderr",
     "output_type": "stream",
     "text": [
      "/Users/ishan/opt/anaconda3/lib/python3.7/site-packages/ipykernel_launcher.py:7: SettingWithCopyWarning: \n",
      "A value is trying to be set on a copy of a slice from a DataFrame.\n",
      "Try using .loc[row_indexer,col_indexer] = value instead\n",
      "\n",
      "See the caveats in the documentation: https://pandas.pydata.org/pandas-docs/stable/user_guide/indexing.html#returning-a-view-versus-a-copy\n",
      "  import sys\n"
     ]
    },
    {
     "name": "stdout",
     "output_type": "stream",
     "text": [
      "34/34 [==============================] - 9s 112ms/step - loss: 0.0984 - accuracy: 0.0000e+00\n",
      "[0, 3, 6, 9]\n"
     ]
    },
    {
     "name": "stderr",
     "output_type": "stream",
     "text": [
      "/Users/ishan/opt/anaconda3/lib/python3.7/site-packages/ipykernel_launcher.py:7: SettingWithCopyWarning: \n",
      "A value is trying to be set on a copy of a slice from a DataFrame.\n",
      "Try using .loc[row_indexer,col_indexer] = value instead\n",
      "\n",
      "See the caveats in the documentation: https://pandas.pydata.org/pandas-docs/stable/user_guide/indexing.html#returning-a-view-versus-a-copy\n",
      "  import sys\n"
     ]
    },
    {
     "name": "stdout",
     "output_type": "stream",
     "text": [
      "34/34 [==============================] - 10s 96ms/step - loss: 0.1042 - accuracy: 0.0000e+00\n",
      "[0, 3, 6, 10]\n"
     ]
    },
    {
     "name": "stderr",
     "output_type": "stream",
     "text": [
      "/Users/ishan/opt/anaconda3/lib/python3.7/site-packages/ipykernel_launcher.py:7: SettingWithCopyWarning: \n",
      "A value is trying to be set on a copy of a slice from a DataFrame.\n",
      "Try using .loc[row_indexer,col_indexer] = value instead\n",
      "\n",
      "See the caveats in the documentation: https://pandas.pydata.org/pandas-docs/stable/user_guide/indexing.html#returning-a-view-versus-a-copy\n",
      "  import sys\n"
     ]
    },
    {
     "name": "stdout",
     "output_type": "stream",
     "text": [
      "34/34 [==============================] - 11s 120ms/step - loss: 0.1053 - accuracy: 0.0000e+00\n",
      "[0, 3, 6, 11]\n"
     ]
    },
    {
     "name": "stderr",
     "output_type": "stream",
     "text": [
      "/Users/ishan/opt/anaconda3/lib/python3.7/site-packages/ipykernel_launcher.py:7: SettingWithCopyWarning: \n",
      "A value is trying to be set on a copy of a slice from a DataFrame.\n",
      "Try using .loc[row_indexer,col_indexer] = value instead\n",
      "\n",
      "See the caveats in the documentation: https://pandas.pydata.org/pandas-docs/stable/user_guide/indexing.html#returning-a-view-versus-a-copy\n",
      "  import sys\n"
     ]
    },
    {
     "name": "stdout",
     "output_type": "stream",
     "text": [
      "34/34 [==============================] - 9s 90ms/step - loss: 0.1123 - accuracy: 0.0000e+00\n",
      "[0, 3, 7, 8]\n"
     ]
    },
    {
     "name": "stderr",
     "output_type": "stream",
     "text": [
      "/Users/ishan/opt/anaconda3/lib/python3.7/site-packages/ipykernel_launcher.py:7: SettingWithCopyWarning: \n",
      "A value is trying to be set on a copy of a slice from a DataFrame.\n",
      "Try using .loc[row_indexer,col_indexer] = value instead\n",
      "\n",
      "See the caveats in the documentation: https://pandas.pydata.org/pandas-docs/stable/user_guide/indexing.html#returning-a-view-versus-a-copy\n",
      "  import sys\n"
     ]
    },
    {
     "name": "stdout",
     "output_type": "stream",
     "text": [
      "34/34 [==============================] - 12s 131ms/step - loss: 0.0953 - accuracy: 0.0000e+00\n",
      "[0, 3, 7, 9]\n"
     ]
    },
    {
     "name": "stderr",
     "output_type": "stream",
     "text": [
      "/Users/ishan/opt/anaconda3/lib/python3.7/site-packages/ipykernel_launcher.py:7: SettingWithCopyWarning: \n",
      "A value is trying to be set on a copy of a slice from a DataFrame.\n",
      "Try using .loc[row_indexer,col_indexer] = value instead\n",
      "\n",
      "See the caveats in the documentation: https://pandas.pydata.org/pandas-docs/stable/user_guide/indexing.html#returning-a-view-versus-a-copy\n",
      "  import sys\n"
     ]
    },
    {
     "name": "stdout",
     "output_type": "stream",
     "text": [
      "34/34 [==============================] - 11s 118ms/step - loss: 0.1010 - accuracy: 0.0000e+00\n",
      "[0, 3, 7, 10]\n"
     ]
    },
    {
     "name": "stderr",
     "output_type": "stream",
     "text": [
      "/Users/ishan/opt/anaconda3/lib/python3.7/site-packages/ipykernel_launcher.py:7: SettingWithCopyWarning: \n",
      "A value is trying to be set on a copy of a slice from a DataFrame.\n",
      "Try using .loc[row_indexer,col_indexer] = value instead\n",
      "\n",
      "See the caveats in the documentation: https://pandas.pydata.org/pandas-docs/stable/user_guide/indexing.html#returning-a-view-versus-a-copy\n",
      "  import sys\n"
     ]
    },
    {
     "name": "stdout",
     "output_type": "stream",
     "text": [
      "34/34 [==============================] - 11s 128ms/step - loss: 0.0843 - accuracy: 0.0000e+00\n",
      "[0, 3, 7, 11]\n"
     ]
    },
    {
     "name": "stderr",
     "output_type": "stream",
     "text": [
      "/Users/ishan/opt/anaconda3/lib/python3.7/site-packages/ipykernel_launcher.py:7: SettingWithCopyWarning: \n",
      "A value is trying to be set on a copy of a slice from a DataFrame.\n",
      "Try using .loc[row_indexer,col_indexer] = value instead\n",
      "\n",
      "See the caveats in the documentation: https://pandas.pydata.org/pandas-docs/stable/user_guide/indexing.html#returning-a-view-versus-a-copy\n",
      "  import sys\n"
     ]
    },
    {
     "name": "stdout",
     "output_type": "stream",
     "text": [
      "34/34 [==============================] - 9s 86ms/step - loss: 0.1037 - accuracy: 0.0000e+00\n",
      "[0, 3, 8, 9]\n"
     ]
    },
    {
     "name": "stderr",
     "output_type": "stream",
     "text": [
      "/Users/ishan/opt/anaconda3/lib/python3.7/site-packages/ipykernel_launcher.py:7: SettingWithCopyWarning: \n",
      "A value is trying to be set on a copy of a slice from a DataFrame.\n",
      "Try using .loc[row_indexer,col_indexer] = value instead\n",
      "\n",
      "See the caveats in the documentation: https://pandas.pydata.org/pandas-docs/stable/user_guide/indexing.html#returning-a-view-versus-a-copy\n",
      "  import sys\n"
     ]
    },
    {
     "name": "stdout",
     "output_type": "stream",
     "text": [
      "34/34 [==============================] - 8s 75ms/step - loss: 0.1059 - accuracy: 0.0000e+00\n",
      "[0, 3, 8, 10]\n"
     ]
    },
    {
     "name": "stderr",
     "output_type": "stream",
     "text": [
      "/Users/ishan/opt/anaconda3/lib/python3.7/site-packages/ipykernel_launcher.py:7: SettingWithCopyWarning: \n",
      "A value is trying to be set on a copy of a slice from a DataFrame.\n",
      "Try using .loc[row_indexer,col_indexer] = value instead\n",
      "\n",
      "See the caveats in the documentation: https://pandas.pydata.org/pandas-docs/stable/user_guide/indexing.html#returning-a-view-versus-a-copy\n",
      "  import sys\n"
     ]
    },
    {
     "name": "stdout",
     "output_type": "stream",
     "text": [
      "34/34 [==============================] - 8s 72ms/step - loss: 0.1071 - accuracy: 0.0000e+00\n",
      "[0, 3, 8, 11]\n"
     ]
    },
    {
     "name": "stderr",
     "output_type": "stream",
     "text": [
      "/Users/ishan/opt/anaconda3/lib/python3.7/site-packages/ipykernel_launcher.py:7: SettingWithCopyWarning: \n",
      "A value is trying to be set on a copy of a slice from a DataFrame.\n",
      "Try using .loc[row_indexer,col_indexer] = value instead\n",
      "\n",
      "See the caveats in the documentation: https://pandas.pydata.org/pandas-docs/stable/user_guide/indexing.html#returning-a-view-versus-a-copy\n",
      "  import sys\n"
     ]
    },
    {
     "name": "stdout",
     "output_type": "stream",
     "text": [
      "34/34 [==============================] - 8s 78ms/step - loss: 0.1062 - accuracy: 0.0000e+00\n",
      "[0, 3, 9, 10]\n"
     ]
    },
    {
     "name": "stderr",
     "output_type": "stream",
     "text": [
      "/Users/ishan/opt/anaconda3/lib/python3.7/site-packages/ipykernel_launcher.py:7: SettingWithCopyWarning: \n",
      "A value is trying to be set on a copy of a slice from a DataFrame.\n",
      "Try using .loc[row_indexer,col_indexer] = value instead\n",
      "\n",
      "See the caveats in the documentation: https://pandas.pydata.org/pandas-docs/stable/user_guide/indexing.html#returning-a-view-versus-a-copy\n",
      "  import sys\n"
     ]
    },
    {
     "name": "stdout",
     "output_type": "stream",
     "text": [
      "34/34 [==============================] - 11s 120ms/step - loss: 0.1055 - accuracy: 0.0000e+00\n",
      "[0, 3, 9, 11]\n"
     ]
    },
    {
     "name": "stderr",
     "output_type": "stream",
     "text": [
      "/Users/ishan/opt/anaconda3/lib/python3.7/site-packages/ipykernel_launcher.py:7: SettingWithCopyWarning: \n",
      "A value is trying to be set on a copy of a slice from a DataFrame.\n",
      "Try using .loc[row_indexer,col_indexer] = value instead\n",
      "\n",
      "See the caveats in the documentation: https://pandas.pydata.org/pandas-docs/stable/user_guide/indexing.html#returning-a-view-versus-a-copy\n",
      "  import sys\n"
     ]
    },
    {
     "name": "stdout",
     "output_type": "stream",
     "text": [
      "34/34 [==============================] - 10s 114ms/step - loss: 0.1085 - accuracy: 0.0000e+00\n",
      "[0, 3, 10, 11]\n"
     ]
    },
    {
     "name": "stderr",
     "output_type": "stream",
     "text": [
      "/Users/ishan/opt/anaconda3/lib/python3.7/site-packages/ipykernel_launcher.py:7: SettingWithCopyWarning: \n",
      "A value is trying to be set on a copy of a slice from a DataFrame.\n",
      "Try using .loc[row_indexer,col_indexer] = value instead\n",
      "\n",
      "See the caveats in the documentation: https://pandas.pydata.org/pandas-docs/stable/user_guide/indexing.html#returning-a-view-versus-a-copy\n",
      "  import sys\n"
     ]
    },
    {
     "name": "stdout",
     "output_type": "stream",
     "text": [
      "34/34 [==============================] - 11s 120ms/step - loss: 0.0990 - accuracy: 0.0000e+00\n",
      "[0, 4, 5, 6]\n",
      "34/34 [==============================] - 10s 101ms/step - loss: 0.0801 - accuracy: 0.0000e+00\n",
      "[0, 4, 5, 7]\n",
      "34/34 [==============================] - 8s 65ms/step - loss: 0.0672 - accuracy: 0.0000e+00\n",
      "[0, 4, 5, 8]\n",
      "34/34 [==============================] - 9s 109ms/step - loss: 0.0858 - accuracy: 0.0000e+00\n",
      "[0, 4, 5, 9]\n",
      "34/34 [==============================] - 8s 77ms/step - loss: 0.0855 - accuracy: 0.0000e+00\n",
      "[0, 4, 5, 10]\n",
      "34/34 [==============================] - 9s 94ms/step - loss: 0.0912 - accuracy: 0.0000e+00\n",
      "[0, 4, 5, 11]\n",
      "34/34 [==============================] - 10s 114ms/step - loss: 0.0606 - accuracy: 0.0000e+00\n",
      "[0, 4, 6, 7]\n",
      "34/34 [==============================] - 12s 111ms/step - loss: 0.0923 - accuracy: 0.0000e+00\n",
      "[0, 4, 6, 8]\n",
      "34/34 [==============================] - 10s 103ms/step - loss: 0.0875 - accuracy: 0.0000e+00\n",
      "[0, 4, 6, 9]\n",
      "34/34 [==============================] - 14s 136ms/step - loss: 0.0898 - accuracy: 0.0000e+00\n",
      "[0, 4, 6, 10]\n",
      "34/34 [==============================] - 12s 122ms/step - loss: 0.0917 - accuracy: 0.0000e+00\n",
      "[0, 4, 6, 11]\n",
      "34/34 [==============================] - 12s 143ms/step - loss: 0.0819 - accuracy: 9.2678e-04\n",
      "[0, 4, 7, 8]\n",
      "34/34 [==============================] - 11s 128ms/step - loss: 0.0675 - accuracy: 0.0000e+00\n",
      "[0, 4, 7, 9]\n",
      "34/34 [==============================] - 15s 133ms/step - loss: 0.0960 - accuracy: 0.0000e+00\n",
      "[0, 4, 7, 10]\n",
      "34/34 [==============================] - 13s 127ms/step - loss: 0.0910 - accuracy: 0.0000e+00\n",
      "[0, 4, 7, 11]\n",
      "34/34 [==============================] - 12s 131ms/step - loss: 0.0883 - accuracy: 0.0000e+00\n",
      "[0, 4, 8, 9]\n",
      "34/34 [==============================] - 12s 122ms/step - loss: 0.0945 - accuracy: 0.0000e+00\n",
      "[0, 4, 8, 10]\n",
      "34/34 [==============================] - 10s 111ms/step - loss: 0.0693 - accuracy: 9.2678e-04\n",
      "[0, 4, 8, 11]\n",
      "34/34 [==============================] - 11s 121ms/step - loss: 0.0912 - accuracy: 0.0000e+00\n",
      "[0, 4, 9, 10]\n",
      "34/34 [==============================] - 13s 123ms/step - loss: 0.0888 - accuracy: 0.0000e+00\n",
      "[0, 4, 9, 11]\n",
      "34/34 [==============================] - 13s 131ms/step - loss: 0.0897 - accuracy: 0.0000e+00\n",
      "[0, 4, 10, 11]\n",
      "34/34 [==============================] - 12s 126ms/step - loss: 0.0817 - accuracy: 0.0000e+00\n",
      "[0, 5, 6, 7]\n",
      "34/34 [==============================] - 12s 146ms/step - loss: 0.1009 - accuracy: 0.0000e+00\n",
      "[0, 5, 6, 8]\n",
      "34/34 [==============================] - 14s 133ms/step - loss: 0.0951 - accuracy: 0.0000e+00\n",
      "[0, 5, 6, 9]\n",
      "34/34 [==============================] - 13s 132ms/step - loss: 0.0966 - accuracy: 0.0000e+00\n",
      "[0, 5, 6, 10]\n",
      "34/34 [==============================] - 13s 135ms/step - loss: 0.1042 - accuracy: 0.0000e+00\n",
      "[0, 5, 6, 11]\n",
      "34/34 [==============================] - 11s 119ms/step - loss: 0.1082 - accuracy: 0.0000e+00\n",
      "[0, 5, 7, 8]\n",
      "34/34 [==============================] - 11s 120ms/step - loss: 0.0986 - accuracy: 0.0000e+00\n",
      "[0, 5, 7, 9]\n",
      "34/34 [==============================] - 12s 126ms/step - loss: 0.1011 - accuracy: 0.0000e+00\n",
      "[0, 5, 7, 10]\n",
      "34/34 [==============================] - 11s 117ms/step - loss: 0.0992 - accuracy: 0.0000e+00\n",
      "[0, 5, 7, 11]\n",
      "34/34 [==============================] - 12s 133ms/step - loss: 0.1021 - accuracy: 0.0000e+00\n",
      "[0, 5, 8, 9]\n",
      "34/34 [==============================] - 13s 130ms/step - loss: 0.1025 - accuracy: 0.0000e+00\n",
      "[0, 5, 8, 10]\n",
      "34/34 [==============================] - 12s 131ms/step - loss: 0.1061 - accuracy: 0.0000e+00\n",
      "[0, 5, 8, 11]\n",
      "34/34 [==============================] - 11s 120ms/step - loss: 0.1033 - accuracy: 0.0000e+00\n",
      "[0, 5, 9, 10]\n",
      "34/34 [==============================] - 11s 120ms/step - loss: 0.1025 - accuracy: 0.0000e+00\n",
      "[0, 5, 9, 11]\n",
      "34/34 [==============================] - 11s 126ms/step - loss: 0.1047 - accuracy: 0.0000e+00\n",
      "[0, 5, 10, 11]\n",
      "34/34 [==============================] - 11s 123ms/step - loss: 0.1046 - accuracy: 0.0000e+00\n",
      "[0, 6, 7, 8]\n",
      "34/34 [==============================] - 14s 156ms/step - loss: 0.1085 - accuracy: 0.0000e+00\n",
      "[0, 6, 7, 9]\n",
      "34/34 [==============================] - 13s 136ms/step - loss: 0.1053 - accuracy: 0.0000e+00\n",
      "[0, 6, 7, 10]\n",
      "34/34 [==============================] - 12s 126ms/step - loss: 0.1043 - accuracy: 0.0000e+00\n",
      "[0, 6, 7, 11]\n",
      "34/34 [==============================] - 12s 127ms/step - loss: 0.1049 - accuracy: 0.0000e+00\n",
      "[0, 6, 8, 9]\n",
      "34/34 [==============================] - 10s 122ms/step - loss: 0.1088 - accuracy: 0.0000e+00\n",
      "[0, 6, 8, 10]\n",
      "34/34 [==============================] - 11s 122ms/step - loss: 0.1089 - accuracy: 0.0000e+00\n",
      "[0, 6, 8, 11]\n",
      "34/34 [==============================] - 12s 117ms/step - loss: 0.1076 - accuracy: 0.0000e+00\n",
      "[0, 6, 9, 10]\n",
      "34/34 [==============================] - 12s 131ms/step - loss: 0.1031 - accuracy: 0.0000e+00\n",
      "[0, 6, 9, 11]\n",
      "34/34 [==============================] - 12s 133ms/step - loss: 0.1017 - accuracy: 0.0000e+00\n",
      "[0, 6, 10, 11]\n",
      "34/34 [==============================] - 12s 127ms/step - loss: 0.1060 - accuracy: 0.0000e+00\n",
      "[0, 7, 8, 9]\n",
      "34/34 [==============================] - 12s 126ms/step - loss: 0.1035 - accuracy: 0.0000e+00\n",
      "[0, 7, 8, 10]\n",
      "34/34 [==============================] - 11s 117ms/step - loss: 0.1003 - accuracy: 0.0000e+00\n",
      "[0, 7, 8, 11]\n",
      "34/34 [==============================] - 10s 113ms/step - loss: 0.1020 - accuracy: 0.0000e+00\n",
      "[0, 7, 9, 10]\n",
      "34/34 [==============================] - 9s 100ms/step - loss: 0.1029 - accuracy: 0.0000e+00\n",
      "[0, 7, 9, 11]\n",
      "34/34 [==============================] - 9s 101ms/step - loss: 0.1061 - accuracy: 0.0000e+00\n",
      "[0, 7, 10, 11]\n",
      "34/34 [==============================] - 10s 106ms/step - loss: 0.0982 - accuracy: 0.0000e+00\n",
      "[0, 8, 9, 10]\n",
      "34/34 [==============================] - 13s 130ms/step - loss: 0.1033 - accuracy: 0.0000e+00\n",
      "[0, 8, 9, 11]\n",
      "34/34 [==============================] - 12s 131ms/step - loss: 0.1058 - accuracy: 0.0000e+00\n",
      "[0, 8, 10, 11]\n",
      "34/34 [==============================] - 12s 96ms/step - loss: 0.1077 - accuracy: 0.0000e+00\n",
      "[0, 9, 10, 11]\n",
      "34/34 [==============================] - 13s 141ms/step - loss: 0.1110 - accuracy: 0.0000e+00\n",
      "[1, 2, 3, 4]\n"
     ]
    },
    {
     "name": "stderr",
     "output_type": "stream",
     "text": [
      "/Users/ishan/opt/anaconda3/lib/python3.7/site-packages/ipykernel_launcher.py:7: SettingWithCopyWarning: \n",
      "A value is trying to be set on a copy of a slice from a DataFrame.\n",
      "Try using .loc[row_indexer,col_indexer] = value instead\n",
      "\n",
      "See the caveats in the documentation: https://pandas.pydata.org/pandas-docs/stable/user_guide/indexing.html#returning-a-view-versus-a-copy\n",
      "  import sys\n"
     ]
    },
    {
     "name": "stdout",
     "output_type": "stream",
     "text": [
      "34/34 [==============================] - 13s 129ms/step - loss: 0.0651 - accuracy: 0.0000e+00\n",
      "[1, 2, 3, 5]\n"
     ]
    },
    {
     "name": "stderr",
     "output_type": "stream",
     "text": [
      "/Users/ishan/opt/anaconda3/lib/python3.7/site-packages/ipykernel_launcher.py:7: SettingWithCopyWarning: \n",
      "A value is trying to be set on a copy of a slice from a DataFrame.\n",
      "Try using .loc[row_indexer,col_indexer] = value instead\n",
      "\n",
      "See the caveats in the documentation: https://pandas.pydata.org/pandas-docs/stable/user_guide/indexing.html#returning-a-view-versus-a-copy\n",
      "  import sys\n"
     ]
    },
    {
     "name": "stdout",
     "output_type": "stream",
     "text": [
      "34/34 [==============================] - 12s 130ms/step - loss: 0.0712 - accuracy: 9.2678e-04\n",
      "[1, 2, 3, 6]\n"
     ]
    },
    {
     "name": "stderr",
     "output_type": "stream",
     "text": [
      "/Users/ishan/opt/anaconda3/lib/python3.7/site-packages/ipykernel_launcher.py:7: SettingWithCopyWarning: \n",
      "A value is trying to be set on a copy of a slice from a DataFrame.\n",
      "Try using .loc[row_indexer,col_indexer] = value instead\n",
      "\n",
      "See the caveats in the documentation: https://pandas.pydata.org/pandas-docs/stable/user_guide/indexing.html#returning-a-view-versus-a-copy\n",
      "  import sys\n"
     ]
    },
    {
     "name": "stdout",
     "output_type": "stream",
     "text": [
      "34/34 [==============================] - 11s 122ms/step - loss: 0.0957 - accuracy: 0.0000e+00\n",
      "[1, 2, 3, 7]\n"
     ]
    },
    {
     "name": "stderr",
     "output_type": "stream",
     "text": [
      "/Users/ishan/opt/anaconda3/lib/python3.7/site-packages/ipykernel_launcher.py:7: SettingWithCopyWarning: \n",
      "A value is trying to be set on a copy of a slice from a DataFrame.\n",
      "Try using .loc[row_indexer,col_indexer] = value instead\n",
      "\n",
      "See the caveats in the documentation: https://pandas.pydata.org/pandas-docs/stable/user_guide/indexing.html#returning-a-view-versus-a-copy\n",
      "  import sys\n"
     ]
    },
    {
     "name": "stdout",
     "output_type": "stream",
     "text": [
      "34/34 [==============================] - 9s 92ms/step - loss: 0.1060 - accuracy: 0.0000e+00\n",
      "[1, 2, 3, 8]\n"
     ]
    },
    {
     "name": "stderr",
     "output_type": "stream",
     "text": [
      "/Users/ishan/opt/anaconda3/lib/python3.7/site-packages/ipykernel_launcher.py:7: SettingWithCopyWarning: \n",
      "A value is trying to be set on a copy of a slice from a DataFrame.\n",
      "Try using .loc[row_indexer,col_indexer] = value instead\n",
      "\n",
      "See the caveats in the documentation: https://pandas.pydata.org/pandas-docs/stable/user_guide/indexing.html#returning-a-view-versus-a-copy\n",
      "  import sys\n"
     ]
    },
    {
     "name": "stdout",
     "output_type": "stream",
     "text": [
      "34/34 [==============================] - 9s 90ms/step - loss: 0.1046 - accuracy: 0.0000e+00\n",
      "[1, 2, 3, 9]\n"
     ]
    },
    {
     "name": "stderr",
     "output_type": "stream",
     "text": [
      "/Users/ishan/opt/anaconda3/lib/python3.7/site-packages/ipykernel_launcher.py:7: SettingWithCopyWarning: \n",
      "A value is trying to be set on a copy of a slice from a DataFrame.\n",
      "Try using .loc[row_indexer,col_indexer] = value instead\n",
      "\n",
      "See the caveats in the documentation: https://pandas.pydata.org/pandas-docs/stable/user_guide/indexing.html#returning-a-view-versus-a-copy\n",
      "  import sys\n"
     ]
    },
    {
     "name": "stdout",
     "output_type": "stream",
     "text": [
      "34/34 [==============================] - 10s 106ms/step - loss: 0.1031 - accuracy: 0.0000e+00\n",
      "[1, 2, 3, 10]\n"
     ]
    },
    {
     "name": "stderr",
     "output_type": "stream",
     "text": [
      "/Users/ishan/opt/anaconda3/lib/python3.7/site-packages/ipykernel_launcher.py:7: SettingWithCopyWarning: \n",
      "A value is trying to be set on a copy of a slice from a DataFrame.\n",
      "Try using .loc[row_indexer,col_indexer] = value instead\n",
      "\n",
      "See the caveats in the documentation: https://pandas.pydata.org/pandas-docs/stable/user_guide/indexing.html#returning-a-view-versus-a-copy\n",
      "  import sys\n"
     ]
    },
    {
     "name": "stdout",
     "output_type": "stream",
     "text": [
      "34/34 [==============================] - 9s 86ms/step - loss: 0.0805 - accuracy: 0.0000e+00\n",
      "[1, 2, 3, 11]\n"
     ]
    },
    {
     "name": "stderr",
     "output_type": "stream",
     "text": [
      "/Users/ishan/opt/anaconda3/lib/python3.7/site-packages/ipykernel_launcher.py:7: SettingWithCopyWarning: \n",
      "A value is trying to be set on a copy of a slice from a DataFrame.\n",
      "Try using .loc[row_indexer,col_indexer] = value instead\n",
      "\n",
      "See the caveats in the documentation: https://pandas.pydata.org/pandas-docs/stable/user_guide/indexing.html#returning-a-view-versus-a-copy\n",
      "  import sys\n"
     ]
    },
    {
     "name": "stdout",
     "output_type": "stream",
     "text": [
      "34/34 [==============================] - 9s 98ms/step - loss: 0.0834 - accuracy: 0.0000e+00\n",
      "[1, 2, 4, 5]\n",
      "34/34 [==============================] - 10s 123ms/step - loss: 0.0703 - accuracy: 0.0000e+00\n",
      "[1, 2, 4, 6]\n",
      "34/34 [==============================] - 9s 97ms/step - loss: 0.0819 - accuracy: 0.0000e+00\n",
      "[1, 2, 4, 7]\n",
      "34/34 [==============================] - 9s 95ms/step - loss: 0.0807 - accuracy: 0.0000e+00\n",
      "[1, 2, 4, 8]\n",
      "34/34 [==============================] - 9s 93ms/step - loss: 0.0878 - accuracy: 0.0000e+00\n",
      "[1, 2, 4, 9]\n",
      "34/34 [==============================] - 11s 115ms/step - loss: 0.0825 - accuracy: 9.2678e-04\n",
      "[1, 2, 4, 10]\n",
      "34/34 [==============================] - 9s 102ms/step - loss: 0.0799 - accuracy: 0.0000e+00\n",
      "[1, 2, 4, 11]\n",
      "34/34 [==============================] - 9s 99ms/step - loss: 0.0890 - accuracy: 0.0000e+00\n",
      "[1, 2, 5, 6]\n",
      "34/34 [==============================] - 12s 118ms/step - loss: 0.1012 - accuracy: 0.0000e+00\n",
      "[1, 2, 5, 7]\n",
      "34/34 [==============================] - 11s 122ms/step - loss: 0.0852 - accuracy: 0.0000e+00\n",
      "[1, 2, 5, 8]\n",
      "34/34 [==============================] - 10s 105ms/step - loss: 0.1001 - accuracy: 0.0000e+00\n",
      "[1, 2, 5, 9]\n",
      "34/34 [==============================] - 10s 91ms/step - loss: 0.0999 - accuracy: 0.0000e+00\n",
      "[1, 2, 5, 10]\n",
      "34/34 [==============================] - 11s 109ms/step - loss: 0.0948 - accuracy: 0.0000e+00\n",
      "[1, 2, 5, 11]\n",
      "34/34 [==============================] - 10s 111ms/step - loss: 0.1058 - accuracy: 0.0000e+00\n",
      "[1, 2, 6, 7]\n",
      "34/34 [==============================] - 10s 115ms/step - loss: 0.0970 - accuracy: 9.2678e-04\n",
      "[1, 2, 6, 8]\n",
      "34/34 [==============================] - 11s 111ms/step - loss: 0.1046 - accuracy: 0.0000e+00\n",
      "[1, 2, 6, 9]\n",
      "34/34 [==============================] - 11s 110ms/step - loss: 0.0981 - accuracy: 0.0000e+00\n",
      "[1, 2, 6, 10]\n",
      "34/34 [==============================] - 12s 132ms/step - loss: 0.1090 - accuracy: 0.0000e+00\n",
      "[1, 2, 6, 11]\n",
      "34/34 [==============================] - 12s 135ms/step - loss: 0.1046 - accuracy: 0.0000e+00\n",
      "[1, 2, 7, 8]\n",
      "34/34 [==============================] - 11s 122ms/step - loss: 0.0962 - accuracy: 0.0000e+00\n",
      "[1, 2, 7, 9]\n",
      "34/34 [==============================] - 12s 134ms/step - loss: 0.0889 - accuracy: 0.0000e+00\n",
      "[1, 2, 7, 10]\n",
      "34/34 [==============================] - 11s 115ms/step - loss: 0.1008 - accuracy: 0.0000e+00\n",
      "[1, 2, 7, 11]\n",
      "34/34 [==============================] - 12s 130ms/step - loss: 0.1001 - accuracy: 0.0000e+00\n",
      "[1, 2, 8, 9]\n",
      "34/34 [==============================] - 10s 110ms/step - loss: 0.1148 - accuracy: 0.0000e+00\n",
      "[1, 2, 8, 10]\n",
      "34/34 [==============================] - 11s 122ms/step - loss: 0.1058 - accuracy: 0.0000e+00\n",
      "[1, 2, 8, 11]\n",
      "34/34 [==============================] - 12s 120ms/step - loss: 0.1037 - accuracy: 0.0000e+00\n",
      "[1, 2, 9, 10]\n",
      "34/34 [==============================] - 10s 119ms/step - loss: 0.1086 - accuracy: 0.0000e+00\n",
      "[1, 2, 9, 11]\n",
      "34/34 [==============================] - 12s 120ms/step - loss: 0.1012 - accuracy: 0.0000e+00\n",
      "[1, 2, 10, 11]\n",
      "34/34 [==============================] - 11s 115ms/step - loss: 0.1022 - accuracy: 0.0000e+00\n",
      "[1, 3, 4, 5]\n"
     ]
    },
    {
     "name": "stderr",
     "output_type": "stream",
     "text": [
      "/Users/ishan/opt/anaconda3/lib/python3.7/site-packages/ipykernel_launcher.py:7: SettingWithCopyWarning: \n",
      "A value is trying to be set on a copy of a slice from a DataFrame.\n",
      "Try using .loc[row_indexer,col_indexer] = value instead\n",
      "\n",
      "See the caveats in the documentation: https://pandas.pydata.org/pandas-docs/stable/user_guide/indexing.html#returning-a-view-versus-a-copy\n",
      "  import sys\n"
     ]
    },
    {
     "name": "stdout",
     "output_type": "stream",
     "text": [
      "34/34 [==============================] - 12s 124ms/step - loss: 0.0735 - accuracy: 9.2678e-04\n",
      "[1, 3, 4, 6]\n"
     ]
    },
    {
     "name": "stderr",
     "output_type": "stream",
     "text": [
      "/Users/ishan/opt/anaconda3/lib/python3.7/site-packages/ipykernel_launcher.py:7: SettingWithCopyWarning: \n",
      "A value is trying to be set on a copy of a slice from a DataFrame.\n",
      "Try using .loc[row_indexer,col_indexer] = value instead\n",
      "\n",
      "See the caveats in the documentation: https://pandas.pydata.org/pandas-docs/stable/user_guide/indexing.html#returning-a-view-versus-a-copy\n",
      "  import sys\n"
     ]
    },
    {
     "name": "stdout",
     "output_type": "stream",
     "text": [
      "34/34 [==============================] - 10s 120ms/step - loss: 0.0819 - accuracy: 0.0000e+00\n",
      "[1, 3, 4, 7]\n"
     ]
    },
    {
     "name": "stderr",
     "output_type": "stream",
     "text": [
      "/Users/ishan/opt/anaconda3/lib/python3.7/site-packages/ipykernel_launcher.py:7: SettingWithCopyWarning: \n",
      "A value is trying to be set on a copy of a slice from a DataFrame.\n",
      "Try using .loc[row_indexer,col_indexer] = value instead\n",
      "\n",
      "See the caveats in the documentation: https://pandas.pydata.org/pandas-docs/stable/user_guide/indexing.html#returning-a-view-versus-a-copy\n",
      "  import sys\n"
     ]
    },
    {
     "name": "stdout",
     "output_type": "stream",
     "text": [
      "34/34 [==============================] - 11s 117ms/step - loss: 0.0883 - accuracy: 0.0000e+00\n",
      "[1, 3, 4, 8]\n"
     ]
    },
    {
     "name": "stderr",
     "output_type": "stream",
     "text": [
      "/Users/ishan/opt/anaconda3/lib/python3.7/site-packages/ipykernel_launcher.py:7: SettingWithCopyWarning: \n",
      "A value is trying to be set on a copy of a slice from a DataFrame.\n",
      "Try using .loc[row_indexer,col_indexer] = value instead\n",
      "\n",
      "See the caveats in the documentation: https://pandas.pydata.org/pandas-docs/stable/user_guide/indexing.html#returning-a-view-versus-a-copy\n",
      "  import sys\n"
     ]
    },
    {
     "name": "stdout",
     "output_type": "stream",
     "text": [
      "34/34 [==============================] - 11s 119ms/step - loss: 0.0801 - accuracy: 0.0000e+00\n",
      "[1, 3, 4, 9]\n"
     ]
    },
    {
     "name": "stderr",
     "output_type": "stream",
     "text": [
      "/Users/ishan/opt/anaconda3/lib/python3.7/site-packages/ipykernel_launcher.py:7: SettingWithCopyWarning: \n",
      "A value is trying to be set on a copy of a slice from a DataFrame.\n",
      "Try using .loc[row_indexer,col_indexer] = value instead\n",
      "\n",
      "See the caveats in the documentation: https://pandas.pydata.org/pandas-docs/stable/user_guide/indexing.html#returning-a-view-versus-a-copy\n",
      "  import sys\n"
     ]
    },
    {
     "name": "stdout",
     "output_type": "stream",
     "text": [
      "34/34 [==============================] - 10s 114ms/step - loss: 0.1046 - accuracy: 0.0000e+00\n",
      "[1, 3, 4, 10]\n"
     ]
    },
    {
     "name": "stderr",
     "output_type": "stream",
     "text": [
      "/Users/ishan/opt/anaconda3/lib/python3.7/site-packages/ipykernel_launcher.py:7: SettingWithCopyWarning: \n",
      "A value is trying to be set on a copy of a slice from a DataFrame.\n",
      "Try using .loc[row_indexer,col_indexer] = value instead\n",
      "\n",
      "See the caveats in the documentation: https://pandas.pydata.org/pandas-docs/stable/user_guide/indexing.html#returning-a-view-versus-a-copy\n",
      "  import sys\n"
     ]
    },
    {
     "name": "stdout",
     "output_type": "stream",
     "text": [
      "34/34 [==============================] - 10s 105ms/step - loss: 0.0748 - accuracy: 9.2678e-04\n",
      "[1, 3, 4, 11]\n"
     ]
    },
    {
     "name": "stderr",
     "output_type": "stream",
     "text": [
      "/Users/ishan/opt/anaconda3/lib/python3.7/site-packages/ipykernel_launcher.py:7: SettingWithCopyWarning: \n",
      "A value is trying to be set on a copy of a slice from a DataFrame.\n",
      "Try using .loc[row_indexer,col_indexer] = value instead\n",
      "\n",
      "See the caveats in the documentation: https://pandas.pydata.org/pandas-docs/stable/user_guide/indexing.html#returning-a-view-versus-a-copy\n",
      "  import sys\n"
     ]
    },
    {
     "name": "stdout",
     "output_type": "stream",
     "text": [
      "34/34 [==============================] - 9s 96ms/step - loss: 0.0696 - accuracy: 0.0000e+00\n",
      "[1, 3, 5, 6]\n"
     ]
    },
    {
     "name": "stderr",
     "output_type": "stream",
     "text": [
      "/Users/ishan/opt/anaconda3/lib/python3.7/site-packages/ipykernel_launcher.py:7: SettingWithCopyWarning: \n",
      "A value is trying to be set on a copy of a slice from a DataFrame.\n",
      "Try using .loc[row_indexer,col_indexer] = value instead\n",
      "\n",
      "See the caveats in the documentation: https://pandas.pydata.org/pandas-docs/stable/user_guide/indexing.html#returning-a-view-versus-a-copy\n",
      "  import sys\n"
     ]
    },
    {
     "name": "stdout",
     "output_type": "stream",
     "text": [
      "34/34 [==============================] - 9s 91ms/step - loss: 0.1042 - accuracy: 0.0000e+00\n",
      "[1, 3, 5, 7]\n"
     ]
    },
    {
     "name": "stderr",
     "output_type": "stream",
     "text": [
      "/Users/ishan/opt/anaconda3/lib/python3.7/site-packages/ipykernel_launcher.py:7: SettingWithCopyWarning: \n",
      "A value is trying to be set on a copy of a slice from a DataFrame.\n",
      "Try using .loc[row_indexer,col_indexer] = value instead\n",
      "\n",
      "See the caveats in the documentation: https://pandas.pydata.org/pandas-docs/stable/user_guide/indexing.html#returning-a-view-versus-a-copy\n",
      "  import sys\n"
     ]
    },
    {
     "name": "stdout",
     "output_type": "stream",
     "text": [
      "34/34 [==============================] - 9s 85ms/step - loss: 0.0739 - accuracy: 0.0000e+00\n",
      "[1, 3, 5, 8]\n"
     ]
    },
    {
     "name": "stderr",
     "output_type": "stream",
     "text": [
      "/Users/ishan/opt/anaconda3/lib/python3.7/site-packages/ipykernel_launcher.py:7: SettingWithCopyWarning: \n",
      "A value is trying to be set on a copy of a slice from a DataFrame.\n",
      "Try using .loc[row_indexer,col_indexer] = value instead\n",
      "\n",
      "See the caveats in the documentation: https://pandas.pydata.org/pandas-docs/stable/user_guide/indexing.html#returning-a-view-versus-a-copy\n",
      "  import sys\n"
     ]
    },
    {
     "name": "stdout",
     "output_type": "stream",
     "text": [
      "34/34 [==============================] - 7s 63ms/step - loss: 0.1102 - accuracy: 0.0000e+00\n",
      "[1, 3, 5, 9]\n"
     ]
    },
    {
     "name": "stderr",
     "output_type": "stream",
     "text": [
      "/Users/ishan/opt/anaconda3/lib/python3.7/site-packages/ipykernel_launcher.py:7: SettingWithCopyWarning: \n",
      "A value is trying to be set on a copy of a slice from a DataFrame.\n",
      "Try using .loc[row_indexer,col_indexer] = value instead\n",
      "\n",
      "See the caveats in the documentation: https://pandas.pydata.org/pandas-docs/stable/user_guide/indexing.html#returning-a-view-versus-a-copy\n",
      "  import sys\n"
     ]
    },
    {
     "name": "stdout",
     "output_type": "stream",
     "text": [
      "34/34 [==============================] - 11s 96ms/step - loss: 0.1000 - accuracy: 0.0000e+00\n",
      "[1, 3, 5, 10]\n"
     ]
    },
    {
     "name": "stderr",
     "output_type": "stream",
     "text": [
      "/Users/ishan/opt/anaconda3/lib/python3.7/site-packages/ipykernel_launcher.py:7: SettingWithCopyWarning: \n",
      "A value is trying to be set on a copy of a slice from a DataFrame.\n",
      "Try using .loc[row_indexer,col_indexer] = value instead\n",
      "\n",
      "See the caveats in the documentation: https://pandas.pydata.org/pandas-docs/stable/user_guide/indexing.html#returning-a-view-versus-a-copy\n",
      "  import sys\n"
     ]
    },
    {
     "name": "stdout",
     "output_type": "stream",
     "text": [
      "34/34 [==============================] - 13s 128ms/step - loss: 0.0842 - accuracy: 0.0000e+00\n",
      "[1, 3, 5, 11]\n"
     ]
    },
    {
     "name": "stderr",
     "output_type": "stream",
     "text": [
      "/Users/ishan/opt/anaconda3/lib/python3.7/site-packages/ipykernel_launcher.py:7: SettingWithCopyWarning: \n",
      "A value is trying to be set on a copy of a slice from a DataFrame.\n",
      "Try using .loc[row_indexer,col_indexer] = value instead\n",
      "\n",
      "See the caveats in the documentation: https://pandas.pydata.org/pandas-docs/stable/user_guide/indexing.html#returning-a-view-versus-a-copy\n",
      "  import sys\n"
     ]
    },
    {
     "name": "stdout",
     "output_type": "stream",
     "text": [
      "34/34 [==============================] - 13s 123ms/step - loss: 0.1018 - accuracy: 0.0000e+00\n",
      "[1, 3, 6, 7]\n"
     ]
    },
    {
     "name": "stderr",
     "output_type": "stream",
     "text": [
      "/Users/ishan/opt/anaconda3/lib/python3.7/site-packages/ipykernel_launcher.py:7: SettingWithCopyWarning: \n",
      "A value is trying to be set on a copy of a slice from a DataFrame.\n",
      "Try using .loc[row_indexer,col_indexer] = value instead\n",
      "\n",
      "See the caveats in the documentation: https://pandas.pydata.org/pandas-docs/stable/user_guide/indexing.html#returning-a-view-versus-a-copy\n",
      "  import sys\n"
     ]
    },
    {
     "name": "stdout",
     "output_type": "stream",
     "text": [
      "34/34 [==============================] - 14s 123ms/step - loss: 0.1039 - accuracy: 0.0000e+00\n",
      "[1, 3, 6, 8]\n"
     ]
    },
    {
     "name": "stderr",
     "output_type": "stream",
     "text": [
      "/Users/ishan/opt/anaconda3/lib/python3.7/site-packages/ipykernel_launcher.py:7: SettingWithCopyWarning: \n",
      "A value is trying to be set on a copy of a slice from a DataFrame.\n",
      "Try using .loc[row_indexer,col_indexer] = value instead\n",
      "\n",
      "See the caveats in the documentation: https://pandas.pydata.org/pandas-docs/stable/user_guide/indexing.html#returning-a-view-versus-a-copy\n",
      "  import sys\n"
     ]
    },
    {
     "name": "stdout",
     "output_type": "stream",
     "text": [
      "34/34 [==============================] - 11s 124ms/step - loss: 0.1020 - accuracy: 0.0000e+00\n",
      "[1, 3, 6, 9]\n"
     ]
    },
    {
     "name": "stderr",
     "output_type": "stream",
     "text": [
      "/Users/ishan/opt/anaconda3/lib/python3.7/site-packages/ipykernel_launcher.py:7: SettingWithCopyWarning: \n",
      "A value is trying to be set on a copy of a slice from a DataFrame.\n",
      "Try using .loc[row_indexer,col_indexer] = value instead\n",
      "\n",
      "See the caveats in the documentation: https://pandas.pydata.org/pandas-docs/stable/user_guide/indexing.html#returning-a-view-versus-a-copy\n",
      "  import sys\n"
     ]
    },
    {
     "name": "stdout",
     "output_type": "stream",
     "text": [
      "34/34 [==============================] - 10s 117ms/step - loss: 0.1037 - accuracy: 0.0000e+00\n",
      "[1, 3, 6, 10]\n"
     ]
    },
    {
     "name": "stderr",
     "output_type": "stream",
     "text": [
      "/Users/ishan/opt/anaconda3/lib/python3.7/site-packages/ipykernel_launcher.py:7: SettingWithCopyWarning: \n",
      "A value is trying to be set on a copy of a slice from a DataFrame.\n",
      "Try using .loc[row_indexer,col_indexer] = value instead\n",
      "\n",
      "See the caveats in the documentation: https://pandas.pydata.org/pandas-docs/stable/user_guide/indexing.html#returning-a-view-versus-a-copy\n",
      "  import sys\n"
     ]
    },
    {
     "name": "stdout",
     "output_type": "stream",
     "text": [
      "34/34 [==============================] - 13s 146ms/step - loss: 0.0870 - accuracy: 0.0000e+00\n",
      "[1, 3, 6, 11]\n"
     ]
    },
    {
     "name": "stderr",
     "output_type": "stream",
     "text": [
      "/Users/ishan/opt/anaconda3/lib/python3.7/site-packages/ipykernel_launcher.py:7: SettingWithCopyWarning: \n",
      "A value is trying to be set on a copy of a slice from a DataFrame.\n",
      "Try using .loc[row_indexer,col_indexer] = value instead\n",
      "\n",
      "See the caveats in the documentation: https://pandas.pydata.org/pandas-docs/stable/user_guide/indexing.html#returning-a-view-versus-a-copy\n",
      "  import sys\n"
     ]
    },
    {
     "name": "stdout",
     "output_type": "stream",
     "text": [
      "34/34 [==============================] - 13s 131ms/step - loss: 0.1053 - accuracy: 0.0000e+00\n",
      "[1, 3, 7, 8]\n"
     ]
    },
    {
     "name": "stderr",
     "output_type": "stream",
     "text": [
      "/Users/ishan/opt/anaconda3/lib/python3.7/site-packages/ipykernel_launcher.py:7: SettingWithCopyWarning: \n",
      "A value is trying to be set on a copy of a slice from a DataFrame.\n",
      "Try using .loc[row_indexer,col_indexer] = value instead\n",
      "\n",
      "See the caveats in the documentation: https://pandas.pydata.org/pandas-docs/stable/user_guide/indexing.html#returning-a-view-versus-a-copy\n",
      "  import sys\n"
     ]
    },
    {
     "name": "stdout",
     "output_type": "stream",
     "text": [
      "34/34 [==============================] - 14s 127ms/step - loss: 0.0989 - accuracy: 0.0000e+00\n",
      "[1, 3, 7, 9]\n"
     ]
    },
    {
     "name": "stderr",
     "output_type": "stream",
     "text": [
      "/Users/ishan/opt/anaconda3/lib/python3.7/site-packages/ipykernel_launcher.py:7: SettingWithCopyWarning: \n",
      "A value is trying to be set on a copy of a slice from a DataFrame.\n",
      "Try using .loc[row_indexer,col_indexer] = value instead\n",
      "\n",
      "See the caveats in the documentation: https://pandas.pydata.org/pandas-docs/stable/user_guide/indexing.html#returning-a-view-versus-a-copy\n",
      "  import sys\n"
     ]
    },
    {
     "name": "stdout",
     "output_type": "stream",
     "text": [
      "34/34 [==============================] - 12s 134ms/step - loss: 0.1001 - accuracy: 0.0000e+00\n",
      "[1, 3, 7, 10]\n"
     ]
    },
    {
     "name": "stderr",
     "output_type": "stream",
     "text": [
      "/Users/ishan/opt/anaconda3/lib/python3.7/site-packages/ipykernel_launcher.py:7: SettingWithCopyWarning: \n",
      "A value is trying to be set on a copy of a slice from a DataFrame.\n",
      "Try using .loc[row_indexer,col_indexer] = value instead\n",
      "\n",
      "See the caveats in the documentation: https://pandas.pydata.org/pandas-docs/stable/user_guide/indexing.html#returning-a-view-versus-a-copy\n",
      "  import sys\n"
     ]
    },
    {
     "name": "stdout",
     "output_type": "stream",
     "text": [
      "34/34 [==============================] - 11s 126ms/step - loss: 0.1104 - accuracy: 0.0000e+00\n",
      "[1, 3, 7, 11]\n"
     ]
    },
    {
     "name": "stderr",
     "output_type": "stream",
     "text": [
      "/Users/ishan/opt/anaconda3/lib/python3.7/site-packages/ipykernel_launcher.py:7: SettingWithCopyWarning: \n",
      "A value is trying to be set on a copy of a slice from a DataFrame.\n",
      "Try using .loc[row_indexer,col_indexer] = value instead\n",
      "\n",
      "See the caveats in the documentation: https://pandas.pydata.org/pandas-docs/stable/user_guide/indexing.html#returning-a-view-versus-a-copy\n",
      "  import sys\n"
     ]
    },
    {
     "name": "stdout",
     "output_type": "stream",
     "text": [
      "34/34 [==============================] - 11s 112ms/step - loss: 0.0929 - accuracy: 0.0000e+00\n",
      "[1, 3, 8, 9]\n"
     ]
    },
    {
     "name": "stderr",
     "output_type": "stream",
     "text": [
      "/Users/ishan/opt/anaconda3/lib/python3.7/site-packages/ipykernel_launcher.py:7: SettingWithCopyWarning: \n",
      "A value is trying to be set on a copy of a slice from a DataFrame.\n",
      "Try using .loc[row_indexer,col_indexer] = value instead\n",
      "\n",
      "See the caveats in the documentation: https://pandas.pydata.org/pandas-docs/stable/user_guide/indexing.html#returning-a-view-versus-a-copy\n",
      "  import sys\n"
     ]
    },
    {
     "name": "stdout",
     "output_type": "stream",
     "text": [
      "34/34 [==============================] - 9s 101ms/step - loss: 0.1029 - accuracy: 0.0000e+00\n",
      "[1, 3, 8, 10]\n"
     ]
    },
    {
     "name": "stderr",
     "output_type": "stream",
     "text": [
      "/Users/ishan/opt/anaconda3/lib/python3.7/site-packages/ipykernel_launcher.py:7: SettingWithCopyWarning: \n",
      "A value is trying to be set on a copy of a slice from a DataFrame.\n",
      "Try using .loc[row_indexer,col_indexer] = value instead\n",
      "\n",
      "See the caveats in the documentation: https://pandas.pydata.org/pandas-docs/stable/user_guide/indexing.html#returning-a-view-versus-a-copy\n",
      "  import sys\n"
     ]
    },
    {
     "name": "stdout",
     "output_type": "stream",
     "text": [
      "34/34 [==============================] - 10s 119ms/step - loss: 0.1016 - accuracy: 0.0000e+00\n",
      "[1, 3, 8, 11]\n"
     ]
    },
    {
     "name": "stderr",
     "output_type": "stream",
     "text": [
      "/Users/ishan/opt/anaconda3/lib/python3.7/site-packages/ipykernel_launcher.py:7: SettingWithCopyWarning: \n",
      "A value is trying to be set on a copy of a slice from a DataFrame.\n",
      "Try using .loc[row_indexer,col_indexer] = value instead\n",
      "\n",
      "See the caveats in the documentation: https://pandas.pydata.org/pandas-docs/stable/user_guide/indexing.html#returning-a-view-versus-a-copy\n",
      "  import sys\n"
     ]
    },
    {
     "name": "stdout",
     "output_type": "stream",
     "text": [
      "34/34 [==============================] - 12s 125ms/step - loss: 0.1036 - accuracy: 0.0000e+00\n",
      "[1, 3, 9, 10]\n"
     ]
    },
    {
     "name": "stderr",
     "output_type": "stream",
     "text": [
      "/Users/ishan/opt/anaconda3/lib/python3.7/site-packages/ipykernel_launcher.py:7: SettingWithCopyWarning: \n",
      "A value is trying to be set on a copy of a slice from a DataFrame.\n",
      "Try using .loc[row_indexer,col_indexer] = value instead\n",
      "\n",
      "See the caveats in the documentation: https://pandas.pydata.org/pandas-docs/stable/user_guide/indexing.html#returning-a-view-versus-a-copy\n",
      "  import sys\n"
     ]
    },
    {
     "name": "stdout",
     "output_type": "stream",
     "text": [
      "34/34 [==============================] - 11s 121ms/step - loss: 0.1062 - accuracy: 9.2678e-04\n",
      "[1, 3, 9, 11]\n"
     ]
    },
    {
     "name": "stderr",
     "output_type": "stream",
     "text": [
      "/Users/ishan/opt/anaconda3/lib/python3.7/site-packages/ipykernel_launcher.py:7: SettingWithCopyWarning: \n",
      "A value is trying to be set on a copy of a slice from a DataFrame.\n",
      "Try using .loc[row_indexer,col_indexer] = value instead\n",
      "\n",
      "See the caveats in the documentation: https://pandas.pydata.org/pandas-docs/stable/user_guide/indexing.html#returning-a-view-versus-a-copy\n",
      "  import sys\n"
     ]
    },
    {
     "name": "stdout",
     "output_type": "stream",
     "text": [
      "34/34 [==============================] - 10s 120ms/step - loss: 0.1051 - accuracy: 0.0000e+00\n",
      "[1, 3, 10, 11]\n"
     ]
    },
    {
     "name": "stderr",
     "output_type": "stream",
     "text": [
      "/Users/ishan/opt/anaconda3/lib/python3.7/site-packages/ipykernel_launcher.py:7: SettingWithCopyWarning: \n",
      "A value is trying to be set on a copy of a slice from a DataFrame.\n",
      "Try using .loc[row_indexer,col_indexer] = value instead\n",
      "\n",
      "See the caveats in the documentation: https://pandas.pydata.org/pandas-docs/stable/user_guide/indexing.html#returning-a-view-versus-a-copy\n",
      "  import sys\n"
     ]
    },
    {
     "name": "stdout",
     "output_type": "stream",
     "text": [
      "34/34 [==============================] - 11s 120ms/step - loss: 0.1054 - accuracy: 0.0000e+00\n",
      "[1, 4, 5, 6]\n",
      "34/34 [==============================] - 12s 125ms/step - loss: 0.0946 - accuracy: 9.2678e-04\n",
      "[1, 4, 5, 7]\n",
      "34/34 [==============================] - 13s 125ms/step - loss: 0.0803 - accuracy: 0.0000e+00\n",
      "[1, 4, 5, 8]\n",
      "34/34 [==============================] - 11s 121ms/step - loss: 0.0703 - accuracy: 0.0000e+00\n",
      "[1, 4, 5, 9]\n",
      "34/34 [==============================] - 11s 124ms/step - loss: 0.0924 - accuracy: 0.0000e+00\n",
      "[1, 4, 5, 10]\n",
      "34/34 [==============================] - 9s 95ms/step - loss: 0.0821 - accuracy: 0.0000e+00\n",
      "[1, 4, 5, 11]\n",
      "34/34 [==============================] - 10s 110ms/step - loss: 0.0794 - accuracy: 0.0000e+00\n",
      "[1, 4, 6, 7]\n",
      "34/34 [==============================] - 9s 86ms/step - loss: 0.0906 - accuracy: 0.0000e+00\n",
      "[1, 4, 6, 8]\n",
      "34/34 [==============================] - 9s 104ms/step - loss: 0.0870 - accuracy: 0.0000e+00\n",
      "[1, 4, 6, 9]\n",
      "34/34 [==============================] - 14s 135ms/step - loss: 0.0906 - accuracy: 0.0000e+00\n",
      "[1, 4, 6, 10]\n",
      "34/34 [==============================] - 12s 126ms/step - loss: 0.0876 - accuracy: 0.0000e+00\n",
      "[1, 4, 6, 11]\n",
      "34/34 [==============================] - 12s 132ms/step - loss: 0.0831 - accuracy: 0.0000e+00\n",
      "[1, 4, 7, 8]\n",
      "34/34 [==============================] - 9s 94ms/step - loss: 0.0761 - accuracy: 0.0000e+00\n",
      "[1, 4, 7, 9]\n",
      "34/34 [==============================] - 10s 90ms/step - loss: 0.0854 - accuracy: 0.0000e+00\n",
      "[1, 4, 7, 10]\n",
      "34/34 [==============================] - 10s 95ms/step - loss: 0.0619 - accuracy: 0.0000e+00\n",
      "[1, 4, 7, 11]\n",
      "34/34 [==============================] - 9s 90ms/step - loss: 0.0927 - accuracy: 0.0000e+00\n",
      "[1, 4, 8, 9]\n",
      "34/34 [==============================] - 9s 91ms/step - loss: 0.0896 - accuracy: 0.0000e+00\n",
      "[1, 4, 8, 10]\n",
      "34/34 [==============================] - 9s 102ms/step - loss: 0.0902 - accuracy: 0.0000e+00\n",
      "[1, 4, 8, 11]\n",
      "34/34 [==============================] - 9s 84ms/step - loss: 0.1085 - accuracy: 0.0000e+00\n",
      "[1, 4, 9, 10]\n",
      "34/34 [==============================] - 9s 85ms/step - loss: 0.0765 - accuracy: 0.0000e+00\n",
      "[1, 4, 9, 11]\n",
      "34/34 [==============================] - 8s 76ms/step - loss: 0.0891 - accuracy: 0.0000e+00\n",
      "[1, 4, 10, 11]\n",
      "34/34 [==============================] - 9s 84ms/step - loss: 0.0956 - accuracy: 0.0000e+00\n",
      "[1, 5, 6, 7]\n",
      "34/34 [==============================] - 9s 99ms/step - loss: 0.1123 - accuracy: 0.0000e+00\n",
      "[1, 5, 6, 8]\n",
      "34/34 [==============================] - 9s 98ms/step - loss: 0.1044 - accuracy: 0.0000e+00\n",
      "[1, 5, 6, 9]\n",
      "34/34 [==============================] - 10s 91ms/step - loss: 0.1094 - accuracy: 0.0000e+00\n",
      "[1, 5, 6, 10]\n",
      "34/34 [==============================] - 9s 90ms/step - loss: 0.1045 - accuracy: 0.0000e+00\n",
      "[1, 5, 6, 11]\n",
      "34/34 [==============================] - 9s 94ms/step - loss: 0.1124 - accuracy: 0.0000e+00\n",
      "[1, 5, 7, 8]\n",
      "34/34 [==============================] - 9s 84ms/step - loss: 0.1071 - accuracy: 0.0000e+00\n",
      "[1, 5, 7, 9]\n",
      "34/34 [==============================] - 8s 76ms/step - loss: 0.1030 - accuracy: 0.0000e+00\n",
      "[1, 5, 7, 10]\n",
      "34/34 [==============================] - 7s 75ms/step - loss: 0.0968 - accuracy: 0.0000e+00\n",
      "[1, 5, 7, 11]\n",
      "34/34 [==============================] - 7s 77ms/step - loss: 0.1046 - accuracy: 0.0000e+00\n",
      "[1, 5, 8, 9]\n",
      "34/34 [==============================] - 8s 79ms/step - loss: 0.1078 - accuracy: 0.0000e+00\n",
      "[1, 5, 8, 10]\n",
      "34/34 [==============================] - 9s 87ms/step - loss: 0.1016 - accuracy: 0.0000e+00\n",
      "[1, 5, 8, 11]\n",
      "34/34 [==============================] - 13s 118ms/step - loss: 0.1075 - accuracy: 0.0000e+00\n",
      "[1, 5, 9, 10]\n",
      "34/34 [==============================] - 12s 117ms/step - loss: 0.1034 - accuracy: 0.0000e+00\n",
      "[1, 5, 9, 11]\n",
      "34/34 [==============================] - 9s 99ms/step - loss: 0.1007 - accuracy: 0.0000e+00\n",
      "[1, 5, 10, 11]\n",
      "34/34 [==============================] - 9s 102ms/step - loss: 0.1067 - accuracy: 0.0000e+00\n",
      "[1, 6, 7, 8]\n",
      "34/34 [==============================] - 10s 92ms/step - loss: 0.1070 - accuracy: 0.0000e+00\n",
      "[1, 6, 7, 9]\n",
      "34/34 [==============================] - 9s 107ms/step - loss: 0.1049 - accuracy: 0.0000e+00\n",
      "[1, 6, 7, 10]\n",
      "34/34 [==============================] - 9s 78ms/step - loss: 0.1049 - accuracy: 9.2678e-04\n",
      "[1, 6, 7, 11]\n",
      "34/34 [==============================] - 9s 73ms/step - loss: 0.0984 - accuracy: 0.0000e+00\n",
      "[1, 6, 8, 9]\n",
      "34/34 [==============================] - 12s 95ms/step - loss: 0.1039 - accuracy: 0.0000e+00\n",
      "[1, 6, 8, 10]\n",
      "34/34 [==============================] - 10s 108ms/step - loss: 0.1064 - accuracy: 0.0000e+00\n",
      "[1, 6, 8, 11]\n",
      "34/34 [==============================] - 12s 122ms/step - loss: 0.1071 - accuracy: 0.0000e+00\n",
      "[1, 6, 9, 10]\n",
      "34/34 [==============================] - 12s 132ms/step - loss: 0.1096 - accuracy: 0.0000e+00\n",
      "[1, 6, 9, 11]\n",
      "34/34 [==============================] - 9s 88ms/step - loss: 0.1089 - accuracy: 0.0000e+00\n",
      "[1, 6, 10, 11]\n",
      "34/34 [==============================] - 10s 108ms/step - loss: 0.1080 - accuracy: 0.0000e+00\n",
      "[1, 7, 8, 9]\n",
      "34/34 [==============================] - 10s 113ms/step - loss: 0.1050 - accuracy: 0.0000e+00\n",
      "[1, 7, 8, 10]\n",
      "34/34 [==============================] - 11s 117ms/step - loss: 0.1053 - accuracy: 0.0000e+00\n",
      "[1, 7, 8, 11]\n",
      "34/34 [==============================] - 11s 115ms/step - loss: 0.1021 - accuracy: 0.0000e+00\n",
      "[1, 7, 9, 10]\n",
      "34/34 [==============================] - 11s 118ms/step - loss: 0.1125 - accuracy: 0.0000e+00\n",
      "[1, 7, 9, 11]\n",
      "34/34 [==============================] - 12s 119ms/step - loss: 0.1037 - accuracy: 0.0000e+00\n",
      "[1, 7, 10, 11]\n",
      "34/34 [==============================] - 12s 122ms/step - loss: 0.0975 - accuracy: 0.0000e+00\n",
      "[1, 8, 9, 10]\n",
      "34/34 [==============================] - 11s 115ms/step - loss: 0.1079 - accuracy: 0.0000e+00\n",
      "[1, 8, 9, 11]\n",
      "34/34 [==============================] - 14s 156ms/step - loss: 0.1107 - accuracy: 0.0000e+00\n",
      "[1, 8, 10, 11]\n",
      "34/34 [==============================] - 11s 117ms/step - loss: 0.1096 - accuracy: 0.0000e+00\n",
      "[1, 9, 10, 11]\n",
      "34/34 [==============================] - 10s 108ms/step - loss: 0.1090 - accuracy: 0.0000e+00\n",
      "[2, 3, 4, 5]\n"
     ]
    },
    {
     "name": "stderr",
     "output_type": "stream",
     "text": [
      "/Users/ishan/opt/anaconda3/lib/python3.7/site-packages/ipykernel_launcher.py:7: SettingWithCopyWarning: \n",
      "A value is trying to be set on a copy of a slice from a DataFrame.\n",
      "Try using .loc[row_indexer,col_indexer] = value instead\n",
      "\n",
      "See the caveats in the documentation: https://pandas.pydata.org/pandas-docs/stable/user_guide/indexing.html#returning-a-view-versus-a-copy\n",
      "  import sys\n"
     ]
    },
    {
     "name": "stdout",
     "output_type": "stream",
     "text": [
      "34/34 [==============================] - 11s 126ms/step - loss: 0.0712 - accuracy: 0.0000e+00\n",
      "[2, 3, 4, 6]\n"
     ]
    },
    {
     "name": "stderr",
     "output_type": "stream",
     "text": [
      "/Users/ishan/opt/anaconda3/lib/python3.7/site-packages/ipykernel_launcher.py:7: SettingWithCopyWarning: \n",
      "A value is trying to be set on a copy of a slice from a DataFrame.\n",
      "Try using .loc[row_indexer,col_indexer] = value instead\n",
      "\n",
      "See the caveats in the documentation: https://pandas.pydata.org/pandas-docs/stable/user_guide/indexing.html#returning-a-view-versus-a-copy\n",
      "  import sys\n"
     ]
    },
    {
     "name": "stdout",
     "output_type": "stream",
     "text": [
      "34/34 [==============================] - 12s 113ms/step - loss: 0.0803 - accuracy: 0.0000e+00\n",
      "[2, 3, 4, 7]\n"
     ]
    },
    {
     "name": "stderr",
     "output_type": "stream",
     "text": [
      "/Users/ishan/opt/anaconda3/lib/python3.7/site-packages/ipykernel_launcher.py:7: SettingWithCopyWarning: \n",
      "A value is trying to be set on a copy of a slice from a DataFrame.\n",
      "Try using .loc[row_indexer,col_indexer] = value instead\n",
      "\n",
      "See the caveats in the documentation: https://pandas.pydata.org/pandas-docs/stable/user_guide/indexing.html#returning-a-view-versus-a-copy\n",
      "  import sys\n"
     ]
    },
    {
     "name": "stdout",
     "output_type": "stream",
     "text": [
      "34/34 [==============================] - 11s 118ms/step - loss: 0.0795 - accuracy: 9.2678e-04\n",
      "[2, 3, 4, 8]\n"
     ]
    },
    {
     "name": "stderr",
     "output_type": "stream",
     "text": [
      "/Users/ishan/opt/anaconda3/lib/python3.7/site-packages/ipykernel_launcher.py:7: SettingWithCopyWarning: \n",
      "A value is trying to be set on a copy of a slice from a DataFrame.\n",
      "Try using .loc[row_indexer,col_indexer] = value instead\n",
      "\n",
      "See the caveats in the documentation: https://pandas.pydata.org/pandas-docs/stable/user_guide/indexing.html#returning-a-view-versus-a-copy\n",
      "  import sys\n"
     ]
    },
    {
     "name": "stdout",
     "output_type": "stream",
     "text": [
      "34/34 [==============================] - 12s 120ms/step - loss: 0.0930 - accuracy: 0.0000e+00\n",
      "[2, 3, 4, 9]\n"
     ]
    },
    {
     "name": "stderr",
     "output_type": "stream",
     "text": [
      "/Users/ishan/opt/anaconda3/lib/python3.7/site-packages/ipykernel_launcher.py:7: SettingWithCopyWarning: \n",
      "A value is trying to be set on a copy of a slice from a DataFrame.\n",
      "Try using .loc[row_indexer,col_indexer] = value instead\n",
      "\n",
      "See the caveats in the documentation: https://pandas.pydata.org/pandas-docs/stable/user_guide/indexing.html#returning-a-view-versus-a-copy\n",
      "  import sys\n"
     ]
    },
    {
     "name": "stdout",
     "output_type": "stream",
     "text": [
      "34/34 [==============================] - 14s 133ms/step - loss: 0.0857 - accuracy: 0.0000e+00\n",
      "[2, 3, 4, 10]\n"
     ]
    },
    {
     "name": "stderr",
     "output_type": "stream",
     "text": [
      "/Users/ishan/opt/anaconda3/lib/python3.7/site-packages/ipykernel_launcher.py:7: SettingWithCopyWarning: \n",
      "A value is trying to be set on a copy of a slice from a DataFrame.\n",
      "Try using .loc[row_indexer,col_indexer] = value instead\n",
      "\n",
      "See the caveats in the documentation: https://pandas.pydata.org/pandas-docs/stable/user_guide/indexing.html#returning-a-view-versus-a-copy\n",
      "  import sys\n"
     ]
    },
    {
     "name": "stdout",
     "output_type": "stream",
     "text": [
      "34/34 [==============================] - 13s 122ms/step - loss: 0.0655 - accuracy: 9.2678e-04\n",
      "[2, 3, 4, 11]\n"
     ]
    },
    {
     "name": "stderr",
     "output_type": "stream",
     "text": [
      "/Users/ishan/opt/anaconda3/lib/python3.7/site-packages/ipykernel_launcher.py:7: SettingWithCopyWarning: \n",
      "A value is trying to be set on a copy of a slice from a DataFrame.\n",
      "Try using .loc[row_indexer,col_indexer] = value instead\n",
      "\n",
      "See the caveats in the documentation: https://pandas.pydata.org/pandas-docs/stable/user_guide/indexing.html#returning-a-view-versus-a-copy\n",
      "  import sys\n"
     ]
    },
    {
     "name": "stdout",
     "output_type": "stream",
     "text": [
      "34/34 [==============================] - 12s 127ms/step - loss: 0.0803 - accuracy: 0.0000e+00\n",
      "[2, 3, 5, 6]\n"
     ]
    },
    {
     "name": "stderr",
     "output_type": "stream",
     "text": [
      "/Users/ishan/opt/anaconda3/lib/python3.7/site-packages/ipykernel_launcher.py:7: SettingWithCopyWarning: \n",
      "A value is trying to be set on a copy of a slice from a DataFrame.\n",
      "Try using .loc[row_indexer,col_indexer] = value instead\n",
      "\n",
      "See the caveats in the documentation: https://pandas.pydata.org/pandas-docs/stable/user_guide/indexing.html#returning-a-view-versus-a-copy\n",
      "  import sys\n"
     ]
    },
    {
     "name": "stdout",
     "output_type": "stream",
     "text": [
      "34/34 [==============================] - 10s 96ms/step - loss: 0.0892 - accuracy: 0.0000e+00\n",
      "[2, 3, 5, 7]\n"
     ]
    },
    {
     "name": "stderr",
     "output_type": "stream",
     "text": [
      "/Users/ishan/opt/anaconda3/lib/python3.7/site-packages/ipykernel_launcher.py:7: SettingWithCopyWarning: \n",
      "A value is trying to be set on a copy of a slice from a DataFrame.\n",
      "Try using .loc[row_indexer,col_indexer] = value instead\n",
      "\n",
      "See the caveats in the documentation: https://pandas.pydata.org/pandas-docs/stable/user_guide/indexing.html#returning-a-view-versus-a-copy\n",
      "  import sys\n"
     ]
    },
    {
     "name": "stdout",
     "output_type": "stream",
     "text": [
      "34/34 [==============================] - 11s 120ms/step - loss: 0.0986 - accuracy: 0.0000e+00\n",
      "[2, 3, 5, 8]\n"
     ]
    },
    {
     "name": "stderr",
     "output_type": "stream",
     "text": [
      "/Users/ishan/opt/anaconda3/lib/python3.7/site-packages/ipykernel_launcher.py:7: SettingWithCopyWarning: \n",
      "A value is trying to be set on a copy of a slice from a DataFrame.\n",
      "Try using .loc[row_indexer,col_indexer] = value instead\n",
      "\n",
      "See the caveats in the documentation: https://pandas.pydata.org/pandas-docs/stable/user_guide/indexing.html#returning-a-view-versus-a-copy\n",
      "  import sys\n"
     ]
    },
    {
     "name": "stdout",
     "output_type": "stream",
     "text": [
      "34/34 [==============================] - 10s 113ms/step - loss: 0.0911 - accuracy: 0.0000e+00\n",
      "[2, 3, 5, 9]\n"
     ]
    },
    {
     "name": "stderr",
     "output_type": "stream",
     "text": [
      "/Users/ishan/opt/anaconda3/lib/python3.7/site-packages/ipykernel_launcher.py:7: SettingWithCopyWarning: \n",
      "A value is trying to be set on a copy of a slice from a DataFrame.\n",
      "Try using .loc[row_indexer,col_indexer] = value instead\n",
      "\n",
      "See the caveats in the documentation: https://pandas.pydata.org/pandas-docs/stable/user_guide/indexing.html#returning-a-view-versus-a-copy\n",
      "  import sys\n"
     ]
    },
    {
     "name": "stdout",
     "output_type": "stream",
     "text": [
      "34/34 [==============================] - 12s 119ms/step - loss: 0.0941 - accuracy: 0.0000e+00\n",
      "[2, 3, 5, 10]\n"
     ]
    },
    {
     "name": "stderr",
     "output_type": "stream",
     "text": [
      "/Users/ishan/opt/anaconda3/lib/python3.7/site-packages/ipykernel_launcher.py:7: SettingWithCopyWarning: \n",
      "A value is trying to be set on a copy of a slice from a DataFrame.\n",
      "Try using .loc[row_indexer,col_indexer] = value instead\n",
      "\n",
      "See the caveats in the documentation: https://pandas.pydata.org/pandas-docs/stable/user_guide/indexing.html#returning-a-view-versus-a-copy\n",
      "  import sys\n"
     ]
    },
    {
     "name": "stdout",
     "output_type": "stream",
     "text": [
      "34/34 [==============================] - 12s 122ms/step - loss: 0.0944 - accuracy: 0.0000e+00\n",
      "[2, 3, 5, 11]\n"
     ]
    },
    {
     "name": "stderr",
     "output_type": "stream",
     "text": [
      "/Users/ishan/opt/anaconda3/lib/python3.7/site-packages/ipykernel_launcher.py:7: SettingWithCopyWarning: \n",
      "A value is trying to be set on a copy of a slice from a DataFrame.\n",
      "Try using .loc[row_indexer,col_indexer] = value instead\n",
      "\n",
      "See the caveats in the documentation: https://pandas.pydata.org/pandas-docs/stable/user_guide/indexing.html#returning-a-view-versus-a-copy\n",
      "  import sys\n"
     ]
    },
    {
     "name": "stdout",
     "output_type": "stream",
     "text": [
      "34/34 [==============================] - 13s 125ms/step - loss: 0.0909 - accuracy: 0.0000e+00\n",
      "[2, 3, 6, 7]\n"
     ]
    },
    {
     "name": "stderr",
     "output_type": "stream",
     "text": [
      "/Users/ishan/opt/anaconda3/lib/python3.7/site-packages/ipykernel_launcher.py:7: SettingWithCopyWarning: \n",
      "A value is trying to be set on a copy of a slice from a DataFrame.\n",
      "Try using .loc[row_indexer,col_indexer] = value instead\n",
      "\n",
      "See the caveats in the documentation: https://pandas.pydata.org/pandas-docs/stable/user_guide/indexing.html#returning-a-view-versus-a-copy\n",
      "  import sys\n"
     ]
    },
    {
     "name": "stdout",
     "output_type": "stream",
     "text": [
      "34/34 [==============================] - 13s 129ms/step - loss: 0.1082 - accuracy: 0.0000e+00\n",
      "[2, 3, 6, 8]\n"
     ]
    },
    {
     "name": "stderr",
     "output_type": "stream",
     "text": [
      "/Users/ishan/opt/anaconda3/lib/python3.7/site-packages/ipykernel_launcher.py:7: SettingWithCopyWarning: \n",
      "A value is trying to be set on a copy of a slice from a DataFrame.\n",
      "Try using .loc[row_indexer,col_indexer] = value instead\n",
      "\n",
      "See the caveats in the documentation: https://pandas.pydata.org/pandas-docs/stable/user_guide/indexing.html#returning-a-view-versus-a-copy\n",
      "  import sys\n"
     ]
    },
    {
     "name": "stdout",
     "output_type": "stream",
     "text": [
      "34/34 [==============================] - 11s 120ms/step - loss: 0.1060 - accuracy: 0.0000e+00\n",
      "[2, 3, 6, 9]\n"
     ]
    },
    {
     "name": "stderr",
     "output_type": "stream",
     "text": [
      "/Users/ishan/opt/anaconda3/lib/python3.7/site-packages/ipykernel_launcher.py:7: SettingWithCopyWarning: \n",
      "A value is trying to be set on a copy of a slice from a DataFrame.\n",
      "Try using .loc[row_indexer,col_indexer] = value instead\n",
      "\n",
      "See the caveats in the documentation: https://pandas.pydata.org/pandas-docs/stable/user_guide/indexing.html#returning-a-view-versus-a-copy\n",
      "  import sys\n"
     ]
    },
    {
     "name": "stdout",
     "output_type": "stream",
     "text": [
      "34/34 [==============================] - 11s 116ms/step - loss: 0.1014 - accuracy: 0.0000e+00\n",
      "[2, 3, 6, 10]\n"
     ]
    },
    {
     "name": "stderr",
     "output_type": "stream",
     "text": [
      "/Users/ishan/opt/anaconda3/lib/python3.7/site-packages/ipykernel_launcher.py:7: SettingWithCopyWarning: \n",
      "A value is trying to be set on a copy of a slice from a DataFrame.\n",
      "Try using .loc[row_indexer,col_indexer] = value instead\n",
      "\n",
      "See the caveats in the documentation: https://pandas.pydata.org/pandas-docs/stable/user_guide/indexing.html#returning-a-view-versus-a-copy\n",
      "  import sys\n"
     ]
    },
    {
     "name": "stdout",
     "output_type": "stream",
     "text": [
      "34/34 [==============================] - 12s 128ms/step - loss: 0.1095 - accuracy: 0.0000e+00\n",
      "[2, 3, 6, 11]\n"
     ]
    },
    {
     "name": "stderr",
     "output_type": "stream",
     "text": [
      "/Users/ishan/opt/anaconda3/lib/python3.7/site-packages/ipykernel_launcher.py:7: SettingWithCopyWarning: \n",
      "A value is trying to be set on a copy of a slice from a DataFrame.\n",
      "Try using .loc[row_indexer,col_indexer] = value instead\n",
      "\n",
      "See the caveats in the documentation: https://pandas.pydata.org/pandas-docs/stable/user_guide/indexing.html#returning-a-view-versus-a-copy\n",
      "  import sys\n"
     ]
    },
    {
     "name": "stdout",
     "output_type": "stream",
     "text": [
      "34/34 [==============================] - 10s 116ms/step - loss: 0.1080 - accuracy: 0.0000e+00\n",
      "[2, 3, 7, 8]\n"
     ]
    },
    {
     "name": "stderr",
     "output_type": "stream",
     "text": [
      "/Users/ishan/opt/anaconda3/lib/python3.7/site-packages/ipykernel_launcher.py:7: SettingWithCopyWarning: \n",
      "A value is trying to be set on a copy of a slice from a DataFrame.\n",
      "Try using .loc[row_indexer,col_indexer] = value instead\n",
      "\n",
      "See the caveats in the documentation: https://pandas.pydata.org/pandas-docs/stable/user_guide/indexing.html#returning-a-view-versus-a-copy\n",
      "  import sys\n"
     ]
    },
    {
     "name": "stdout",
     "output_type": "stream",
     "text": [
      "34/34 [==============================] - 11s 126ms/step - loss: 0.1027 - accuracy: 0.0000e+00\n",
      "[2, 3, 7, 9]\n"
     ]
    },
    {
     "name": "stderr",
     "output_type": "stream",
     "text": [
      "/Users/ishan/opt/anaconda3/lib/python3.7/site-packages/ipykernel_launcher.py:7: SettingWithCopyWarning: \n",
      "A value is trying to be set on a copy of a slice from a DataFrame.\n",
      "Try using .loc[row_indexer,col_indexer] = value instead\n",
      "\n",
      "See the caveats in the documentation: https://pandas.pydata.org/pandas-docs/stable/user_guide/indexing.html#returning-a-view-versus-a-copy\n",
      "  import sys\n"
     ]
    },
    {
     "name": "stdout",
     "output_type": "stream",
     "text": [
      "34/34 [==============================] - 9s 88ms/step - loss: 0.1018 - accuracy: 0.0000e+00\n",
      "[2, 3, 7, 10]\n"
     ]
    },
    {
     "name": "stderr",
     "output_type": "stream",
     "text": [
      "/Users/ishan/opt/anaconda3/lib/python3.7/site-packages/ipykernel_launcher.py:7: SettingWithCopyWarning: \n",
      "A value is trying to be set on a copy of a slice from a DataFrame.\n",
      "Try using .loc[row_indexer,col_indexer] = value instead\n",
      "\n",
      "See the caveats in the documentation: https://pandas.pydata.org/pandas-docs/stable/user_guide/indexing.html#returning-a-view-versus-a-copy\n",
      "  import sys\n"
     ]
    },
    {
     "name": "stdout",
     "output_type": "stream",
     "text": [
      "34/34 [==============================] - 9s 88ms/step - loss: 0.0917 - accuracy: 0.0000e+00\n",
      "[2, 3, 7, 11]\n"
     ]
    },
    {
     "name": "stderr",
     "output_type": "stream",
     "text": [
      "/Users/ishan/opt/anaconda3/lib/python3.7/site-packages/ipykernel_launcher.py:7: SettingWithCopyWarning: \n",
      "A value is trying to be set on a copy of a slice from a DataFrame.\n",
      "Try using .loc[row_indexer,col_indexer] = value instead\n",
      "\n",
      "See the caveats in the documentation: https://pandas.pydata.org/pandas-docs/stable/user_guide/indexing.html#returning-a-view-versus-a-copy\n",
      "  import sys\n"
     ]
    },
    {
     "name": "stdout",
     "output_type": "stream",
     "text": [
      "34/34 [==============================] - 9s 84ms/step - loss: 0.1046 - accuracy: 0.0000e+00\n",
      "[2, 3, 8, 9]\n"
     ]
    },
    {
     "name": "stderr",
     "output_type": "stream",
     "text": [
      "/Users/ishan/opt/anaconda3/lib/python3.7/site-packages/ipykernel_launcher.py:7: SettingWithCopyWarning: \n",
      "A value is trying to be set on a copy of a slice from a DataFrame.\n",
      "Try using .loc[row_indexer,col_indexer] = value instead\n",
      "\n",
      "See the caveats in the documentation: https://pandas.pydata.org/pandas-docs/stable/user_guide/indexing.html#returning-a-view-versus-a-copy\n",
      "  import sys\n"
     ]
    },
    {
     "name": "stdout",
     "output_type": "stream",
     "text": [
      "34/34 [==============================] - 9s 82ms/step - loss: 0.1054 - accuracy: 0.0000e+00\n",
      "[2, 3, 8, 10]\n"
     ]
    },
    {
     "name": "stderr",
     "output_type": "stream",
     "text": [
      "/Users/ishan/opt/anaconda3/lib/python3.7/site-packages/ipykernel_launcher.py:7: SettingWithCopyWarning: \n",
      "A value is trying to be set on a copy of a slice from a DataFrame.\n",
      "Try using .loc[row_indexer,col_indexer] = value instead\n",
      "\n",
      "See the caveats in the documentation: https://pandas.pydata.org/pandas-docs/stable/user_guide/indexing.html#returning-a-view-versus-a-copy\n",
      "  import sys\n"
     ]
    },
    {
     "name": "stdout",
     "output_type": "stream",
     "text": [
      "34/34 [==============================] - 11s 114ms/step - loss: 0.0958 - accuracy: 9.2678e-04\n",
      "[2, 3, 8, 11]\n"
     ]
    },
    {
     "name": "stderr",
     "output_type": "stream",
     "text": [
      "/Users/ishan/opt/anaconda3/lib/python3.7/site-packages/ipykernel_launcher.py:7: SettingWithCopyWarning: \n",
      "A value is trying to be set on a copy of a slice from a DataFrame.\n",
      "Try using .loc[row_indexer,col_indexer] = value instead\n",
      "\n",
      "See the caveats in the documentation: https://pandas.pydata.org/pandas-docs/stable/user_guide/indexing.html#returning-a-view-versus-a-copy\n",
      "  import sys\n"
     ]
    },
    {
     "name": "stdout",
     "output_type": "stream",
     "text": [
      "34/34 [==============================] - 11s 115ms/step - loss: 0.1082 - accuracy: 0.0000e+00\n",
      "[2, 3, 9, 10]\n"
     ]
    },
    {
     "name": "stderr",
     "output_type": "stream",
     "text": [
      "/Users/ishan/opt/anaconda3/lib/python3.7/site-packages/ipykernel_launcher.py:7: SettingWithCopyWarning: \n",
      "A value is trying to be set on a copy of a slice from a DataFrame.\n",
      "Try using .loc[row_indexer,col_indexer] = value instead\n",
      "\n",
      "See the caveats in the documentation: https://pandas.pydata.org/pandas-docs/stable/user_guide/indexing.html#returning-a-view-versus-a-copy\n",
      "  import sys\n"
     ]
    },
    {
     "name": "stdout",
     "output_type": "stream",
     "text": [
      "34/34 [==============================] - 10s 99ms/step - loss: 0.0984 - accuracy: 0.0000e+00\n",
      "[2, 3, 9, 11]\n"
     ]
    },
    {
     "name": "stderr",
     "output_type": "stream",
     "text": [
      "/Users/ishan/opt/anaconda3/lib/python3.7/site-packages/ipykernel_launcher.py:7: SettingWithCopyWarning: \n",
      "A value is trying to be set on a copy of a slice from a DataFrame.\n",
      "Try using .loc[row_indexer,col_indexer] = value instead\n",
      "\n",
      "See the caveats in the documentation: https://pandas.pydata.org/pandas-docs/stable/user_guide/indexing.html#returning-a-view-versus-a-copy\n",
      "  import sys\n"
     ]
    },
    {
     "name": "stdout",
     "output_type": "stream",
     "text": [
      "34/34 [==============================] - 11s 131ms/step - loss: 0.1057 - accuracy: 0.0000e+00\n",
      "[2, 3, 10, 11]\n"
     ]
    },
    {
     "name": "stderr",
     "output_type": "stream",
     "text": [
      "/Users/ishan/opt/anaconda3/lib/python3.7/site-packages/ipykernel_launcher.py:7: SettingWithCopyWarning: \n",
      "A value is trying to be set on a copy of a slice from a DataFrame.\n",
      "Try using .loc[row_indexer,col_indexer] = value instead\n",
      "\n",
      "See the caveats in the documentation: https://pandas.pydata.org/pandas-docs/stable/user_guide/indexing.html#returning-a-view-versus-a-copy\n",
      "  import sys\n"
     ]
    },
    {
     "name": "stdout",
     "output_type": "stream",
     "text": [
      "34/34 [==============================] - 14s 125ms/step - loss: 0.0964 - accuracy: 0.0000e+00\n",
      "[2, 4, 5, 6]\n",
      "34/34 [==============================] - 16s 136ms/step - loss: 0.0859 - accuracy: 0.0000e+00\n",
      "[2, 4, 5, 7]\n",
      "34/34 [==============================] - 17s 142ms/step - loss: 0.0840 - accuracy: 0.0000e+00\n",
      "[2, 4, 5, 8]\n",
      "34/34 [==============================] - 13s 132ms/step - loss: 0.0754 - accuracy: 0.0000e+00\n",
      "[2, 4, 5, 9]\n",
      "34/34 [==============================] - 10s 114ms/step - loss: 0.0922 - accuracy: 0.0000e+00\n",
      "[2, 4, 5, 10]\n",
      "34/34 [==============================] - 9s 101ms/step - loss: 0.0717 - accuracy: 0.0000e+00\n",
      "[2, 4, 5, 11]\n",
      "34/34 [==============================] - 9s 105ms/step - loss: 0.0671 - accuracy: 0.0000e+00\n",
      "[2, 4, 6, 7]\n",
      "34/34 [==============================] - 11s 111ms/step - loss: 0.0816 - accuracy: 9.2678e-04\n",
      "[2, 4, 6, 8]\n",
      "34/34 [==============================] - 11s 117ms/step - loss: 0.1013 - accuracy: 0.0000e+00\n",
      "[2, 4, 6, 9]\n",
      "34/34 [==============================] - 12s 121ms/step - loss: 0.0743 - accuracy: 0.0000e+00\n",
      "[2, 4, 6, 10]\n",
      "34/34 [==============================] - 10s 107ms/step - loss: 0.0755 - accuracy: 9.2678e-04\n",
      "[2, 4, 6, 11]\n",
      "34/34 [==============================] - 10s 115ms/step - loss: 0.0895 - accuracy: 0.0000e+00\n",
      "[2, 4, 7, 8]\n",
      "34/34 [==============================] - 12s 117ms/step - loss: 0.0805 - accuracy: 0.0000e+00\n",
      "[2, 4, 7, 9]\n",
      "34/34 [==============================] - 11s 129ms/step - loss: 0.0852 - accuracy: 0.0000e+00\n",
      "[2, 4, 7, 10]\n",
      "34/34 [==============================] - 13s 132ms/step - loss: 0.0921 - accuracy: 9.2678e-04\n",
      "[2, 4, 7, 11]\n",
      "34/34 [==============================] - 11s 126ms/step - loss: 0.1016 - accuracy: 0.0000e+00\n",
      "[2, 4, 8, 9]\n",
      "34/34 [==============================] - 13s 128ms/step - loss: 0.0940 - accuracy: 0.0000e+00\n",
      "[2, 4, 8, 10]\n",
      "34/34 [==============================] - 11s 127ms/step - loss: 0.0874 - accuracy: 0.0000e+00\n",
      "[2, 4, 8, 11]\n",
      "34/34 [==============================] - 11s 135ms/step - loss: 0.0946 - accuracy: 0.0000e+00\n",
      "[2, 4, 9, 10]\n",
      "34/34 [==============================] - 14s 138ms/step - loss: 0.0902 - accuracy: 0.0000e+00\n",
      "[2, 4, 9, 11]\n",
      "34/34 [==============================] - 14s 146ms/step - loss: 0.0919 - accuracy: 0.0000e+00\n",
      "[2, 4, 10, 11]\n",
      "34/34 [==============================] - 12s 138ms/step - loss: 0.0834 - accuracy: 0.0000e+00\n",
      "[2, 5, 6, 7]\n",
      "34/34 [==============================] - 12s 130ms/step - loss: 0.0985 - accuracy: 0.0000e+00\n",
      "[2, 5, 6, 8]\n",
      "34/34 [==============================] - 11s 128ms/step - loss: 0.1097 - accuracy: 0.0000e+00\n",
      "[2, 5, 6, 9]\n",
      "34/34 [==============================] - 11s 127ms/step - loss: 0.1070 - accuracy: 0.0000e+00\n",
      "[2, 5, 6, 10]\n",
      "34/34 [==============================] - 11s 120ms/step - loss: 0.1080 - accuracy: 0.0000e+00\n",
      "[2, 5, 6, 11]\n",
      "34/34 [==============================] - 11s 123ms/step - loss: 0.1074 - accuracy: 0.0000e+00\n",
      "[2, 5, 7, 8]\n",
      "34/34 [==============================] - 11s 123ms/step - loss: 0.1027 - accuracy: 0.0000e+00\n",
      "[2, 5, 7, 9]\n",
      "34/34 [==============================] - 13s 129ms/step - loss: 0.1024 - accuracy: 0.0000e+00\n",
      "[2, 5, 7, 10]\n",
      "34/34 [==============================] - 12s 129ms/step - loss: 0.0992 - accuracy: 0.0000e+00\n",
      "[2, 5, 7, 11]\n",
      "34/34 [==============================] - 12s 133ms/step - loss: 0.1002 - accuracy: 0.0000e+00\n",
      "[2, 5, 8, 9]\n",
      "34/34 [==============================] - 11s 115ms/step - loss: 0.1089 - accuracy: 0.0000e+00\n",
      "[2, 5, 8, 10]\n",
      "34/34 [==============================] - 10s 107ms/step - loss: 0.1095 - accuracy: 0.0000e+00\n",
      "[2, 5, 8, 11]\n",
      "34/34 [==============================] - 10s 114ms/step - loss: 0.1081 - accuracy: 0.0000e+00\n",
      "[2, 5, 9, 10]\n",
      "34/34 [==============================] - 9s 103ms/step - loss: 0.0947 - accuracy: 0.0000e+00\n",
      "[2, 5, 9, 11]\n",
      "34/34 [==============================] - 9s 106ms/step - loss: 0.1123 - accuracy: 0.0000e+00\n",
      "[2, 5, 10, 11]\n",
      "34/34 [==============================] - 10s 107ms/step - loss: 0.1123 - accuracy: 0.0000e+00\n",
      "[2, 6, 7, 8]\n",
      "34/34 [==============================] - 9s 108ms/step - loss: 0.0997 - accuracy: 0.0000e+00\n",
      "[2, 6, 7, 9]\n",
      "34/34 [==============================] - 9s 95ms/step - loss: 0.1001 - accuracy: 0.0000e+00\n",
      "[2, 6, 7, 10]\n",
      "34/34 [==============================] - 8s 82ms/step - loss: 0.1057 - accuracy: 0.0000e+00\n",
      "[2, 6, 7, 11]\n",
      "34/34 [==============================] - 8s 86ms/step - loss: 0.1026 - accuracy: 0.0000e+00\n",
      "[2, 6, 8, 9]\n",
      "34/34 [==============================] - 8s 92ms/step - loss: 0.1034 - accuracy: 0.0000e+00\n",
      "[2, 6, 8, 10]\n",
      "34/34 [==============================] - 8s 88ms/step - loss: 0.1058 - accuracy: 0.0000e+00\n",
      "[2, 6, 8, 11]\n",
      "34/34 [==============================] - 9s 84ms/step - loss: 0.1005 - accuracy: 0.0000e+00\n",
      "[2, 6, 9, 10]\n",
      "34/34 [==============================] - 8s 87ms/step - loss: 0.1077 - accuracy: 0.0000e+00\n",
      "[2, 6, 9, 11]\n",
      "34/34 [==============================] - 9s 103ms/step - loss: 0.1119 - accuracy: 0.0000e+00\n",
      "[2, 6, 10, 11]\n",
      "34/34 [==============================] - 8s 86ms/step - loss: 0.1083 - accuracy: 0.0000e+00\n",
      "[2, 7, 8, 9]\n",
      "34/34 [==============================] - 8s 87ms/step - loss: 0.1020 - accuracy: 0.0000e+00\n",
      "[2, 7, 8, 10]\n",
      "34/34 [==============================] - 8s 90ms/step - loss: 0.1064 - accuracy: 0.0000e+00\n",
      "[2, 7, 8, 11]\n",
      "34/34 [==============================] - 8s 85ms/step - loss: 0.1016 - accuracy: 0.0000e+00\n",
      "[2, 7, 9, 10]\n",
      "34/34 [==============================] - 8s 83ms/step - loss: 0.0998 - accuracy: 0.0000e+00\n",
      "[2, 7, 9, 11]\n",
      "34/34 [==============================] - 8s 87ms/step - loss: 0.1152 - accuracy: 0.0000e+00\n",
      "[2, 7, 10, 11]\n",
      "34/34 [==============================] - 9s 84ms/step - loss: 0.1085 - accuracy: 0.0000e+00\n",
      "[2, 8, 9, 10]\n",
      "34/34 [==============================] - 8s 86ms/step - loss: 0.1078 - accuracy: 0.0000e+00\n",
      "[2, 8, 9, 11]\n",
      "34/34 [==============================] - 8s 82ms/step - loss: 0.1080 - accuracy: 0.0000e+00\n",
      "[2, 8, 10, 11]\n",
      "34/34 [==============================] - 8s 84ms/step - loss: 0.1055 - accuracy: 0.0000e+00\n",
      "[2, 9, 10, 11]\n",
      "34/34 [==============================] - 8s 69ms/step - loss: 0.1127 - accuracy: 0.0000e+00\n",
      "[3, 4, 5, 6]\n"
     ]
    },
    {
     "name": "stderr",
     "output_type": "stream",
     "text": [
      "/Users/ishan/opt/anaconda3/lib/python3.7/site-packages/ipykernel_launcher.py:7: SettingWithCopyWarning: \n",
      "A value is trying to be set on a copy of a slice from a DataFrame.\n",
      "Try using .loc[row_indexer,col_indexer] = value instead\n",
      "\n",
      "See the caveats in the documentation: https://pandas.pydata.org/pandas-docs/stable/user_guide/indexing.html#returning-a-view-versus-a-copy\n",
      "  import sys\n"
     ]
    },
    {
     "name": "stdout",
     "output_type": "stream",
     "text": [
      "34/34 [==============================] - 7s 62ms/step - loss: 0.0939 - accuracy: 0.0000e+00\n",
      "[3, 4, 5, 7]\n"
     ]
    },
    {
     "name": "stderr",
     "output_type": "stream",
     "text": [
      "/Users/ishan/opt/anaconda3/lib/python3.7/site-packages/ipykernel_launcher.py:7: SettingWithCopyWarning: \n",
      "A value is trying to be set on a copy of a slice from a DataFrame.\n",
      "Try using .loc[row_indexer,col_indexer] = value instead\n",
      "\n",
      "See the caveats in the documentation: https://pandas.pydata.org/pandas-docs/stable/user_guide/indexing.html#returning-a-view-versus-a-copy\n",
      "  import sys\n"
     ]
    },
    {
     "name": "stdout",
     "output_type": "stream",
     "text": [
      "34/34 [==============================] - 10s 102ms/step - loss: 0.0695 - accuracy: 0.0000e+00\n",
      "[3, 4, 5, 8]\n"
     ]
    },
    {
     "name": "stderr",
     "output_type": "stream",
     "text": [
      "/Users/ishan/opt/anaconda3/lib/python3.7/site-packages/ipykernel_launcher.py:7: SettingWithCopyWarning: \n",
      "A value is trying to be set on a copy of a slice from a DataFrame.\n",
      "Try using .loc[row_indexer,col_indexer] = value instead\n",
      "\n",
      "See the caveats in the documentation: https://pandas.pydata.org/pandas-docs/stable/user_guide/indexing.html#returning-a-view-versus-a-copy\n",
      "  import sys\n"
     ]
    },
    {
     "name": "stdout",
     "output_type": "stream",
     "text": [
      "34/34 [==============================] - 9s 94ms/step - loss: 0.0909 - accuracy: 0.0000e+00\n",
      "[3, 4, 5, 9]\n"
     ]
    },
    {
     "name": "stderr",
     "output_type": "stream",
     "text": [
      "/Users/ishan/opt/anaconda3/lib/python3.7/site-packages/ipykernel_launcher.py:7: SettingWithCopyWarning: \n",
      "A value is trying to be set on a copy of a slice from a DataFrame.\n",
      "Try using .loc[row_indexer,col_indexer] = value instead\n",
      "\n",
      "See the caveats in the documentation: https://pandas.pydata.org/pandas-docs/stable/user_guide/indexing.html#returning-a-view-versus-a-copy\n",
      "  import sys\n"
     ]
    },
    {
     "name": "stdout",
     "output_type": "stream",
     "text": [
      "34/34 [==============================] - 8s 79ms/step - loss: 0.0778 - accuracy: 0.0000e+00\n",
      "[3, 4, 5, 10]\n"
     ]
    },
    {
     "name": "stderr",
     "output_type": "stream",
     "text": [
      "/Users/ishan/opt/anaconda3/lib/python3.7/site-packages/ipykernel_launcher.py:7: SettingWithCopyWarning: \n",
      "A value is trying to be set on a copy of a slice from a DataFrame.\n",
      "Try using .loc[row_indexer,col_indexer] = value instead\n",
      "\n",
      "See the caveats in the documentation: https://pandas.pydata.org/pandas-docs/stable/user_guide/indexing.html#returning-a-view-versus-a-copy\n",
      "  import sys\n"
     ]
    },
    {
     "name": "stdout",
     "output_type": "stream",
     "text": [
      "34/34 [==============================] - 8s 77ms/step - loss: 0.0837 - accuracy: 0.0000e+00\n",
      "[3, 4, 5, 11]\n"
     ]
    },
    {
     "name": "stderr",
     "output_type": "stream",
     "text": [
      "/Users/ishan/opt/anaconda3/lib/python3.7/site-packages/ipykernel_launcher.py:7: SettingWithCopyWarning: \n",
      "A value is trying to be set on a copy of a slice from a DataFrame.\n",
      "Try using .loc[row_indexer,col_indexer] = value instead\n",
      "\n",
      "See the caveats in the documentation: https://pandas.pydata.org/pandas-docs/stable/user_guide/indexing.html#returning-a-view-versus-a-copy\n",
      "  import sys\n"
     ]
    },
    {
     "name": "stdout",
     "output_type": "stream",
     "text": [
      "34/34 [==============================] - 8s 78ms/step - loss: 0.0890 - accuracy: 0.0000e+00\n",
      "[3, 4, 6, 7]\n"
     ]
    },
    {
     "name": "stderr",
     "output_type": "stream",
     "text": [
      "/Users/ishan/opt/anaconda3/lib/python3.7/site-packages/ipykernel_launcher.py:7: SettingWithCopyWarning: \n",
      "A value is trying to be set on a copy of a slice from a DataFrame.\n",
      "Try using .loc[row_indexer,col_indexer] = value instead\n",
      "\n",
      "See the caveats in the documentation: https://pandas.pydata.org/pandas-docs/stable/user_guide/indexing.html#returning-a-view-versus-a-copy\n",
      "  import sys\n"
     ]
    },
    {
     "name": "stdout",
     "output_type": "stream",
     "text": [
      "34/34 [==============================] - 8s 81ms/step - loss: 0.0799 - accuracy: 0.0000e+00\n",
      "[3, 4, 6, 8]\n"
     ]
    },
    {
     "name": "stderr",
     "output_type": "stream",
     "text": [
      "/Users/ishan/opt/anaconda3/lib/python3.7/site-packages/ipykernel_launcher.py:7: SettingWithCopyWarning: \n",
      "A value is trying to be set on a copy of a slice from a DataFrame.\n",
      "Try using .loc[row_indexer,col_indexer] = value instead\n",
      "\n",
      "See the caveats in the documentation: https://pandas.pydata.org/pandas-docs/stable/user_guide/indexing.html#returning-a-view-versus-a-copy\n",
      "  import sys\n"
     ]
    },
    {
     "name": "stdout",
     "output_type": "stream",
     "text": [
      "34/34 [==============================] - 8s 78ms/step - loss: 0.0843 - accuracy: 0.0000e+00\n",
      "[3, 4, 6, 9]\n"
     ]
    },
    {
     "name": "stderr",
     "output_type": "stream",
     "text": [
      "/Users/ishan/opt/anaconda3/lib/python3.7/site-packages/ipykernel_launcher.py:7: SettingWithCopyWarning: \n",
      "A value is trying to be set on a copy of a slice from a DataFrame.\n",
      "Try using .loc[row_indexer,col_indexer] = value instead\n",
      "\n",
      "See the caveats in the documentation: https://pandas.pydata.org/pandas-docs/stable/user_guide/indexing.html#returning-a-view-versus-a-copy\n",
      "  import sys\n"
     ]
    },
    {
     "name": "stdout",
     "output_type": "stream",
     "text": [
      "34/34 [==============================] - 8s 80ms/step - loss: 0.0880 - accuracy: 0.0000e+00\n",
      "[3, 4, 6, 10]\n"
     ]
    },
    {
     "name": "stderr",
     "output_type": "stream",
     "text": [
      "/Users/ishan/opt/anaconda3/lib/python3.7/site-packages/ipykernel_launcher.py:7: SettingWithCopyWarning: \n",
      "A value is trying to be set on a copy of a slice from a DataFrame.\n",
      "Try using .loc[row_indexer,col_indexer] = value instead\n",
      "\n",
      "See the caveats in the documentation: https://pandas.pydata.org/pandas-docs/stable/user_guide/indexing.html#returning-a-view-versus-a-copy\n",
      "  import sys\n"
     ]
    },
    {
     "name": "stdout",
     "output_type": "stream",
     "text": [
      "34/34 [==============================] - 8s 81ms/step - loss: 0.0984 - accuracy: 0.0000e+00\n",
      "[3, 4, 6, 11]\n"
     ]
    },
    {
     "name": "stderr",
     "output_type": "stream",
     "text": [
      "/Users/ishan/opt/anaconda3/lib/python3.7/site-packages/ipykernel_launcher.py:7: SettingWithCopyWarning: \n",
      "A value is trying to be set on a copy of a slice from a DataFrame.\n",
      "Try using .loc[row_indexer,col_indexer] = value instead\n",
      "\n",
      "See the caveats in the documentation: https://pandas.pydata.org/pandas-docs/stable/user_guide/indexing.html#returning-a-view-versus-a-copy\n",
      "  import sys\n"
     ]
    },
    {
     "name": "stdout",
     "output_type": "stream",
     "text": [
      "34/34 [==============================] - 8s 81ms/step - loss: 0.0914 - accuracy: 0.0000e+00\n",
      "[3, 4, 7, 8]\n"
     ]
    },
    {
     "name": "stderr",
     "output_type": "stream",
     "text": [
      "/Users/ishan/opt/anaconda3/lib/python3.7/site-packages/ipykernel_launcher.py:7: SettingWithCopyWarning: \n",
      "A value is trying to be set on a copy of a slice from a DataFrame.\n",
      "Try using .loc[row_indexer,col_indexer] = value instead\n",
      "\n",
      "See the caveats in the documentation: https://pandas.pydata.org/pandas-docs/stable/user_guide/indexing.html#returning-a-view-versus-a-copy\n",
      "  import sys\n"
     ]
    },
    {
     "name": "stdout",
     "output_type": "stream",
     "text": [
      "34/34 [==============================] - 8s 84ms/step - loss: 0.0954 - accuracy: 0.0000e+00\n",
      "[3, 4, 7, 9]\n"
     ]
    },
    {
     "name": "stderr",
     "output_type": "stream",
     "text": [
      "/Users/ishan/opt/anaconda3/lib/python3.7/site-packages/ipykernel_launcher.py:7: SettingWithCopyWarning: \n",
      "A value is trying to be set on a copy of a slice from a DataFrame.\n",
      "Try using .loc[row_indexer,col_indexer] = value instead\n",
      "\n",
      "See the caveats in the documentation: https://pandas.pydata.org/pandas-docs/stable/user_guide/indexing.html#returning-a-view-versus-a-copy\n",
      "  import sys\n"
     ]
    },
    {
     "name": "stdout",
     "output_type": "stream",
     "text": [
      "34/34 [==============================] - 8s 77ms/step - loss: 0.0934 - accuracy: 0.0000e+00\n",
      "[3, 4, 7, 10]\n"
     ]
    },
    {
     "name": "stderr",
     "output_type": "stream",
     "text": [
      "/Users/ishan/opt/anaconda3/lib/python3.7/site-packages/ipykernel_launcher.py:7: SettingWithCopyWarning: \n",
      "A value is trying to be set on a copy of a slice from a DataFrame.\n",
      "Try using .loc[row_indexer,col_indexer] = value instead\n",
      "\n",
      "See the caveats in the documentation: https://pandas.pydata.org/pandas-docs/stable/user_guide/indexing.html#returning-a-view-versus-a-copy\n",
      "  import sys\n"
     ]
    },
    {
     "name": "stdout",
     "output_type": "stream",
     "text": [
      "34/34 [==============================] - 8s 79ms/step - loss: 0.0973 - accuracy: 0.0000e+00\n",
      "[3, 4, 7, 11]\n"
     ]
    },
    {
     "name": "stderr",
     "output_type": "stream",
     "text": [
      "/Users/ishan/opt/anaconda3/lib/python3.7/site-packages/ipykernel_launcher.py:7: SettingWithCopyWarning: \n",
      "A value is trying to be set on a copy of a slice from a DataFrame.\n",
      "Try using .loc[row_indexer,col_indexer] = value instead\n",
      "\n",
      "See the caveats in the documentation: https://pandas.pydata.org/pandas-docs/stable/user_guide/indexing.html#returning-a-view-versus-a-copy\n",
      "  import sys\n"
     ]
    },
    {
     "name": "stdout",
     "output_type": "stream",
     "text": [
      "34/34 [==============================] - 8s 83ms/step - loss: 0.0824 - accuracy: 0.0000e+00\n",
      "[3, 4, 8, 9]\n"
     ]
    },
    {
     "name": "stderr",
     "output_type": "stream",
     "text": [
      "/Users/ishan/opt/anaconda3/lib/python3.7/site-packages/ipykernel_launcher.py:7: SettingWithCopyWarning: \n",
      "A value is trying to be set on a copy of a slice from a DataFrame.\n",
      "Try using .loc[row_indexer,col_indexer] = value instead\n",
      "\n",
      "See the caveats in the documentation: https://pandas.pydata.org/pandas-docs/stable/user_guide/indexing.html#returning-a-view-versus-a-copy\n",
      "  import sys\n"
     ]
    },
    {
     "name": "stdout",
     "output_type": "stream",
     "text": [
      "34/34 [==============================] - 7s 73ms/step - loss: 0.0949 - accuracy: 0.0000e+00\n",
      "[3, 4, 8, 10]\n"
     ]
    },
    {
     "name": "stderr",
     "output_type": "stream",
     "text": [
      "/Users/ishan/opt/anaconda3/lib/python3.7/site-packages/ipykernel_launcher.py:7: SettingWithCopyWarning: \n",
      "A value is trying to be set on a copy of a slice from a DataFrame.\n",
      "Try using .loc[row_indexer,col_indexer] = value instead\n",
      "\n",
      "See the caveats in the documentation: https://pandas.pydata.org/pandas-docs/stable/user_guide/indexing.html#returning-a-view-versus-a-copy\n",
      "  import sys\n"
     ]
    },
    {
     "name": "stdout",
     "output_type": "stream",
     "text": [
      "34/34 [==============================] - 8s 69ms/step - loss: 0.0841 - accuracy: 0.0000e+00\n",
      "[3, 4, 8, 11]\n"
     ]
    },
    {
     "name": "stderr",
     "output_type": "stream",
     "text": [
      "/Users/ishan/opt/anaconda3/lib/python3.7/site-packages/ipykernel_launcher.py:7: SettingWithCopyWarning: \n",
      "A value is trying to be set on a copy of a slice from a DataFrame.\n",
      "Try using .loc[row_indexer,col_indexer] = value instead\n",
      "\n",
      "See the caveats in the documentation: https://pandas.pydata.org/pandas-docs/stable/user_guide/indexing.html#returning-a-view-versus-a-copy\n",
      "  import sys\n"
     ]
    },
    {
     "name": "stdout",
     "output_type": "stream",
     "text": [
      "34/34 [==============================] - 7s 68ms/step - loss: 0.0870 - accuracy: 0.0000e+00\n",
      "[3, 4, 9, 10]\n"
     ]
    },
    {
     "name": "stderr",
     "output_type": "stream",
     "text": [
      "/Users/ishan/opt/anaconda3/lib/python3.7/site-packages/ipykernel_launcher.py:7: SettingWithCopyWarning: \n",
      "A value is trying to be set on a copy of a slice from a DataFrame.\n",
      "Try using .loc[row_indexer,col_indexer] = value instead\n",
      "\n",
      "See the caveats in the documentation: https://pandas.pydata.org/pandas-docs/stable/user_guide/indexing.html#returning-a-view-versus-a-copy\n",
      "  import sys\n"
     ]
    },
    {
     "name": "stdout",
     "output_type": "stream",
     "text": [
      "34/34 [==============================] - 7s 66ms/step - loss: 0.0832 - accuracy: 0.0000e+00\n",
      "[3, 4, 9, 11]\n"
     ]
    },
    {
     "name": "stderr",
     "output_type": "stream",
     "text": [
      "/Users/ishan/opt/anaconda3/lib/python3.7/site-packages/ipykernel_launcher.py:7: SettingWithCopyWarning: \n",
      "A value is trying to be set on a copy of a slice from a DataFrame.\n",
      "Try using .loc[row_indexer,col_indexer] = value instead\n",
      "\n",
      "See the caveats in the documentation: https://pandas.pydata.org/pandas-docs/stable/user_guide/indexing.html#returning-a-view-versus-a-copy\n",
      "  import sys\n"
     ]
    },
    {
     "name": "stdout",
     "output_type": "stream",
     "text": [
      "34/34 [==============================] - 7s 66ms/step - loss: 0.0850 - accuracy: 0.0000e+00\n",
      "[3, 4, 10, 11]\n"
     ]
    },
    {
     "name": "stderr",
     "output_type": "stream",
     "text": [
      "/Users/ishan/opt/anaconda3/lib/python3.7/site-packages/ipykernel_launcher.py:7: SettingWithCopyWarning: \n",
      "A value is trying to be set on a copy of a slice from a DataFrame.\n",
      "Try using .loc[row_indexer,col_indexer] = value instead\n",
      "\n",
      "See the caveats in the documentation: https://pandas.pydata.org/pandas-docs/stable/user_guide/indexing.html#returning-a-view-versus-a-copy\n",
      "  import sys\n"
     ]
    },
    {
     "name": "stdout",
     "output_type": "stream",
     "text": [
      "34/34 [==============================] - 7s 67ms/step - loss: 0.0903 - accuracy: 9.2678e-04\n",
      "[3, 5, 6, 7]\n"
     ]
    },
    {
     "name": "stderr",
     "output_type": "stream",
     "text": [
      "/Users/ishan/opt/anaconda3/lib/python3.7/site-packages/ipykernel_launcher.py:7: SettingWithCopyWarning: \n",
      "A value is trying to be set on a copy of a slice from a DataFrame.\n",
      "Try using .loc[row_indexer,col_indexer] = value instead\n",
      "\n",
      "See the caveats in the documentation: https://pandas.pydata.org/pandas-docs/stable/user_guide/indexing.html#returning-a-view-versus-a-copy\n",
      "  import sys\n"
     ]
    },
    {
     "name": "stdout",
     "output_type": "stream",
     "text": [
      "34/34 [==============================] - 7s 66ms/step - loss: 0.1028 - accuracy: 0.0000e+00\n",
      "[3, 5, 6, 8]\n"
     ]
    },
    {
     "name": "stderr",
     "output_type": "stream",
     "text": [
      "/Users/ishan/opt/anaconda3/lib/python3.7/site-packages/ipykernel_launcher.py:7: SettingWithCopyWarning: \n",
      "A value is trying to be set on a copy of a slice from a DataFrame.\n",
      "Try using .loc[row_indexer,col_indexer] = value instead\n",
      "\n",
      "See the caveats in the documentation: https://pandas.pydata.org/pandas-docs/stable/user_guide/indexing.html#returning-a-view-versus-a-copy\n",
      "  import sys\n"
     ]
    },
    {
     "name": "stdout",
     "output_type": "stream",
     "text": [
      "34/34 [==============================] - 7s 66ms/step - loss: 0.1022 - accuracy: 0.0000e+00\n",
      "[3, 5, 6, 9]\n"
     ]
    },
    {
     "name": "stderr",
     "output_type": "stream",
     "text": [
      "/Users/ishan/opt/anaconda3/lib/python3.7/site-packages/ipykernel_launcher.py:7: SettingWithCopyWarning: \n",
      "A value is trying to be set on a copy of a slice from a DataFrame.\n",
      "Try using .loc[row_indexer,col_indexer] = value instead\n",
      "\n",
      "See the caveats in the documentation: https://pandas.pydata.org/pandas-docs/stable/user_guide/indexing.html#returning-a-view-versus-a-copy\n",
      "  import sys\n"
     ]
    },
    {
     "name": "stdout",
     "output_type": "stream",
     "text": [
      "34/34 [==============================] - 7s 68ms/step - loss: 0.0992 - accuracy: 0.0000e+00\n",
      "[3, 5, 6, 10]\n"
     ]
    },
    {
     "name": "stderr",
     "output_type": "stream",
     "text": [
      "/Users/ishan/opt/anaconda3/lib/python3.7/site-packages/ipykernel_launcher.py:7: SettingWithCopyWarning: \n",
      "A value is trying to be set on a copy of a slice from a DataFrame.\n",
      "Try using .loc[row_indexer,col_indexer] = value instead\n",
      "\n",
      "See the caveats in the documentation: https://pandas.pydata.org/pandas-docs/stable/user_guide/indexing.html#returning-a-view-versus-a-copy\n",
      "  import sys\n"
     ]
    },
    {
     "name": "stdout",
     "output_type": "stream",
     "text": [
      "34/34 [==============================] - 7s 65ms/step - loss: 0.1075 - accuracy: 0.0000e+00\n",
      "[3, 5, 6, 11]\n"
     ]
    },
    {
     "name": "stderr",
     "output_type": "stream",
     "text": [
      "/Users/ishan/opt/anaconda3/lib/python3.7/site-packages/ipykernel_launcher.py:7: SettingWithCopyWarning: \n",
      "A value is trying to be set on a copy of a slice from a DataFrame.\n",
      "Try using .loc[row_indexer,col_indexer] = value instead\n",
      "\n",
      "See the caveats in the documentation: https://pandas.pydata.org/pandas-docs/stable/user_guide/indexing.html#returning-a-view-versus-a-copy\n",
      "  import sys\n"
     ]
    },
    {
     "name": "stdout",
     "output_type": "stream",
     "text": [
      "34/34 [==============================] - 6s 66ms/step - loss: 0.1077 - accuracy: 0.0000e+00\n",
      "[3, 5, 7, 8]\n"
     ]
    },
    {
     "name": "stderr",
     "output_type": "stream",
     "text": [
      "/Users/ishan/opt/anaconda3/lib/python3.7/site-packages/ipykernel_launcher.py:7: SettingWithCopyWarning: \n",
      "A value is trying to be set on a copy of a slice from a DataFrame.\n",
      "Try using .loc[row_indexer,col_indexer] = value instead\n",
      "\n",
      "See the caveats in the documentation: https://pandas.pydata.org/pandas-docs/stable/user_guide/indexing.html#returning-a-view-versus-a-copy\n",
      "  import sys\n"
     ]
    },
    {
     "name": "stdout",
     "output_type": "stream",
     "text": [
      "34/34 [==============================] - 7s 67ms/step - loss: 0.1018 - accuracy: 0.0000e+00\n",
      "[3, 5, 7, 9]\n"
     ]
    },
    {
     "name": "stderr",
     "output_type": "stream",
     "text": [
      "/Users/ishan/opt/anaconda3/lib/python3.7/site-packages/ipykernel_launcher.py:7: SettingWithCopyWarning: \n",
      "A value is trying to be set on a copy of a slice from a DataFrame.\n",
      "Try using .loc[row_indexer,col_indexer] = value instead\n",
      "\n",
      "See the caveats in the documentation: https://pandas.pydata.org/pandas-docs/stable/user_guide/indexing.html#returning-a-view-versus-a-copy\n",
      "  import sys\n"
     ]
    },
    {
     "name": "stdout",
     "output_type": "stream",
     "text": [
      "34/34 [==============================] - 7s 66ms/step - loss: 0.1061 - accuracy: 0.0000e+00\n",
      "[3, 5, 7, 10]\n"
     ]
    },
    {
     "name": "stderr",
     "output_type": "stream",
     "text": [
      "/Users/ishan/opt/anaconda3/lib/python3.7/site-packages/ipykernel_launcher.py:7: SettingWithCopyWarning: \n",
      "A value is trying to be set on a copy of a slice from a DataFrame.\n",
      "Try using .loc[row_indexer,col_indexer] = value instead\n",
      "\n",
      "See the caveats in the documentation: https://pandas.pydata.org/pandas-docs/stable/user_guide/indexing.html#returning-a-view-versus-a-copy\n",
      "  import sys\n"
     ]
    },
    {
     "name": "stdout",
     "output_type": "stream",
     "text": [
      "34/34 [==============================] - 7s 66ms/step - loss: 0.0935 - accuracy: 0.0000e+00\n",
      "[3, 5, 7, 11]\n"
     ]
    },
    {
     "name": "stderr",
     "output_type": "stream",
     "text": [
      "/Users/ishan/opt/anaconda3/lib/python3.7/site-packages/ipykernel_launcher.py:7: SettingWithCopyWarning: \n",
      "A value is trying to be set on a copy of a slice from a DataFrame.\n",
      "Try using .loc[row_indexer,col_indexer] = value instead\n",
      "\n",
      "See the caveats in the documentation: https://pandas.pydata.org/pandas-docs/stable/user_guide/indexing.html#returning-a-view-versus-a-copy\n",
      "  import sys\n"
     ]
    },
    {
     "name": "stdout",
     "output_type": "stream",
     "text": [
      "34/34 [==============================] - 7s 66ms/step - loss: 0.1068 - accuracy: 0.0000e+00\n",
      "[3, 5, 8, 9]\n"
     ]
    },
    {
     "name": "stderr",
     "output_type": "stream",
     "text": [
      "/Users/ishan/opt/anaconda3/lib/python3.7/site-packages/ipykernel_launcher.py:7: SettingWithCopyWarning: \n",
      "A value is trying to be set on a copy of a slice from a DataFrame.\n",
      "Try using .loc[row_indexer,col_indexer] = value instead\n",
      "\n",
      "See the caveats in the documentation: https://pandas.pydata.org/pandas-docs/stable/user_guide/indexing.html#returning-a-view-versus-a-copy\n",
      "  import sys\n"
     ]
    },
    {
     "name": "stdout",
     "output_type": "stream",
     "text": [
      "34/34 [==============================] - 7s 66ms/step - loss: 0.1065 - accuracy: 0.0000e+00\n",
      "[3, 5, 8, 10]\n"
     ]
    },
    {
     "name": "stderr",
     "output_type": "stream",
     "text": [
      "/Users/ishan/opt/anaconda3/lib/python3.7/site-packages/ipykernel_launcher.py:7: SettingWithCopyWarning: \n",
      "A value is trying to be set on a copy of a slice from a DataFrame.\n",
      "Try using .loc[row_indexer,col_indexer] = value instead\n",
      "\n",
      "See the caveats in the documentation: https://pandas.pydata.org/pandas-docs/stable/user_guide/indexing.html#returning-a-view-versus-a-copy\n",
      "  import sys\n"
     ]
    },
    {
     "name": "stdout",
     "output_type": "stream",
     "text": [
      "34/34 [==============================] - 7s 67ms/step - loss: 0.1074 - accuracy: 0.0000e+00\n",
      "[3, 5, 8, 11]\n"
     ]
    },
    {
     "name": "stderr",
     "output_type": "stream",
     "text": [
      "/Users/ishan/opt/anaconda3/lib/python3.7/site-packages/ipykernel_launcher.py:7: SettingWithCopyWarning: \n",
      "A value is trying to be set on a copy of a slice from a DataFrame.\n",
      "Try using .loc[row_indexer,col_indexer] = value instead\n",
      "\n",
      "See the caveats in the documentation: https://pandas.pydata.org/pandas-docs/stable/user_guide/indexing.html#returning-a-view-versus-a-copy\n",
      "  import sys\n"
     ]
    },
    {
     "name": "stdout",
     "output_type": "stream",
     "text": [
      "34/34 [==============================] - 7s 69ms/step - loss: 0.1034 - accuracy: 0.0000e+00\n",
      "[3, 5, 9, 10]\n"
     ]
    },
    {
     "name": "stderr",
     "output_type": "stream",
     "text": [
      "/Users/ishan/opt/anaconda3/lib/python3.7/site-packages/ipykernel_launcher.py:7: SettingWithCopyWarning: \n",
      "A value is trying to be set on a copy of a slice from a DataFrame.\n",
      "Try using .loc[row_indexer,col_indexer] = value instead\n",
      "\n",
      "See the caveats in the documentation: https://pandas.pydata.org/pandas-docs/stable/user_guide/indexing.html#returning-a-view-versus-a-copy\n",
      "  import sys\n"
     ]
    },
    {
     "name": "stdout",
     "output_type": "stream",
     "text": [
      "34/34 [==============================] - 7s 68ms/step - loss: 0.1072 - accuracy: 0.0000e+00\n",
      "[3, 5, 9, 11]\n"
     ]
    },
    {
     "name": "stderr",
     "output_type": "stream",
     "text": [
      "/Users/ishan/opt/anaconda3/lib/python3.7/site-packages/ipykernel_launcher.py:7: SettingWithCopyWarning: \n",
      "A value is trying to be set on a copy of a slice from a DataFrame.\n",
      "Try using .loc[row_indexer,col_indexer] = value instead\n",
      "\n",
      "See the caveats in the documentation: https://pandas.pydata.org/pandas-docs/stable/user_guide/indexing.html#returning-a-view-versus-a-copy\n",
      "  import sys\n"
     ]
    },
    {
     "name": "stdout",
     "output_type": "stream",
     "text": [
      "34/34 [==============================] - 8s 70ms/step - loss: 0.1112 - accuracy: 9.2678e-04\n",
      "[3, 5, 10, 11]\n"
     ]
    },
    {
     "name": "stderr",
     "output_type": "stream",
     "text": [
      "/Users/ishan/opt/anaconda3/lib/python3.7/site-packages/ipykernel_launcher.py:7: SettingWithCopyWarning: \n",
      "A value is trying to be set on a copy of a slice from a DataFrame.\n",
      "Try using .loc[row_indexer,col_indexer] = value instead\n",
      "\n",
      "See the caveats in the documentation: https://pandas.pydata.org/pandas-docs/stable/user_guide/indexing.html#returning-a-view-versus-a-copy\n",
      "  import sys\n"
     ]
    },
    {
     "name": "stdout",
     "output_type": "stream",
     "text": [
      "34/34 [==============================] - 7s 68ms/step - loss: 0.1018 - accuracy: 0.0000e+00\n",
      "[3, 6, 7, 8]\n"
     ]
    },
    {
     "name": "stderr",
     "output_type": "stream",
     "text": [
      "/Users/ishan/opt/anaconda3/lib/python3.7/site-packages/ipykernel_launcher.py:7: SettingWithCopyWarning: \n",
      "A value is trying to be set on a copy of a slice from a DataFrame.\n",
      "Try using .loc[row_indexer,col_indexer] = value instead\n",
      "\n",
      "See the caveats in the documentation: https://pandas.pydata.org/pandas-docs/stable/user_guide/indexing.html#returning-a-view-versus-a-copy\n",
      "  import sys\n"
     ]
    },
    {
     "name": "stdout",
     "output_type": "stream",
     "text": [
      "34/34 [==============================] - 7s 70ms/step - loss: 0.1042 - accuracy: 0.0000e+00\n",
      "[3, 6, 7, 9]\n"
     ]
    },
    {
     "name": "stderr",
     "output_type": "stream",
     "text": [
      "/Users/ishan/opt/anaconda3/lib/python3.7/site-packages/ipykernel_launcher.py:7: SettingWithCopyWarning: \n",
      "A value is trying to be set on a copy of a slice from a DataFrame.\n",
      "Try using .loc[row_indexer,col_indexer] = value instead\n",
      "\n",
      "See the caveats in the documentation: https://pandas.pydata.org/pandas-docs/stable/user_guide/indexing.html#returning-a-view-versus-a-copy\n",
      "  import sys\n"
     ]
    },
    {
     "name": "stdout",
     "output_type": "stream",
     "text": [
      "34/34 [==============================] - 7s 70ms/step - loss: 0.1078 - accuracy: 0.0000e+00\n",
      "[3, 6, 7, 10]\n"
     ]
    },
    {
     "name": "stderr",
     "output_type": "stream",
     "text": [
      "/Users/ishan/opt/anaconda3/lib/python3.7/site-packages/ipykernel_launcher.py:7: SettingWithCopyWarning: \n",
      "A value is trying to be set on a copy of a slice from a DataFrame.\n",
      "Try using .loc[row_indexer,col_indexer] = value instead\n",
      "\n",
      "See the caveats in the documentation: https://pandas.pydata.org/pandas-docs/stable/user_guide/indexing.html#returning-a-view-versus-a-copy\n",
      "  import sys\n"
     ]
    },
    {
     "name": "stdout",
     "output_type": "stream",
     "text": [
      "34/34 [==============================] - 7s 67ms/step - loss: 0.1019 - accuracy: 0.0000e+00\n",
      "[3, 6, 7, 11]\n"
     ]
    },
    {
     "name": "stderr",
     "output_type": "stream",
     "text": [
      "/Users/ishan/opt/anaconda3/lib/python3.7/site-packages/ipykernel_launcher.py:7: SettingWithCopyWarning: \n",
      "A value is trying to be set on a copy of a slice from a DataFrame.\n",
      "Try using .loc[row_indexer,col_indexer] = value instead\n",
      "\n",
      "See the caveats in the documentation: https://pandas.pydata.org/pandas-docs/stable/user_guide/indexing.html#returning-a-view-versus-a-copy\n",
      "  import sys\n"
     ]
    },
    {
     "name": "stdout",
     "output_type": "stream",
     "text": [
      "34/34 [==============================] - 7s 66ms/step - loss: 0.1008 - accuracy: 0.0000e+00\n",
      "[3, 6, 8, 9]\n"
     ]
    },
    {
     "name": "stderr",
     "output_type": "stream",
     "text": [
      "/Users/ishan/opt/anaconda3/lib/python3.7/site-packages/ipykernel_launcher.py:7: SettingWithCopyWarning: \n",
      "A value is trying to be set on a copy of a slice from a DataFrame.\n",
      "Try using .loc[row_indexer,col_indexer] = value instead\n",
      "\n",
      "See the caveats in the documentation: https://pandas.pydata.org/pandas-docs/stable/user_guide/indexing.html#returning-a-view-versus-a-copy\n",
      "  import sys\n"
     ]
    },
    {
     "name": "stdout",
     "output_type": "stream",
     "text": [
      "34/34 [==============================] - 7s 66ms/step - loss: 0.1117 - accuracy: 0.0000e+00\n",
      "[3, 6, 8, 10]\n"
     ]
    },
    {
     "name": "stderr",
     "output_type": "stream",
     "text": [
      "/Users/ishan/opt/anaconda3/lib/python3.7/site-packages/ipykernel_launcher.py:7: SettingWithCopyWarning: \n",
      "A value is trying to be set on a copy of a slice from a DataFrame.\n",
      "Try using .loc[row_indexer,col_indexer] = value instead\n",
      "\n",
      "See the caveats in the documentation: https://pandas.pydata.org/pandas-docs/stable/user_guide/indexing.html#returning-a-view-versus-a-copy\n",
      "  import sys\n"
     ]
    },
    {
     "name": "stdout",
     "output_type": "stream",
     "text": [
      "34/34 [==============================] - 7s 66ms/step - loss: 0.1033 - accuracy: 0.0000e+00\n",
      "[3, 6, 8, 11]\n"
     ]
    },
    {
     "name": "stderr",
     "output_type": "stream",
     "text": [
      "/Users/ishan/opt/anaconda3/lib/python3.7/site-packages/ipykernel_launcher.py:7: SettingWithCopyWarning: \n",
      "A value is trying to be set on a copy of a slice from a DataFrame.\n",
      "Try using .loc[row_indexer,col_indexer] = value instead\n",
      "\n",
      "See the caveats in the documentation: https://pandas.pydata.org/pandas-docs/stable/user_guide/indexing.html#returning-a-view-versus-a-copy\n",
      "  import sys\n"
     ]
    },
    {
     "name": "stdout",
     "output_type": "stream",
     "text": [
      "34/34 [==============================] - 9s 77ms/step - loss: 0.1044 - accuracy: 0.0000e+00\n",
      "[3, 6, 9, 10]\n"
     ]
    },
    {
     "name": "stderr",
     "output_type": "stream",
     "text": [
      "/Users/ishan/opt/anaconda3/lib/python3.7/site-packages/ipykernel_launcher.py:7: SettingWithCopyWarning: \n",
      "A value is trying to be set on a copy of a slice from a DataFrame.\n",
      "Try using .loc[row_indexer,col_indexer] = value instead\n",
      "\n",
      "See the caveats in the documentation: https://pandas.pydata.org/pandas-docs/stable/user_guide/indexing.html#returning-a-view-versus-a-copy\n",
      "  import sys\n"
     ]
    },
    {
     "name": "stdout",
     "output_type": "stream",
     "text": [
      "34/34 [==============================] - 8s 80ms/step - loss: 0.1012 - accuracy: 0.0000e+00\n",
      "[3, 6, 9, 11]\n"
     ]
    },
    {
     "name": "stderr",
     "output_type": "stream",
     "text": [
      "/Users/ishan/opt/anaconda3/lib/python3.7/site-packages/ipykernel_launcher.py:7: SettingWithCopyWarning: \n",
      "A value is trying to be set on a copy of a slice from a DataFrame.\n",
      "Try using .loc[row_indexer,col_indexer] = value instead\n",
      "\n",
      "See the caveats in the documentation: https://pandas.pydata.org/pandas-docs/stable/user_guide/indexing.html#returning-a-view-versus-a-copy\n",
      "  import sys\n"
     ]
    },
    {
     "name": "stdout",
     "output_type": "stream",
     "text": [
      "34/34 [==============================] - 9s 107ms/step - loss: 0.1040 - accuracy: 0.0000e+00\n",
      "[3, 6, 10, 11]\n"
     ]
    },
    {
     "name": "stderr",
     "output_type": "stream",
     "text": [
      "/Users/ishan/opt/anaconda3/lib/python3.7/site-packages/ipykernel_launcher.py:7: SettingWithCopyWarning: \n",
      "A value is trying to be set on a copy of a slice from a DataFrame.\n",
      "Try using .loc[row_indexer,col_indexer] = value instead\n",
      "\n",
      "See the caveats in the documentation: https://pandas.pydata.org/pandas-docs/stable/user_guide/indexing.html#returning-a-view-versus-a-copy\n",
      "  import sys\n"
     ]
    },
    {
     "name": "stdout",
     "output_type": "stream",
     "text": [
      "34/34 [==============================] - 9s 79ms/step - loss: 0.1070 - accuracy: 0.0000e+00\n",
      "[3, 7, 8, 9]\n"
     ]
    },
    {
     "name": "stderr",
     "output_type": "stream",
     "text": [
      "/Users/ishan/opt/anaconda3/lib/python3.7/site-packages/ipykernel_launcher.py:7: SettingWithCopyWarning: \n",
      "A value is trying to be set on a copy of a slice from a DataFrame.\n",
      "Try using .loc[row_indexer,col_indexer] = value instead\n",
      "\n",
      "See the caveats in the documentation: https://pandas.pydata.org/pandas-docs/stable/user_guide/indexing.html#returning-a-view-versus-a-copy\n",
      "  import sys\n"
     ]
    },
    {
     "name": "stdout",
     "output_type": "stream",
     "text": [
      "34/34 [==============================] - 8s 75ms/step - loss: 0.1034 - accuracy: 9.2678e-04\n",
      "[3, 7, 8, 10]\n"
     ]
    },
    {
     "name": "stderr",
     "output_type": "stream",
     "text": [
      "/Users/ishan/opt/anaconda3/lib/python3.7/site-packages/ipykernel_launcher.py:7: SettingWithCopyWarning: \n",
      "A value is trying to be set on a copy of a slice from a DataFrame.\n",
      "Try using .loc[row_indexer,col_indexer] = value instead\n",
      "\n",
      "See the caveats in the documentation: https://pandas.pydata.org/pandas-docs/stable/user_guide/indexing.html#returning-a-view-versus-a-copy\n",
      "  import sys\n"
     ]
    },
    {
     "name": "stdout",
     "output_type": "stream",
     "text": [
      "34/34 [==============================] - 9s 99ms/step - loss: 0.0961 - accuracy: 9.2678e-04\n",
      "[3, 7, 8, 11]\n"
     ]
    },
    {
     "name": "stderr",
     "output_type": "stream",
     "text": [
      "/Users/ishan/opt/anaconda3/lib/python3.7/site-packages/ipykernel_launcher.py:7: SettingWithCopyWarning: \n",
      "A value is trying to be set on a copy of a slice from a DataFrame.\n",
      "Try using .loc[row_indexer,col_indexer] = value instead\n",
      "\n",
      "See the caveats in the documentation: https://pandas.pydata.org/pandas-docs/stable/user_guide/indexing.html#returning-a-view-versus-a-copy\n",
      "  import sys\n"
     ]
    },
    {
     "name": "stdout",
     "output_type": "stream",
     "text": [
      "34/34 [==============================] - 8s 75ms/step - loss: 0.0988 - accuracy: 0.0000e+00\n",
      "[3, 7, 9, 10]\n"
     ]
    },
    {
     "name": "stderr",
     "output_type": "stream",
     "text": [
      "/Users/ishan/opt/anaconda3/lib/python3.7/site-packages/ipykernel_launcher.py:7: SettingWithCopyWarning: \n",
      "A value is trying to be set on a copy of a slice from a DataFrame.\n",
      "Try using .loc[row_indexer,col_indexer] = value instead\n",
      "\n",
      "See the caveats in the documentation: https://pandas.pydata.org/pandas-docs/stable/user_guide/indexing.html#returning-a-view-versus-a-copy\n",
      "  import sys\n"
     ]
    },
    {
     "name": "stdout",
     "output_type": "stream",
     "text": [
      "34/34 [==============================] - 8s 75ms/step - loss: 0.1028 - accuracy: 0.0000e+00\n",
      "[3, 7, 9, 11]\n"
     ]
    },
    {
     "name": "stderr",
     "output_type": "stream",
     "text": [
      "/Users/ishan/opt/anaconda3/lib/python3.7/site-packages/ipykernel_launcher.py:7: SettingWithCopyWarning: \n",
      "A value is trying to be set on a copy of a slice from a DataFrame.\n",
      "Try using .loc[row_indexer,col_indexer] = value instead\n",
      "\n",
      "See the caveats in the documentation: https://pandas.pydata.org/pandas-docs/stable/user_guide/indexing.html#returning-a-view-versus-a-copy\n",
      "  import sys\n"
     ]
    },
    {
     "name": "stdout",
     "output_type": "stream",
     "text": [
      "34/34 [==============================] - 7s 77ms/step - loss: 0.0976 - accuracy: 0.0000e+00\n",
      "[3, 7, 10, 11]\n"
     ]
    },
    {
     "name": "stderr",
     "output_type": "stream",
     "text": [
      "/Users/ishan/opt/anaconda3/lib/python3.7/site-packages/ipykernel_launcher.py:7: SettingWithCopyWarning: \n",
      "A value is trying to be set on a copy of a slice from a DataFrame.\n",
      "Try using .loc[row_indexer,col_indexer] = value instead\n",
      "\n",
      "See the caveats in the documentation: https://pandas.pydata.org/pandas-docs/stable/user_guide/indexing.html#returning-a-view-versus-a-copy\n",
      "  import sys\n"
     ]
    },
    {
     "name": "stdout",
     "output_type": "stream",
     "text": [
      "34/34 [==============================] - 7s 77ms/step - loss: 0.0969 - accuracy: 0.0000e+00\n",
      "[3, 8, 9, 10]\n"
     ]
    },
    {
     "name": "stderr",
     "output_type": "stream",
     "text": [
      "/Users/ishan/opt/anaconda3/lib/python3.7/site-packages/ipykernel_launcher.py:7: SettingWithCopyWarning: \n",
      "A value is trying to be set on a copy of a slice from a DataFrame.\n",
      "Try using .loc[row_indexer,col_indexer] = value instead\n",
      "\n",
      "See the caveats in the documentation: https://pandas.pydata.org/pandas-docs/stable/user_guide/indexing.html#returning-a-view-versus-a-copy\n",
      "  import sys\n"
     ]
    },
    {
     "name": "stdout",
     "output_type": "stream",
     "text": [
      "34/34 [==============================] - 8s 80ms/step - loss: 0.1093 - accuracy: 0.0000e+00\n",
      "[3, 8, 9, 11]\n"
     ]
    },
    {
     "name": "stderr",
     "output_type": "stream",
     "text": [
      "/Users/ishan/opt/anaconda3/lib/python3.7/site-packages/ipykernel_launcher.py:7: SettingWithCopyWarning: \n",
      "A value is trying to be set on a copy of a slice from a DataFrame.\n",
      "Try using .loc[row_indexer,col_indexer] = value instead\n",
      "\n",
      "See the caveats in the documentation: https://pandas.pydata.org/pandas-docs/stable/user_guide/indexing.html#returning-a-view-versus-a-copy\n",
      "  import sys\n"
     ]
    },
    {
     "name": "stdout",
     "output_type": "stream",
     "text": [
      "34/34 [==============================] - 9s 76ms/step - loss: 0.1040 - accuracy: 0.0000e+00\n",
      "[3, 8, 10, 11]\n"
     ]
    },
    {
     "name": "stderr",
     "output_type": "stream",
     "text": [
      "/Users/ishan/opt/anaconda3/lib/python3.7/site-packages/ipykernel_launcher.py:7: SettingWithCopyWarning: \n",
      "A value is trying to be set on a copy of a slice from a DataFrame.\n",
      "Try using .loc[row_indexer,col_indexer] = value instead\n",
      "\n",
      "See the caveats in the documentation: https://pandas.pydata.org/pandas-docs/stable/user_guide/indexing.html#returning-a-view-versus-a-copy\n",
      "  import sys\n"
     ]
    },
    {
     "name": "stdout",
     "output_type": "stream",
     "text": [
      "34/34 [==============================] - 8s 79ms/step - loss: 0.1104 - accuracy: 0.0000e+00\n",
      "[3, 9, 10, 11]\n"
     ]
    },
    {
     "name": "stderr",
     "output_type": "stream",
     "text": [
      "/Users/ishan/opt/anaconda3/lib/python3.7/site-packages/ipykernel_launcher.py:7: SettingWithCopyWarning: \n",
      "A value is trying to be set on a copy of a slice from a DataFrame.\n",
      "Try using .loc[row_indexer,col_indexer] = value instead\n",
      "\n",
      "See the caveats in the documentation: https://pandas.pydata.org/pandas-docs/stable/user_guide/indexing.html#returning-a-view-versus-a-copy\n",
      "  import sys\n"
     ]
    },
    {
     "name": "stdout",
     "output_type": "stream",
     "text": [
      "34/34 [==============================] - 8s 79ms/step - loss: 0.1077 - accuracy: 0.0000e+00\n",
      "[4, 5, 6, 7]\n",
      "34/34 [==============================] - 7s 73ms/step - loss: 0.0921 - accuracy: 0.0000e+00\n",
      "[4, 5, 6, 8]\n",
      "34/34 [==============================] - 7s 67ms/step - loss: 0.1031 - accuracy: 0.0000e+00\n",
      "[4, 5, 6, 9]\n",
      "34/34 [==============================] - 7s 79ms/step - loss: 0.0872 - accuracy: 0.0000e+00\n",
      "[4, 5, 6, 10]\n",
      "34/34 [==============================] - 9s 85ms/step - loss: 0.0948 - accuracy: 0.0000e+00\n",
      "[4, 5, 6, 11]\n",
      "34/34 [==============================] - 9s 82ms/step - loss: 0.0929 - accuracy: 0.0000e+00\n",
      "[4, 5, 7, 8]\n",
      "34/34 [==============================] - 7s 74ms/step - loss: 0.0876 - accuracy: 0.0000e+00\n",
      "[4, 5, 7, 9]\n",
      "34/34 [==============================] - 7s 78ms/step - loss: 0.0863 - accuracy: 0.0000e+00\n",
      "[4, 5, 7, 10]\n",
      "34/34 [==============================] - 7s 76ms/step - loss: 0.0902 - accuracy: 0.0000e+00\n",
      "[4, 5, 7, 11]\n",
      "34/34 [==============================] - 8s 78ms/step - loss: 0.0836 - accuracy: 0.0000e+00\n",
      "[4, 5, 8, 9]\n",
      "34/34 [==============================] - 8s 76ms/step - loss: 0.0891 - accuracy: 0.0000e+00\n",
      "[4, 5, 8, 10]\n",
      "34/34 [==============================] - 8s 79ms/step - loss: 0.1002 - accuracy: 0.0000e+00\n",
      "[4, 5, 8, 11]\n",
      "34/34 [==============================] - 8s 79ms/step - loss: 0.0973 - accuracy: 0.0000e+00\n",
      "[4, 5, 9, 10]\n",
      "34/34 [==============================] - 7s 77ms/step - loss: 0.0939 - accuracy: 0.0000e+00\n",
      "[4, 5, 9, 11]\n",
      "34/34 [==============================] - 7s 79ms/step - loss: 0.0885 - accuracy: 9.2678e-04\n",
      "[4, 5, 10, 11]\n",
      "34/34 [==============================] - 8s 81ms/step - loss: 0.0802 - accuracy: 0.0000e+00\n",
      "[4, 6, 7, 8]\n",
      "34/34 [==============================] - 8s 79ms/step - loss: 0.1060 - accuracy: 0.0000e+00\n",
      "[4, 6, 7, 9]\n",
      "34/34 [==============================] - 8s 80ms/step - loss: 0.1074 - accuracy: 0.0000e+00\n",
      "[4, 6, 7, 10]\n",
      "34/34 [==============================] - 7s 83ms/step - loss: 0.0981 - accuracy: 0.0000e+00\n",
      "[4, 6, 7, 11]\n",
      "34/34 [==============================] - 7s 80ms/step - loss: 0.0935 - accuracy: 0.0000e+00\n",
      "[4, 6, 8, 9]\n",
      "34/34 [==============================] - 8s 88ms/step - loss: 0.0935 - accuracy: 0.0000e+00\n",
      "[4, 6, 8, 10]\n",
      "34/34 [==============================] - 8s 84ms/step - loss: 0.0934 - accuracy: 0.0000e+00\n",
      "[4, 6, 8, 11]\n",
      "34/34 [==============================] - 8s 78ms/step - loss: 0.0977 - accuracy: 9.2678e-04\n",
      "[4, 6, 9, 10]\n",
      "34/34 [==============================] - 7s 69ms/step - loss: 0.1029 - accuracy: 9.2678e-04\n",
      "[4, 6, 9, 11]\n",
      "34/34 [==============================] - 7s 68ms/step - loss: 0.0767 - accuracy: 0.0000e+00\n",
      "[4, 6, 10, 11]\n",
      "34/34 [==============================] - 7s 70ms/step - loss: 0.0948 - accuracy: 0.0000e+00\n",
      "[4, 7, 8, 9]\n",
      "34/34 [==============================] - 7s 78ms/step - loss: 0.0991 - accuracy: 0.0000e+00\n",
      "[4, 7, 8, 10]\n",
      "34/34 [==============================] - 7s 70ms/step - loss: 0.0868 - accuracy: 0.0000e+00\n",
      "[4, 7, 8, 11]\n",
      "34/34 [==============================] - 7s 71ms/step - loss: 0.0985 - accuracy: 0.0000e+00\n",
      "[4, 7, 9, 10]\n",
      "34/34 [==============================] - 8s 71ms/step - loss: 0.0817 - accuracy: 0.0000e+00\n",
      "[4, 7, 9, 11]\n",
      "34/34 [==============================] - 7s 69ms/step - loss: 0.1014 - accuracy: 0.0000e+00\n",
      "[4, 7, 10, 11]\n",
      "34/34 [==============================] - 7s 70ms/step - loss: 0.0879 - accuracy: 0.0000e+00\n",
      "[4, 8, 9, 10]\n",
      "34/34 [==============================] - 7s 76ms/step - loss: 0.0865 - accuracy: 0.0000e+00\n",
      "[4, 8, 9, 11]\n",
      "34/34 [==============================] - 7s 68ms/step - loss: 0.1045 - accuracy: 0.0000e+00\n",
      "[4, 8, 10, 11]\n",
      "34/34 [==============================] - 7s 66ms/step - loss: 0.0847 - accuracy: 0.0000e+00\n",
      "[4, 9, 10, 11]\n",
      "34/34 [==============================] - 7s 68ms/step - loss: 0.0996 - accuracy: 0.0000e+00\n",
      "[5, 6, 7, 8]\n",
      "34/34 [==============================] - 7s 66ms/step - loss: 0.1066 - accuracy: 0.0000e+00\n",
      "[5, 6, 7, 9]\n",
      "34/34 [==============================] - 7s 68ms/step - loss: 0.1093 - accuracy: 0.0000e+00\n",
      "[5, 6, 7, 10]\n",
      "34/34 [==============================] - 6s 68ms/step - loss: 0.1083 - accuracy: 9.2678e-04\n",
      "[5, 6, 7, 11]\n",
      "34/34 [==============================] - 7s 69ms/step - loss: 0.1061 - accuracy: 0.0000e+00\n",
      "[5, 6, 8, 9]\n",
      "34/34 [==============================] - 7s 68ms/step - loss: 0.1101 - accuracy: 0.0000e+00\n",
      "[5, 6, 8, 10]\n",
      "34/34 [==============================] - 7s 69ms/step - loss: 0.1124 - accuracy: 0.0000e+00\n",
      "[5, 6, 8, 11]\n",
      "34/34 [==============================] - 7s 68ms/step - loss: 0.1080 - accuracy: 9.2678e-04\n",
      "[5, 6, 9, 10]\n",
      "34/34 [==============================] - 7s 72ms/step - loss: 0.1052 - accuracy: 0.0000e+00\n",
      "[5, 6, 9, 11]\n",
      "34/34 [==============================] - 7s 70ms/step - loss: 0.1017 - accuracy: 0.0000e+00\n",
      "[5, 6, 10, 11]\n",
      "34/34 [==============================] - 7s 69ms/step - loss: 0.1037 - accuracy: 0.0000e+00\n",
      "[5, 7, 8, 9]\n",
      "34/34 [==============================] - 8s 70ms/step - loss: 0.0995 - accuracy: 0.0000e+00\n",
      "[5, 7, 8, 10]\n",
      "34/34 [==============================] - 7s 70ms/step - loss: 0.1022 - accuracy: 0.0000e+00\n",
      "[5, 7, 8, 11]\n",
      "34/34 [==============================] - 7s 70ms/step - loss: 0.1122 - accuracy: 0.0000e+00\n",
      "[5, 7, 9, 10]\n",
      "34/34 [==============================] - 7s 68ms/step - loss: 0.1112 - accuracy: 0.0000e+00\n",
      "[5, 7, 9, 11]\n",
      "34/34 [==============================] - 7s 71ms/step - loss: 0.1079 - accuracy: 0.0000e+00\n",
      "[5, 7, 10, 11]\n",
      "34/34 [==============================] - 7s 55ms/step - loss: 0.1039 - accuracy: 0.0000e+00\n",
      "[5, 8, 9, 10]\n",
      "34/34 [==============================] - 6s 52ms/step - loss: 0.1139 - accuracy: 0.0000e+00\n",
      "[5, 8, 9, 11]\n",
      "34/34 [==============================] - 8s 65ms/step - loss: 0.1068 - accuracy: 0.0000e+00\n",
      "[5, 8, 10, 11]\n",
      "34/34 [==============================] - 8s 80ms/step - loss: 0.1050 - accuracy: 0.0000e+00\n",
      "[5, 9, 10, 11]\n",
      "34/34 [==============================] - 6s 67ms/step - loss: 0.1078 - accuracy: 0.0000e+00\n",
      "[6, 7, 8, 9]\n",
      "34/34 [==============================] - 6s 66ms/step - loss: 0.1022 - accuracy: 0.0000e+00\n",
      "[6, 7, 8, 10]\n",
      "34/34 [==============================] - 7s 70ms/step - loss: 0.1024 - accuracy: 0.0000e+00\n",
      "[6, 7, 8, 11]\n",
      "34/34 [==============================] - 8s 70ms/step - loss: 0.1099 - accuracy: 0.0000e+00\n",
      "[6, 7, 9, 10]\n",
      "34/34 [==============================] - 7s 67ms/step - loss: 0.1061 - accuracy: 0.0000e+00\n",
      "[6, 7, 9, 11]\n",
      "34/34 [==============================] - 7s 66ms/step - loss: 0.1052 - accuracy: 0.0000e+00\n",
      "[6, 7, 10, 11]\n",
      "34/34 [==============================] - 7s 68ms/step - loss: 0.1069 - accuracy: 0.0000e+00\n",
      "[6, 8, 9, 10]\n",
      "34/34 [==============================] - 6s 67ms/step - loss: 0.1084 - accuracy: 0.0000e+00\n",
      "[6, 8, 9, 11]\n",
      "34/34 [==============================] - 7s 65ms/step - loss: 0.1048 - accuracy: 0.0000e+00\n",
      "[6, 8, 10, 11]\n",
      "34/34 [==============================] - 7s 74ms/step - loss: 0.1097 - accuracy: 0.0000e+00\n",
      "[6, 9, 10, 11]\n",
      "34/34 [==============================] - 7s 68ms/step - loss: 0.1094 - accuracy: 0.0000e+00\n",
      "[7, 8, 9, 10]\n",
      "34/34 [==============================] - 7s 68ms/step - loss: 0.1084 - accuracy: 0.0000e+00\n",
      "[7, 8, 9, 11]\n",
      "34/34 [==============================] - 6s 66ms/step - loss: 0.1010 - accuracy: 0.0000e+00\n",
      "[7, 8, 10, 11]\n",
      "34/34 [==============================] - 6s 68ms/step - loss: 0.1028 - accuracy: 0.0000e+00\n",
      "[7, 9, 10, 11]\n",
      "34/34 [==============================] - 7s 66ms/step - loss: 0.1052 - accuracy: 0.0000e+00\n",
      "[8, 9, 10, 11]\n",
      "34/34 [==============================] - 7s 76ms/step - loss: 0.1072 - accuracy: 0.0000e+00\n",
      "[0, 1, 2, 3, 4]\n"
     ]
    },
    {
     "name": "stderr",
     "output_type": "stream",
     "text": [
      "/Users/ishan/opt/anaconda3/lib/python3.7/site-packages/ipykernel_launcher.py:7: SettingWithCopyWarning: \n",
      "A value is trying to be set on a copy of a slice from a DataFrame.\n",
      "Try using .loc[row_indexer,col_indexer] = value instead\n",
      "\n",
      "See the caveats in the documentation: https://pandas.pydata.org/pandas-docs/stable/user_guide/indexing.html#returning-a-view-versus-a-copy\n",
      "  import sys\n"
     ]
    },
    {
     "name": "stdout",
     "output_type": "stream",
     "text": [
      "34/34 [==============================] - 7s 62ms/step - loss: 0.0626 - accuracy: 9.2678e-04\n",
      "[0, 1, 2, 3, 5]\n"
     ]
    },
    {
     "name": "stderr",
     "output_type": "stream",
     "text": [
      "/Users/ishan/opt/anaconda3/lib/python3.7/site-packages/ipykernel_launcher.py:7: SettingWithCopyWarning: \n",
      "A value is trying to be set on a copy of a slice from a DataFrame.\n",
      "Try using .loc[row_indexer,col_indexer] = value instead\n",
      "\n",
      "See the caveats in the documentation: https://pandas.pydata.org/pandas-docs/stable/user_guide/indexing.html#returning-a-view-versus-a-copy\n",
      "  import sys\n"
     ]
    },
    {
     "name": "stdout",
     "output_type": "stream",
     "text": [
      "34/34 [==============================] - 7s 66ms/step - loss: 0.0754 - accuracy: 0.0000e+00\n",
      "[0, 1, 2, 3, 6]\n"
     ]
    },
    {
     "name": "stderr",
     "output_type": "stream",
     "text": [
      "/Users/ishan/opt/anaconda3/lib/python3.7/site-packages/ipykernel_launcher.py:7: SettingWithCopyWarning: \n",
      "A value is trying to be set on a copy of a slice from a DataFrame.\n",
      "Try using .loc[row_indexer,col_indexer] = value instead\n",
      "\n",
      "See the caveats in the documentation: https://pandas.pydata.org/pandas-docs/stable/user_guide/indexing.html#returning-a-view-versus-a-copy\n",
      "  import sys\n"
     ]
    },
    {
     "name": "stdout",
     "output_type": "stream",
     "text": [
      "34/34 [==============================] - 7s 71ms/step - loss: 0.0883 - accuracy: 0.0000e+00\n",
      "[0, 1, 2, 3, 7]\n"
     ]
    },
    {
     "name": "stderr",
     "output_type": "stream",
     "text": [
      "/Users/ishan/opt/anaconda3/lib/python3.7/site-packages/ipykernel_launcher.py:7: SettingWithCopyWarning: \n",
      "A value is trying to be set on a copy of a slice from a DataFrame.\n",
      "Try using .loc[row_indexer,col_indexer] = value instead\n",
      "\n",
      "See the caveats in the documentation: https://pandas.pydata.org/pandas-docs/stable/user_guide/indexing.html#returning-a-view-versus-a-copy\n",
      "  import sys\n"
     ]
    },
    {
     "name": "stdout",
     "output_type": "stream",
     "text": [
      "34/34 [==============================] - 6s 65ms/step - loss: 0.0883 - accuracy: 0.0000e+00\n",
      "[0, 1, 2, 3, 8]\n"
     ]
    },
    {
     "name": "stderr",
     "output_type": "stream",
     "text": [
      "/Users/ishan/opt/anaconda3/lib/python3.7/site-packages/ipykernel_launcher.py:7: SettingWithCopyWarning: \n",
      "A value is trying to be set on a copy of a slice from a DataFrame.\n",
      "Try using .loc[row_indexer,col_indexer] = value instead\n",
      "\n",
      "See the caveats in the documentation: https://pandas.pydata.org/pandas-docs/stable/user_guide/indexing.html#returning-a-view-versus-a-copy\n",
      "  import sys\n"
     ]
    },
    {
     "name": "stdout",
     "output_type": "stream",
     "text": [
      "34/34 [==============================] - 7s 64ms/step - loss: 0.1020 - accuracy: 0.0000e+00\n",
      "[0, 1, 2, 3, 9]\n"
     ]
    },
    {
     "name": "stderr",
     "output_type": "stream",
     "text": [
      "/Users/ishan/opt/anaconda3/lib/python3.7/site-packages/ipykernel_launcher.py:7: SettingWithCopyWarning: \n",
      "A value is trying to be set on a copy of a slice from a DataFrame.\n",
      "Try using .loc[row_indexer,col_indexer] = value instead\n",
      "\n",
      "See the caveats in the documentation: https://pandas.pydata.org/pandas-docs/stable/user_guide/indexing.html#returning-a-view-versus-a-copy\n",
      "  import sys\n"
     ]
    },
    {
     "name": "stdout",
     "output_type": "stream",
     "text": [
      "34/34 [==============================] - 7s 66ms/step - loss: 0.0948 - accuracy: 0.0000e+00\n",
      "[0, 1, 2, 3, 10]\n"
     ]
    },
    {
     "name": "stderr",
     "output_type": "stream",
     "text": [
      "/Users/ishan/opt/anaconda3/lib/python3.7/site-packages/ipykernel_launcher.py:7: SettingWithCopyWarning: \n",
      "A value is trying to be set on a copy of a slice from a DataFrame.\n",
      "Try using .loc[row_indexer,col_indexer] = value instead\n",
      "\n",
      "See the caveats in the documentation: https://pandas.pydata.org/pandas-docs/stable/user_guide/indexing.html#returning-a-view-versus-a-copy\n",
      "  import sys\n"
     ]
    },
    {
     "name": "stdout",
     "output_type": "stream",
     "text": [
      "34/34 [==============================] - 7s 62ms/step - loss: 0.0960 - accuracy: 0.0000e+00\n",
      "[0, 1, 2, 3, 11]\n"
     ]
    },
    {
     "name": "stderr",
     "output_type": "stream",
     "text": [
      "/Users/ishan/opt/anaconda3/lib/python3.7/site-packages/ipykernel_launcher.py:7: SettingWithCopyWarning: \n",
      "A value is trying to be set on a copy of a slice from a DataFrame.\n",
      "Try using .loc[row_indexer,col_indexer] = value instead\n",
      "\n",
      "See the caveats in the documentation: https://pandas.pydata.org/pandas-docs/stable/user_guide/indexing.html#returning-a-view-versus-a-copy\n",
      "  import sys\n"
     ]
    },
    {
     "name": "stdout",
     "output_type": "stream",
     "text": [
      "34/34 [==============================] - 6s 66ms/step - loss: 0.0805 - accuracy: 0.0000e+00\n",
      "[0, 1, 2, 4, 5]\n",
      "34/34 [==============================] - 6s 64ms/step - loss: 0.0669 - accuracy: 9.2678e-04\n",
      "[0, 1, 2, 4, 6]\n",
      "34/34 [==============================] - 8s 75ms/step - loss: 0.0728 - accuracy: 0.0000e+00\n",
      "[0, 1, 2, 4, 7]\n",
      "34/34 [==============================] - 7s 66ms/step - loss: 0.0698 - accuracy: 9.2678e-04\n",
      "[0, 1, 2, 4, 8]\n",
      "34/34 [==============================] - 7s 64ms/step - loss: 0.0774 - accuracy: 0.0000e+00\n",
      "[0, 1, 2, 4, 9]\n",
      "34/34 [==============================] - 7s 69ms/step - loss: 0.0758 - accuracy: 9.2678e-04\n",
      "[0, 1, 2, 4, 10]\n",
      "34/34 [==============================] - 7s 64ms/step - loss: 0.0741 - accuracy: 0.0000e+00\n",
      "[0, 1, 2, 4, 11]\n",
      "34/34 [==============================] - 7s 68ms/step - loss: 0.0770 - accuracy: 9.2678e-04\n",
      "[0, 1, 2, 5, 6]\n",
      "34/34 [==============================] - 6s 65ms/step - loss: 0.0950 - accuracy: 0.0000e+00\n",
      "[0, 1, 2, 5, 7]\n",
      "34/34 [==============================] - 7s 68ms/step - loss: 0.0869 - accuracy: 0.0000e+00\n",
      "[0, 1, 2, 5, 8]\n",
      "34/34 [==============================] - 7s 75ms/step - loss: 0.1110 - accuracy: 0.0000e+00\n",
      "[0, 1, 2, 5, 9]\n",
      "34/34 [==============================] - 7s 66ms/step - loss: 0.1018 - accuracy: 0.0000e+00\n",
      "[0, 1, 2, 5, 10]\n",
      "34/34 [==============================] - 8s 92ms/step - loss: 0.0937 - accuracy: 0.0000e+00\n",
      "[0, 1, 2, 5, 11]\n",
      "34/34 [==============================] - 6s 68ms/step - loss: 0.0790 - accuracy: 9.2678e-04\n",
      "[0, 1, 2, 6, 7]\n",
      "34/34 [==============================] - 7s 66ms/step - loss: 0.1014 - accuracy: 0.0000e+00\n",
      "[0, 1, 2, 6, 8]\n",
      "34/34 [==============================] - 7s 69ms/step - loss: 0.1002 - accuracy: 0.0000e+00\n",
      "[0, 1, 2, 6, 9]\n",
      "34/34 [==============================] - 7s 65ms/step - loss: 0.1036 - accuracy: 0.0000e+00\n",
      "[0, 1, 2, 6, 10]\n",
      "34/34 [==============================] - 7s 65ms/step - loss: 0.1070 - accuracy: 0.0000e+00\n",
      "[0, 1, 2, 6, 11]\n",
      "34/34 [==============================] - 7s 68ms/step - loss: 0.1018 - accuracy: 0.0000e+00\n",
      "[0, 1, 2, 7, 8]\n",
      "34/34 [==============================] - 6s 69ms/step - loss: 0.1019 - accuracy: 9.2678e-04\n",
      "[0, 1, 2, 7, 9]\n",
      "34/34 [==============================] - 7s 70ms/step - loss: 0.0995 - accuracy: 0.0000e+00\n",
      "[0, 1, 2, 7, 10]\n",
      "34/34 [==============================] - 7s 68ms/step - loss: 0.1011 - accuracy: 0.0000e+00\n",
      "[0, 1, 2, 7, 11]\n",
      "34/34 [==============================] - 7s 70ms/step - loss: 0.0840 - accuracy: 0.0000e+00\n",
      "[0, 1, 2, 8, 9]\n",
      "34/34 [==============================] - 7s 65ms/step - loss: 0.1053 - accuracy: 0.0000e+00\n",
      "[0, 1, 2, 8, 10]\n",
      "34/34 [==============================] - 7s 68ms/step - loss: 0.0990 - accuracy: 0.0000e+00\n",
      "[0, 1, 2, 8, 11]\n",
      "34/34 [==============================] - 6s 68ms/step - loss: 0.1039 - accuracy: 0.0000e+00\n",
      "[0, 1, 2, 9, 10]\n",
      "34/34 [==============================] - 7s 66ms/step - loss: 0.0954 - accuracy: 0.0000e+00\n",
      "[0, 1, 2, 9, 11]\n",
      "34/34 [==============================] - 7s 66ms/step - loss: 0.1050 - accuracy: 0.0000e+00\n",
      "[0, 1, 2, 10, 11]\n",
      "34/34 [==============================] - 7s 69ms/step - loss: 0.1028 - accuracy: 0.0000e+00\n",
      "[0, 1, 3, 4, 5]\n"
     ]
    },
    {
     "name": "stderr",
     "output_type": "stream",
     "text": [
      "/Users/ishan/opt/anaconda3/lib/python3.7/site-packages/ipykernel_launcher.py:7: SettingWithCopyWarning: \n",
      "A value is trying to be set on a copy of a slice from a DataFrame.\n",
      "Try using .loc[row_indexer,col_indexer] = value instead\n",
      "\n",
      "See the caveats in the documentation: https://pandas.pydata.org/pandas-docs/stable/user_guide/indexing.html#returning-a-view-versus-a-copy\n",
      "  import sys\n"
     ]
    },
    {
     "name": "stdout",
     "output_type": "stream",
     "text": [
      "34/34 [==============================] - 7s 63ms/step - loss: 0.0727 - accuracy: 9.2678e-04\n",
      "[0, 1, 3, 4, 6]\n"
     ]
    },
    {
     "name": "stderr",
     "output_type": "stream",
     "text": [
      "/Users/ishan/opt/anaconda3/lib/python3.7/site-packages/ipykernel_launcher.py:7: SettingWithCopyWarning: \n",
      "A value is trying to be set on a copy of a slice from a DataFrame.\n",
      "Try using .loc[row_indexer,col_indexer] = value instead\n",
      "\n",
      "See the caveats in the documentation: https://pandas.pydata.org/pandas-docs/stable/user_guide/indexing.html#returning-a-view-versus-a-copy\n",
      "  import sys\n"
     ]
    },
    {
     "name": "stdout",
     "output_type": "stream",
     "text": [
      "34/34 [==============================] - 6s 57ms/step - loss: 0.0776 - accuracy: 0.0000e+00\n",
      "[0, 1, 3, 4, 7]\n"
     ]
    },
    {
     "name": "stderr",
     "output_type": "stream",
     "text": [
      "/Users/ishan/opt/anaconda3/lib/python3.7/site-packages/ipykernel_launcher.py:7: SettingWithCopyWarning: \n",
      "A value is trying to be set on a copy of a slice from a DataFrame.\n",
      "Try using .loc[row_indexer,col_indexer] = value instead\n",
      "\n",
      "See the caveats in the documentation: https://pandas.pydata.org/pandas-docs/stable/user_guide/indexing.html#returning-a-view-versus-a-copy\n",
      "  import sys\n"
     ]
    },
    {
     "name": "stdout",
     "output_type": "stream",
     "text": [
      "34/34 [==============================] - 6s 66ms/step - loss: 0.0760 - accuracy: 0.0000e+00\n",
      "[0, 1, 3, 4, 8]\n"
     ]
    },
    {
     "name": "stderr",
     "output_type": "stream",
     "text": [
      "/Users/ishan/opt/anaconda3/lib/python3.7/site-packages/ipykernel_launcher.py:7: SettingWithCopyWarning: \n",
      "A value is trying to be set on a copy of a slice from a DataFrame.\n",
      "Try using .loc[row_indexer,col_indexer] = value instead\n",
      "\n",
      "See the caveats in the documentation: https://pandas.pydata.org/pandas-docs/stable/user_guide/indexing.html#returning-a-view-versus-a-copy\n",
      "  import sys\n"
     ]
    },
    {
     "name": "stdout",
     "output_type": "stream",
     "text": [
      "34/34 [==============================] - 8s 62ms/step - loss: 0.0902 - accuracy: 0.0000e+00\n",
      "[0, 1, 3, 4, 9]\n"
     ]
    },
    {
     "name": "stderr",
     "output_type": "stream",
     "text": [
      "/Users/ishan/opt/anaconda3/lib/python3.7/site-packages/ipykernel_launcher.py:7: SettingWithCopyWarning: \n",
      "A value is trying to be set on a copy of a slice from a DataFrame.\n",
      "Try using .loc[row_indexer,col_indexer] = value instead\n",
      "\n",
      "See the caveats in the documentation: https://pandas.pydata.org/pandas-docs/stable/user_guide/indexing.html#returning-a-view-versus-a-copy\n",
      "  import sys\n"
     ]
    },
    {
     "name": "stdout",
     "output_type": "stream",
     "text": [
      "34/34 [==============================] - 8s 73ms/step - loss: 0.0745 - accuracy: 0.0000e+00\n",
      "[0, 1, 3, 4, 10]\n"
     ]
    },
    {
     "name": "stderr",
     "output_type": "stream",
     "text": [
      "/Users/ishan/opt/anaconda3/lib/python3.7/site-packages/ipykernel_launcher.py:7: SettingWithCopyWarning: \n",
      "A value is trying to be set on a copy of a slice from a DataFrame.\n",
      "Try using .loc[row_indexer,col_indexer] = value instead\n",
      "\n",
      "See the caveats in the documentation: https://pandas.pydata.org/pandas-docs/stable/user_guide/indexing.html#returning-a-view-versus-a-copy\n",
      "  import sys\n"
     ]
    },
    {
     "name": "stdout",
     "output_type": "stream",
     "text": [
      "34/34 [==============================] - 7s 65ms/step - loss: 0.0787 - accuracy: 0.0000e+00\n",
      "[0, 1, 3, 4, 11]\n"
     ]
    },
    {
     "name": "stderr",
     "output_type": "stream",
     "text": [
      "/Users/ishan/opt/anaconda3/lib/python3.7/site-packages/ipykernel_launcher.py:7: SettingWithCopyWarning: \n",
      "A value is trying to be set on a copy of a slice from a DataFrame.\n",
      "Try using .loc[row_indexer,col_indexer] = value instead\n",
      "\n",
      "See the caveats in the documentation: https://pandas.pydata.org/pandas-docs/stable/user_guide/indexing.html#returning-a-view-versus-a-copy\n",
      "  import sys\n"
     ]
    },
    {
     "name": "stdout",
     "output_type": "stream",
     "text": [
      "34/34 [==============================] - 7s 68ms/step - loss: 0.0746 - accuracy: 9.2678e-04\n",
      "[0, 1, 3, 5, 6]\n"
     ]
    },
    {
     "name": "stderr",
     "output_type": "stream",
     "text": [
      "/Users/ishan/opt/anaconda3/lib/python3.7/site-packages/ipykernel_launcher.py:7: SettingWithCopyWarning: \n",
      "A value is trying to be set on a copy of a slice from a DataFrame.\n",
      "Try using .loc[row_indexer,col_indexer] = value instead\n",
      "\n",
      "See the caveats in the documentation: https://pandas.pydata.org/pandas-docs/stable/user_guide/indexing.html#returning-a-view-versus-a-copy\n",
      "  import sys\n"
     ]
    },
    {
     "name": "stdout",
     "output_type": "stream",
     "text": [
      "34/34 [==============================] - 7s 68ms/step - loss: 0.0962 - accuracy: 0.0000e+00\n",
      "[0, 1, 3, 5, 7]\n"
     ]
    },
    {
     "name": "stderr",
     "output_type": "stream",
     "text": [
      "/Users/ishan/opt/anaconda3/lib/python3.7/site-packages/ipykernel_launcher.py:7: SettingWithCopyWarning: \n",
      "A value is trying to be set on a copy of a slice from a DataFrame.\n",
      "Try using .loc[row_indexer,col_indexer] = value instead\n",
      "\n",
      "See the caveats in the documentation: https://pandas.pydata.org/pandas-docs/stable/user_guide/indexing.html#returning-a-view-versus-a-copy\n",
      "  import sys\n"
     ]
    },
    {
     "name": "stdout",
     "output_type": "stream",
     "text": [
      "34/34 [==============================] - 7s 68ms/step - loss: 0.0794 - accuracy: 9.2678e-04\n",
      "[0, 1, 3, 5, 8]\n"
     ]
    },
    {
     "name": "stderr",
     "output_type": "stream",
     "text": [
      "/Users/ishan/opt/anaconda3/lib/python3.7/site-packages/ipykernel_launcher.py:7: SettingWithCopyWarning: \n",
      "A value is trying to be set on a copy of a slice from a DataFrame.\n",
      "Try using .loc[row_indexer,col_indexer] = value instead\n",
      "\n",
      "See the caveats in the documentation: https://pandas.pydata.org/pandas-docs/stable/user_guide/indexing.html#returning-a-view-versus-a-copy\n",
      "  import sys\n"
     ]
    },
    {
     "name": "stdout",
     "output_type": "stream",
     "text": [
      "34/34 [==============================] - 6s 61ms/step - loss: 0.1126 - accuracy: 0.0000e+00\n",
      "[0, 1, 3, 5, 9]\n"
     ]
    },
    {
     "name": "stderr",
     "output_type": "stream",
     "text": [
      "/Users/ishan/opt/anaconda3/lib/python3.7/site-packages/ipykernel_launcher.py:7: SettingWithCopyWarning: \n",
      "A value is trying to be set on a copy of a slice from a DataFrame.\n",
      "Try using .loc[row_indexer,col_indexer] = value instead\n",
      "\n",
      "See the caveats in the documentation: https://pandas.pydata.org/pandas-docs/stable/user_guide/indexing.html#returning-a-view-versus-a-copy\n",
      "  import sys\n"
     ]
    },
    {
     "name": "stdout",
     "output_type": "stream",
     "text": [
      "34/34 [==============================] - 7s 66ms/step - loss: 0.1073 - accuracy: 0.0000e+00\n",
      "[0, 1, 3, 5, 10]\n"
     ]
    },
    {
     "name": "stderr",
     "output_type": "stream",
     "text": [
      "/Users/ishan/opt/anaconda3/lib/python3.7/site-packages/ipykernel_launcher.py:7: SettingWithCopyWarning: \n",
      "A value is trying to be set on a copy of a slice from a DataFrame.\n",
      "Try using .loc[row_indexer,col_indexer] = value instead\n",
      "\n",
      "See the caveats in the documentation: https://pandas.pydata.org/pandas-docs/stable/user_guide/indexing.html#returning-a-view-versus-a-copy\n",
      "  import sys\n"
     ]
    },
    {
     "name": "stdout",
     "output_type": "stream",
     "text": [
      "34/34 [==============================] - 7s 62ms/step - loss: 0.0890 - accuracy: 0.0000e+00\n",
      "[0, 1, 3, 5, 11]\n"
     ]
    },
    {
     "name": "stderr",
     "output_type": "stream",
     "text": [
      "/Users/ishan/opt/anaconda3/lib/python3.7/site-packages/ipykernel_launcher.py:7: SettingWithCopyWarning: \n",
      "A value is trying to be set on a copy of a slice from a DataFrame.\n",
      "Try using .loc[row_indexer,col_indexer] = value instead\n",
      "\n",
      "See the caveats in the documentation: https://pandas.pydata.org/pandas-docs/stable/user_guide/indexing.html#returning-a-view-versus-a-copy\n",
      "  import sys\n"
     ]
    },
    {
     "name": "stdout",
     "output_type": "stream",
     "text": [
      "34/34 [==============================] - 7s 65ms/step - loss: 0.1053 - accuracy: 0.0000e+00\n",
      "[0, 1, 3, 6, 7]\n"
     ]
    },
    {
     "name": "stderr",
     "output_type": "stream",
     "text": [
      "/Users/ishan/opt/anaconda3/lib/python3.7/site-packages/ipykernel_launcher.py:7: SettingWithCopyWarning: \n",
      "A value is trying to be set on a copy of a slice from a DataFrame.\n",
      "Try using .loc[row_indexer,col_indexer] = value instead\n",
      "\n",
      "See the caveats in the documentation: https://pandas.pydata.org/pandas-docs/stable/user_guide/indexing.html#returning-a-view-versus-a-copy\n",
      "  import sys\n"
     ]
    },
    {
     "name": "stdout",
     "output_type": "stream",
     "text": [
      "34/34 [==============================] - 7s 61ms/step - loss: 0.1064 - accuracy: 0.0000e+00\n",
      "[0, 1, 3, 6, 8]\n"
     ]
    },
    {
     "name": "stderr",
     "output_type": "stream",
     "text": [
      "/Users/ishan/opt/anaconda3/lib/python3.7/site-packages/ipykernel_launcher.py:7: SettingWithCopyWarning: \n",
      "A value is trying to be set on a copy of a slice from a DataFrame.\n",
      "Try using .loc[row_indexer,col_indexer] = value instead\n",
      "\n",
      "See the caveats in the documentation: https://pandas.pydata.org/pandas-docs/stable/user_guide/indexing.html#returning-a-view-versus-a-copy\n",
      "  import sys\n"
     ]
    },
    {
     "name": "stdout",
     "output_type": "stream",
     "text": [
      "34/34 [==============================] - 7s 75ms/step - loss: 0.1070 - accuracy: 0.0000e+00\n",
      "[0, 1, 3, 6, 9]\n"
     ]
    },
    {
     "name": "stderr",
     "output_type": "stream",
     "text": [
      "/Users/ishan/opt/anaconda3/lib/python3.7/site-packages/ipykernel_launcher.py:7: SettingWithCopyWarning: \n",
      "A value is trying to be set on a copy of a slice from a DataFrame.\n",
      "Try using .loc[row_indexer,col_indexer] = value instead\n",
      "\n",
      "See the caveats in the documentation: https://pandas.pydata.org/pandas-docs/stable/user_guide/indexing.html#returning-a-view-versus-a-copy\n",
      "  import sys\n"
     ]
    },
    {
     "name": "stdout",
     "output_type": "stream",
     "text": [
      "34/34 [==============================] - 7s 73ms/step - loss: 0.0995 - accuracy: 0.0000e+00\n",
      "[0, 1, 3, 6, 10]\n"
     ]
    },
    {
     "name": "stderr",
     "output_type": "stream",
     "text": [
      "/Users/ishan/opt/anaconda3/lib/python3.7/site-packages/ipykernel_launcher.py:7: SettingWithCopyWarning: \n",
      "A value is trying to be set on a copy of a slice from a DataFrame.\n",
      "Try using .loc[row_indexer,col_indexer] = value instead\n",
      "\n",
      "See the caveats in the documentation: https://pandas.pydata.org/pandas-docs/stable/user_guide/indexing.html#returning-a-view-versus-a-copy\n",
      "  import sys\n"
     ]
    },
    {
     "name": "stdout",
     "output_type": "stream",
     "text": [
      "34/34 [==============================] - 7s 62ms/step - loss: 0.1111 - accuracy: 0.0000e+00\n",
      "[0, 1, 3, 6, 11]\n"
     ]
    },
    {
     "name": "stderr",
     "output_type": "stream",
     "text": [
      "/Users/ishan/opt/anaconda3/lib/python3.7/site-packages/ipykernel_launcher.py:7: SettingWithCopyWarning: \n",
      "A value is trying to be set on a copy of a slice from a DataFrame.\n",
      "Try using .loc[row_indexer,col_indexer] = value instead\n",
      "\n",
      "See the caveats in the documentation: https://pandas.pydata.org/pandas-docs/stable/user_guide/indexing.html#returning-a-view-versus-a-copy\n",
      "  import sys\n"
     ]
    },
    {
     "name": "stdout",
     "output_type": "stream",
     "text": [
      "34/34 [==============================] - 7s 67ms/step - loss: 0.0981 - accuracy: 0.0000e+00\n",
      "[0, 1, 3, 7, 8]\n"
     ]
    },
    {
     "name": "stderr",
     "output_type": "stream",
     "text": [
      "/Users/ishan/opt/anaconda3/lib/python3.7/site-packages/ipykernel_launcher.py:7: SettingWithCopyWarning: \n",
      "A value is trying to be set on a copy of a slice from a DataFrame.\n",
      "Try using .loc[row_indexer,col_indexer] = value instead\n",
      "\n",
      "See the caveats in the documentation: https://pandas.pydata.org/pandas-docs/stable/user_guide/indexing.html#returning-a-view-versus-a-copy\n",
      "  import sys\n"
     ]
    },
    {
     "name": "stdout",
     "output_type": "stream",
     "text": [
      "34/34 [==============================] - 7s 61ms/step - loss: 0.1079 - accuracy: 0.0000e+00\n",
      "[0, 1, 3, 7, 9]\n"
     ]
    },
    {
     "name": "stderr",
     "output_type": "stream",
     "text": [
      "/Users/ishan/opt/anaconda3/lib/python3.7/site-packages/ipykernel_launcher.py:7: SettingWithCopyWarning: \n",
      "A value is trying to be set on a copy of a slice from a DataFrame.\n",
      "Try using .loc[row_indexer,col_indexer] = value instead\n",
      "\n",
      "See the caveats in the documentation: https://pandas.pydata.org/pandas-docs/stable/user_guide/indexing.html#returning-a-view-versus-a-copy\n",
      "  import sys\n"
     ]
    },
    {
     "name": "stdout",
     "output_type": "stream",
     "text": [
      "34/34 [==============================] - 7s 61ms/step - loss: 0.0984 - accuracy: 0.0000e+00\n",
      "[0, 1, 3, 7, 10]\n"
     ]
    },
    {
     "name": "stderr",
     "output_type": "stream",
     "text": [
      "/Users/ishan/opt/anaconda3/lib/python3.7/site-packages/ipykernel_launcher.py:7: SettingWithCopyWarning: \n",
      "A value is trying to be set on a copy of a slice from a DataFrame.\n",
      "Try using .loc[row_indexer,col_indexer] = value instead\n",
      "\n",
      "See the caveats in the documentation: https://pandas.pydata.org/pandas-docs/stable/user_guide/indexing.html#returning-a-view-versus-a-copy\n",
      "  import sys\n"
     ]
    },
    {
     "name": "stdout",
     "output_type": "stream",
     "text": [
      "34/34 [==============================] - 7s 68ms/step - loss: 0.0968 - accuracy: 0.0000e+00\n",
      "[0, 1, 3, 7, 11]\n"
     ]
    },
    {
     "name": "stderr",
     "output_type": "stream",
     "text": [
      "/Users/ishan/opt/anaconda3/lib/python3.7/site-packages/ipykernel_launcher.py:7: SettingWithCopyWarning: \n",
      "A value is trying to be set on a copy of a slice from a DataFrame.\n",
      "Try using .loc[row_indexer,col_indexer] = value instead\n",
      "\n",
      "See the caveats in the documentation: https://pandas.pydata.org/pandas-docs/stable/user_guide/indexing.html#returning-a-view-versus-a-copy\n",
      "  import sys\n"
     ]
    },
    {
     "name": "stdout",
     "output_type": "stream",
     "text": [
      "34/34 [==============================] - 6s 62ms/step - loss: 0.0992 - accuracy: 0.0000e+00\n",
      "[0, 1, 3, 8, 9]\n"
     ]
    },
    {
     "name": "stderr",
     "output_type": "stream",
     "text": [
      "/Users/ishan/opt/anaconda3/lib/python3.7/site-packages/ipykernel_launcher.py:7: SettingWithCopyWarning: \n",
      "A value is trying to be set on a copy of a slice from a DataFrame.\n",
      "Try using .loc[row_indexer,col_indexer] = value instead\n",
      "\n",
      "See the caveats in the documentation: https://pandas.pydata.org/pandas-docs/stable/user_guide/indexing.html#returning-a-view-versus-a-copy\n",
      "  import sys\n"
     ]
    },
    {
     "name": "stdout",
     "output_type": "stream",
     "text": [
      "34/34 [==============================] - 7s 62ms/step - loss: 0.1071 - accuracy: 0.0000e+00\n",
      "[0, 1, 3, 8, 10]\n"
     ]
    },
    {
     "name": "stderr",
     "output_type": "stream",
     "text": [
      "/Users/ishan/opt/anaconda3/lib/python3.7/site-packages/ipykernel_launcher.py:7: SettingWithCopyWarning: \n",
      "A value is trying to be set on a copy of a slice from a DataFrame.\n",
      "Try using .loc[row_indexer,col_indexer] = value instead\n",
      "\n",
      "See the caveats in the documentation: https://pandas.pydata.org/pandas-docs/stable/user_guide/indexing.html#returning-a-view-versus-a-copy\n",
      "  import sys\n"
     ]
    },
    {
     "name": "stdout",
     "output_type": "stream",
     "text": [
      "34/34 [==============================] - 7s 66ms/step - loss: 0.0998 - accuracy: 0.0000e+00\n",
      "[0, 1, 3, 8, 11]\n"
     ]
    },
    {
     "name": "stderr",
     "output_type": "stream",
     "text": [
      "/Users/ishan/opt/anaconda3/lib/python3.7/site-packages/ipykernel_launcher.py:7: SettingWithCopyWarning: \n",
      "A value is trying to be set on a copy of a slice from a DataFrame.\n",
      "Try using .loc[row_indexer,col_indexer] = value instead\n",
      "\n",
      "See the caveats in the documentation: https://pandas.pydata.org/pandas-docs/stable/user_guide/indexing.html#returning-a-view-versus-a-copy\n",
      "  import sys\n"
     ]
    },
    {
     "name": "stdout",
     "output_type": "stream",
     "text": [
      "34/34 [==============================] - 7s 61ms/step - loss: 0.1002 - accuracy: 9.2678e-04\n",
      "[0, 1, 3, 9, 10]\n"
     ]
    },
    {
     "name": "stderr",
     "output_type": "stream",
     "text": [
      "/Users/ishan/opt/anaconda3/lib/python3.7/site-packages/ipykernel_launcher.py:7: SettingWithCopyWarning: \n",
      "A value is trying to be set on a copy of a slice from a DataFrame.\n",
      "Try using .loc[row_indexer,col_indexer] = value instead\n",
      "\n",
      "See the caveats in the documentation: https://pandas.pydata.org/pandas-docs/stable/user_guide/indexing.html#returning-a-view-versus-a-copy\n",
      "  import sys\n"
     ]
    },
    {
     "name": "stdout",
     "output_type": "stream",
     "text": [
      "34/34 [==============================] - 7s 66ms/step - loss: 0.0943 - accuracy: 0.0000e+00\n",
      "[0, 1, 3, 9, 11]\n"
     ]
    },
    {
     "name": "stderr",
     "output_type": "stream",
     "text": [
      "/Users/ishan/opt/anaconda3/lib/python3.7/site-packages/ipykernel_launcher.py:7: SettingWithCopyWarning: \n",
      "A value is trying to be set on a copy of a slice from a DataFrame.\n",
      "Try using .loc[row_indexer,col_indexer] = value instead\n",
      "\n",
      "See the caveats in the documentation: https://pandas.pydata.org/pandas-docs/stable/user_guide/indexing.html#returning-a-view-versus-a-copy\n",
      "  import sys\n"
     ]
    },
    {
     "name": "stdout",
     "output_type": "stream",
     "text": [
      "34/34 [==============================] - 6s 64ms/step - loss: 0.0940 - accuracy: 0.0000e+00\n",
      "[0, 1, 3, 10, 11]\n"
     ]
    },
    {
     "name": "stderr",
     "output_type": "stream",
     "text": [
      "/Users/ishan/opt/anaconda3/lib/python3.7/site-packages/ipykernel_launcher.py:7: SettingWithCopyWarning: \n",
      "A value is trying to be set on a copy of a slice from a DataFrame.\n",
      "Try using .loc[row_indexer,col_indexer] = value instead\n",
      "\n",
      "See the caveats in the documentation: https://pandas.pydata.org/pandas-docs/stable/user_guide/indexing.html#returning-a-view-versus-a-copy\n",
      "  import sys\n"
     ]
    },
    {
     "name": "stdout",
     "output_type": "stream",
     "text": [
      "34/34 [==============================] - 7s 63ms/step - loss: 0.1065 - accuracy: 0.0000e+00\n",
      "[0, 1, 4, 5, 6]\n",
      "34/34 [==============================] - 7s 66ms/step - loss: 0.0853 - accuracy: 0.0000e+00\n",
      "[0, 1, 4, 5, 7]\n",
      "34/34 [==============================] - 7s 64ms/step - loss: 0.0905 - accuracy: 9.2678e-04\n",
      "[0, 1, 4, 5, 8]\n",
      "34/34 [==============================] - 7s 65ms/step - loss: 0.0727 - accuracy: 0.0000e+00\n",
      "[0, 1, 4, 5, 9]\n",
      "34/34 [==============================] - 6s 62ms/step - loss: 0.0880 - accuracy: 0.0000e+00\n",
      "[0, 1, 4, 5, 10]\n",
      "34/34 [==============================] - 6s 65ms/step - loss: 0.0744 - accuracy: 9.2678e-04\n",
      "[0, 1, 4, 5, 11]\n",
      "34/34 [==============================] - 7s 62ms/step - loss: 0.0794 - accuracy: 0.0000e+00\n",
      "[0, 1, 4, 6, 7]\n",
      "34/34 [==============================] - 7s 66ms/step - loss: 0.0795 - accuracy: 0.0000e+00\n",
      "[0, 1, 4, 6, 8]\n",
      "34/34 [==============================] - 7s 66ms/step - loss: 0.0880 - accuracy: 0.0000e+00\n",
      "[0, 1, 4, 6, 9]\n",
      "34/34 [==============================] - 7s 65ms/step - loss: 0.0688 - accuracy: 0.0000e+00\n",
      "[0, 1, 4, 6, 10]\n",
      "34/34 [==============================] - 7s 66ms/step - loss: 0.0924 - accuracy: 0.0000e+00\n",
      "[0, 1, 4, 6, 11]\n",
      "34/34 [==============================] - 6s 65ms/step - loss: 0.0852 - accuracy: 0.0000e+00\n",
      "[0, 1, 4, 7, 8]\n",
      "34/34 [==============================] - 6s 66ms/step - loss: 0.0758 - accuracy: 0.0000e+00\n",
      "[0, 1, 4, 7, 9]\n",
      "34/34 [==============================] - 7s 72ms/step - loss: 0.0954 - accuracy: 0.0000e+00\n",
      "[0, 1, 4, 7, 10]\n",
      "34/34 [==============================] - 7s 66ms/step - loss: 0.0710 - accuracy: 0.0000e+00\n",
      "[0, 1, 4, 7, 11]\n",
      "34/34 [==============================] - 7s 63ms/step - loss: 0.0762 - accuracy: 0.0000e+00\n",
      "[0, 1, 4, 8, 9]\n",
      "34/34 [==============================] - 7s 65ms/step - loss: 0.0850 - accuracy: 0.0000e+00\n",
      "[0, 1, 4, 8, 10]\n",
      "34/34 [==============================] - 6s 65ms/step - loss: 0.0715 - accuracy: 0.0000e+00\n",
      "[0, 1, 4, 8, 11]\n",
      "34/34 [==============================] - 7s 66ms/step - loss: 0.0876 - accuracy: 0.0000e+00\n",
      "[0, 1, 4, 9, 10]\n",
      "34/34 [==============================] - 7s 67ms/step - loss: 0.0845 - accuracy: 0.0000e+00\n",
      "[0, 1, 4, 9, 11]\n",
      "34/34 [==============================] - 7s 67ms/step - loss: 0.0755 - accuracy: 9.2678e-04\n",
      "[0, 1, 4, 10, 11]\n",
      "34/34 [==============================] - 8s 62ms/step - loss: 0.0911 - accuracy: 0.0000e+00\n",
      "[0, 1, 5, 6, 7]\n",
      "34/34 [==============================] - 7s 66ms/step - loss: 0.0778 - accuracy: 0.0000e+00\n",
      "[0, 1, 5, 6, 8]\n",
      "34/34 [==============================] - 7s 67ms/step - loss: 0.1076 - accuracy: 0.0000e+00\n",
      "[0, 1, 5, 6, 9]\n",
      "34/34 [==============================] - 6s 61ms/step - loss: 0.1008 - accuracy: 9.2678e-04\n",
      "[0, 1, 5, 6, 10]\n",
      "34/34 [==============================] - 7s 64ms/step - loss: 0.1028 - accuracy: 0.0000e+00\n",
      "[0, 1, 5, 6, 11]\n",
      "34/34 [==============================] - 7s 62ms/step - loss: 0.0947 - accuracy: 0.0000e+00\n",
      "[0, 1, 5, 7, 8]\n",
      "34/34 [==============================] - 7s 66ms/step - loss: 0.0921 - accuracy: 9.2678e-04\n",
      "[0, 1, 5, 7, 9]\n",
      "34/34 [==============================] - 7s 64ms/step - loss: 0.0969 - accuracy: 0.0000e+00\n",
      "[0, 1, 5, 7, 10]\n",
      "34/34 [==============================] - 7s 66ms/step - loss: 0.1049 - accuracy: 9.2678e-04\n",
      "[0, 1, 5, 7, 11]\n",
      "34/34 [==============================] - 7s 66ms/step - loss: 0.0964 - accuracy: 0.0000e+00\n",
      "[0, 1, 5, 8, 9]\n",
      "34/34 [==============================] - 6s 49ms/step - loss: 0.1024 - accuracy: 0.0000e+00\n",
      "[0, 1, 5, 8, 10]\n",
      "34/34 [==============================] - 7s 95ms/step - loss: 0.1004 - accuracy: 0.0000e+00\n",
      "[0, 1, 5, 8, 11]\n",
      "34/34 [==============================] - 7s 76ms/step - loss: 0.0983 - accuracy: 0.0000e+00\n",
      "[0, 1, 5, 9, 10]\n",
      "34/34 [==============================] - 7s 65ms/step - loss: 0.1000 - accuracy: 0.0000e+00\n",
      "[0, 1, 5, 9, 11]\n",
      "34/34 [==============================] - 7s 65ms/step - loss: 0.1006 - accuracy: 0.0000e+00\n",
      "[0, 1, 5, 10, 11]\n",
      "34/34 [==============================] - 7s 61ms/step - loss: 0.1045 - accuracy: 0.0000e+00\n",
      "[0, 1, 6, 7, 8]\n",
      "34/34 [==============================] - 7s 61ms/step - loss: 0.1045 - accuracy: 0.0000e+00\n",
      "[0, 1, 6, 7, 9]\n",
      "34/34 [==============================] - 7s 66ms/step - loss: 0.0996 - accuracy: 0.0000e+00\n",
      "[0, 1, 6, 7, 10]\n",
      "34/34 [==============================] - 7s 62ms/step - loss: 0.0985 - accuracy: 0.0000e+00\n",
      "[0, 1, 6, 7, 11]\n",
      "34/34 [==============================] - 7s 65ms/step - loss: 0.0983 - accuracy: 0.0000e+00\n",
      "[0, 1, 6, 8, 9]\n",
      "34/34 [==============================] - 6s 62ms/step - loss: 0.1070 - accuracy: 0.0000e+00\n",
      "[0, 1, 6, 8, 10]\n",
      "34/34 [==============================] - 7s 65ms/step - loss: 0.1109 - accuracy: 0.0000e+00\n",
      "[0, 1, 6, 8, 11]\n",
      "34/34 [==============================] - 7s 65ms/step - loss: 0.1061 - accuracy: 9.2678e-04\n",
      "[0, 1, 6, 9, 10]\n",
      "34/34 [==============================] - 7s 65ms/step - loss: 0.1120 - accuracy: 0.0000e+00\n",
      "[0, 1, 6, 9, 11]\n",
      "34/34 [==============================] - 7s 67ms/step - loss: 0.1051 - accuracy: 0.0000e+00\n",
      "[0, 1, 6, 10, 11]\n",
      "34/34 [==============================] - 7s 69ms/step - loss: 0.1066 - accuracy: 0.0000e+00\n",
      "[0, 1, 7, 8, 9]\n",
      "34/34 [==============================] - 7s 68ms/step - loss: 0.0992 - accuracy: 0.0000e+00\n",
      "[0, 1, 7, 8, 10]\n",
      "34/34 [==============================] - 7s 66ms/step - loss: 0.1026 - accuracy: 0.0000e+00\n",
      "[0, 1, 7, 8, 11]\n",
      "34/34 [==============================] - 7s 65ms/step - loss: 0.0979 - accuracy: 0.0000e+00\n",
      "[0, 1, 7, 9, 10]\n",
      "34/34 [==============================] - 7s 65ms/step - loss: 0.1005 - accuracy: 0.0000e+00\n",
      "[0, 1, 7, 9, 11]\n",
      "34/34 [==============================] - 7s 66ms/step - loss: 0.1065 - accuracy: 0.0000e+00\n",
      "[0, 1, 7, 10, 11]\n",
      "34/34 [==============================] - 7s 67ms/step - loss: 0.1030 - accuracy: 0.0000e+00\n",
      "[0, 1, 8, 9, 10]\n",
      "34/34 [==============================] - 7s 63ms/step - loss: 0.1090 - accuracy: 0.0000e+00\n",
      "[0, 1, 8, 9, 11]\n",
      "34/34 [==============================] - 7s 72ms/step - loss: 0.1041 - accuracy: 0.0000e+00\n",
      "[0, 1, 8, 10, 11]\n",
      "34/34 [==============================] - 7s 66ms/step - loss: 0.1012 - accuracy: 0.0000e+00\n",
      "[0, 1, 9, 10, 11]\n",
      "34/34 [==============================] - 7s 63ms/step - loss: 0.1127 - accuracy: 0.0000e+00\n",
      "[0, 2, 3, 4, 5]\n"
     ]
    },
    {
     "name": "stderr",
     "output_type": "stream",
     "text": [
      "/Users/ishan/opt/anaconda3/lib/python3.7/site-packages/ipykernel_launcher.py:7: SettingWithCopyWarning: \n",
      "A value is trying to be set on a copy of a slice from a DataFrame.\n",
      "Try using .loc[row_indexer,col_indexer] = value instead\n",
      "\n",
      "See the caveats in the documentation: https://pandas.pydata.org/pandas-docs/stable/user_guide/indexing.html#returning-a-view-versus-a-copy\n",
      "  import sys\n"
     ]
    },
    {
     "name": "stdout",
     "output_type": "stream",
     "text": [
      "34/34 [==============================] - 7s 66ms/step - loss: 0.0651 - accuracy: 0.0000e+00\n",
      "[0, 2, 3, 4, 6]\n"
     ]
    },
    {
     "name": "stderr",
     "output_type": "stream",
     "text": [
      "/Users/ishan/opt/anaconda3/lib/python3.7/site-packages/ipykernel_launcher.py:7: SettingWithCopyWarning: \n",
      "A value is trying to be set on a copy of a slice from a DataFrame.\n",
      "Try using .loc[row_indexer,col_indexer] = value instead\n",
      "\n",
      "See the caveats in the documentation: https://pandas.pydata.org/pandas-docs/stable/user_guide/indexing.html#returning-a-view-versus-a-copy\n",
      "  import sys\n"
     ]
    },
    {
     "name": "stdout",
     "output_type": "stream",
     "text": [
      "34/34 [==============================] - 7s 63ms/step - loss: 0.0844 - accuracy: 0.0000e+00\n",
      "[0, 2, 3, 4, 7]\n"
     ]
    },
    {
     "name": "stderr",
     "output_type": "stream",
     "text": [
      "/Users/ishan/opt/anaconda3/lib/python3.7/site-packages/ipykernel_launcher.py:7: SettingWithCopyWarning: \n",
      "A value is trying to be set on a copy of a slice from a DataFrame.\n",
      "Try using .loc[row_indexer,col_indexer] = value instead\n",
      "\n",
      "See the caveats in the documentation: https://pandas.pydata.org/pandas-docs/stable/user_guide/indexing.html#returning-a-view-versus-a-copy\n",
      "  import sys\n"
     ]
    },
    {
     "name": "stdout",
     "output_type": "stream",
     "text": [
      "34/34 [==============================] - 7s 72ms/step - loss: 0.0700 - accuracy: 0.0000e+00\n",
      "[0, 2, 3, 4, 8]\n"
     ]
    },
    {
     "name": "stderr",
     "output_type": "stream",
     "text": [
      "/Users/ishan/opt/anaconda3/lib/python3.7/site-packages/ipykernel_launcher.py:7: SettingWithCopyWarning: \n",
      "A value is trying to be set on a copy of a slice from a DataFrame.\n",
      "Try using .loc[row_indexer,col_indexer] = value instead\n",
      "\n",
      "See the caveats in the documentation: https://pandas.pydata.org/pandas-docs/stable/user_guide/indexing.html#returning-a-view-versus-a-copy\n",
      "  import sys\n"
     ]
    },
    {
     "name": "stdout",
     "output_type": "stream",
     "text": [
      "34/34 [==============================] - 6s 61ms/step - loss: 0.0846 - accuracy: 0.0000e+00\n",
      "[0, 2, 3, 4, 9]\n"
     ]
    },
    {
     "name": "stderr",
     "output_type": "stream",
     "text": [
      "/Users/ishan/opt/anaconda3/lib/python3.7/site-packages/ipykernel_launcher.py:7: SettingWithCopyWarning: \n",
      "A value is trying to be set on a copy of a slice from a DataFrame.\n",
      "Try using .loc[row_indexer,col_indexer] = value instead\n",
      "\n",
      "See the caveats in the documentation: https://pandas.pydata.org/pandas-docs/stable/user_guide/indexing.html#returning-a-view-versus-a-copy\n",
      "  import sys\n"
     ]
    },
    {
     "name": "stdout",
     "output_type": "stream",
     "text": [
      "34/34 [==============================] - 7s 64ms/step - loss: 0.0928 - accuracy: 0.0000e+00\n",
      "[0, 2, 3, 4, 10]\n"
     ]
    },
    {
     "name": "stderr",
     "output_type": "stream",
     "text": [
      "/Users/ishan/opt/anaconda3/lib/python3.7/site-packages/ipykernel_launcher.py:7: SettingWithCopyWarning: \n",
      "A value is trying to be set on a copy of a slice from a DataFrame.\n",
      "Try using .loc[row_indexer,col_indexer] = value instead\n",
      "\n",
      "See the caveats in the documentation: https://pandas.pydata.org/pandas-docs/stable/user_guide/indexing.html#returning-a-view-versus-a-copy\n",
      "  import sys\n"
     ]
    },
    {
     "name": "stdout",
     "output_type": "stream",
     "text": [
      "34/34 [==============================] - 7s 62ms/step - loss: 0.0868 - accuracy: 9.2678e-04\n",
      "[0, 2, 3, 4, 11]\n"
     ]
    },
    {
     "name": "stderr",
     "output_type": "stream",
     "text": [
      "/Users/ishan/opt/anaconda3/lib/python3.7/site-packages/ipykernel_launcher.py:7: SettingWithCopyWarning: \n",
      "A value is trying to be set on a copy of a slice from a DataFrame.\n",
      "Try using .loc[row_indexer,col_indexer] = value instead\n",
      "\n",
      "See the caveats in the documentation: https://pandas.pydata.org/pandas-docs/stable/user_guide/indexing.html#returning-a-view-versus-a-copy\n",
      "  import sys\n"
     ]
    },
    {
     "name": "stdout",
     "output_type": "stream",
     "text": [
      "34/34 [==============================] - 7s 61ms/step - loss: 0.0747 - accuracy: 0.0000e+00\n",
      "[0, 2, 3, 5, 6]\n"
     ]
    },
    {
     "name": "stderr",
     "output_type": "stream",
     "text": [
      "/Users/ishan/opt/anaconda3/lib/python3.7/site-packages/ipykernel_launcher.py:7: SettingWithCopyWarning: \n",
      "A value is trying to be set on a copy of a slice from a DataFrame.\n",
      "Try using .loc[row_indexer,col_indexer] = value instead\n",
      "\n",
      "See the caveats in the documentation: https://pandas.pydata.org/pandas-docs/stable/user_guide/indexing.html#returning-a-view-versus-a-copy\n",
      "  import sys\n"
     ]
    },
    {
     "name": "stdout",
     "output_type": "stream",
     "text": [
      "34/34 [==============================] - 6s 69ms/step - loss: 0.1030 - accuracy: 0.0000e+00\n",
      "[0, 2, 3, 5, 7]\n"
     ]
    },
    {
     "name": "stderr",
     "output_type": "stream",
     "text": [
      "/Users/ishan/opt/anaconda3/lib/python3.7/site-packages/ipykernel_launcher.py:7: SettingWithCopyWarning: \n",
      "A value is trying to be set on a copy of a slice from a DataFrame.\n",
      "Try using .loc[row_indexer,col_indexer] = value instead\n",
      "\n",
      "See the caveats in the documentation: https://pandas.pydata.org/pandas-docs/stable/user_guide/indexing.html#returning-a-view-versus-a-copy\n",
      "  import sys\n"
     ]
    },
    {
     "name": "stdout",
     "output_type": "stream",
     "text": [
      "34/34 [==============================] - 6s 61ms/step - loss: 0.0961 - accuracy: 0.0000e+00\n",
      "[0, 2, 3, 5, 8]\n"
     ]
    },
    {
     "name": "stderr",
     "output_type": "stream",
     "text": [
      "/Users/ishan/opt/anaconda3/lib/python3.7/site-packages/ipykernel_launcher.py:7: SettingWithCopyWarning: \n",
      "A value is trying to be set on a copy of a slice from a DataFrame.\n",
      "Try using .loc[row_indexer,col_indexer] = value instead\n",
      "\n",
      "See the caveats in the documentation: https://pandas.pydata.org/pandas-docs/stable/user_guide/indexing.html#returning-a-view-versus-a-copy\n",
      "  import sys\n"
     ]
    },
    {
     "name": "stdout",
     "output_type": "stream",
     "text": [
      "34/34 [==============================] - 7s 64ms/step - loss: 0.1004 - accuracy: 0.0000e+00\n",
      "[0, 2, 3, 5, 9]\n"
     ]
    },
    {
     "name": "stderr",
     "output_type": "stream",
     "text": [
      "/Users/ishan/opt/anaconda3/lib/python3.7/site-packages/ipykernel_launcher.py:7: SettingWithCopyWarning: \n",
      "A value is trying to be set on a copy of a slice from a DataFrame.\n",
      "Try using .loc[row_indexer,col_indexer] = value instead\n",
      "\n",
      "See the caveats in the documentation: https://pandas.pydata.org/pandas-docs/stable/user_guide/indexing.html#returning-a-view-versus-a-copy\n",
      "  import sys\n"
     ]
    },
    {
     "name": "stdout",
     "output_type": "stream",
     "text": [
      "34/34 [==============================] - 7s 61ms/step - loss: 0.1084 - accuracy: 9.2678e-04\n",
      "[0, 2, 3, 5, 10]\n"
     ]
    },
    {
     "name": "stderr",
     "output_type": "stream",
     "text": [
      "/Users/ishan/opt/anaconda3/lib/python3.7/site-packages/ipykernel_launcher.py:7: SettingWithCopyWarning: \n",
      "A value is trying to be set on a copy of a slice from a DataFrame.\n",
      "Try using .loc[row_indexer,col_indexer] = value instead\n",
      "\n",
      "See the caveats in the documentation: https://pandas.pydata.org/pandas-docs/stable/user_guide/indexing.html#returning-a-view-versus-a-copy\n",
      "  import sys\n"
     ]
    },
    {
     "name": "stdout",
     "output_type": "stream",
     "text": [
      "34/34 [==============================] - 7s 64ms/step - loss: 0.0811 - accuracy: 0.0000e+00\n",
      "[0, 2, 3, 5, 11]\n"
     ]
    },
    {
     "name": "stderr",
     "output_type": "stream",
     "text": [
      "/Users/ishan/opt/anaconda3/lib/python3.7/site-packages/ipykernel_launcher.py:7: SettingWithCopyWarning: \n",
      "A value is trying to be set on a copy of a slice from a DataFrame.\n",
      "Try using .loc[row_indexer,col_indexer] = value instead\n",
      "\n",
      "See the caveats in the documentation: https://pandas.pydata.org/pandas-docs/stable/user_guide/indexing.html#returning-a-view-versus-a-copy\n",
      "  import sys\n"
     ]
    },
    {
     "name": "stdout",
     "output_type": "stream",
     "text": [
      "34/34 [==============================] - 7s 66ms/step - loss: 0.1028 - accuracy: 0.0000e+00\n",
      "[0, 2, 3, 6, 7]\n"
     ]
    },
    {
     "name": "stderr",
     "output_type": "stream",
     "text": [
      "/Users/ishan/opt/anaconda3/lib/python3.7/site-packages/ipykernel_launcher.py:7: SettingWithCopyWarning: \n",
      "A value is trying to be set on a copy of a slice from a DataFrame.\n",
      "Try using .loc[row_indexer,col_indexer] = value instead\n",
      "\n",
      "See the caveats in the documentation: https://pandas.pydata.org/pandas-docs/stable/user_guide/indexing.html#returning-a-view-versus-a-copy\n",
      "  import sys\n"
     ]
    },
    {
     "name": "stdout",
     "output_type": "stream",
     "text": [
      "34/34 [==============================] - 7s 66ms/step - loss: 0.0996 - accuracy: 0.0000e+00\n",
      "[0, 2, 3, 6, 8]\n"
     ]
    },
    {
     "name": "stderr",
     "output_type": "stream",
     "text": [
      "/Users/ishan/opt/anaconda3/lib/python3.7/site-packages/ipykernel_launcher.py:7: SettingWithCopyWarning: \n",
      "A value is trying to be set on a copy of a slice from a DataFrame.\n",
      "Try using .loc[row_indexer,col_indexer] = value instead\n",
      "\n",
      "See the caveats in the documentation: https://pandas.pydata.org/pandas-docs/stable/user_guide/indexing.html#returning-a-view-versus-a-copy\n",
      "  import sys\n"
     ]
    },
    {
     "name": "stdout",
     "output_type": "stream",
     "text": [
      "34/34 [==============================] - 7s 66ms/step - loss: 0.1004 - accuracy: 0.0000e+00\n",
      "[0, 2, 3, 6, 9]\n"
     ]
    },
    {
     "name": "stderr",
     "output_type": "stream",
     "text": [
      "/Users/ishan/opt/anaconda3/lib/python3.7/site-packages/ipykernel_launcher.py:7: SettingWithCopyWarning: \n",
      "A value is trying to be set on a copy of a slice from a DataFrame.\n",
      "Try using .loc[row_indexer,col_indexer] = value instead\n",
      "\n",
      "See the caveats in the documentation: https://pandas.pydata.org/pandas-docs/stable/user_guide/indexing.html#returning-a-view-versus-a-copy\n",
      "  import sys\n"
     ]
    },
    {
     "name": "stdout",
     "output_type": "stream",
     "text": [
      "34/34 [==============================] - 7s 68ms/step - loss: 0.1075 - accuracy: 0.0000e+00\n",
      "[0, 2, 3, 6, 10]\n"
     ]
    },
    {
     "name": "stderr",
     "output_type": "stream",
     "text": [
      "/Users/ishan/opt/anaconda3/lib/python3.7/site-packages/ipykernel_launcher.py:7: SettingWithCopyWarning: \n",
      "A value is trying to be set on a copy of a slice from a DataFrame.\n",
      "Try using .loc[row_indexer,col_indexer] = value instead\n",
      "\n",
      "See the caveats in the documentation: https://pandas.pydata.org/pandas-docs/stable/user_guide/indexing.html#returning-a-view-versus-a-copy\n",
      "  import sys\n"
     ]
    },
    {
     "name": "stdout",
     "output_type": "stream",
     "text": [
      "34/34 [==============================] - 7s 68ms/step - loss: 0.1091 - accuracy: 0.0000e+00\n",
      "[0, 2, 3, 6, 11]\n"
     ]
    },
    {
     "name": "stderr",
     "output_type": "stream",
     "text": [
      "/Users/ishan/opt/anaconda3/lib/python3.7/site-packages/ipykernel_launcher.py:7: SettingWithCopyWarning: \n",
      "A value is trying to be set on a copy of a slice from a DataFrame.\n",
      "Try using .loc[row_indexer,col_indexer] = value instead\n",
      "\n",
      "See the caveats in the documentation: https://pandas.pydata.org/pandas-docs/stable/user_guide/indexing.html#returning-a-view-versus-a-copy\n",
      "  import sys\n"
     ]
    },
    {
     "name": "stdout",
     "output_type": "stream",
     "text": [
      "34/34 [==============================] - 7s 67ms/step - loss: 0.1053 - accuracy: 0.0000e+00\n",
      "[0, 2, 3, 7, 8]\n"
     ]
    },
    {
     "name": "stderr",
     "output_type": "stream",
     "text": [
      "/Users/ishan/opt/anaconda3/lib/python3.7/site-packages/ipykernel_launcher.py:7: SettingWithCopyWarning: \n",
      "A value is trying to be set on a copy of a slice from a DataFrame.\n",
      "Try using .loc[row_indexer,col_indexer] = value instead\n",
      "\n",
      "See the caveats in the documentation: https://pandas.pydata.org/pandas-docs/stable/user_guide/indexing.html#returning-a-view-versus-a-copy\n",
      "  import sys\n"
     ]
    },
    {
     "name": "stdout",
     "output_type": "stream",
     "text": [
      "34/34 [==============================] - 7s 65ms/step - loss: 0.0994 - accuracy: 0.0000e+00\n",
      "[0, 2, 3, 7, 9]\n"
     ]
    },
    {
     "name": "stderr",
     "output_type": "stream",
     "text": [
      "/Users/ishan/opt/anaconda3/lib/python3.7/site-packages/ipykernel_launcher.py:7: SettingWithCopyWarning: \n",
      "A value is trying to be set on a copy of a slice from a DataFrame.\n",
      "Try using .loc[row_indexer,col_indexer] = value instead\n",
      "\n",
      "See the caveats in the documentation: https://pandas.pydata.org/pandas-docs/stable/user_guide/indexing.html#returning-a-view-versus-a-copy\n",
      "  import sys\n"
     ]
    },
    {
     "name": "stdout",
     "output_type": "stream",
     "text": [
      "34/34 [==============================] - 7s 66ms/step - loss: 0.1065 - accuracy: 0.0000e+00\n",
      "[0, 2, 3, 7, 10]\n"
     ]
    },
    {
     "name": "stderr",
     "output_type": "stream",
     "text": [
      "/Users/ishan/opt/anaconda3/lib/python3.7/site-packages/ipykernel_launcher.py:7: SettingWithCopyWarning: \n",
      "A value is trying to be set on a copy of a slice from a DataFrame.\n",
      "Try using .loc[row_indexer,col_indexer] = value instead\n",
      "\n",
      "See the caveats in the documentation: https://pandas.pydata.org/pandas-docs/stable/user_guide/indexing.html#returning-a-view-versus-a-copy\n",
      "  import sys\n"
     ]
    },
    {
     "name": "stdout",
     "output_type": "stream",
     "text": [
      "34/34 [==============================] - 7s 67ms/step - loss: 0.0979 - accuracy: 0.0000e+00\n",
      "[0, 2, 3, 7, 11]\n"
     ]
    },
    {
     "name": "stderr",
     "output_type": "stream",
     "text": [
      "/Users/ishan/opt/anaconda3/lib/python3.7/site-packages/ipykernel_launcher.py:7: SettingWithCopyWarning: \n",
      "A value is trying to be set on a copy of a slice from a DataFrame.\n",
      "Try using .loc[row_indexer,col_indexer] = value instead\n",
      "\n",
      "See the caveats in the documentation: https://pandas.pydata.org/pandas-docs/stable/user_guide/indexing.html#returning-a-view-versus-a-copy\n",
      "  import sys\n"
     ]
    },
    {
     "name": "stdout",
     "output_type": "stream",
     "text": [
      "34/34 [==============================] - 6s 63ms/step - loss: 0.0816 - accuracy: 0.0000e+00\n",
      "[0, 2, 3, 8, 9]\n"
     ]
    },
    {
     "name": "stderr",
     "output_type": "stream",
     "text": [
      "/Users/ishan/opt/anaconda3/lib/python3.7/site-packages/ipykernel_launcher.py:7: SettingWithCopyWarning: \n",
      "A value is trying to be set on a copy of a slice from a DataFrame.\n",
      "Try using .loc[row_indexer,col_indexer] = value instead\n",
      "\n",
      "See the caveats in the documentation: https://pandas.pydata.org/pandas-docs/stable/user_guide/indexing.html#returning-a-view-versus-a-copy\n",
      "  import sys\n"
     ]
    },
    {
     "name": "stdout",
     "output_type": "stream",
     "text": [
      "34/34 [==============================] - 7s 62ms/step - loss: 0.0958 - accuracy: 0.0000e+00\n",
      "[0, 2, 3, 8, 10]\n"
     ]
    },
    {
     "name": "stderr",
     "output_type": "stream",
     "text": [
      "/Users/ishan/opt/anaconda3/lib/python3.7/site-packages/ipykernel_launcher.py:7: SettingWithCopyWarning: \n",
      "A value is trying to be set on a copy of a slice from a DataFrame.\n",
      "Try using .loc[row_indexer,col_indexer] = value instead\n",
      "\n",
      "See the caveats in the documentation: https://pandas.pydata.org/pandas-docs/stable/user_guide/indexing.html#returning-a-view-versus-a-copy\n",
      "  import sys\n"
     ]
    },
    {
     "name": "stdout",
     "output_type": "stream",
     "text": [
      "34/34 [==============================] - 7s 67ms/step - loss: 0.0949 - accuracy: 0.0000e+00\n",
      "[0, 2, 3, 8, 11]\n"
     ]
    },
    {
     "name": "stderr",
     "output_type": "stream",
     "text": [
      "/Users/ishan/opt/anaconda3/lib/python3.7/site-packages/ipykernel_launcher.py:7: SettingWithCopyWarning: \n",
      "A value is trying to be set on a copy of a slice from a DataFrame.\n",
      "Try using .loc[row_indexer,col_indexer] = value instead\n",
      "\n",
      "See the caveats in the documentation: https://pandas.pydata.org/pandas-docs/stable/user_guide/indexing.html#returning-a-view-versus-a-copy\n",
      "  import sys\n"
     ]
    },
    {
     "name": "stdout",
     "output_type": "stream",
     "text": [
      "34/34 [==============================] - 7s 62ms/step - loss: 0.0966 - accuracy: 0.0000e+00\n",
      "[0, 2, 3, 9, 10]\n"
     ]
    },
    {
     "name": "stderr",
     "output_type": "stream",
     "text": [
      "/Users/ishan/opt/anaconda3/lib/python3.7/site-packages/ipykernel_launcher.py:7: SettingWithCopyWarning: \n",
      "A value is trying to be set on a copy of a slice from a DataFrame.\n",
      "Try using .loc[row_indexer,col_indexer] = value instead\n",
      "\n",
      "See the caveats in the documentation: https://pandas.pydata.org/pandas-docs/stable/user_guide/indexing.html#returning-a-view-versus-a-copy\n",
      "  import sys\n"
     ]
    },
    {
     "name": "stdout",
     "output_type": "stream",
     "text": [
      "34/34 [==============================] - 7s 65ms/step - loss: 0.1102 - accuracy: 0.0000e+00\n",
      "[0, 2, 3, 9, 11]\n"
     ]
    },
    {
     "name": "stderr",
     "output_type": "stream",
     "text": [
      "/Users/ishan/opt/anaconda3/lib/python3.7/site-packages/ipykernel_launcher.py:7: SettingWithCopyWarning: \n",
      "A value is trying to be set on a copy of a slice from a DataFrame.\n",
      "Try using .loc[row_indexer,col_indexer] = value instead\n",
      "\n",
      "See the caveats in the documentation: https://pandas.pydata.org/pandas-docs/stable/user_guide/indexing.html#returning-a-view-versus-a-copy\n",
      "  import sys\n"
     ]
    },
    {
     "name": "stdout",
     "output_type": "stream",
     "text": [
      "34/34 [==============================] - 6s 61ms/step - loss: 0.1019 - accuracy: 0.0000e+00\n",
      "[0, 2, 3, 10, 11]\n"
     ]
    },
    {
     "name": "stderr",
     "output_type": "stream",
     "text": [
      "/Users/ishan/opt/anaconda3/lib/python3.7/site-packages/ipykernel_launcher.py:7: SettingWithCopyWarning: \n",
      "A value is trying to be set on a copy of a slice from a DataFrame.\n",
      "Try using .loc[row_indexer,col_indexer] = value instead\n",
      "\n",
      "See the caveats in the documentation: https://pandas.pydata.org/pandas-docs/stable/user_guide/indexing.html#returning-a-view-versus-a-copy\n",
      "  import sys\n"
     ]
    },
    {
     "name": "stdout",
     "output_type": "stream",
     "text": [
      "34/34 [==============================] - 6s 65ms/step - loss: 0.0974 - accuracy: 0.0000e+00\n",
      "[0, 2, 4, 5, 6]\n",
      "34/34 [==============================] - 9s 110ms/step - loss: 0.1005 - accuracy: 9.2678e-04\n",
      "[0, 2, 4, 5, 7]\n",
      "34/34 [==============================] - 7s 64ms/step - loss: 0.0916 - accuracy: 0.0000e+00\n",
      "[0, 2, 4, 5, 8]\n",
      "34/34 [==============================] - 7s 57ms/step - loss: 0.1027 - accuracy: 0.0000e+00\n",
      "[0, 2, 4, 5, 9]\n",
      "34/34 [==============================] - 6s 49ms/step - loss: 0.0792 - accuracy: 0.0000e+00\n",
      "[0, 2, 4, 5, 10]\n",
      "34/34 [==============================] - 6s 57ms/step - loss: 0.0754 - accuracy: 0.0000e+00\n",
      "[0, 2, 4, 5, 11]\n",
      "34/34 [==============================] - 7s 60ms/step - loss: 0.0751 - accuracy: 0.0000e+00\n",
      "[0, 2, 4, 6, 7]\n",
      "34/34 [==============================] - 9s 79ms/step - loss: 0.0835 - accuracy: 0.0000e+00\n",
      "[0, 2, 4, 6, 8]\n",
      "34/34 [==============================] - 7s 61ms/step - loss: 0.0966 - accuracy: 0.0000e+00\n",
      "[0, 2, 4, 6, 9]\n",
      "34/34 [==============================] - 7s 68ms/step - loss: 0.0936 - accuracy: 0.0000e+00\n",
      "[0, 2, 4, 6, 10]\n",
      "34/34 [==============================] - 7s 52ms/step - loss: 0.0924 - accuracy: 0.0000e+00\n",
      "[0, 2, 4, 6, 11]\n",
      "34/34 [==============================] - 5s 48ms/step - loss: 0.0875 - accuracy: 0.0000e+00\n",
      "[0, 2, 4, 7, 8]\n",
      "34/34 [==============================] - 11s 132ms/step - loss: 0.0857 - accuracy: 0.0000e+00\n",
      "[0, 2, 4, 7, 9]\n",
      "34/34 [==============================] - 12s 107ms/step - loss: 0.0844 - accuracy: 0.0000e+00\n",
      "[0, 2, 4, 7, 10]\n",
      "34/34 [==============================] - 9s 75ms/step - loss: 0.0720 - accuracy: 0.0000e+00\n",
      "[0, 2, 4, 7, 11]\n",
      "34/34 [==============================] - 8s 74ms/step - loss: 0.0747 - accuracy: 0.0000e+00\n",
      "[0, 2, 4, 8, 9]\n",
      "34/34 [==============================] - 8s 73ms/step - loss: 0.0905 - accuracy: 0.0000e+00\n",
      "[0, 2, 4, 8, 10]\n",
      "34/34 [==============================] - 8s 80ms/step - loss: 0.0978 - accuracy: 0.0000e+00\n",
      "[0, 2, 4, 8, 11]\n",
      "34/34 [==============================] - 9s 98ms/step - loss: 0.0866 - accuracy: 0.0000e+00\n",
      "[0, 2, 4, 9, 10]\n",
      "34/34 [==============================] - 8s 77ms/step - loss: 0.0726 - accuracy: 9.2678e-04\n",
      "[0, 2, 4, 9, 11]\n",
      "34/34 [==============================] - 8s 77ms/step - loss: 0.1001 - accuracy: 0.0000e+00\n",
      "[0, 2, 4, 10, 11]\n",
      "34/34 [==============================] - 8s 75ms/step - loss: 0.0781 - accuracy: 9.2678e-04\n",
      "[0, 2, 5, 6, 7]\n",
      "34/34 [==============================] - 8s 75ms/step - loss: 0.1030 - accuracy: 0.0000e+00\n",
      "[0, 2, 5, 6, 8]\n",
      "34/34 [==============================] - 7s 78ms/step - loss: 0.1039 - accuracy: 0.0000e+00\n",
      "[0, 2, 5, 6, 9]\n",
      "34/34 [==============================] - 7s 77ms/step - loss: 0.1042 - accuracy: 0.0000e+00\n",
      "[0, 2, 5, 6, 10]\n",
      "34/34 [==============================] - 8s 76ms/step - loss: 0.1035 - accuracy: 0.0000e+00\n",
      "[0, 2, 5, 6, 11]\n",
      "34/34 [==============================] - 8s 77ms/step - loss: 0.1027 - accuracy: 0.0000e+00\n",
      "[0, 2, 5, 7, 8]\n",
      "34/34 [==============================] - 7s 61ms/step - loss: 0.0991 - accuracy: 0.0000e+00\n",
      "[0, 2, 5, 7, 9]\n",
      "34/34 [==============================] - 7s 61ms/step - loss: 0.1008 - accuracy: 0.0000e+00\n",
      "[0, 2, 5, 7, 10]\n",
      "34/34 [==============================] - 10s 91ms/step - loss: 0.1041 - accuracy: 0.0000e+00\n",
      "[0, 2, 5, 7, 11]\n",
      "34/34 [==============================] - 12s 106ms/step - loss: 0.0986 - accuracy: 0.0000e+00\n",
      "[0, 2, 5, 8, 9]\n",
      "34/34 [==============================] - 11s 98ms/step - loss: 0.1121 - accuracy: 0.0000e+00\n",
      "[0, 2, 5, 8, 10]\n"
     ]
    },
    {
     "ename": "KeyboardInterrupt",
     "evalue": "",
     "output_type": "error",
     "traceback": [
      "\u001b[0;31m---------------------------------------------------------------------------\u001b[0m",
      "\u001b[0;31mKeyboardInterrupt\u001b[0m                         Traceback (most recent call last)",
      "\u001b[0;32m<ipython-input-192-5c2e1f31fe09>\u001b[0m in \u001b[0;36m<module>\u001b[0;34m\u001b[0m\n\u001b[0;32m----> 1\u001b[0;31m \u001b[0mbest_subsets\u001b[0m\u001b[0;34m,\u001b[0m \u001b[0mbest_score\u001b[0m\u001b[0;34m,\u001b[0m \u001b[0mbest_size_subset\u001b[0m\u001b[0;34m,\u001b[0m \u001b[0mlist_scores\u001b[0m \u001b[0;34m=\u001b[0m \u001b[0mbest_subset\u001b[0m\u001b[0;34m(\u001b[0m\u001b[0mx\u001b[0m\u001b[0;34m,\u001b[0m\u001b[0my\u001b[0m\u001b[0;34m,\u001b[0m\u001b[0mmax_size\u001b[0m\u001b[0;34m=\u001b[0m\u001b[0;36m12\u001b[0m\u001b[0;34m)\u001b[0m\u001b[0;34m\u001b[0m\u001b[0;34m\u001b[0m\u001b[0m\n\u001b[0m\u001b[1;32m      2\u001b[0m \u001b[0mbest_score\u001b[0m\u001b[0;34m\u001b[0m\u001b[0;34m\u001b[0m\u001b[0m\n",
      "\u001b[0;32m<ipython-input-191-24e17a0c68d7>\u001b[0m in \u001b[0;36mbest_subset\u001b[0;34m(X, y, max_size, cv)\u001b[0m\n\u001b[1;32m     10\u001b[0m             \u001b[0mprint\u001b[0m\u001b[0;34m(\u001b[0m\u001b[0mlist\u001b[0m\u001b[0;34m(\u001b[0m\u001b[0msubset\u001b[0m\u001b[0;34m)\u001b[0m\u001b[0;34m)\u001b[0m\u001b[0;34m\u001b[0m\u001b[0;34m\u001b[0m\u001b[0m\n\u001b[1;32m     11\u001b[0m             \u001b[0mxTrain\u001b[0m\u001b[0;34m,\u001b[0m\u001b[0myTrain\u001b[0m\u001b[0;34m,\u001b[0m\u001b[0mxTest\u001b[0m\u001b[0;34m,\u001b[0m\u001b[0mreal\u001b[0m\u001b[0;34m,\u001b[0m\u001b[0mySC\u001b[0m \u001b[0;34m=\u001b[0m \u001b[0mgetVariables\u001b[0m\u001b[0;34m(\u001b[0m\u001b[0mlist\u001b[0m\u001b[0;34m(\u001b[0m\u001b[0msubset\u001b[0m\u001b[0;34m)\u001b[0m\u001b[0;34m,\u001b[0m\u001b[0mdataTrain\u001b[0m\u001b[0;34m)\u001b[0m\u001b[0;34m\u001b[0m\u001b[0;34m\u001b[0m\u001b[0m\n\u001b[0;32m---> 12\u001b[0;31m             \u001b[0mestimator\u001b[0m \u001b[0;34m=\u001b[0m \u001b[0mrnn\u001b[0m\u001b[0;34m(\u001b[0m\u001b[0mxTrain\u001b[0m\u001b[0;34m.\u001b[0m\u001b[0mshape\u001b[0m\u001b[0;34m[\u001b[0m\u001b[0;36m1\u001b[0m\u001b[0;34m]\u001b[0m\u001b[0;34m,\u001b[0m\u001b[0mlen\u001b[0m\u001b[0;34m(\u001b[0m\u001b[0mlist\u001b[0m\u001b[0;34m(\u001b[0m\u001b[0msubset\u001b[0m\u001b[0;34m)\u001b[0m\u001b[0;34m)\u001b[0m\u001b[0;34m)\u001b[0m\u001b[0;34m\u001b[0m\u001b[0;34m\u001b[0m\u001b[0m\n\u001b[0m\u001b[1;32m     13\u001b[0m             \u001b[0mestimator\u001b[0m\u001b[0;34m.\u001b[0m\u001b[0mfit\u001b[0m\u001b[0;34m(\u001b[0m\u001b[0mxTrain\u001b[0m\u001b[0;34m,\u001b[0m\u001b[0myTrain\u001b[0m\u001b[0;34m,\u001b[0m\u001b[0mepochs\u001b[0m\u001b[0;34m=\u001b[0m\u001b[0;36m1\u001b[0m\u001b[0;34m,\u001b[0m\u001b[0mbatch_size\u001b[0m\u001b[0;34m=\u001b[0m\u001b[0;36m32\u001b[0m\u001b[0;34m)\u001b[0m\u001b[0;34m\u001b[0m\u001b[0;34m\u001b[0m\u001b[0m\n\u001b[1;32m     14\u001b[0m             \u001b[0;31m# get the subset with the best score among subsets of the same size\u001b[0m\u001b[0;34m\u001b[0m\u001b[0;34m\u001b[0m\u001b[0;34m\u001b[0m\u001b[0m\n",
      "\u001b[0;32m<ipython-input-165-73c93e6154a7>\u001b[0m in \u001b[0;36mrnn\u001b[0;34m(shape, numberOfFeatures)\u001b[0m\n\u001b[1;32m      3\u001b[0m \u001b[0;34m\u001b[0m\u001b[0m\n\u001b[1;32m      4\u001b[0m     \u001b[0;31m# %%\u001b[0m\u001b[0;34m\u001b[0m\u001b[0;34m\u001b[0m\u001b[0;34m\u001b[0m\u001b[0m\n\u001b[0;32m----> 5\u001b[0;31m     \u001b[0mregressor\u001b[0m\u001b[0;34m.\u001b[0m\u001b[0madd\u001b[0m\u001b[0;34m(\u001b[0m\u001b[0mLSTM\u001b[0m\u001b[0;34m(\u001b[0m\u001b[0munits\u001b[0m \u001b[0;34m=\u001b[0m \u001b[0;36m50\u001b[0m\u001b[0;34m,\u001b[0m \u001b[0mreturn_sequences\u001b[0m \u001b[0;34m=\u001b[0m \u001b[0;32mTrue\u001b[0m\u001b[0;34m,\u001b[0m\u001b[0minput_shape\u001b[0m \u001b[0;34m=\u001b[0m \u001b[0;34m(\u001b[0m\u001b[0mshape\u001b[0m\u001b[0;34m,\u001b[0m\u001b[0mnumberOfFeatures\u001b[0m\u001b[0;34m)\u001b[0m\u001b[0;34m)\u001b[0m\u001b[0;34m)\u001b[0m\u001b[0;34m\u001b[0m\u001b[0;34m\u001b[0m\u001b[0m\n\u001b[0m\u001b[1;32m      6\u001b[0m     \u001b[0mregressor\u001b[0m\u001b[0;34m.\u001b[0m\u001b[0madd\u001b[0m\u001b[0;34m(\u001b[0m\u001b[0mDropout\u001b[0m\u001b[0;34m(\u001b[0m\u001b[0mrate\u001b[0m \u001b[0;34m=\u001b[0m \u001b[0;36m0.2\u001b[0m\u001b[0;34m)\u001b[0m\u001b[0;34m)\u001b[0m\u001b[0;34m\u001b[0m\u001b[0;34m\u001b[0m\u001b[0m\n\u001b[1;32m      7\u001b[0m     \u001b[0;31m#regressor.add(Dense(units=16,activation = 'relu',input_shape = (xTrain.shape[1],numberOfFeatures)))\u001b[0m\u001b[0;34m\u001b[0m\u001b[0;34m\u001b[0m\u001b[0;34m\u001b[0m\u001b[0m\n",
      "\u001b[0;32m~/opt/anaconda3/lib/python3.7/site-packages/tensorflow/python/training/tracking/base.py\u001b[0m in \u001b[0;36m_method_wrapper\u001b[0;34m(self, *args, **kwargs)\u001b[0m\n\u001b[1;32m    520\u001b[0m     \u001b[0mself\u001b[0m\u001b[0;34m.\u001b[0m\u001b[0m_self_setattr_tracking\u001b[0m \u001b[0;34m=\u001b[0m \u001b[0;32mFalse\u001b[0m  \u001b[0;31m# pylint: disable=protected-access\u001b[0m\u001b[0;34m\u001b[0m\u001b[0;34m\u001b[0m\u001b[0m\n\u001b[1;32m    521\u001b[0m     \u001b[0;32mtry\u001b[0m\u001b[0;34m:\u001b[0m\u001b[0;34m\u001b[0m\u001b[0;34m\u001b[0m\u001b[0m\n\u001b[0;32m--> 522\u001b[0;31m       \u001b[0mresult\u001b[0m \u001b[0;34m=\u001b[0m \u001b[0mmethod\u001b[0m\u001b[0;34m(\u001b[0m\u001b[0mself\u001b[0m\u001b[0;34m,\u001b[0m \u001b[0;34m*\u001b[0m\u001b[0margs\u001b[0m\u001b[0;34m,\u001b[0m \u001b[0;34m**\u001b[0m\u001b[0mkwargs\u001b[0m\u001b[0;34m)\u001b[0m\u001b[0;34m\u001b[0m\u001b[0;34m\u001b[0m\u001b[0m\n\u001b[0m\u001b[1;32m    523\u001b[0m     \u001b[0;32mfinally\u001b[0m\u001b[0;34m:\u001b[0m\u001b[0;34m\u001b[0m\u001b[0;34m\u001b[0m\u001b[0m\n\u001b[1;32m    524\u001b[0m       \u001b[0mself\u001b[0m\u001b[0;34m.\u001b[0m\u001b[0m_self_setattr_tracking\u001b[0m \u001b[0;34m=\u001b[0m \u001b[0mprevious_value\u001b[0m  \u001b[0;31m# pylint: disable=protected-access\u001b[0m\u001b[0;34m\u001b[0m\u001b[0;34m\u001b[0m\u001b[0m\n",
      "\u001b[0;32m~/opt/anaconda3/lib/python3.7/site-packages/tensorflow/python/keras/engine/sequential.py\u001b[0m in \u001b[0;36madd\u001b[0;34m(self, layer)\u001b[0m\n\u001b[1;32m    207\u001b[0m           \u001b[0;31m# Instantiate an input layer.\u001b[0m\u001b[0;34m\u001b[0m\u001b[0;34m\u001b[0m\u001b[0;34m\u001b[0m\u001b[0m\n\u001b[1;32m    208\u001b[0m           x = input_layer.Input(\n\u001b[0;32m--> 209\u001b[0;31m               batch_shape=batch_shape, dtype=dtype, name=layer.name + '_input')\n\u001b[0m\u001b[1;32m    210\u001b[0m           \u001b[0;31m# This will build the current layer\u001b[0m\u001b[0;34m\u001b[0m\u001b[0;34m\u001b[0m\u001b[0;34m\u001b[0m\u001b[0m\n\u001b[1;32m    211\u001b[0m           \u001b[0;31m# and create the node connecting the current layer\u001b[0m\u001b[0;34m\u001b[0m\u001b[0;34m\u001b[0m\u001b[0;34m\u001b[0m\u001b[0m\n",
      "\u001b[0;32m~/opt/anaconda3/lib/python3.7/site-packages/tensorflow/python/keras/engine/input_layer.py\u001b[0m in \u001b[0;36mInput\u001b[0;34m(shape, batch_size, name, dtype, sparse, tensor, ragged, type_spec, **kwargs)\u001b[0m\n\u001b[1;32m    384\u001b[0m     input_layer_config.update(\n\u001b[1;32m    385\u001b[0m         {'batch_size': batch_size, 'input_shape': shape})\n\u001b[0;32m--> 386\u001b[0;31m   \u001b[0minput_layer\u001b[0m \u001b[0;34m=\u001b[0m \u001b[0mInputLayer\u001b[0m\u001b[0;34m(\u001b[0m\u001b[0;34m**\u001b[0m\u001b[0minput_layer_config\u001b[0m\u001b[0;34m)\u001b[0m\u001b[0;34m\u001b[0m\u001b[0;34m\u001b[0m\u001b[0m\n\u001b[0m\u001b[1;32m    387\u001b[0m \u001b[0;34m\u001b[0m\u001b[0m\n\u001b[1;32m    388\u001b[0m   \u001b[0;31m# Return tensor including `_keras_history`.\u001b[0m\u001b[0;34m\u001b[0m\u001b[0;34m\u001b[0m\u001b[0;34m\u001b[0m\u001b[0m\n",
      "\u001b[0;32m~/opt/anaconda3/lib/python3.7/site-packages/tensorflow/python/keras/utils/version_utils.py\u001b[0m in \u001b[0;36m__new__\u001b[0;34m(cls, *args, **kwargs)\u001b[0m\n\u001b[1;32m     60\u001b[0m   \u001b[0;32mdef\u001b[0m \u001b[0m__new__\u001b[0m\u001b[0;34m(\u001b[0m\u001b[0mcls\u001b[0m\u001b[0;34m,\u001b[0m \u001b[0;34m*\u001b[0m\u001b[0margs\u001b[0m\u001b[0;34m,\u001b[0m \u001b[0;34m**\u001b[0m\u001b[0mkwargs\u001b[0m\u001b[0;34m)\u001b[0m\u001b[0;34m:\u001b[0m  \u001b[0;31m# pylint: disable=unused-argument\u001b[0m\u001b[0;34m\u001b[0m\u001b[0;34m\u001b[0m\u001b[0m\n\u001b[1;32m     61\u001b[0m     \u001b[0muse_v2\u001b[0m \u001b[0;34m=\u001b[0m \u001b[0mshould_use_v2\u001b[0m\u001b[0;34m(\u001b[0m\u001b[0;34m)\u001b[0m\u001b[0;34m\u001b[0m\u001b[0;34m\u001b[0m\u001b[0m\n\u001b[0;32m---> 62\u001b[0;31m     \u001b[0mcls\u001b[0m \u001b[0;34m=\u001b[0m \u001b[0mswap_class\u001b[0m\u001b[0;34m(\u001b[0m\u001b[0mcls\u001b[0m\u001b[0;34m,\u001b[0m \u001b[0mbase_layer\u001b[0m\u001b[0;34m.\u001b[0m\u001b[0mLayer\u001b[0m\u001b[0;34m,\u001b[0m \u001b[0mbase_layer_v1\u001b[0m\u001b[0;34m.\u001b[0m\u001b[0mLayer\u001b[0m\u001b[0;34m,\u001b[0m \u001b[0muse_v2\u001b[0m\u001b[0;34m)\u001b[0m  \u001b[0;31m# pylint: disable=self-cls-assignment\u001b[0m\u001b[0;34m\u001b[0m\u001b[0;34m\u001b[0m\u001b[0m\n\u001b[0m\u001b[1;32m     63\u001b[0m     \u001b[0;32mreturn\u001b[0m \u001b[0msuper\u001b[0m\u001b[0;34m(\u001b[0m\u001b[0mLayerVersionSelector\u001b[0m\u001b[0;34m,\u001b[0m \u001b[0mcls\u001b[0m\u001b[0;34m)\u001b[0m\u001b[0;34m.\u001b[0m\u001b[0m__new__\u001b[0m\u001b[0;34m(\u001b[0m\u001b[0mcls\u001b[0m\u001b[0;34m)\u001b[0m\u001b[0;34m\u001b[0m\u001b[0;34m\u001b[0m\u001b[0m\n\u001b[1;32m     64\u001b[0m \u001b[0;34m\u001b[0m\u001b[0m\n",
      "\u001b[0;32m~/opt/anaconda3/lib/python3.7/site-packages/tensorflow/python/keras/utils/version_utils.py\u001b[0m in \u001b[0;36mswap_class\u001b[0;34m(cls, v2_cls, v1_cls, use_v2)\u001b[0m\n\u001b[1;32m    116\u001b[0m       \u001b[0mnew_base\u001b[0m \u001b[0;34m=\u001b[0m \u001b[0mbase\u001b[0m\u001b[0;34m\u001b[0m\u001b[0;34m\u001b[0m\u001b[0m\n\u001b[1;32m    117\u001b[0m     \u001b[0mnew_bases\u001b[0m\u001b[0;34m.\u001b[0m\u001b[0mappend\u001b[0m\u001b[0;34m(\u001b[0m\u001b[0mnew_base\u001b[0m\u001b[0;34m)\u001b[0m\u001b[0;34m\u001b[0m\u001b[0;34m\u001b[0m\u001b[0m\n\u001b[0;32m--> 118\u001b[0;31m   \u001b[0mcls\u001b[0m\u001b[0;34m.\u001b[0m\u001b[0m__bases__\u001b[0m \u001b[0;34m=\u001b[0m \u001b[0mtuple\u001b[0m\u001b[0;34m(\u001b[0m\u001b[0mnew_bases\u001b[0m\u001b[0;34m)\u001b[0m\u001b[0;34m\u001b[0m\u001b[0;34m\u001b[0m\u001b[0m\n\u001b[0m\u001b[1;32m    119\u001b[0m   \u001b[0;32mreturn\u001b[0m \u001b[0mcls\u001b[0m\u001b[0;34m\u001b[0m\u001b[0;34m\u001b[0m\u001b[0m\n\u001b[1;32m    120\u001b[0m \u001b[0;34m\u001b[0m\u001b[0m\n",
      "\u001b[0;31mKeyboardInterrupt\u001b[0m: "
     ]
    }
   ],
   "source": [
    "\n",
    "best_subsets, best_score, best_size_subset, list_scores = best_subset(x,y,max_size=12)\n",
    "best_score"
   ]
  },
  {
   "cell_type": "code",
   "execution_count": null,
   "metadata": {},
   "outputs": [
    {
     "data": {
      "text/plain": [
       "(1, 2, 9)"
      ]
     },
     "execution_count": 12,
     "metadata": {},
     "output_type": "execute_result"
    }
   ],
   "source": [
    "best_subsets"
   ]
  },
  {
   "cell_type": "code",
   "execution_count": null,
   "metadata": {},
   "outputs": [
    {
     "data": {
      "text/plain": [
       "-15.731829932067578"
      ]
     },
     "execution_count": 119,
     "metadata": {},
     "output_type": "execute_result"
    }
   ],
   "source": [
    "best_score"
   ]
  },
  {
   "cell_type": "code",
   "execution_count": 13,
   "metadata": {},
   "outputs": [
    {
     "data": {
      "text/plain": [
       "[(0,),\n",
       " (1, 9),\n",
       " (1, 2, 9),\n",
       " (1, 2, 9, 10),\n",
       " (1, 2, 6, 9, 11),\n",
       " (1, 2, 3, 6, 9, 10),\n",
       " (1, 2, 3, 4, 6, 9, 10),\n",
       " (1, 2, 3, 4, 5, 6, 9, 10)]"
      ]
     },
     "execution_count": 13,
     "metadata": {},
     "output_type": "execute_result"
    }
   ],
   "source": [
    "best_size_subset"
   ]
  },
  {
   "cell_type": "code",
   "execution_count": 14,
   "metadata": {},
   "outputs": [
    {
     "data": {
      "text/plain": [
       "[-1076.0527316093835,\n",
       " -1026.5690390234154,\n",
       " -1021.5094301344947,\n",
       " -1151.9652670735863,\n",
       " -1127.2203425471396,\n",
       " -1128.1094620628642,\n",
       " -1126.7496063606752,\n",
       " -1130.1779753557526]"
      ]
     },
     "execution_count": 14,
     "metadata": {},
     "output_type": "execute_result"
    }
   ],
   "source": [
    "list_scores"
   ]
  },
  {
   "cell_type": "code",
   "execution_count": 193,
   "metadata": {},
   "outputs": [
    {
     "data": {
      "text/plain": [
       "-1021.5094301344947"
      ]
     },
     "execution_count": 193,
     "metadata": {},
     "output_type": "execute_result"
    }
   ],
   "source": [
    "best_score"
   ]
  },
  {
   "cell_type": "code",
   "execution_count": 196,
   "metadata": {},
   "outputs": [
    {
     "ename": "NameError",
     "evalue": "name 'subset' is not defined",
     "output_type": "error",
     "traceback": [
      "\u001b[0;31m---------------------------------------------------------------------------\u001b[0m",
      "\u001b[0;31mNameError\u001b[0m                                 Traceback (most recent call last)",
      "\u001b[0;32m<ipython-input-196-8967ba16b141>\u001b[0m in \u001b[0;36m<module>\u001b[0;34m\u001b[0m\n\u001b[0;32m----> 1\u001b[0;31m \u001b[0msubset\u001b[0m\u001b[0;34m\u001b[0m\u001b[0;34m\u001b[0m\u001b[0m\n\u001b[0m",
      "\u001b[0;31mNameError\u001b[0m: name 'subset' is not defined"
     ]
    }
   ],
   "source": [
    "subset"
   ]
  },
  {
   "cell_type": "code",
   "execution_count": null,
   "metadata": {},
   "outputs": [],
   "source": []
  }
 ],
 "metadata": {
  "interpreter": {
   "hash": "d7f05790cc1389e84f14fa70fc483a9756405497ad0fe26dbbfa2f1c9621afc3"
  },
  "kernelspec": {
   "display_name": "Python 3.7.6 ('base')",
   "language": "python",
   "name": "python3"
  },
  "language_info": {
   "codemirror_mode": {
    "name": "ipython",
    "version": 3
   },
   "file_extension": ".py",
   "mimetype": "text/x-python",
   "name": "python",
   "nbconvert_exporter": "python",
   "pygments_lexer": "ipython3",
   "version": "3.7.6"
  },
  "orig_nbformat": 4
 },
 "nbformat": 4,
 "nbformat_minor": 2
}
