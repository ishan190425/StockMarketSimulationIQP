{
 "cells": [
  {
   "cell_type": "code",
   "execution_count": 108,
   "metadata": {},
   "outputs": [],
   "source": [
    "from mlxtend.feature_selection import SequentialFeatureSelector as SFS\n",
    "from sklearn.neighbors import KNeighborsClassifier as KNN\n",
    "import talib as ta\n",
    "import numpy as np\n",
    "import matplotlib.pyplot as plt\n",
    "import pandas as pd\n",
    "from sklearn.preprocessing import LabelEncoder\n",
    "import seaborn as sm\n",
    "from sklearn.linear_model import Lasso\n",
    "from sklearn.linear_model import LogisticRegression\n",
    "from sklearn.linear_model import LinearRegression\n",
    "import statsmodels.api as sm\n",
    "from sklearn.model_selection import train_test_split as split\n",
    "from sklearn.preprocessing import LabelEncoder\n",
    "from sklearn.metrics import mean_squared_error\n",
    "from sklearn.preprocessing import PolynomialFeatures\n",
    "import random\n",
    "from sklearn.model_selection import LeaveOneOut\n",
    "from sklearn.model_selection import KFold\n",
    "from sklearn.model_selection import cross_val_score\n",
    "from sklearn.utils import resample\n",
    "from itertools import combinations\n",
    "from sklearn.linear_model import Ridge"
   ]
  },
  {
   "cell_type": "code",
   "execution_count": 109,
   "metadata": {},
   "outputs": [],
   "source": [
    "rsiPeriod = 14\n",
    "adxPeriod = 14\n",
    "bollingerBandWindow = 20\n",
    "numberOfFeatures = 11\n",
    "trainingDataPoints = 3500\n",
    "window = 60\n",
    "LE = LabelEncoder()\n",
    "linReg = LinearRegression()"
   ]
  },
  {
   "cell_type": "code",
   "execution_count": 110,
   "metadata": {},
   "outputs": [
    {
     "data": {
      "text/html": [
       "<div>\n",
       "<style scoped>\n",
       "    .dataframe tbody tr th:only-of-type {\n",
       "        vertical-align: middle;\n",
       "    }\n",
       "\n",
       "    .dataframe tbody tr th {\n",
       "        vertical-align: top;\n",
       "    }\n",
       "\n",
       "    .dataframe thead th {\n",
       "        text-align: right;\n",
       "    }\n",
       "</style>\n",
       "<table border=\"1\" class=\"dataframe\">\n",
       "  <thead>\n",
       "    <tr style=\"text-align: right;\">\n",
       "      <th></th>\n",
       "      <th>OPEN</th>\n",
       "      <th>High</th>\n",
       "      <th>Low</th>\n",
       "      <th>Close</th>\n",
       "      <th>Volume</th>\n",
       "    </tr>\n",
       "  </thead>\n",
       "  <tbody>\n",
       "    <tr>\n",
       "      <th>count</th>\n",
       "      <td>4404.000000</td>\n",
       "      <td>4404.000000</td>\n",
       "      <td>4404.000000</td>\n",
       "      <td>4404.000000</td>\n",
       "      <td>4.404000e+03</td>\n",
       "    </tr>\n",
       "    <tr>\n",
       "      <th>mean</th>\n",
       "      <td>677.546245</td>\n",
       "      <td>684.061149</td>\n",
       "      <td>670.982677</td>\n",
       "      <td>677.675074</td>\n",
       "      <td>6.421307e+06</td>\n",
       "    </tr>\n",
       "    <tr>\n",
       "      <th>std</th>\n",
       "      <td>632.203442</td>\n",
       "      <td>638.221911</td>\n",
       "      <td>626.386598</td>\n",
       "      <td>632.419201</td>\n",
       "      <td>7.786831e+06</td>\n",
       "    </tr>\n",
       "    <tr>\n",
       "      <th>min</th>\n",
       "      <td>49.409801</td>\n",
       "      <td>50.680038</td>\n",
       "      <td>47.800831</td>\n",
       "      <td>49.818268</td>\n",
       "      <td>7.922000e+03</td>\n",
       "    </tr>\n",
       "    <tr>\n",
       "      <th>25%</th>\n",
       "      <td>246.616871</td>\n",
       "      <td>249.021606</td>\n",
       "      <td>242.920727</td>\n",
       "      <td>246.508522</td>\n",
       "      <td>1.561050e+06</td>\n",
       "    </tr>\n",
       "    <tr>\n",
       "      <th>50%</th>\n",
       "      <td>428.800262</td>\n",
       "      <td>431.425415</td>\n",
       "      <td>425.121536</td>\n",
       "      <td>428.234879</td>\n",
       "      <td>3.734284e+06</td>\n",
       "    </tr>\n",
       "    <tr>\n",
       "      <th>75%</th>\n",
       "      <td>972.594971</td>\n",
       "      <td>979.317520</td>\n",
       "      <td>965.272522</td>\n",
       "      <td>972.679977</td>\n",
       "      <td>8.115756e+06</td>\n",
       "    </tr>\n",
       "    <tr>\n",
       "      <th>max</th>\n",
       "      <td>3037.270020</td>\n",
       "      <td>3042.000000</td>\n",
       "      <td>2997.750000</td>\n",
       "      <td>3014.179932</td>\n",
       "      <td>8.254163e+07</td>\n",
       "    </tr>\n",
       "  </tbody>\n",
       "</table>\n",
       "</div>"
      ],
      "text/plain": [
       "              OPEN         High          Low        Close        Volume\n",
       "count  4404.000000  4404.000000  4404.000000  4404.000000  4.404000e+03\n",
       "mean    677.546245   684.061149   670.982677   677.675074  6.421307e+06\n",
       "std     632.203442   638.221911   626.386598   632.419201  7.786831e+06\n",
       "min      49.409801    50.680038    47.800831    49.818268  7.922000e+03\n",
       "25%     246.616871   249.021606   242.920727   246.508522  1.561050e+06\n",
       "50%     428.800262   431.425415   425.121536   428.234879  3.734284e+06\n",
       "75%     972.594971   979.317520   965.272522   972.679977  8.115756e+06\n",
       "max    3037.270020  3042.000000  2997.750000  3014.179932  8.254163e+07"
      ]
     },
     "execution_count": 110,
     "metadata": {},
     "output_type": "execute_result"
    }
   ],
   "source": [
    "dataTrain = pd.read_csv(\"/Users/ishan/Coding/Wpi/StockMarketSimulationIQP/BriannaCode/30y_stock_csvs/GOOG.csv\") \n",
    "dataTrain.rename(columns = {'CLOSE':'Close'}, inplace = True)\n",
    "dataTrain.rename(columns = {'HIGH':'High'}, inplace = True)\n",
    "dataTrain.rename(columns = {'LOW':'Low'}, inplace = True)\n",
    "dataTrain.rename(columns = {'VOLUME':'Volume'}, inplace = True)\n",
    "dataTrain.describe()"
   ]
  },
  {
   "cell_type": "code",
   "execution_count": 111,
   "metadata": {},
   "outputs": [
    {
     "data": {
      "text/plain": [
       "array([[4.99826546e+01, 4.48713610e+07, 0.00000000e+00, ...,\n",
       "        0.00000000e+00, 0.00000000e+00, 0.00000000e+00],\n",
       "       [4.99826546e+01, 2.29428740e+07, 0.00000000e+00, ...,\n",
       "        0.00000000e+00, 0.00000000e+00, 0.00000000e+00],\n",
       "       [5.39527702e+01, 1.83428970e+07, 0.00000000e+00, ...,\n",
       "        0.00000000e+00, 0.00000000e+00, 0.00000000e+00],\n",
       "       ...,\n",
       "       [2.82906006e+03, 1.65090000e+06, 4.96624008e+01, ...,\n",
       "        1.79984241e+01, 2.73651742e+03, 2.80489004e+03],\n",
       "       [2.77205005e+03, 1.93770000e+06, 4.36756107e+01, ...,\n",
       "        8.23550486e+00, 2.67380973e+03, 2.76934604e+03],\n",
       "       [2.68260010e+03, 8.76416000e+05, 4.38597538e+01, ...,\n",
       "        1.95631799e+00, 2.63499861e+03, 2.75056606e+03]])"
      ]
     },
     "execution_count": 111,
     "metadata": {},
     "output_type": "execute_result"
    }
   ],
   "source": [
    "#import csv\n",
    "dataTrain['CloseEdited'] = dataTrain['Close'].astype(float)\n",
    "dataTrain[\"RSI\"] = ta.RSI(dataTrain['CloseEdited'],rsiPeriod).fillna(0)\n",
    "dataTrain[\"ADX\"] = ta.ADX(dataTrain['High'],dataTrain['Low'],dataTrain['CloseEdited'],adxPeriod).fillna(0)\n",
    "fastk, fastd = ta.STOCHF(dataTrain['High'],dataTrain['Low'],dataTrain['CloseEdited'])\n",
    "dataTrain['fastd'] = fastd\n",
    "dataTrain['fastk'] = fastk\n",
    "macd, macdsignal, macdhist = ta.MACD(dataTrain['CloseEdited'])\n",
    "dataTrain['macd'] = macd\n",
    "dataTrain['macdsignal'] = macdsignal\n",
    "dataTrain['macdhist'] = macdhist\n",
    "upper,middle,lower = ta.BBANDS(dataTrain['CloseEdited'])\n",
    "dataTrain['bb_lowerband'] = lower\n",
    "dataTrain['bb_middleband'] = middle\n",
    "dataTrain['bb_upperband'] = upper\n",
    "newTrain = pd.DataFrame()\n",
    "newTrain[\"Close\"] = dataTrain['Close'].astype(float)\n",
    "newTrain[\"Close\"][1:] = newTrain[\"Close\"][0:-1]\n",
    "newTrain['Volume'] = dataTrain['Volume'].astype(float)\n",
    "newTrain['RSI'] = dataTrain['RSI'].fillna(0)\n",
    "newTrain[\"ADX\"] = dataTrain[\"ADX\"].fillna(0)\n",
    "newTrain['fastd'] = dataTrain['fastd'].fillna(0)\n",
    "newTrain['fastk'] = dataTrain['fastk'].fillna(0)\n",
    "newTrain['macd'] = dataTrain['macd'].fillna(0)\n",
    "newTrain['macdsignal'] = dataTrain['macdsignal'].fillna(0)\n",
    "newTrain['macdhist'] = dataTrain['macdhist'].fillna(0)\n",
    "newTrain['bb_lowerband'] = dataTrain['bb_lowerband'].fillna(0)\n",
    "newTrain['bb_middleband'] = dataTrain['bb_middleband'].fillna(0)\n",
    "newTrain['bb_upperband'] = dataTrain['bb_upperband'].fillna(0)\n",
    "trainingSet = newTrain.iloc[:,0:numberOfFeatures].values #convert to numpy to train RNN\n",
    "trainingSet\n"
   ]
  },
  {
   "cell_type": "code",
   "execution_count": 112,
   "metadata": {},
   "outputs": [
    {
     "data": {
      "text/plain": [
       "array([  49.98265457,   53.95277023,   54.49573517, ..., 2772.05004883,\n",
       "       2682.60009766, 2684.86010742])"
      ]
     },
     "execution_count": 112,
     "metadata": {},
     "output_type": "execute_result"
    }
   ],
   "source": [
    "ySet = dataTrain['Close'].astype(float).values\n",
    "ySet"
   ]
  },
  {
   "cell_type": "code",
   "execution_count": 113,
   "metadata": {},
   "outputs": [
    {
     "name": "stdout",
     "output_type": "stream",
     "text": [
      "(4404, 12)\n",
      "(4404,)\n"
     ]
    },
    {
     "name": "stderr",
     "output_type": "stream",
     "text": [
      "[Parallel(n_jobs=1)]: Using backend SequentialBackend with 1 concurrent workers.\n",
      "[Parallel(n_jobs=1)]: Done   1 out of   1 | elapsed:    0.2s remaining:    0.0s\n",
      "[Parallel(n_jobs=1)]: Done  12 out of  12 | elapsed:    1.8s finished\n",
      "\n",
      "[2022-02-18 14:55:11] Features: 1/12 -- score: 0.25454132606721164[Parallel(n_jobs=1)]: Using backend SequentialBackend with 1 concurrent workers.\n",
      "[Parallel(n_jobs=1)]: Done   1 out of   1 | elapsed:    0.1s remaining:    0.0s\n",
      "[Parallel(n_jobs=1)]: Done  11 out of  11 | elapsed:    1.5s finished\n",
      "\n",
      "[2022-02-18 14:55:13] Features: 2/12 -- score: 0.25408719346049047[Parallel(n_jobs=1)]: Using backend SequentialBackend with 1 concurrent workers.\n",
      "[Parallel(n_jobs=1)]: Done   1 out of   1 | elapsed:    0.1s remaining:    0.0s\n",
      "[Parallel(n_jobs=1)]: Done  10 out of  10 | elapsed:    1.4s finished\n",
      "\n",
      "[2022-02-18 14:55:14] Features: 3/12 -- score: 0.2529518619436876[Parallel(n_jobs=1)]: Using backend SequentialBackend with 1 concurrent workers.\n",
      "[Parallel(n_jobs=1)]: Done   1 out of   1 | elapsed:    0.1s remaining:    0.0s\n",
      "[Parallel(n_jobs=1)]: Done   9 out of   9 | elapsed:    1.3s finished\n",
      "\n",
      "[2022-02-18 14:55:16] Features: 4/12 -- score: 0.24659400544959129[Parallel(n_jobs=1)]: Using backend SequentialBackend with 1 concurrent workers.\n",
      "[Parallel(n_jobs=1)]: Done   1 out of   1 | elapsed:    0.1s remaining:    0.0s\n",
      "[Parallel(n_jobs=1)]: Done   8 out of   8 | elapsed:    1.4s finished\n",
      "\n",
      "[2022-02-18 14:55:17] Features: 5/12 -- score: 0.24477747502270664[Parallel(n_jobs=1)]: Using backend SequentialBackend with 1 concurrent workers.\n",
      "[Parallel(n_jobs=1)]: Done   1 out of   1 | elapsed:    0.1s remaining:    0.0s\n",
      "[Parallel(n_jobs=1)]: Done   7 out of   7 | elapsed:    0.9s finished\n",
      "\n",
      "[2022-02-18 14:55:18] Features: 6/12 -- score: 0.24477747502270664[Parallel(n_jobs=1)]: Using backend SequentialBackend with 1 concurrent workers.\n",
      "[Parallel(n_jobs=1)]: Done   1 out of   1 | elapsed:    0.1s remaining:    0.0s\n",
      "[Parallel(n_jobs=1)]: Done   6 out of   6 | elapsed:    0.8s finished\n",
      "\n",
      "[2022-02-18 14:55:19] Features: 7/12 -- score: 0.24477747502270664[Parallel(n_jobs=1)]: Using backend SequentialBackend with 1 concurrent workers.\n",
      "[Parallel(n_jobs=1)]: Done   1 out of   1 | elapsed:    0.1s remaining:    0.0s\n",
      "[Parallel(n_jobs=1)]: Done   5 out of   5 | elapsed:    0.7s finished\n",
      "\n",
      "[2022-02-18 14:55:19] Features: 8/12 -- score: 0.24455040871934605[Parallel(n_jobs=1)]: Using backend SequentialBackend with 1 concurrent workers.\n",
      "[Parallel(n_jobs=1)]: Done   1 out of   1 | elapsed:    0.1s remaining:    0.0s\n",
      "[Parallel(n_jobs=1)]: Done   4 out of   4 | elapsed:    0.6s finished\n",
      "\n",
      "[2022-02-18 14:55:20] Features: 9/12 -- score: 0.23751135331516804[Parallel(n_jobs=1)]: Using backend SequentialBackend with 1 concurrent workers.\n",
      "[Parallel(n_jobs=1)]: Done   1 out of   1 | elapsed:    0.1s remaining:    0.0s\n",
      "[Parallel(n_jobs=1)]: Done   3 out of   3 | elapsed:    0.4s finished\n",
      "\n",
      "[2022-02-18 14:55:20] Features: 10/12 -- score: 0.2320617620345141[Parallel(n_jobs=1)]: Using backend SequentialBackend with 1 concurrent workers.\n",
      "[Parallel(n_jobs=1)]: Done   1 out of   1 | elapsed:    0.1s remaining:    0.0s\n",
      "[Parallel(n_jobs=1)]: Done   2 out of   2 | elapsed:    0.3s finished\n",
      "\n",
      "[2022-02-18 14:55:21] Features: 11/12 -- score: 0.23024523160762944[Parallel(n_jobs=1)]: Using backend SequentialBackend with 1 concurrent workers.\n",
      "[Parallel(n_jobs=1)]: Done   1 out of   1 | elapsed:    0.1s remaining:    0.0s\n",
      "[Parallel(n_jobs=1)]: Done   1 out of   1 | elapsed:    0.1s finished\n",
      "\n",
      "[2022-02-18 14:55:21] Features: 12/12 -- score: 0.22842870118074476"
     ]
    }
   ],
   "source": [
    "x = newTrain\n",
    "y = ySet.ravel()\n",
    "y = LE.fit_transform(y).astype(int)\n",
    "\n",
    "\n",
    "print(x.shape)\n",
    "print(y.shape)\n",
    "\n",
    "\n",
    "\n",
    "knn = KNN(n_neighbors = 4)\n",
    "\n",
    "\n",
    "\n",
    "sfs1 = SFS(knn, \n",
    "           k_features=12, \n",
    "           forward=True, \n",
    "           floating=False, \n",
    "           verbose=2,\n",
    "           scoring='accuracy',\n",
    "           cv=0)\n",
    "\n",
    "sfs1 = sfs1.fit(x, y)"
   ]
  },
  {
   "cell_type": "code",
   "execution_count": 114,
   "metadata": {},
   "outputs": [
    {
     "data": {
      "text/plain": [
       "{1: {'feature_idx': (4,),\n",
       "  'cv_scores': array([0.25454133]),\n",
       "  'avg_score': 0.25454132606721164,\n",
       "  'feature_names': ('fastd',)},\n",
       " 2: {'feature_idx': (4, 5),\n",
       "  'cv_scores': array([0.25408719]),\n",
       "  'avg_score': 0.25408719346049047,\n",
       "  'feature_names': ('fastd', 'fastk')},\n",
       " 3: {'feature_idx': (2, 4, 5),\n",
       "  'cv_scores': array([0.25295186]),\n",
       "  'avg_score': 0.2529518619436876,\n",
       "  'feature_names': ('RSI', 'fastd', 'fastk')},\n",
       " 4: {'feature_idx': (2, 3, 4, 5),\n",
       "  'cv_scores': array([0.24659401]),\n",
       "  'avg_score': 0.24659400544959129,\n",
       "  'feature_names': ('RSI', 'ADX', 'fastd', 'fastk')},\n",
       " 5: {'feature_idx': (1, 2, 3, 4, 5),\n",
       "  'cv_scores': array([0.24477748]),\n",
       "  'avg_score': 0.24477747502270664,\n",
       "  'feature_names': ('Volume', 'RSI', 'ADX', 'fastd', 'fastk')},\n",
       " 6: {'feature_idx': (1, 2, 3, 4, 5, 6),\n",
       "  'cv_scores': array([0.24477748]),\n",
       "  'avg_score': 0.24477747502270664,\n",
       "  'feature_names': ('Volume', 'RSI', 'ADX', 'fastd', 'fastk', 'macd')},\n",
       " 7: {'feature_idx': (1, 2, 3, 4, 5, 6, 8),\n",
       "  'cv_scores': array([0.24477748]),\n",
       "  'avg_score': 0.24477747502270664,\n",
       "  'feature_names': ('Volume',\n",
       "   'RSI',\n",
       "   'ADX',\n",
       "   'fastd',\n",
       "   'fastk',\n",
       "   'macd',\n",
       "   'macdhist')},\n",
       " 8: {'feature_idx': (1, 2, 3, 4, 5, 6, 7, 8),\n",
       "  'cv_scores': array([0.24455041]),\n",
       "  'avg_score': 0.24455040871934605,\n",
       "  'feature_names': ('Volume',\n",
       "   'RSI',\n",
       "   'ADX',\n",
       "   'fastd',\n",
       "   'fastk',\n",
       "   'macd',\n",
       "   'macdsignal',\n",
       "   'macdhist')},\n",
       " 9: {'feature_idx': (1, 2, 3, 4, 5, 6, 7, 8, 9),\n",
       "  'cv_scores': array([0.23751135]),\n",
       "  'avg_score': 0.23751135331516804,\n",
       "  'feature_names': ('Volume',\n",
       "   'RSI',\n",
       "   'ADX',\n",
       "   'fastd',\n",
       "   'fastk',\n",
       "   'macd',\n",
       "   'macdsignal',\n",
       "   'macdhist',\n",
       "   'bb_lowerband')},\n",
       " 10: {'feature_idx': (0, 1, 2, 3, 4, 5, 6, 7, 8, 9),\n",
       "  'cv_scores': array([0.23206176]),\n",
       "  'avg_score': 0.2320617620345141,\n",
       "  'feature_names': ('Close',\n",
       "   'Volume',\n",
       "   'RSI',\n",
       "   'ADX',\n",
       "   'fastd',\n",
       "   'fastk',\n",
       "   'macd',\n",
       "   'macdsignal',\n",
       "   'macdhist',\n",
       "   'bb_lowerband')},\n",
       " 11: {'feature_idx': (0, 1, 2, 3, 4, 5, 6, 7, 8, 9, 10),\n",
       "  'cv_scores': array([0.23024523]),\n",
       "  'avg_score': 0.23024523160762944,\n",
       "  'feature_names': ('Close',\n",
       "   'Volume',\n",
       "   'RSI',\n",
       "   'ADX',\n",
       "   'fastd',\n",
       "   'fastk',\n",
       "   'macd',\n",
       "   'macdsignal',\n",
       "   'macdhist',\n",
       "   'bb_lowerband',\n",
       "   'bb_middleband')},\n",
       " 12: {'feature_idx': (0, 1, 2, 3, 4, 5, 6, 7, 8, 9, 10, 11),\n",
       "  'cv_scores': array([0.2284287]),\n",
       "  'avg_score': 0.22842870118074476,\n",
       "  'feature_names': ('Close',\n",
       "   'Volume',\n",
       "   'RSI',\n",
       "   'ADX',\n",
       "   'fastd',\n",
       "   'fastk',\n",
       "   'macd',\n",
       "   'macdsignal',\n",
       "   'macdhist',\n",
       "   'bb_lowerband',\n",
       "   'bb_middleband',\n",
       "   'bb_upperband')}}"
      ]
     },
     "execution_count": 114,
     "metadata": {},
     "output_type": "execute_result"
    }
   ],
   "source": [
    "sfs1.subsets_"
   ]
  },
  {
   "cell_type": "code",
   "execution_count": 115,
   "metadata": {},
   "outputs": [
    {
     "data": {
      "text/plain": [
       "('Close',\n",
       " 'Volume',\n",
       " 'RSI',\n",
       " 'ADX',\n",
       " 'fastd',\n",
       " 'fastk',\n",
       " 'macd',\n",
       " 'macdsignal',\n",
       " 'macdhist',\n",
       " 'bb_lowerband',\n",
       " 'bb_middleband',\n",
       " 'bb_upperband')"
      ]
     },
     "execution_count": 115,
     "metadata": {},
     "output_type": "execute_result"
    }
   ],
   "source": [
    "sfs1.k_feature_names_"
   ]
  },
  {
   "cell_type": "code",
   "execution_count": 116,
   "metadata": {},
   "outputs": [],
   "source": [
    "def best_subset(estimator, X, y, max_size=8, cv=5):\n",
    "    n_features = X.shape[1]\n",
    "    subsets = (combinations(range(n_features), k + 1) for k in range(min(n_features, max_size)))\n",
    "\n",
    "    best_size_subset = []\n",
    "    for subsets_k in subsets:  # for each list of subsets of the same size\n",
    "        best_score = -np.inf\n",
    "        best_subset = None\n",
    "        for subset in subsets_k: # for each subset\n",
    "            estimator.fit(X.iloc[:, list(subset)], y)\n",
    "            # get the subset with the best score among subsets of the same size\n",
    "            score = estimator.score(X.iloc[:, list(subset)], y)\n",
    "            if score > best_score:\n",
    "                best_score, best_subset = score, subset\n",
    "        # to compare subsets of different sizes we must use CV\n",
    "        # first store the best subset of each size\n",
    "        best_size_subset.append(best_subset)\n",
    "        \n",
    "    # compare best subsets of each size\n",
    "    best_score = -np.inf\n",
    "    best_subset = None\n",
    "    list_scores = []\n",
    "    for subset in best_size_subset:\n",
    "        score = cross_val_score(estimator, X.iloc[:, list(subset)], y, cv=cv).mean()\n",
    "        list_scores.append(score)\n",
    "        if score > best_score:\n",
    "            best_score, best_subset = score, subset\n",
    "\n",
    "    return best_subset, best_score, best_size_subset, list_scores"
   ]
  },
  {
   "cell_type": "code",
   "execution_count": 117,
   "metadata": {},
   "outputs": [
    {
     "data": {
      "text/plain": [
       "-15.731829932067578"
      ]
     },
     "execution_count": 117,
     "metadata": {},
     "output_type": "execute_result"
    }
   ],
   "source": [
    "best_subsets, best_score, best_size_subset, list_scores = best_subset(linReg,x,y)\n",
    "best_score"
   ]
  },
  {
   "cell_type": "code",
   "execution_count": 118,
   "metadata": {},
   "outputs": [
    {
     "data": {
      "text/plain": [
       "(1, 2, 3, 4, 5, 6, 11)"
      ]
     },
     "execution_count": 118,
     "metadata": {},
     "output_type": "execute_result"
    }
   ],
   "source": [
    "best_subsets"
   ]
  },
  {
   "cell_type": "code",
   "execution_count": 119,
   "metadata": {},
   "outputs": [
    {
     "data": {
      "text/plain": [
       "-15.731829932067578"
      ]
     },
     "execution_count": 119,
     "metadata": {},
     "output_type": "execute_result"
    }
   ],
   "source": [
    "best_score"
   ]
  },
  {
   "cell_type": "code",
   "execution_count": 120,
   "metadata": {},
   "outputs": [
    {
     "data": {
      "text/plain": [
       "[(9,),\n",
       " (1, 11),\n",
       " (1, 2, 11),\n",
       " (1, 2, 6, 11),\n",
       " (1, 2, 3, 6, 11),\n",
       " (1, 2, 3, 5, 6, 11),\n",
       " (1, 2, 3, 4, 5, 6, 11),\n",
       " (1, 2, 3, 4, 5, 6, 7, 11)]"
      ]
     },
     "execution_count": 120,
     "metadata": {},
     "output_type": "execute_result"
    }
   ],
   "source": [
    "best_size_subset"
   ]
  },
  {
   "cell_type": "code",
   "execution_count": 121,
   "metadata": {},
   "outputs": [
    {
     "data": {
      "text/plain": [
       "[-22.018234335722997,\n",
       " -16.26035991305978,\n",
       " -15.880082857832216,\n",
       " -15.741240176733626,\n",
       " -15.74371390969431,\n",
       " -15.738710546606754,\n",
       " -15.731829932067578,\n",
       " -15.75092583141983]"
      ]
     },
     "execution_count": 121,
     "metadata": {},
     "output_type": "execute_result"
    }
   ],
   "source": [
    "list_scores"
   ]
  },
  {
   "cell_type": "code",
   "execution_count": null,
   "metadata": {},
   "outputs": [],
   "source": []
  }
 ],
 "metadata": {
  "interpreter": {
   "hash": "d7f05790cc1389e84f14fa70fc483a9756405497ad0fe26dbbfa2f1c9621afc3"
  },
  "kernelspec": {
   "display_name": "Python 3.7.6 ('base')",
   "language": "python",
   "name": "python3"
  },
  "language_info": {
   "codemirror_mode": {
    "name": "ipython",
    "version": 3
   },
   "file_extension": ".py",
   "mimetype": "text/x-python",
   "name": "python",
   "nbconvert_exporter": "python",
   "pygments_lexer": "ipython3",
   "version": "3.7.6"
  },
  "orig_nbformat": 4
 },
 "nbformat": 4,
 "nbformat_minor": 2
}
