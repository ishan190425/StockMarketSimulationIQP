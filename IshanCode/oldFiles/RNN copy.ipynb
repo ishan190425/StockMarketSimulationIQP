{
 "cells": [
  {
   "cell_type": "markdown",
   "metadata": {},
   "source": [
    "# Part1 - Preprocessing"
   ]
  },
  {
   "cell_type": "markdown",
   "metadata": {},
   "source": [
    "## Import libaries"
   ]
  },
  {
   "cell_type": "code",
   "execution_count": 1,
   "metadata": {},
   "outputs": [],
   "source": [
    "import numpy as np\n",
    "import matplotlib.pyplot as plt\n",
    "import pandas as pd\n",
    "from sklearn.preprocessing import MinMaxScaler\n",
    "from tensorflow.keras.models import Sequential\n",
    "from tensorflow.keras.layers import Dense\n",
    "from tensorflow.keras.layers import LSTM\n",
    "from tensorflow.keras.layers import Dropout\n",
    "import talib as ta"
   ]
  },
  {
   "cell_type": "markdown",
   "metadata": {},
   "source": [
    "## Import training set"
   ]
  },
  {
   "cell_type": "code",
   "execution_count": 2,
   "metadata": {},
   "outputs": [],
   "source": [
    "rsiPeriod = 14\n",
    "numberOfFeatures = 2"
   ]
  },
  {
   "cell_type": "code",
   "execution_count": 3,
   "metadata": {},
   "outputs": [],
   "source": [
    "dataTrain = pd.read_csv(\"/Users/ishan/Coding/Learning/DeepLearning/RNN/Google_Stock_Price_Train.csv\") #import csv\n",
    "dataTrain['CloseEdited'] = dataTrain['Close'].str.replace(\",\",\"\")\n",
    "dataTrain['CloseEdited'] = dataTrain['CloseEdited'].astype(float)\n",
    "dataTrain[\"RSI\"] = ta.RSI(dataTrain['CloseEdited'],rsiPeriod)\n",
    "newTrain = pd.DataFrame()\n",
    "newTrain[\"Open\"] = dataTrain['Open']\n",
    "newTrain['RSI'] = dataTrain['RSI'].fillna(0)\n",
    "trainingSet = newTrain.iloc[:,0:numberOfFeatures].values #convert to numpy to train RNN\n",
    "trainingSet\n",
    "ySet = newTrain.iloc[:,0:1].values"
   ]
  },
  {
   "cell_type": "markdown",
   "metadata": {},
   "source": [
    "## Feature Scaling"
   ]
  },
  {
   "cell_type": "code",
   "execution_count": 4,
   "metadata": {},
   "outputs": [
    {
     "data": {
      "text/plain": [
       "array([[0.08581368, 0.        ],\n",
       "       [0.09701243, 0.        ],\n",
       "       [0.09433366, 0.        ],\n",
       "       ...,\n",
       "       [0.95725128, 0.58260821],\n",
       "       [0.93796041, 0.56354057],\n",
       "       [0.93688146, 0.48121379]])"
      ]
     },
     "execution_count": 4,
     "metadata": {},
     "output_type": "execute_result"
    }
   ],
   "source": [
    "# Use normalization x - min(x) / max(min) - min(x)\n",
    "sc = MinMaxScaler(feature_range=(0,1)) # all values between 0 and 1\n",
    "ySC = MinMaxScaler(feature_range=(0,1))\n",
    "ySCSet = ySC.fit_transform(ySet)\n",
    "scaleTrainingSet = sc.fit_transform(trainingSet)\n",
    "scaleTrainingSet"
   ]
  },
  {
   "cell_type": "markdown",
   "metadata": {},
   "source": [
    "## Create a data structure woth 60 timesteps and 1 output"
   ]
  },
  {
   "cell_type": "code",
   "execution_count": 5,
   "metadata": {},
   "outputs": [],
   "source": [
    "# Look at the 60 previous timesteps to predict this timestep\n",
    "xTrain = []\n",
    "yTrain = []\n",
    "for i in range(60,1258):\n",
    "    xTrain.append(scaleTrainingSet[i-60:i])\n",
    "    yTrain.append(scaleTrainingSet[i])"
   ]
  },
  {
   "cell_type": "code",
   "execution_count": 6,
   "metadata": {},
   "outputs": [],
   "source": [
    "# convert xtrain and yTrain to numpy for RNN\n",
    "xTrain, yTrain = np.array(xTrain), np.array(yTrain)"
   ]
  },
  {
   "cell_type": "markdown",
   "metadata": {},
   "source": [
    "## Reshaping the data"
   ]
  },
  {
   "cell_type": "code",
   "execution_count": 7,
   "metadata": {},
   "outputs": [],
   "source": [
    "xTrain = np.reshape(xTrain, (xTrain.shape[0],xTrain.shape[1],numberOfFeatures)) #batchsize, inputSize, numberOfFeatures"
   ]
  },
  {
   "cell_type": "markdown",
   "metadata": {},
   "source": [
    "# Part 2 - Build RNN"
   ]
  },
  {
   "cell_type": "markdown",
   "metadata": {},
   "source": [
    "## Initalizing the RNN"
   ]
  },
  {
   "cell_type": "code",
   "execution_count": 8,
   "metadata": {},
   "outputs": [],
   "source": [
    "regressor = Sequential()"
   ]
  },
  {
   "cell_type": "markdown",
   "metadata": {},
   "source": [
    "## Adding LSTM layers and some dropout regularization"
   ]
  },
  {
   "cell_type": "code",
   "execution_count": 9,
   "metadata": {},
   "outputs": [],
   "source": [
    "regressor.add(LSTM(units = 50, return_sequences = True, input_shape = (xTrain.shape[1],numberOfFeatures))) \n",
    "regressor.add(Dropout(rate = 0.2))"
   ]
  },
  {
   "cell_type": "code",
   "execution_count": 10,
   "metadata": {},
   "outputs": [],
   "source": [
    "regressor.add(LSTM(units = 50, return_sequences = True)) \n",
    "regressor.add(Dropout(rate = 0.2))"
   ]
  },
  {
   "cell_type": "code",
   "execution_count": 11,
   "metadata": {},
   "outputs": [],
   "source": [
    "regressor.add(LSTM(units = 50, return_sequences = True))\n",
    "regressor.add(Dropout(rate = 0.2))"
   ]
  },
  {
   "cell_type": "code",
   "execution_count": 12,
   "metadata": {},
   "outputs": [],
   "source": [
    "regressor.add(LSTM(units = 50))\n",
    "regressor.add(Dropout(rate = 0.2))\n",
    "# Last Layer"
   ]
  },
  {
   "cell_type": "markdown",
   "metadata": {},
   "source": [
    "## Adding output layer"
   ]
  },
  {
   "cell_type": "code",
   "execution_count": 13,
   "metadata": {},
   "outputs": [],
   "source": [
    "regressor.add(Dense(units=1))"
   ]
  },
  {
   "cell_type": "code",
   "execution_count": 14,
   "metadata": {},
   "outputs": [],
   "source": [
    "regressor.compile(optimizer='adam',loss='mean_squared_error')"
   ]
  },
  {
   "cell_type": "code",
   "execution_count": 15,
   "metadata": {},
   "outputs": [
    {
     "name": "stdout",
     "output_type": "stream",
     "text": [
      "Epoch 1/100\n",
      "38/38 [==============================] - 10s 95ms/step - loss: 0.0707\n",
      "Epoch 2/100\n",
      "38/38 [==============================] - 3s 66ms/step - loss: 0.0377\n",
      "Epoch 3/100\n",
      "38/38 [==============================] - 3s 67ms/step - loss: 0.0366\n",
      "Epoch 4/100\n",
      "38/38 [==============================] - 3s 68ms/step - loss: 0.0360\n",
      "Epoch 5/100\n",
      "38/38 [==============================] - 3s 68ms/step - loss: 0.0353\n",
      "Epoch 6/100\n",
      "38/38 [==============================] - 3s 68ms/step - loss: 0.0348\n",
      "Epoch 7/100\n",
      "38/38 [==============================] - 3s 78ms/step - loss: 0.0341\n",
      "Epoch 8/100\n",
      "38/38 [==============================] - 3s 88ms/step - loss: 0.0346\n",
      "Epoch 9/100\n",
      "38/38 [==============================] - 3s 74ms/step - loss: 0.0337\n",
      "Epoch 10/100\n",
      "38/38 [==============================] - 3s 72ms/step - loss: 0.0333\n",
      "Epoch 11/100\n",
      "38/38 [==============================] - 3s 71ms/step - loss: 0.0338\n",
      "Epoch 12/100\n",
      "38/38 [==============================] - 3s 70ms/step - loss: 0.0326\n",
      "Epoch 13/100\n",
      "38/38 [==============================] - 3s 71ms/step - loss: 0.0328\n",
      "Epoch 14/100\n",
      "38/38 [==============================] - 3s 72ms/step - loss: 0.0326\n",
      "Epoch 15/100\n",
      "38/38 [==============================] - 3s 72ms/step - loss: 0.0324\n",
      "Epoch 16/100\n",
      "38/38 [==============================] - 3s 71ms/step - loss: 0.0325\n",
      "Epoch 17/100\n",
      "38/38 [==============================] - 3s 72ms/step - loss: 0.0324\n",
      "Epoch 18/100\n",
      "38/38 [==============================] - 3s 72ms/step - loss: 0.0320\n",
      "Epoch 19/100\n",
      "38/38 [==============================] - 3s 71ms/step - loss: 0.0322\n",
      "Epoch 20/100\n",
      "38/38 [==============================] - 3s 71ms/step - loss: 0.0319\n",
      "Epoch 21/100\n",
      "38/38 [==============================] - 3s 72ms/step - loss: 0.0322\n",
      "Epoch 22/100\n",
      "38/38 [==============================] - 3s 70ms/step - loss: 0.0313\n",
      "Epoch 23/100\n",
      "38/38 [==============================] - 3s 71ms/step - loss: 0.0317\n",
      "Epoch 24/100\n",
      "38/38 [==============================] - 3s 71ms/step - loss: 0.0308\n",
      "Epoch 25/100\n",
      "38/38 [==============================] - 3s 71ms/step - loss: 0.0307\n",
      "Epoch 26/100\n",
      "38/38 [==============================] - 3s 73ms/step - loss: 0.0309\n",
      "Epoch 27/100\n",
      "38/38 [==============================] - 3s 71ms/step - loss: 0.0309\n",
      "Epoch 28/100\n",
      "38/38 [==============================] - 3s 72ms/step - loss: 0.0302\n",
      "Epoch 29/100\n",
      "38/38 [==============================] - 3s 71ms/step - loss: 0.0303\n",
      "Epoch 30/100\n",
      "38/38 [==============================] - 3s 72ms/step - loss: 0.0303\n",
      "Epoch 31/100\n",
      "38/38 [==============================] - 3s 71ms/step - loss: 0.0302\n",
      "Epoch 32/100\n",
      "38/38 [==============================] - 3s 71ms/step - loss: 0.0303\n",
      "Epoch 33/100\n",
      "38/38 [==============================] - 3s 74ms/step - loss: 0.0300\n",
      "Epoch 34/100\n",
      "38/38 [==============================] - 3s 74ms/step - loss: 0.0299\n",
      "Epoch 35/100\n",
      "38/38 [==============================] - 3s 77ms/step - loss: 0.0297\n",
      "Epoch 36/100\n",
      "38/38 [==============================] - 3s 75ms/step - loss: 0.0299\n",
      "Epoch 37/100\n",
      "38/38 [==============================] - 2s 61ms/step - loss: 0.0296\n",
      "Epoch 38/100\n",
      "38/38 [==============================] - 2s 60ms/step - loss: 0.0294\n",
      "Epoch 39/100\n",
      "38/38 [==============================] - 2s 60ms/step - loss: 0.0296\n",
      "Epoch 40/100\n",
      "38/38 [==============================] - 2s 60ms/step - loss: 0.0294\n",
      "Epoch 41/100\n",
      "38/38 [==============================] - 3s 86ms/step - loss: 0.0298\n",
      "Epoch 42/100\n",
      "38/38 [==============================] - 6s 147ms/step - loss: 0.0296\n",
      "Epoch 43/100\n",
      "38/38 [==============================] - 4s 97ms/step - loss: 0.0293\n",
      "Epoch 44/100\n",
      "38/38 [==============================] - 4s 99ms/step - loss: 0.0291\n",
      "Epoch 45/100\n",
      "38/38 [==============================] - 3s 87ms/step - loss: 0.0291\n",
      "Epoch 46/100\n",
      "38/38 [==============================] - 4s 93ms/step - loss: 0.0289\n",
      "Epoch 47/100\n",
      "38/38 [==============================] - 3s 73ms/step - loss: 0.0287\n",
      "Epoch 48/100\n",
      "38/38 [==============================] - 3s 73ms/step - loss: 0.0288\n",
      "Epoch 49/100\n",
      "38/38 [==============================] - 3s 73ms/step - loss: 0.0288\n",
      "Epoch 50/100\n",
      "38/38 [==============================] - 3s 70ms/step - loss: 0.0287\n",
      "Epoch 51/100\n",
      "38/38 [==============================] - 3s 86ms/step - loss: 0.0288\n",
      "Epoch 52/100\n",
      "38/38 [==============================] - 3s 87ms/step - loss: 0.0287\n",
      "Epoch 53/100\n",
      "38/38 [==============================] - 3s 73ms/step - loss: 0.0286\n",
      "Epoch 54/100\n",
      "38/38 [==============================] - 3s 77ms/step - loss: 0.0287\n",
      "Epoch 55/100\n",
      "38/38 [==============================] - 3s 68ms/step - loss: 0.0291\n",
      "Epoch 56/100\n",
      "38/38 [==============================] - 3s 66ms/step - loss: 0.0288\n",
      "Epoch 57/100\n",
      "38/38 [==============================] - 3s 69ms/step - loss: 0.0285\n",
      "Epoch 58/100\n",
      "38/38 [==============================] - 3s 75ms/step - loss: 0.0287\n",
      "Epoch 59/100\n",
      "38/38 [==============================] - 3s 69ms/step - loss: 0.0288\n",
      "Epoch 60/100\n",
      "38/38 [==============================] - 3s 80ms/step - loss: 0.0286\n",
      "Epoch 61/100\n",
      "38/38 [==============================] - 3s 81ms/step - loss: 0.0283\n",
      "Epoch 62/100\n",
      "38/38 [==============================] - 3s 68ms/step - loss: 0.0282\n",
      "Epoch 63/100\n",
      "38/38 [==============================] - 2s 66ms/step - loss: 0.0283\n",
      "Epoch 64/100\n",
      "38/38 [==============================] - 3s 68ms/step - loss: 0.0283\n",
      "Epoch 65/100\n",
      "38/38 [==============================] - 3s 67ms/step - loss: 0.0281\n",
      "Epoch 66/100\n",
      "38/38 [==============================] - 2s 66ms/step - loss: 0.0284\n",
      "Epoch 67/100\n",
      "38/38 [==============================] - 3s 85ms/step - loss: 0.0283\n",
      "Epoch 68/100\n",
      "38/38 [==============================] - 4s 97ms/step - loss: 0.0282\n",
      "Epoch 69/100\n",
      "38/38 [==============================] - 3s 81ms/step - loss: 0.0284\n",
      "Epoch 70/100\n",
      "38/38 [==============================] - 3s 75ms/step - loss: 0.0281\n",
      "Epoch 71/100\n",
      "38/38 [==============================] - 3s 77ms/step - loss: 0.0283\n",
      "Epoch 72/100\n",
      "38/38 [==============================] - 3s 75ms/step - loss: 0.0280\n",
      "Epoch 73/100\n",
      "38/38 [==============================] - 3s 76ms/step - loss: 0.0279\n",
      "Epoch 74/100\n",
      "38/38 [==============================] - 3s 74ms/step - loss: 0.0281\n",
      "Epoch 75/100\n",
      "38/38 [==============================] - 3s 79ms/step - loss: 0.0280\n",
      "Epoch 76/100\n",
      "38/38 [==============================] - 3s 77ms/step - loss: 0.0280\n",
      "Epoch 77/100\n",
      "38/38 [==============================] - 3s 72ms/step - loss: 0.0280\n",
      "Epoch 78/100\n",
      "38/38 [==============================] - 3s 77ms/step - loss: 0.0278\n",
      "Epoch 79/100\n",
      "38/38 [==============================] - 3s 88ms/step - loss: 0.0281\n",
      "Epoch 80/100\n",
      "38/38 [==============================] - 3s 90ms/step - loss: 0.0279\n",
      "Epoch 81/100\n",
      "38/38 [==============================] - 3s 72ms/step - loss: 0.0279\n",
      "Epoch 82/100\n",
      "38/38 [==============================] - 3s 72ms/step - loss: 0.0280\n",
      "Epoch 83/100\n",
      "38/38 [==============================] - 3s 76ms/step - loss: 0.0279\n",
      "Epoch 84/100\n",
      "38/38 [==============================] - 3s 73ms/step - loss: 0.0278\n",
      "Epoch 85/100\n",
      "38/38 [==============================] - 3s 81ms/step - loss: 0.0279\n",
      "Epoch 86/100\n",
      "38/38 [==============================] - 2s 61ms/step - loss: 0.0277\n",
      "Epoch 87/100\n",
      "38/38 [==============================] - 2s 59ms/step - loss: 0.0277\n",
      "Epoch 88/100\n",
      "38/38 [==============================] - 3s 74ms/step - loss: 0.0277\n",
      "Epoch 89/100\n",
      "38/38 [==============================] - 3s 68ms/step - loss: 0.0277\n",
      "Epoch 90/100\n",
      "38/38 [==============================] - 3s 82ms/step - loss: 0.0278\n",
      "Epoch 91/100\n",
      "38/38 [==============================] - 4s 103ms/step - loss: 0.0277\n",
      "Epoch 92/100\n",
      "38/38 [==============================] - 2s 61ms/step - loss: 0.0277\n",
      "Epoch 93/100\n",
      "38/38 [==============================] - 2s 54ms/step - loss: 0.0278\n",
      "Epoch 94/100\n",
      "38/38 [==============================] - 3s 78ms/step - loss: 0.0276\n",
      "Epoch 95/100\n",
      "38/38 [==============================] - 3s 79ms/step - loss: 0.0276\n",
      "Epoch 96/100\n",
      "38/38 [==============================] - 2s 62ms/step - loss: 0.0276\n",
      "Epoch 97/100\n",
      "38/38 [==============================] - 2s 54ms/step - loss: 0.0277\n",
      "Epoch 98/100\n",
      "38/38 [==============================] - 2s 64ms/step - loss: 0.0276\n",
      "Epoch 99/100\n",
      "38/38 [==============================] - 4s 106ms/step - loss: 0.0276\n",
      "Epoch 100/100\n",
      "38/38 [==============================] - 3s 68ms/step - loss: 0.0277\n"
     ]
    },
    {
     "data": {
      "text/plain": [
       "<tensorflow.python.keras.callbacks.History at 0x7fcc1c483810>"
      ]
     },
     "execution_count": 15,
     "metadata": {},
     "output_type": "execute_result"
    }
   ],
   "source": [
    "regressor.fit(xTrain,yTrain,epochs=100,batch_size=32)"
   ]
  },
  {
   "cell_type": "markdown",
   "metadata": {},
   "source": [
    "## Part 3 - Predictions and visualing the results"
   ]
  },
  {
   "cell_type": "code",
   "execution_count": 16,
   "metadata": {},
   "outputs": [
    {
     "data": {
      "text/html": [
       "<div>\n",
       "<style scoped>\n",
       "    .dataframe tbody tr th:only-of-type {\n",
       "        vertical-align: middle;\n",
       "    }\n",
       "\n",
       "    .dataframe tbody tr th {\n",
       "        vertical-align: top;\n",
       "    }\n",
       "\n",
       "    .dataframe thead th {\n",
       "        text-align: right;\n",
       "    }\n",
       "</style>\n",
       "<table border=\"1\" class=\"dataframe\">\n",
       "  <thead>\n",
       "    <tr style=\"text-align: right;\">\n",
       "      <th></th>\n",
       "      <th>Open</th>\n",
       "      <th>RSI</th>\n",
       "    </tr>\n",
       "  </thead>\n",
       "  <tbody>\n",
       "    <tr>\n",
       "      <th>0</th>\n",
       "      <td>778.81</td>\n",
       "      <td>0.000000</td>\n",
       "    </tr>\n",
       "    <tr>\n",
       "      <th>1</th>\n",
       "      <td>788.36</td>\n",
       "      <td>0.000000</td>\n",
       "    </tr>\n",
       "    <tr>\n",
       "      <th>2</th>\n",
       "      <td>786.08</td>\n",
       "      <td>0.000000</td>\n",
       "    </tr>\n",
       "    <tr>\n",
       "      <th>3</th>\n",
       "      <td>795.26</td>\n",
       "      <td>0.000000</td>\n",
       "    </tr>\n",
       "    <tr>\n",
       "      <th>4</th>\n",
       "      <td>806.40</td>\n",
       "      <td>0.000000</td>\n",
       "    </tr>\n",
       "    <tr>\n",
       "      <th>5</th>\n",
       "      <td>807.86</td>\n",
       "      <td>0.000000</td>\n",
       "    </tr>\n",
       "    <tr>\n",
       "      <th>6</th>\n",
       "      <td>805.00</td>\n",
       "      <td>0.000000</td>\n",
       "    </tr>\n",
       "    <tr>\n",
       "      <th>7</th>\n",
       "      <td>807.14</td>\n",
       "      <td>0.000000</td>\n",
       "    </tr>\n",
       "    <tr>\n",
       "      <th>8</th>\n",
       "      <td>807.48</td>\n",
       "      <td>0.000000</td>\n",
       "    </tr>\n",
       "    <tr>\n",
       "      <th>9</th>\n",
       "      <td>807.08</td>\n",
       "      <td>0.000000</td>\n",
       "    </tr>\n",
       "    <tr>\n",
       "      <th>10</th>\n",
       "      <td>805.81</td>\n",
       "      <td>0.000000</td>\n",
       "    </tr>\n",
       "    <tr>\n",
       "      <th>11</th>\n",
       "      <td>805.12</td>\n",
       "      <td>0.000000</td>\n",
       "    </tr>\n",
       "    <tr>\n",
       "      <th>12</th>\n",
       "      <td>806.91</td>\n",
       "      <td>0.000000</td>\n",
       "    </tr>\n",
       "    <tr>\n",
       "      <th>13</th>\n",
       "      <td>807.25</td>\n",
       "      <td>0.000000</td>\n",
       "    </tr>\n",
       "    <tr>\n",
       "      <th>14</th>\n",
       "      <td>822.30</td>\n",
       "      <td>87.177295</td>\n",
       "    </tr>\n",
       "    <tr>\n",
       "      <th>15</th>\n",
       "      <td>829.62</td>\n",
       "      <td>88.700238</td>\n",
       "    </tr>\n",
       "    <tr>\n",
       "      <th>16</th>\n",
       "      <td>837.81</td>\n",
       "      <td>90.114870</td>\n",
       "    </tr>\n",
       "    <tr>\n",
       "      <th>17</th>\n",
       "      <td>834.71</td>\n",
       "      <td>85.739471</td>\n",
       "    </tr>\n",
       "    <tr>\n",
       "      <th>18</th>\n",
       "      <td>814.66</td>\n",
       "      <td>64.071306</td>\n",
       "    </tr>\n",
       "    <tr>\n",
       "      <th>19</th>\n",
       "      <td>796.86</td>\n",
       "      <td>51.603020</td>\n",
       "    </tr>\n",
       "  </tbody>\n",
       "</table>\n",
       "</div>"
      ],
      "text/plain": [
       "      Open        RSI\n",
       "0   778.81   0.000000\n",
       "1   788.36   0.000000\n",
       "2   786.08   0.000000\n",
       "3   795.26   0.000000\n",
       "4   806.40   0.000000\n",
       "5   807.86   0.000000\n",
       "6   805.00   0.000000\n",
       "7   807.14   0.000000\n",
       "8   807.48   0.000000\n",
       "9   807.08   0.000000\n",
       "10  805.81   0.000000\n",
       "11  805.12   0.000000\n",
       "12  806.91   0.000000\n",
       "13  807.25   0.000000\n",
       "14  822.30  87.177295\n",
       "15  829.62  88.700238\n",
       "16  837.81  90.114870\n",
       "17  834.71  85.739471\n",
       "18  814.66  64.071306\n",
       "19  796.86  51.603020"
      ]
     },
     "execution_count": 16,
     "metadata": {},
     "output_type": "execute_result"
    }
   ],
   "source": [
    "dataTest = pd.read_csv(\"/Users/ishan/Coding/Learning/DeepLearning/RNN/Google_Stock_Price_Test.csv\") #import csv\n",
    "dataTest[\"RSI\"] = ta.RSI(dataTest['Open'],rsiPeriod).fillna(0)\n",
    "newTest = pd.DataFrame()\n",
    "newTest[\"Open\"] = dataTest['Open']\n",
    "newTest['RSI'] = dataTest['RSI']\n",
    "realStockPrice = dataTest.iloc[:,1:2].values #convert to numpy to train RNN\n",
    "newTest"
   ]
  },
  {
   "cell_type": "markdown",
   "metadata": {},
   "source": [
    "## Predict price in 2017"
   ]
  },
  {
   "cell_type": "code",
   "execution_count": 17,
   "metadata": {},
   "outputs": [],
   "source": [
    "datasetTotal = pd.concat((newTrain,newTest),axis=0)\n",
    "inputs = datasetTotal[len(datasetTotal) - len(newTest) - 60:].values\n",
    "inputs = sc.transform(inputs)"
   ]
  },
  {
   "cell_type": "code",
   "execution_count": 18,
   "metadata": {},
   "outputs": [],
   "source": [
    "xTest = []\n",
    "for i in range(60,80):\n",
    "    xTest.append(inputs[i-60:i])\n",
    "xTest = np.array(xTest)\n",
    "xTest = np.reshape(xTest, (xTest.shape[0],xTest.shape[1],numberOfFeatures)) #batchsize, inputSize, numberOfFeatures"
   ]
  },
  {
   "cell_type": "code",
   "execution_count": 19,
   "metadata": {},
   "outputs": [],
   "source": [
    "predictedPrice = regressor.predict(xTest)\n",
    "predictedPrice = ySC.inverse_transform(predictedPrice)\n"
   ]
  },
  {
   "cell_type": "markdown",
   "metadata": {},
   "source": [
    "# Visualsing the data"
   ]
  },
  {
   "cell_type": "code",
   "execution_count": 20,
   "metadata": {},
   "outputs": [
    {
     "data": {
      "image/png": "[encoded data removed]",
      "text/plain": [
       "<Figure size 432x288 with 1 Axes>"
      ]
     },
     "metadata": {
      "needs_background": "light"
     },
     "output_type": "display_data"
    }
   ],
   "source": [
    "plt.plot(realStockPrice, color = 'red', label = \"Read Stock Price\")\n",
    "plt.plot(predictedPrice, color = 'blue', label = \"Predicted Stock Price\")\n",
    "plt.title(\"Google Stock Price\")\n",
    "plt.xlabel('Time')\n",
    "plt.ylabel(\"Price\")\n",
    "plt.legend()\n",
    "plt.show()"
   ]
  },
  {
   "cell_type": "code",
   "execution_count": 28,
   "metadata": {},
   "outputs": [
    {
     "name": "stdout",
     "output_type": "stream",
     "text": [
      "[0.]\n"
     ]
    }
   ],
   "source": [
    "stocksOwned = {}\n",
    "liquidValue = 500_000\n",
    "for i in range(len(predictedPrice)):\n",
    "    if realStockPrice[i] < predictedPrice[i] and 'GOOGL' not in stocksOwned:\n",
    "        stocksOwned['GOOGL'] = (realStockPrice[i], liquidValue/realStockPrice[i])\n",
    "        liquidValue -= liquidValue/realStockPrice[i] * realStockPrice[i]\n",
    "    elif 'GOOGL' in stocksOwned and stocksOwned['GOOGL'][0] < realStockPrice[i]:\n",
    "        liquidValue += stocksOwned['GOOGL'][1] * realStockPrice[i]\n",
    "        print(\"in here\")\n",
    "        stocksOwned.pop('GOOGL')\n",
    "print(liquidValue)"
   ]
  },
  {
   "cell_type": "code",
   "execution_count": null,
   "metadata": {},
   "outputs": [],
   "source": []
  }
 ],
 "metadata": {
  "interpreter": {
   "hash": "d7f05790cc1389e84f14fa70fc483a9756405497ad0fe26dbbfa2f1c9621afc3"
  },
  "kernelspec": {
   "display_name": "Python 3.7.6 64-bit ('base': conda)",
   "name": "python3"
  },
  "language_info": {
   "codemirror_mode": {
    "name": "ipython",
    "version": 3
   },
   "file_extension": ".py",
   "mimetype": "text/x-python",
   "name": "python",
   "nbconvert_exporter": "python",
   "pygments_lexer": "ipython3",
   "version": "3.7.6"
  },
  "orig_nbformat": 4
 },
 "nbformat": 4,
 "nbformat_minor": 2
}
