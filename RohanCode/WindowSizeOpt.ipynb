{
 "cells": [
  {
   "cell_type": "code",
   "execution_count": 6,
   "metadata": {},
   "outputs": [],
   "source": [
    "\n",
    "import pandas as pd\n",
    "import pandas_datareader.data as web\n",
    "from pandas import Series, DataFrame\n",
    "import datetime\n",
    "from datetime import date, timedelta, datetime\n",
    "import math\n",
    "import matplotlib as mpl\n",
    "import numpy as np\n",
    "import talib as ta\n",
    "import yfinance as yf\n",
    "from tqdm import tqdm\n",
    "from os import walk\n",
    "import os\n",
    "import matplotlib.pyplot as plt\n",
    "import random\n",
    "from random import randrange\n",
    "from collections import defaultdict"
   ]
  },
  {
   "cell_type": "code",
   "execution_count": 7,
   "metadata": {},
   "outputs": [],
   "source": [
    "def random_date(start, end):\n",
    "    delta = end - start\n",
    "    int_delta = (delta.days * 24 * 60 * 60) + delta.seconds\n",
    "    random_second = randrange(int_delta)\n",
    "    return start + timedelta(seconds=random_second)"
   ]
  },
  {
   "cell_type": "code",
   "execution_count": 8,
   "metadata": {},
   "outputs": [],
   "source": [
    "def buyStock2(row):\n",
    "    close_adj = row[4]\n",
    "    starting_price = close_adj\n",
    "    return close_adj,starting_price,True\n",
    "\n",
    "def sellStock2(row,starting_price):\n",
    "    close_adj = row[4]\n",
    "    single_trade_percent_gain = ((close_adj - starting_price) / starting_price) \n",
    "    return close_adj,single_trade_percent_gain,False"
   ]
  },
  {
   "cell_type": "code",
   "execution_count": 9,
   "metadata": {},
   "outputs": [],
   "source": [
    "def tradeVerison2(stock, startDate, endDate,plotVal,WindowVal):\n",
    "    StartingAmount = 500_000/505\n",
    "    oldDate = startDate\n",
    "    startDate = startDate - timedelta(39)\n",
    "    df = pd.read_csv(\n",
    "        \"C:/Users/rohan/Desktop/SchoolWork/StockMarketSimulationIQP/RohanCode/Data/filter_30y_stock_csvs/{}.csv\".format(stock))\n",
    "    df = df.rename(columns={\"CLOSE\": \"Adj Close\", \"VOLUME\": \"Volume\"})\n",
    "\n",
    "    df['Datetime'] = pd.to_datetime(df['Datetime'])\n",
    "    g_fd = df\n",
    "    g_fd = g_fd[~(g_fd['Datetime'] < oldDate)]\n",
    "    g_fd = g_fd[~(g_fd['Datetime'] > endDate)]\n",
    "  \n",
    "    df = df[~(df['Datetime'] < startDate)]\n",
    "    df = df[~(df['Datetime'] > endDate)]\n",
    "\n",
    "    StockData = pd.DataFrame(df).to_numpy()\n",
    " \n",
    "    \n",
    "    mapForBuy = {}\n",
    "    mapForSellP = {}\n",
    "    mapForSellN = {}\n",
    "\n",
    "    gainsList = []\n",
    "    lostList = []\n",
    "\n",
    "    Total_Gain = 0\n",
    "    starting_price = 1\n",
    "\n",
    "    TotalReturn = StartingAmount\n",
    "    index = 28\n",
    "    bought = False\n",
    "    val = StockData.shape\n",
    "    for rows in StockData:\n",
    "        row = StockData[index][:]\n",
    "        if(index >= val[0] -1):\n",
    "            break\n",
    "\n",
    "        maxValuePeriod = df.iloc[index-WindowVal:index-1]['Adj Close'].max()\n",
    "\n",
    "        Valuemean = df.iloc[index-WindowVal:index-1]['Adj Close'].mean()\n",
    "\n",
    "        ValuemeanOld = df.iloc[index-(WindowVal+7):index-7]['Adj Close'].mean()\n",
    "        stvalue = df.iloc[index-(WindowVal+3):index-1]['Adj Close'].std()\n",
    "        \n",
    "\n",
    "        if math.isnan(maxValuePeriod):\n",
    "            maxValuePeriod = 0\n",
    "        if math.isnan(Valuemean):\n",
    "            Valuemean = 0\n",
    "\n",
    "        if not bought:\n",
    "            if(StockData[index-1][8] > 12):\n",
    "\n",
    "                if StockData[index-1][11] == 1 and StockData[index-1][10] == 1:\n",
    "                    close_adj, starting_price, bought = buyStock2(row)\n",
    "                    mapForBuy[row[0]] = row[4]\n",
    "\n",
    "                elif maxValuePeriod - stvalue  < Valuemean :\n",
    "                        \n",
    "                    close_adj, starting_price, bought = buyStock2(row)\n",
    "                    mapForBuy[row[0]] = row[4]\n",
    "                        \n",
    "                else:\n",
    "                    gainsList.append(0)\n",
    "\n",
    "        elif bought and close_adj != row[4]:  # This is sell clause\n",
    "            if (StockData[index-1][11] == 0 or StockData[index-1][9] < 41) and StockData[index-1][10] == 0 and ValuemeanOld < Valuemean:\n",
    "                infoOnSelling = sellStock2(row, starting_price)\n",
    "                close_adj = infoOnSelling[0]\n",
    "                Total_Gain += infoOnSelling[1]\n",
    "                bought = infoOnSelling[2]\n",
    "\n",
    "                gainsList.append(infoOnSelling[1])\n",
    "\n",
    "                if(infoOnSelling[1] >= 0):\n",
    "                    mapForSellP[row[0]] = row[4]\n",
    "\n",
    "                else:\n",
    "                    lostList.append(infoOnSelling[1])\n",
    "                    mapForSellN[row[0]] = row[4]\n",
    "\n",
    "            else:\n",
    "                yesterday = StockData[index-1][4]\n",
    "                today = row[4]\n",
    "                checker = (today - yesterday)/yesterday\n",
    "                if(checker < 0):\n",
    "                    lostList.append(checker)\n",
    "                gainsList.append(checker)\n",
    "                \n",
    "        index += 1\n",
    "        TotalReturn = (1 + Total_Gain) * TotalReturn\n",
    "        Total_Gain = 0\n",
    "\n",
    "\n",
    "\n",
    "\n",
    "    if bought:\n",
    "        row = StockData[index][:]\n",
    "        infoOnSelling = sellStock2(row, starting_price)\n",
    "        close_adj = infoOnSelling[0]\n",
    "        Total_Gain += infoOnSelling[1]\n",
    "        bought = infoOnSelling[2]\n",
    "\n",
    "        gainsList.append(infoOnSelling[1])\n",
    "\n",
    "        if(infoOnSelling[1] >= 0):\n",
    "            mapForSellP[row[0]] = row[4]\n",
    "\n",
    "        else:\n",
    "            lostList.append(infoOnSelling[1])\n",
    "            mapForSellN[row[0]] = row[4]\n",
    "\n",
    "        TotalReturn = (1 + Total_Gain) * TotalReturn\n",
    "        Total_Gain = 0\n",
    "\n",
    "    if(plotVal):\n",
    "        plt.plot(g_fd['Datetime'], g_fd['Adj Close'])\n",
    "        plt.scatter(mapForBuy.keys(), mapForBuy.values(), label=\"Buy\", color=\"Blue\",\n",
    "                    marker=\"o\", s=30)\n",
    "        plt.scatter(mapForSellP.keys(), mapForSellP.values(), label=\"Sell - Gain\", color=\"Green\",\n",
    "                    marker=\"^\", s=30)\n",
    "        plt.scatter(mapForSellN.keys(), mapForSellN.values(), label=\"Sell - Lost\", color=\"Red\",\n",
    "                    marker=\"v\", s=30)\n",
    "\n",
    "        plt.xlabel(\"Date\")\n",
    "        plt.ylabel(\"Price $\")\n",
    "        plt.title(\"{}\".format(stock))\n",
    "        plt.tick_params(axis='x',which='major', labelsize=7, rotation = 90)\n",
    "        #plt.tick_params(axis='y',colors='white')\n",
    "        \n",
    "        plt.legend()\n",
    "        plt.tight_layout()\n",
    "\n",
    "        plt.savefig('GraphsForBuySell/{}.png'.format(stock),facecolor = 'w')\n",
    "        plt.close()\n",
    "\n",
    "    tradingdays = (endDate-startDate).days\n",
    "    if not mapForBuy or not np.std(gainsList):\n",
    "        sharpeRatio = 0\n",
    "    else:\n",
    "        sharpeRatio = np.mean(gainsList)/np.std(gainsList)\n",
    "        sharpeRatio = (tradingdays ** 0.5) * sharpeRatio\n",
    "\n",
    "    if not lostList or not np.std(lostList):\n",
    "        sortinoRatio = 0\n",
    "    else:\n",
    "        sortinoRatio = (np.mean(gainsList)/np.std(lostList)) * (tradingdays ** 0.5)\n",
    "    \n",
    "    return round(TotalReturn-StartingAmount, 2), sharpeRatio, sortinoRatio\n"
   ]
  },
  {
   "cell_type": "code",
   "execution_count": 10,
   "metadata": {},
   "outputs": [
    {
     "name": "stderr",
     "output_type": "stream",
     "text": [
      "  0%|          | 0/25 [00:00<?, ?it/s]"
     ]
    },
    {
     "name": "stdout",
     "output_type": "stream",
     "text": [
      "Starting number 1 for test cases\n"
     ]
    },
    {
     "name": "stderr",
     "output_type": "stream",
     "text": [
      "100%|██████████| 25/25 [10:19<00:00, 24.76s/it]\n",
      "  0%|          | 0/25 [00:00<?, ?it/s]"
     ]
    },
    {
     "name": "stdout",
     "output_type": "stream",
     "text": [
      "Starting number 2 for test cases\n"
     ]
    },
    {
     "name": "stderr",
     "output_type": "stream",
     "text": [
      "100%|██████████| 25/25 [09:50<00:00, 23.63s/it]\n",
      "  0%|          | 0/25 [00:00<?, ?it/s]"
     ]
    },
    {
     "name": "stdout",
     "output_type": "stream",
     "text": [
      "Starting number 3 for test cases\n"
     ]
    },
    {
     "name": "stderr",
     "output_type": "stream",
     "text": [
      "100%|██████████| 25/25 [10:09<00:00, 24.39s/it]\n",
      "  0%|          | 0/25 [00:00<?, ?it/s]"
     ]
    },
    {
     "name": "stdout",
     "output_type": "stream",
     "text": [
      "Starting number 4 for test cases\n"
     ]
    },
    {
     "name": "stderr",
     "output_type": "stream",
     "text": [
      "100%|██████████| 25/25 [10:27<00:00, 25.09s/it]\n",
      "  0%|          | 0/25 [00:00<?, ?it/s]"
     ]
    },
    {
     "name": "stdout",
     "output_type": "stream",
     "text": [
      "Starting number 5 for test cases\n"
     ]
    },
    {
     "name": "stderr",
     "output_type": "stream",
     "text": [
      "100%|██████████| 25/25 [11:05<00:00, 26.63s/it]\n",
      "  0%|          | 0/25 [00:00<?, ?it/s]"
     ]
    },
    {
     "name": "stdout",
     "output_type": "stream",
     "text": [
      "Starting number 6 for test cases\n"
     ]
    },
    {
     "name": "stderr",
     "output_type": "stream",
     "text": [
      "100%|██████████| 25/25 [11:10<00:00, 26.84s/it]\n",
      "  0%|          | 0/25 [00:00<?, ?it/s]"
     ]
    },
    {
     "name": "stdout",
     "output_type": "stream",
     "text": [
      "Starting number 7 for test cases\n"
     ]
    },
    {
     "name": "stderr",
     "output_type": "stream",
     "text": [
      "100%|██████████| 25/25 [10:45<00:00, 25.81s/it]\n",
      "  0%|          | 0/25 [00:00<?, ?it/s]"
     ]
    },
    {
     "name": "stdout",
     "output_type": "stream",
     "text": [
      "Starting number 8 for test cases\n"
     ]
    },
    {
     "name": "stderr",
     "output_type": "stream",
     "text": [
      "100%|██████████| 25/25 [10:52<00:00, 26.09s/it]\n",
      "  0%|          | 0/25 [00:00<?, ?it/s]"
     ]
    },
    {
     "name": "stdout",
     "output_type": "stream",
     "text": [
      "Starting number 9 for test cases\n"
     ]
    },
    {
     "name": "stderr",
     "output_type": "stream",
     "text": [
      "100%|██████████| 25/25 [11:39<00:00, 27.97s/it]\n",
      "  0%|          | 0/25 [00:00<?, ?it/s]"
     ]
    },
    {
     "name": "stdout",
     "output_type": "stream",
     "text": [
      "Starting number 10 for test cases\n"
     ]
    },
    {
     "name": "stderr",
     "output_type": "stream",
     "text": [
      "100%|██████████| 25/25 [12:46<00:00, 30.66s/it]\n"
     ]
    }
   ],
   "source": [
    "totalWins = 0\n",
    "f = []\n",
    "testCases = 10\n",
    "for (dirpath, dirnames, filenames) in walk(\"C:/Users/rohan/Desktop/SchoolWork/StockMarketSimulationIQP/RohanCode/Data/clean_30y_stock_csvs/\"):\n",
    "    f.extend(filenames)\n",
    "    break\n",
    "\n",
    "ROIopt = defaultdict(list)\n",
    "\n",
    "for i in range(testCases):\n",
    "    print(\"Starting number {} for test cases\".format(i+1))\n",
    "    d1 = datetime.strptime('1/1/2000', '%m/%d/%Y')\n",
    "    d2 = datetime.strptime('10/1/2021', '%m/%d/%Y')\n",
    "    startDate = random_date(d1, d2)\n",
    "    startDate = startDate.strftime('%Y-%m-%d')\n",
    "    startDate = datetime.strptime(startDate, \"%Y-%m-%d\")\n",
    "\n",
    "    days = timedelta(61)\n",
    "    endDate = startDate + days\n",
    "\n",
    "    for windowVal in tqdm(range(1,26)):\n",
    "        money = {}\n",
    "        sum = 0\n",
    "\n",
    "        for stock in f:\n",
    "            stock = stock[:-4]\n",
    "            profit, sharpeRatio, sortinoRatio = tradeVerison2(stock,startDate,endDate,False,windowVal)\n",
    "            money[stock] = profit\n",
    "    \n",
    "        for s in money:\n",
    "            sum+= money[s]\n",
    "            percentageOfWin = ((sum)/500_000) * 100\n",
    "        \n",
    "        ROIopt[windowVal].append(percentageOfWin)"
   ]
  },
  {
   "cell_type": "code",
   "execution_count": 11,
   "metadata": {},
   "outputs": [],
   "source": [
    "# print(ROIopt.keys())\n",
    "# print(ROIopt.values())\n",
    "valsOfOpt = []\n",
    "\n",
    "for val in ROIopt:\n",
    "    valsOfOpt.append(np.mean(ROIopt[val]))\n",
    "\n",
    "# print(valsOfOpt)\n",
    "plt.plot(ROIopt.keys(),valsOfOpt)\n",
    "plt.xlabel(\"Window value\")\n",
    "plt.ylabel(\"ROI %\")\n",
    "plt.title(\"Window Optimization\")\n",
    "plt.tight_layout()\n",
    "plt.savefig('OptimizationGraph/{}.png'.format(\"Window Optimization\"),facecolor = 'w')\n",
    "plt.close()"
   ]
  },
  {
   "cell_type": "code",
   "execution_count": 12,
   "metadata": {},
   "outputs": [
    {
     "name": "stdout",
     "output_type": "stream",
     "text": [
      "11\n",
      "1.0691003999999995\n"
     ]
    }
   ],
   "source": [
    "max = 0\n",
    "master = 0\n",
    "\n",
    "for key in ROIopt.keys():\n",
    "    if(max < np.mean(ROIopt[key])):\n",
    "        max = np.mean(ROIopt[key])\n",
    "        master = key\n",
    "\n",
    "print(master)\n",
    "print(max)"
   ]
  }
 ],
 "metadata": {
  "interpreter": {
   "hash": "b3484043eee5ff5607422914000474778a896e23428dfc35313a8be46de07a70"
  },
  "kernelspec": {
   "display_name": "Python 3.8.8 ('base')",
   "language": "python",
   "name": "python3"
  },
  "language_info": {
   "codemirror_mode": {
    "name": "ipython",
    "version": 3
   },
   "file_extension": ".py",
   "mimetype": "text/x-python",
   "name": "python",
   "nbconvert_exporter": "python",
   "pygments_lexer": "ipython3",
   "version": "3.8.8"
  },
  "orig_nbformat": 4
 },
 "nbformat": 4,
 "nbformat_minor": 2
}
