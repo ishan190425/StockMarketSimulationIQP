{
 "cells": [
  {
   "cell_type": "code",
   "execution_count": 38,
   "metadata": {},
   "outputs": [],
   "source": [
    "\n",
    "import pandas as pd\n",
    "import pandas_datareader.data as web\n",
    "from pandas import Series, DataFrame\n",
    "import datetime\n",
    "from datetime import date, timedelta, datetime\n",
    "import math\n",
    "import matplotlib as mpl\n",
    "import numpy as np\n",
    "import talib as ta\n",
    "import yfinance as yf\n",
    "from tqdm import tqdm\n",
    "from os import walk\n",
    "import os\n",
    "import matplotlib.pyplot as plt\n"
   ]
  },
  {
   "cell_type": "code",
   "execution_count": 5,
   "metadata": {},
   "outputs": [],
   "source": [
    "def buyStock(row):\n",
    "    close_adj = row['Adj Close']\n",
    "    starting_price = close_adj\n",
    "    return close_adj,starting_price,True\n",
    "    "
   ]
  },
  {
   "cell_type": "code",
   "execution_count": 6,
   "metadata": {},
   "outputs": [],
   "source": [
    "def sellStock(row,starting_price):\n",
    "    close_adj = row['Adj Close']\n",
    "    single_trade_percent_gain = ((close_adj - starting_price) / starting_price) \n",
    "    return close_adj,single_trade_percent_gain,False\n",
    "    "
   ]
  },
  {
   "cell_type": "code",
   "execution_count": 110,
   "metadata": {},
   "outputs": [],
   "source": [
    "def trade(stock, startDate, endDate):\n",
    "    StartingAmount = 500_000/505\n",
    "\n",
    "    df = pd.read_csv(\n",
    "        \"C:/Users/rohan/Desktop/SchoolWork/StockMarketSimulationIQP/RohanCode/Data/filter_30y_stock_csvs/{}.csv\".format(stock))\n",
    "    df = df.rename(columns={\"CLOSE\": \"Adj Close\", \"VOLUME\": \"Volume\"})\n",
    "\n",
    "    df['Datetime'] = pd.to_datetime(df['Datetime'])\n",
    "\n",
    "    df = df[~(df['Datetime'] < startDate)]\n",
    "    df = df[~(df['Datetime'] > endDate)]\n",
    "\n",
    "    StockData = pd.DataFrame(df).to_numpy()\n",
    "\n",
    "    mapForBuy = {}\n",
    "    mapForSellP = {}\n",
    "    mapForSellN = {}\n",
    "\n",
    "    Total_Gain = 0\n",
    "    starting_price = 1\n",
    "\n",
    "    Start_Price = (df['Adj Close'].head(1))\n",
    "    Start_Price = float(Start_Price)\n",
    "\n",
    "    End_Price = (df['Adj Close'].tail(1))\n",
    "    End_Price = float(End_Price)\n",
    "\n",
    "    TotalReturn = StartingAmount\n",
    "    index = 0\n",
    "    bought = False\n",
    "\n",
    "\n",
    "\n",
    "\n",
    "    # CONVERT EVERYTHING INTO NUMPY\n",
    "    for date_var, row in df.iterrows():\n",
    "        maxValuePeriod = df.iloc[index-10:index-1]['Adj Close'].max()\n",
    "        maxValuemean = df.iloc[index-10:index-1]['Adj Close'].mean()\n",
    "        stvalue = df.iloc[index-10:index-1]['Adj Close'].std()\n",
    "        if math.isnan(maxValuePeriod):\n",
    "            maxValuePeriod = 0\n",
    "        if math.isnan(maxValuemean):\n",
    "            maxValuemean = 0\n",
    "\n",
    "        if not bought:\n",
    "            # If trend is appearing - See if its a good time to buy\n",
    "            if(df.iloc[index-1]['ADX'] > 11):\n",
    "                if df.iloc[index-1]['Volume Higher than MAVG'] == 1 and df.iloc[index-1]['Price Lower than MAVG'] == 1:\n",
    "                    close_adj, starting_price, bought = buyStock(row)\n",
    "                    mapForBuy[row['Datetime']] = row['Adj Close']\n",
    "                elif (maxValuemean < maxValuePeriod + (2* stvalue) and maxValuePeriod - (2* stvalue) < maxValuemean ):\n",
    "                    close_adj, starting_price, bought = buyStock(row)\n",
    "                    mapForBuy[row['Datetime']] = row['Adj Close']\n",
    "\n",
    "        elif bought and close_adj != row['Adj Close']:  # This is sell clause\n",
    "            if (df.iloc[index-1]['Volume Higher than MAVG'] == 0 or df.iloc[index-1]['RSI'] < 30) and df.iloc[index-1]['Price Lower than MAVG'] == 0:\n",
    "                infoOnSelling = sellStock(row, starting_price)\n",
    "                close_adj = infoOnSelling[0]\n",
    "                Total_Gain += infoOnSelling[1]\n",
    "                bought = infoOnSelling[2]\n",
    "\n",
    "                if(infoOnSelling[1] >= 0):\n",
    "                    mapForSellP[row['Datetime']] = row['Adj Close']\n",
    "\n",
    "                else:\n",
    "                    mapForSellN[row['Datetime']] = row['Adj Close']\n",
    "\n",
    "        index += 1\n",
    "        TotalReturn = (1 + Total_Gain) * TotalReturn\n",
    "        Total_Gain = 0\n",
    "\n",
    "    if bought:\n",
    "        infoOnSelling = sellStock(row, starting_price)\n",
    "        close_adj = infoOnSelling[0]\n",
    "        Total_Gain += infoOnSelling[1]\n",
    "        bought = infoOnSelling[2]\n",
    "\n",
    "        if(infoOnSelling[1] >= 0):\n",
    "            mapForSellP[row['Datetime']] = row['Adj Close']\n",
    "\n",
    "        else:\n",
    "            mapForSellN[row['Datetime']] = row['Adj Close']\n",
    "\n",
    "        TotalReturn = (1 + Total_Gain) * TotalReturn\n",
    "        Total_Gain = 0\n",
    "\n",
    "\n",
    "    plt.plot(df['Datetime'], df['Adj Close'])\n",
    "    plt.scatter(mapForBuy.keys(), mapForBuy.values(), label=\"Buy\", color=\"Blue\",\n",
    "                marker=\"o\", s=30)\n",
    "    plt.scatter(mapForSellP.keys(), mapForSellP.values(), label=\"Sell\", color=\"Green\",\n",
    "                marker=\"^\", s=30)\n",
    "    plt.scatter(mapForSellN.keys(), mapForSellN.values(), label=\"Sell\", color=\"Red\",\n",
    "                marker=\"v\", s=30)\n",
    "    plt.legend()\n",
    "\n",
    "    plt.savefig('GraphsForBuySell/{}.png'.format(stock))\n",
    "    plt.close()\n",
    "    return round(TotalReturn-StartingAmount, 2)\n"
   ]
  },
  {
   "cell_type": "code",
   "execution_count": 111,
   "metadata": {},
   "outputs": [
    {
     "name": "stderr",
     "output_type": "stream",
     "text": [
      "100%|██████████| 505/505 [04:03<00:00,  2.07it/s]"
     ]
    },
    {
     "name": "stdout",
     "output_type": "stream",
     "text": [
      "\n",
      "Total win of $130657.26 with % of 26.13%\n"
     ]
    },
    {
     "name": "stderr",
     "output_type": "stream",
     "text": [
      "\n"
     ]
    }
   ],
   "source": [
    "f = []\n",
    "ROIall = {}\n",
    "money = {}\n",
    "startDate = datetime.strptime('2021-01-01',\"%Y-%m-%d\")\n",
    "offsetDate = timedelta(39)\n",
    "endDate = datetime.strptime('2022-01-01',\"%Y-%m-%d\")\n",
    "sum = 0\n",
    "printStyle = \".\"\n",
    "startAmt = 500_000/505\n",
    "for (dirpath, dirnames, filenames) in walk(\"C:/Users/rohan/Desktop/SchoolWork/StockMarketSimulationIQP/RohanCode/Data/clean_30y_stock_csvs/\"):\n",
    "    f.extend(filenames)\n",
    "    break\n",
    "\n",
    "#stock = 'TSLA'\n",
    "for stock in tqdm(f):\n",
    "    stock = stock[:-4]\n",
    "    money[stock] = trade(stock,startDate - offsetDate,endDate)\n",
    "\n",
    "for s in money:\n",
    "    sum+= money[s]\n",
    "\n",
    "percentageOfWin = ((sum)/500_000) * 100\n",
    "print()\n",
    "print(\"Total win of ${} with % of {}%\".format(round(sum,2),round(percentageOfWin,2)))\n"
   ]
  },
  {
   "cell_type": "code",
   "execution_count": 112,
   "metadata": {},
   "outputs": [
    {
     "name": "stdout",
     "output_type": "stream",
     "text": [
      "[*********************100%***********************]  1 of 1 completed\n",
      "This is SAP 500 : 28.79% and the increase in money: $143965.29\n"
     ]
    }
   ],
   "source": [
    "sp500 = yf.download('^GSPC',startDate,endDate)\n",
    "profitsp500percentage = ((sp500['Close'][-1] - sp500['Close'][0])/sp500['Close'][0])*100\n",
    "profitsp500 = (500_000) * (profitsp500percentage/100)\n",
    "\n",
    "print(\"This is SAP 500 : {}% and the increase in money: ${}\".format(round(profitsp500percentage,2),round(profitsp500,2)))"
   ]
  }
 ],
 "metadata": {
  "interpreter": {
   "hash": "b3484043eee5ff5607422914000474778a896e23428dfc35313a8be46de07a70"
  },
  "kernelspec": {
   "display_name": "Python 3.8.8 ('base')",
   "language": "python",
   "name": "python3"
  },
  "language_info": {
   "codemirror_mode": {
    "name": "ipython",
    "version": 3
   },
   "file_extension": ".py",
   "mimetype": "text/x-python",
   "name": "python",
   "nbconvert_exporter": "python",
   "pygments_lexer": "ipython3",
   "version": "3.8.8"
  },
  "orig_nbformat": 4
 },
 "nbformat": 4,
 "nbformat_minor": 2
}
