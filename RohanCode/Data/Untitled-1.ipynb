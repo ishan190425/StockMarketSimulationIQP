{
 "cells": [
  {
   "cell_type": "code",
   "execution_count": 5,
   "metadata": {},
   "outputs": [],
   "source": [
    "# Replace the following with your own User Agent\n",
    "User_Agent = \"Mozilla/5.0 (Windows NT 10.0; Win64; x64) AppleWebKit/537.36 (KHTML, like Gecko) Chrome/98.0.4758.102 Safari/537.36\"\n",
    "\n",
    "# File containing Name, Symbol data for all stocks you would like to fetch.\n",
    "stock_symbols_csv_file = \"500_Stocks.csv\"\n",
    "\n",
    "# File where raw fetched data for stocks will be stored.\n",
    "raw_directory = \"30y_stock_csvs\"\n",
    "\n",
    "# File where cleaned stocks data will be stored.\n",
    "clean_directory = \"clean_30y_stock_csvs\"\n",
    "\n",
    "# Data for training/testing file:\n",
    "mother_file = \"mother_file.csv\"\n",
    "\n",
    "# Labels for training/testing file:\n",
    "labels_file = \"best_stock_per_day_labels.csv\"\n",
    "\n",
    "# Training window size\n",
    "days_to_train_on = 30\n"
   ]
  },
  {
   "cell_type": "code",
   "execution_count": 6,
   "metadata": {},
   "outputs": [
    {
     "name": "stderr",
     "output_type": "stream",
     "text": [
      "usage: ipykernel_launcher.py [-h] [--retry RETRY]\n",
      "ipykernel_launcher.py: error: unrecognized arguments: --ip=127.0.0.1 --stdin=9015 --control=9007 --hb=9006 --Session.signature_scheme=\"hmac-sha256\" --Session.key=b\"542d2b27-643d-46cd-bd72-611d62ccb741\" --shell=9008 --transport=\"tcp\" --iopub=9016 --f=C:\\Users\\rohan\\AppData\\Local\\Temp\\tmp-20988az222RrXF3qs.json\n"
     ]
    },
    {
     "ename": "SystemExit",
     "evalue": "2",
     "output_type": "error",
     "traceback": [
      "An exception has occurred, use %tb to see the full traceback.\n",
      "\u001b[1;31mSystemExit\u001b[0m\u001b[1;31m:\u001b[0m 2\n"
     ]
    },
    {
     "name": "stderr",
     "output_type": "stream",
     "text": [
      "C:\\Users\\rohan\\anaconda3\\lib\\site-packages\\IPython\\core\\interactiveshell.py:3445: UserWarning: To exit: use 'exit', 'quit', or Ctrl-D.\n",
      "  warn(\"To exit: use 'exit', 'quit', or Ctrl-D.\", stacklevel=1)\n"
     ]
    }
   ],
   "source": [
    "\n",
    "\"\"\"\n",
    "Retrieve intraday stock data from Yahoo Finance.\n",
    "\"\"\"\n",
    "\n",
    "import requests\n",
    "import pandas as pd\n",
    "import arrow\n",
    "import datetime\n",
    "import argparse\n",
    "import shutil\n",
    "\n",
    "failed_fetch_file = \"failed_fetch.csv\"\n",
    "retry_fetch_file = \"retry_fetch.csv\"\n",
    "\n",
    "## Using a data range of 30 years gets a sufficient amount of data per stock for neural network training.\n",
    "## Function based on: https://gist.github.com/lebedov/f09030b865c4cb142af1#gistcomment-2674318\n",
    "def get_historical_quote_data(symbol, data_range='30y', data_interval='1d'):\n",
    "    url = 'https://query1.finance.yahoo.com/v8/finance/chart/{symbol}?range={data_range}&interval={data_interval}'.format(**locals())\n",
    "    #print(url) # Uncomment this if you would like to check the url used.\n",
    "    headers = {'User-Agent': User_Agent}\n",
    "    res = requests.get(url,\n",
    "                       headers = headers)\n",
    "    data = res.json()\n",
    "    body = data['chart']['result'][0]\n",
    "    dt = datetime.datetime\n",
    "    #print(body) # Uncomment this if you would like to inspect the response body\n",
    "    # to check the data was successfully retrieved.\n",
    "    dt = pd.Series(map(lambda x: arrow.get(x).to('Asia/Calcutta').datetime.replace(tzinfo=None), body['timestamp']), name='Datetime')\n",
    "    df = pd.DataFrame(body['indicators']['quote'][0], index=dt)\n",
    "    dg = pd.DataFrame(body['timestamp']) #TODO: Check if this is necessary.\n",
    "    df = df.loc[:, ('open', 'high', 'low', 'close', 'volume')]\n",
    "    df.dropna(inplace=True) # Remove NaN rows.\n",
    "    df.columns = ['OPEN','HIGH','LOW','CLOSE','VOLUME'] # Rename columns in pandas dataframe.\n",
    "    \n",
    "    return df\n",
    "\n",
    "def main():\n",
    "    parser = argparse.ArgumentParser()\n",
    "    parser.add_argument('--retry', default = False)\n",
    "    args = parser.parse_args()\n",
    "    if args.retry:\n",
    "        shutil.copyfile(failed_fetch_file, retry_fetch_file)\n",
    "        csv_file = retry_fetch_file\n",
    "    else:\n",
    "        csv_file = stock_symbols_csv_file\n",
    "    stocks_to_fetch = pd.read_csv(csv_file)\n",
    "    not_finished_file = open(failed_fetch_file, \"w\")\n",
    "    headers = \",\".join(stocks_to_fetch.columns.values)\n",
    "    #print(headers) # Uncomment this to see what the headers will look like.\n",
    "    not_finished_file.write(headers + \"\\n\")\n",
    "    for index, row in stocks_to_fetch.iterrows():\n",
    "        print(index)\n",
    "        symbol = row[\"Symbol\"]\n",
    "        try:\n",
    "            data = get_historical_quote_data(symbol)\n",
    "            #print(data) # Uncomment this to see what the stored data will look like.\n",
    "            data.to_csv(raw_directory + '/' + symbol + '.csv')\n",
    "        except:\n",
    "            row_string = \",\".join(row.values)\n",
    "            print(\"Could not fetch \" + row_string)\n",
    "            not_finished_file.write(row_string + \"\\n\")\n",
    "    not_finished_file.close()\n",
    "\n",
    "main()\n"
   ]
  }
 ],
 "metadata": {
  "interpreter": {
   "hash": "b3484043eee5ff5607422914000474778a896e23428dfc35313a8be46de07a70"
  },
  "kernelspec": {
   "display_name": "Python 3.8.8 ('base')",
   "language": "python",
   "name": "python3"
  },
  "language_info": {
   "codemirror_mode": {
    "name": "ipython",
    "version": 3
   },
   "file_extension": ".py",
   "mimetype": "text/x-python",
   "name": "python",
   "nbconvert_exporter": "python",
   "pygments_lexer": "ipython3",
   "version": "3.8.8"
  },
  "orig_nbformat": 4
 },
 "nbformat": 4,
 "nbformat_minor": 2
}
